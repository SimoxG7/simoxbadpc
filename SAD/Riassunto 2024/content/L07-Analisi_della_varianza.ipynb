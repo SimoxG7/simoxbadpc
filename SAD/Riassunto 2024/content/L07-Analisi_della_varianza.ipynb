{
 "cells": [
  {
   "cell_type": "markdown",
   "metadata": {
    "toc": true
   },
   "source": [
    "<h1>Table of Contents<span class=\"tocSkip\"></span></h1>\n",
    "<div class=\"toc\"><ul class=\"toc-item\"><li><span><a href=\"#Analisi-della-varianza\" data-toc-modified-id=\"Analisi-della-varianza-1\"><span class=\"toc-item-num\">1&nbsp;&nbsp;</span>Analisi della varianza</a></span><ul class=\"toc-item\"><li><span><a href=\"#Dimostrazione-*\" data-toc-modified-id=\"Dimostrazione-*-1.1\"><span class=\"toc-item-num\">1.1&nbsp;&nbsp;</span>Dimostrazione <sup>*</sup></a></span></li></ul></li></ul></div>"
   ]
  },
  {
   "cell_type": "markdown",
   "metadata": {
    "header": true
   },
   "source": [
    "<div class=\"header\">\n",
    "D. Malchiodi, Superhero data science. Vol 1: probabilità e statistica: Analisi della varianza.\n",
    "</div>\n",
    "<hr style=\"width: 90%;\" align=\"left\" />"
   ]
  },
  {
   "cell_type": "markdown",
   "metadata": {},
   "source": [
    "\n",
    "\n",
    "<div id=\"h-0\"></div>\n",
    "\n",
    "# Analisi della varianza\n",
    "\n",
    "Ipotizziamo di avere a disposizione delle osservazioni di un medesimo attributo divise in $G$ gruppi, per esempio perché si tratta del reddito di individui che vivono in diverse città, oppure di un valore ematico di pazienti sottoposti a diversi trattamenti clinici e così via. Formalmente, indichiamo rispettivamente con $n_1, \\dots, n_G$ le numerosità dei vari gruppi, con $n = n_1 + \\dots + n_G$ il numero totale di osservazioni e, fissato $g \\in \\{1, \\dots, G\\}$ e $i \\in \\{1, \\dots, n_g\\}$, denotiamo con $x^g_i$ il valore dell'$i$-esima osservazione nel gruppo $g$.\n",
    "\n",
    "Se si è interessati a valutare l'ipotesi che i valori delle medie nei vari gruppi siano sensibilmente differenti, per esempio perché si vuole dimostrare che il reddito non sia troppo diverso in un gruppo di città, oppure per dimostrare l'efficacia di un dato trattamento medico, è possibile applicare un metodo chiamato _ANOVA_ (_ANalysis Of VAriance_). L'idea alla base di questo metodo è che se non vi sono sostanziali differenze tra i gruppi considerati, allora calcolare la varianza all'interno di un gruppo qualsiasi non dovrebbe portare a un risultato molto dissimile da quello ottenuto effettuando il calcolo su tutti i dati a disposizione. Più formalmente, definite:\n",
    "\n",
    "- la media campionaria $\\overline x = \\frac{1}{n} \\sum_{g=1}^G \\sum_{i=1}^{n_g} x^g_i$  su tutte le osservazioni;\n",
    "\n",
    "- la media campionaria $\\overline x^g = \\frac{1}{n_g} \\sum_{i=1}^{n_g} x^g_i$ all'interno del $g$-esimo gruppo, per ogni $g = 1, \\dots, n_G$;\n",
    "\n",
    "- la somma totale degli scarti\n",
    "\n",
    "\\begin{equation}\n",
    "\\mathrm{SS}_{\\mathrm T} = \\sum_{g=1}^G \\sum_{i=1}^{n_g} \\left( x^g_i - \\overline x \\right)^2;\n",
    "\\end{equation}\n",
    "\n",
    "- la somma degli scarti _entro i gruppi_ (o, usando la terminologia inglese, _within groups_)\n",
    "\n",
    "\\begin{equation}\n",
    "\\mathrm{SS}_{\\mathrm W} = \\sum_{g=1}^G \\sum_{i=1}^{n_g} \\left( x^g_i - \\overline x^g \\right)^2;\n",
    "\\end{equation}\n",
    "\n",
    "- la somma degli scarti _tra i gruppi_ (o, usando la terminologia inglese, _between groups_), pesata rispetto alla numerosità dei vari gruppi:\n",
    "\n",
    "\\begin{equation}\n",
    "\\mathrm{SS}_{\\mathrm B} = \\sum_{g=1}^G n_g \\left( \\overline x^g - \\overline x \\right)^2;\n",
    "\\end{equation}\n",
    "\n",
    "A partire da ognuna di queste somme è facile calcolare le corrispondenti varianze campionarie:\n",
    "\n",
    "- la varianza campionaria su tutte le osservazioni: $s^2_{\\mathrm T} = \\frac{1}{n-1} \\mathrm{SS}_{\\mathrm T}$;\n",
    "\n",
    "- la varianza campionaria delle medie tra i gruppi: $s^2_{\\mathrm B} = \\frac{1}{G-1} \\mathrm{SS}_{\\mathrm B}$ (il motivo per cui viene fatta la divisione per $G-1$ è analogo alla ragione per cui il calcolo della varianza campionaria viene fatta dividendo per $n-1$, e richiede un maggiore approfondimento teorico per poter essere giustificato);\n",
    "\n",
    "- la varianza campionaria dei valori entro i gruppi: $s^2_{\\mathrm W} = \\frac{1}{n-G} \\mathrm{SS}_{\\mathrm W}$.\n",
    "\n",
    "Si può mostrare (chi è interessato può leggere il paragrafo opzionale che segue) che $\\mathrm{SS}_{\\mathrm T} = \\mathrm{SS}_{\\mathrm W} + \\mathrm{SS}_{\\mathrm B}$, e quindi che\n",
    "\n",
    "\\begin{align}\n",
    "\\frac{\\mathrm{SS}_{\\mathrm T}}{n-1} &= \\frac{\\mathrm{SS}_{\\mathrm W}}{n-1} +\\frac{\\mathrm{SS}_{\\mathrm B}}{n-1}, \\\\\n",
    "&= \\frac{n-G}{n-1} \\frac{\\mathrm{SS}_{\\mathrm W}}{n-G} + \\frac{G-1}{n-1} \\frac{\\mathrm{SS}_{\\mathrm B}}{G-1}.\n",
    "\\end{align}\n",
    "\n",
    "Pertanto,\n",
    "\n",
    "\\begin{equation}\n",
    "\\text{varianza totale} = \\frac{n-G}{n-1} \\text{varianza entro i gruppi} + \\frac{G-1}{n-1} \\text{varianza tra i gruppi}.\n",
    "\\end{equation}\n",
    "\n",
    "Possiamo utilizzare questa uguaglianza per validare o confutare l'ipotesi che le medie nei gruppi siano diverse: se la varianza totale e la varianza entro i gruppi assumono valori non troppo diversi tra loro (e dunque la varianza tra i gruppi risulta trascurabile), allora si confuta l'ipotesi; se al contrario la varianza tra i gruppi assume un valore elevato si può convalidare l'ipotesi.\n",
    "\n",
    "<div class=\"bs-callout bs-callout-primary\">\n",
    "In realtà per validare o confutare questi tipi di ipotesi esistono metodi quantitativi basati sul calcolo di indici che coinvolgono le quantità che noi abbiamo confrontato in modo qualitativo. L'uso di questi metodi richiede però un approfondimento teorico che va al di là del programma del nostro corso.\n",
    "</div>\n",
    "\n",
    "Per applicare la tecnica di analisi della varianza selezioniamo per esempio i due gruppi dei supereroi corrispondenti alle due case editrici più rappresentate: Marvel e DC, e concentriamoci per ogni gruppo sull'indice di forza."
   ]
  },
  {
   "cell_type": "code",
   "execution_count": 13,
   "metadata": {
    "ExecuteTime": {
     "end_time": "2022-03-29T09:25:31.183678Z",
     "start_time": "2022-03-29T09:25:31.168442Z"
    }
   },
   "outputs": [],
   "source": [
    "import pandas as pd\n",
    "\n",
    "heroes = pd.read_csv('data/heroes.csv', sep=';', index_col=0)\n",
    "\n",
    "marvel_strength = heroes[(heroes['Publisher'] == 'Marvel Comics') &\n",
    "                         (pd.notnull(heroes['Strength']))]['Strength']\n",
    "dc_strength = heroes[(heroes['Publisher'] == 'DC Comics') & \\\n",
    "                     (pd.notnull(heroes['Strength']))]['Strength']"
   ]
  },
  {
   "cell_type": "markdown",
   "metadata": {},
   "source": [
    "<div class=\"alert alert-info\">\n",
    "La cella precedente mostra come effettuare un'operazione di selezione complessa su di un _dataframe_, basandosi sull'operatore `&` di congiungzione logica. Analogamente, l'operatore `|` permette di calcolare disgiunzioni logiche.\n",
    "</div>\n",
    "\n",
    "Iniziamo calcolando $\\mathrm{SS}_{\\mathrm T}$."
   ]
  },
  {
   "cell_type": "code",
   "execution_count": 14,
   "metadata": {
    "ExecuteTime": {
     "end_time": "2022-03-29T09:26:54.386790Z",
     "start_time": "2022-03-29T09:26:54.354404Z"
    }
   },
   "outputs": [
    {
     "data": {
      "text/plain": [
       "561319.4389763771"
      ]
     },
     "execution_count": 14,
     "metadata": {},
     "output_type": "execute_result"
    }
   ],
   "source": [
    "all_strength = pd.concat([marvel_strength, dc_strength])\n",
    "sum_total = sum((all_strength - all_strength.mean())**2)\n",
    "sum_total"
   ]
  },
  {
   "cell_type": "markdown",
   "metadata": {},
   "source": [
    "Analogamente calcoliamo $\\mathrm{SS}_{\\mathrm W}$."
   ]
  },
  {
   "cell_type": "code",
   "execution_count": 15,
   "metadata": {
    "ExecuteTime": {
     "end_time": "2022-03-29T09:27:21.905603Z",
     "start_time": "2022-03-29T09:27:21.882510Z"
    }
   },
   "outputs": [
    {
     "data": {
      "text/plain": [
       "561127.6224760016"
      ]
     },
     "execution_count": 15,
     "metadata": {},
     "output_type": "execute_result"
    }
   ],
   "source": [
    "sum_within = sum((marvel_strength - marvel_strength.mean())**2) + \\\n",
    "                    sum((dc_strength - dc_strength.mean())**2)\n",
    "sum_within"
   ]
  },
  {
   "cell_type": "markdown",
   "metadata": {},
   "source": [
    "Infine, calcoliamo $\\mathrm{SS}_{\\mathrm B}$."
   ]
  },
  {
   "cell_type": "code",
   "execution_count": 16,
   "metadata": {
    "ExecuteTime": {
     "end_time": "2022-03-29T09:28:11.065800Z",
     "start_time": "2022-03-29T09:28:11.053548Z"
    }
   },
   "outputs": [
    {
     "data": {
      "text/plain": [
       "191.81650037662837"
      ]
     },
     "execution_count": 16,
     "metadata": {},
     "output_type": "execute_result"
    }
   ],
   "source": [
    "sum_between = len(marvel_strength) * (marvel_strength.mean() - all_strength.mean())**2 + \\\n",
    "                    len(dc_strength) * (dc_strength.mean() - all_strength.mean())**2\n",
    "sum_between"
   ]
  },
  {
   "cell_type": "markdown",
   "metadata": {},
   "source": [
    "Verifichiamo innanzitutto che valga, nei limiti dell'approssimazione in virgola mobile, l'uguaglianza $\\mathrm{SS}_{\\mathrm T} = \\mathrm{SS}_{\\mathrm W} + \\mathrm{SS}_{\\mathrm B}$."
   ]
  },
  {
   "cell_type": "code",
   "execution_count": 17,
   "metadata": {
    "ExecuteTime": {
     "end_time": "2022-03-29T09:28:39.570107Z",
     "start_time": "2022-03-29T09:28:39.553659Z"
    }
   },
   "outputs": [
    {
     "data": {
      "text/plain": [
       "-1.1153815648867749e-09"
      ]
     },
     "execution_count": 17,
     "metadata": {},
     "output_type": "execute_result"
    }
   ],
   "source": [
    "sum_total - sum_within - sum_between"
   ]
  },
  {
   "cell_type": "markdown",
   "metadata": {},
   "source": [
    "Calcoliamo infine la varianza totale e la varianza entro i gruppi utilizzando le formule sopra descritte."
   ]
  },
  {
   "cell_type": "code",
   "execution_count": 18,
   "metadata": {
    "ExecuteTime": {
     "end_time": "2022-03-29T09:29:14.966270Z",
     "start_time": "2022-03-29T09:29:14.959749Z"
    }
   },
   "outputs": [
    {
     "data": {
      "text/plain": [
       "1107.1389328922626"
      ]
     },
     "execution_count": 18,
     "metadata": {},
     "output_type": "execute_result"
    }
   ],
   "source": [
    "n = len(all_strength)\n",
    "\n",
    "total_var = sum_total / (n-1)\n",
    "total_var"
   ]
  },
  {
   "cell_type": "code",
   "execution_count": 20,
   "metadata": {
    "ExecuteTime": {
     "end_time": "2022-03-29T09:30:29.968426Z",
     "start_time": "2022-03-29T09:30:29.960219Z"
    }
   },
   "outputs": [
    {
     "data": {
      "text/plain": [
       "1106.7605965996088"
      ]
     },
     "execution_count": 20,
     "metadata": {},
     "output_type": "execute_result"
    }
   ],
   "source": [
    "within_var = sum_within / (n-2)\n",
    "within_var * (n-2) / (n-1)"
   ]
  },
  {
   "cell_type": "markdown",
   "metadata": {},
   "source": [
    "I due valori sono molto vicini, e quindi possiamo avvalorare l'ipotesi che i valori medi dell'indice di forza siano sostanzialmente uguali.\n",
    "\n",
    "Riscriviamo il codice in modo da incorporare in una funzione la procedura di analisi della varianza, in modo da gestire anche più di due gruppi di osservazioni: la funzione accetterà una lista di tali gruppi come argomento, e restituirà una coppia i cui elementi saranno rispettivamente la varianza totale e la varianza entro i gruppi."
   ]
  },
  {
   "cell_type": "code",
   "execution_count": 9,
   "metadata": {
    "ExecuteTime": {
     "end_time": "2022-03-29T07:49:23.573409Z",
     "start_time": "2022-03-29T07:49:23.566033Z"
    }
   },
   "outputs": [],
   "source": [
    "import numpy as np\n",
    "\n",
    "def anova(groups):\n",
    "    all_elements = pd.concat(groups)\n",
    "    \n",
    "    sum_total = sum((all_elements - all_elements.mean())**2)\n",
    "    sum_within = sum([sum((g - g.mean())**2) for g in groups])\n",
    "    \n",
    "    sum_between = sum([len(g) * (g.mean()-all_elements.mean())**2\n",
    "                       for g in groups])\n",
    "    assert(np.abs(sum_total - sum_within - sum_between) < 10**-5)\n",
    "    n = len(all_elements)\n",
    "    total_var = sum_total / (n-1)\n",
    "    within_var = sum_within / (n-len(groups))\n",
    "    \n",
    "    return (total_var, within_var*(n-len(groups))/(n-1))"
   ]
  },
  {
   "cell_type": "markdown",
   "metadata": {},
   "source": [
    "Verifichiamo che i valori restituiti per i due gruppi già considerati siano gli stessi."
   ]
  },
  {
   "cell_type": "code",
   "execution_count": 10,
   "metadata": {
    "ExecuteTime": {
     "end_time": "2022-03-29T07:49:27.321455Z",
     "start_time": "2022-03-29T07:49:27.301259Z"
    }
   },
   "outputs": [
    {
     "data": {
      "text/plain": [
       "(1107.138932892264, 1106.7605965996088)"
      ]
     },
     "execution_count": 10,
     "metadata": {},
     "output_type": "execute_result"
    }
   ],
   "source": [
    "anova([dc_strength, marvel_strength])"
   ]
  },
  {
   "cell_type": "markdown",
   "metadata": {},
   "source": [
    "Applicando la procedura all'indice di forza suddiviso tra supereroi e supereroine si ottengono due valori tutto sommato relativamente simili, così che non si possa avvalorare l'ipotesi che l'indice di forza sia distribuito in modo sostanzialmente diverso tra i due generi."
   ]
  },
  {
   "cell_type": "code",
   "execution_count": 11,
   "metadata": {
    "ExecuteTime": {
     "end_time": "2022-03-29T07:49:33.664696Z",
     "start_time": "2022-03-29T07:49:33.639621Z"
    }
   },
   "outputs": [
    {
     "data": {
      "text/plain": [
       "(1083.4610943430719, 1072.1108493522443)"
      ]
     },
     "execution_count": 11,
     "metadata": {},
     "output_type": "execute_result"
    }
   ],
   "source": [
    "male_strength = heroes[(heroes['Gender'] == 'M') & \\\n",
    "                       (pd.notnull(heroes['Strength']))]['Strength']\n",
    "female_strength = heroes[(heroes['Gender'] == 'F') & \\\n",
    "                         (pd.notnull(heroes['Strength']))]['Strength']\n",
    "anova([male_strength, female_strength])"
   ]
  },
  {
   "cell_type": "markdown",
   "metadata": {},
   "source": [
    "Le cose cambiano se consideriamo la divisione tra generi per i supereroi DC, valutando la differenza nella distribuzione del peso."
   ]
  },
  {
   "cell_type": "code",
   "execution_count": 12,
   "metadata": {
    "ExecuteTime": {
     "end_time": "2022-03-29T07:49:41.264563Z",
     "start_time": "2022-03-29T07:49:41.235742Z"
    }
   },
   "outputs": [
    {
     "data": {
      "text/plain": [
       "(9314.588141839082, 9049.012630905874)"
      ]
     },
     "execution_count": 12,
     "metadata": {},
     "output_type": "execute_result"
    }
   ],
   "source": [
    "male_weight = heroes[(heroes['Publisher'] == 'DC Comics') & \\\n",
    "                   (heroes['Gender'] == 'M') & \\\n",
    "                   (pd.notnull(heroes['Weight']))]['Weight']\n",
    "female_weight = heroes[(heroes['Publisher'] == 'DC Comics') & \\\n",
    "                     (heroes['Gender'] == 'F') & \\\n",
    "                     (pd.notnull(heroes['Weight']))]['Weight']\n",
    "anova([male_weight, female_weight])"
   ]
  },
  {
   "cell_type": "markdown",
   "metadata": {},
   "source": [
    "\n",
    "\n",
    "<div id=\"h-1\"></div>\n",
    "\n",
    "## Dimostrazione <sup>*</sup>\n",
    "\n",
    "Innanzitutto notiamo che per ogni $g = 1, \\dots, G$,\n",
    "\n",
    "\\begin{equation}\n",
    "\\sum_{i=1}^{n_g} x^g_i = n_g \\overline x^g,\n",
    "\\end{equation}\n",
    "\n",
    "e quindi\n",
    "\n",
    "\\begin{align}\n",
    "\\mathrm{SS}_{\\mathrm T}  &= \\sum_{g=1}^G \\sum_{i=1}^{n_g}\\left( \\left(x^g_i\\right)^2 - 2 \\overline x x^g_i + \\left( \\overline x \\right)^2 \\right) \\\\\n",
    "&= \\sum_{g=1}^G \\sum_{i=1}^{n_g}\\left( \\left(x^g_i\\right)^2 - 2 \\overline x x^g_i + \\left( \\overline x \\right)^2 + \\left( \\overline x^g \\right)^2 - \\left( \\overline x^g \\right)^2 + 2 x^g_i \\overline x^g - 2 x^g_i \\overline x^g \\right) = \\\\\n",
    "&= \\sum_{g=1}^G \\sum_{i=1}^{n_g} \\left( x^g_i - \\overline x^g \\right)^2 + \\sum_{g=1}^G \\sum_{i=1}^{n_g} \\left( \\left( \\overline x \\right)^2 - \\left( \\overline x^g \\right)^2 -2 \\overline x x^g_i + 2 x^g_i \\overline x^g  \\right) = \\\\\n",
    "&= \\mathrm{SS}_{\\mathrm W} + \\sum_{g=1}^G \\left( n_g \\left( \\overline x \\right)^2 - n_g \\left( \\overline x^g \\right)^2 - 2 \\overline x \\sum_{i=1}^{n_g} x^g_i + 2 \\overline x^g \\sum_{i=1}^{n_g} x^g_i \\right) = \\\\\n",
    "&= \\mathrm{SS}_{\\mathrm W} + \\sum_{g=1}^G n_g \\left( \\left( \\overline x \\right)^2 - \\left( \\overline x^g \\right)^2 - 2 \\overline x \\overline x^g + 2 \\left( \\overline x^g \\right)^2 \\right) = \\\\\n",
    "&= \\mathrm{SS}_{\\mathrm W} + \\sum_{g=1}^G n_g \\left( \\overline x^g - \\overline x \\right)^2 = \\mathrm{SS}_{\\mathrm W} + \\mathrm{SS}_{\\mathrm B}.\n",
    "\\end{align}\n",
    "\n"
   ]
  },
  {
   "cell_type": "markdown",
   "metadata": {
    "footer": true
   },
   "source": [
    "<hr style=\"width: 90%;\" align=\"left\" />\n",
    "<span style=\"font-size: 0.8rem;\">D. Malchiodi, Superhero data science. Vol 1: probabilità e statistica: Analisi della varianza, 2017.</span>\n",
    "<br>\n",
    "<span style=\"font-size: 0.8rem;\">Powered by <img src=\"img/jupyter-logo.png\" style=\"height: 1rem; display: inline; margin-left: 0.5ex; margin-top: 0;\" alt=\"Jupyter Notebook\"></span>\n",
    "<div style=\"float: left; margin-top: 1ex;\">\n",
    "<img src=\"http://mirrors.creativecommons.org/presskit/icons/cc.large.png\" style=\"width: 1.5em; float: left; margin-right: 0.6ex; margin-top: 0;\">\n",
    "<img src=\"http://mirrors.creativecommons.org/presskit/icons/by.large.png\" style=\"width: 1.5em; float: left; margin-right: 0.6ex; margin-top: 0;\">\n",
    "<img src=\"http://mirrors.creativecommons.org/presskit/icons/nc.large.png\" style=\"width: 1.5em; float: left; margin-right: 0.6ex; margin-top: 0;\">\n",
    "<img src=\"http://mirrors.creativecommons.org/presskit/icons/nd.large.png\" style=\"width: 1.5em; float: left; margin-right: 0.6ex; margin-top: 0;\">\n",
    "<span style=\"font-size: 0.7rem; line-height: 0.7rem; vertical-align: middle;\">Quest'opera è distribuita con Licenza <a rel=\"license\" href=\"http://creativecommons.org/licenses/by-nc-nd/4.0/\">Creative Commons Attribuzione - Non commerciale - Non opere derivate 4.0 Internazionale</a></span>.\n",
    "</div>"
   ]
  }
 ],
 "metadata": {
  "kernelspec": {
   "display_name": "Python 3 (ipykernel)",
   "language": "python",
   "name": "python3"
  },
  "language_info": {
   "codemirror_mode": {
    "name": "ipython",
    "version": 3
   },
   "file_extension": ".py",
   "mimetype": "text/x-python",
   "name": "python",
   "nbconvert_exporter": "python",
   "pygments_lexer": "ipython3",
   "version": "3.9.10"
  },
  "latex_envs": {
   "LaTeX_envs_menu_present": true,
   "autoclose": true,
   "autocomplete": true,
   "bibliofile": "biblio.bib",
   "cite_by": "apalike",
   "current_citInitial": 1,
   "eqLabelWithNumbers": true,
   "eqNumInitial": 1,
   "hotkeys": {
    "equation": "Ctrl-E",
    "itemize": "Ctrl-I"
   },
   "labels_anchors": false,
   "latex_user_defs": false,
   "report_style_numbering": false,
   "user_envs_cfg": false
  },
  "toc": {
   "base_numbering": 1,
   "nav_menu": {},
   "number_sections": true,
   "sideBar": false,
   "skip_h1_title": false,
   "title_cell": "Table of Contents",
   "title_sidebar": "Contents",
   "toc_cell": true,
   "toc_position": {},
   "toc_section_display": true,
   "toc_window_display": false
  }
 },
 "nbformat": 4,
 "nbformat_minor": 2
}
