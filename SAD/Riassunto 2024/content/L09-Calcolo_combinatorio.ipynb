{
 "cells": [
  {
   "cell_type": "markdown",
   "metadata": {
    "header": true
   },
   "source": [
    "<div class=\"header\">\n",
    "D. Malchiodi, Superhero data science. Vol 1: probabilità e statistica: Calcolo combinatorio.\n",
    "</div>\n",
    "<hr style=\"width: 90%;\" align=\"left\" />"
   ]
  },
  {
   "cell_type": "markdown",
   "metadata": {},
   "source": [
    "\n",
    "<div id=\"h-0\"></div>\n",
    "\n",
    "# Calcolo combinatorio\n",
    "\n",
    "\n",
    "<div id=\"h-1\"></div>\n",
    "\n",
    "## Principio fondamentale del calcolo combinatorio\n",
    "\n",
    "_Principio fondamentale del calcolo combinatorio_: se ci sono $s_1$ modi per operare una scelta e, per ciascuno di essi, ci sono $s_2$ modi per operare una seconda scelta e, per ciascuno di essi ci sono $s_3$ modi per operare una terza scelta e così via fino a $s_t$ modi per operare la $t$-esima scelta, allora il numero delle sequenze di possibili scelte \\`e  $s_1\\cdot s_2\\cdot s_3\\dots s_t$.\n",
    "\n",
    "Osserviamo che questo risultato corrisponde a calcolare il numero delle foglie di un albero di profondità $t$ il cui primo livello ha $s_1$ nodi, ciascuno dei quali ha $s_2$ figli, ciascuno dei quali ha $s_3$ figli e così via.\n",
    "\n",
    "<div id=\"h-2\"></div>\n",
    "\n",
    "## Permutazioni\n",
    "\n",
    "\n",
    "Consideriamo un insieme di $n$ oggetti $A= \\{ a_1,\\dots a_n\\}$. Chiamiamo _permutazione_ degli $n$ oggetti una sequenza ordinata in cui compaiono tutti gli oggetti.\n",
    "\n",
    "<div id=\"h-3\"></div>\n",
    "\n",
    "### Permutazioni semplici\n",
    "\n",
    "Se gli $n$ oggetti di $A$ sono tutti distinguibili, allora si parla di _permutazione semplice_, o soltanto _permutazione_, degli $n$ oggetti. Ad esempio, se $A= \\{ a,b,c \\}$ allora tutte le permutazioni degli $n$ oggetti sono:\n",
    "\n",
    "<table style=\"font-size: 1rem;\">\n",
    "  <tr>\n",
    "    <td>a</td>\n",
    "    <td>b</td>\n",
    "    <td>c</td>\n",
    "  </tr>\n",
    "  <tr>\n",
    "    <td>c</td>\n",
    "    <td>a</td>\n",
    "    <td>b</td>\n",
    "  </tr>\n",
    "  <tr>\n",
    "    <td>b</td>\n",
    "    <td>c</td>\n",
    "    <td>a</td>\n",
    "  </tr>\n",
    "  <tr>\n",
    "    <td>b</td>\n",
    "    <td>a</td>\n",
    "    <td>c</td>\n",
    "  </tr>\n",
    "  <tr>\n",
    "    <td>c</td>\n",
    "    <td>b</td>\n",
    "    <td>a</td>\n",
    "  </tr>\n",
    "  <tr>\n",
    "    <td>a</td>\n",
    "    <td>c</td>\n",
    "    <td>b</td>\n",
    "  </tr>\n",
    "</table>\n",
    "\n",
    "Quante sono le permutazioni di $n$ oggetti? Per rispondere a questa domanda applichiamo il principio fondamentale del calcolo combinatorio:\n",
    "\n",
    "- calcoliamo in quanti modi possiamo selezionare l'oggetto da inserire nella prima posizione: avendo a disposizione $n$ oggetti, abbiamo $n$ possibilità;\n",
    "- per ciascuna delle $n$ possibili scelte fatte al punto precedente, calcoliamo in quanti modi possiamo selezionare l'oggetto da inserire nella seconda posizione: avendo a disposizione $n-1$ oggetti, abbiamo $n-1$ possibilità; in totale abbiamo $n\\dot(n-1)$ modi differenti per scegliere il primo e il secondo elemento della sequenza;\n",
    "- procediamo in modo analogo per tutte le altre posizioni, creando così un albero il cui livello $i$ corrisponde alla scelta per riempire la posizione $i$-esima; se osserviamo che per riempire la posizione $i$-esima sono rimasti $n-(i-1)$ elementi di $A$ tra cui scegliere, possiamo dire che esistono $n\\cdot(n-1)\\dots \\cdot(n-(i-1))$ modi differenti per scegliere i primi $i$ elementi della sequenza;\n",
    "- in particolare, arrivati all'ultima posizione, è rimasto un solo elemento di $A$ da scegliere, e abbiamo costruito un albero di profondità $n$ che ha un numero di foglie pari a $n(n-1)(n-2)\\dots 1=n!$.\n",
    "\n",
    "Quindi il numero di possibili permutazioni semplici di $n$ oggetti è $n!$. Nell'esempio visto poc'anzi abbiamo elencato tutte le possibili $3! = 6$ differenti permutazioni degli oggetti di $A$.\n",
    "\n",
    "<div id=\"h-4\"></div>\n",
    "\n",
    "### Permutazioni di oggetti distinguibili a gruppi\n",
    "\n",
    "Se gli $n$ oggetti di $A$ non sono tutti distinguibili, ma sono distinguibili a gruppi di numerosità $n_1, n_2,\\dots n_k$ (ovviamente con $\\sum_{i=1}^k n_i=n$), allora una sequenza ordinata di tali oggetti che sia distinguibile dalle altre è detta _permutazione di oggetti distinguibili a gruppi_.\n",
    "\n",
    "Ad esempio, immaginiamo che l'insieme $A= \\{ a_1, a_2, b_1, b_2, b_3 \\}$ sia costituito da cinque caramelle di cui due (la $a_1$ e la $a_2$) sono al gusto arancia e le altre tre sono al gusto banana. Dal punto di vista del gusto della caramella possiamo identificare due gruppi distinti di oggetti, uno di numerosità $n_1=2$ e l'altro di numerosità  $n_2=3$.  Se ci interessa distinguere le sequenze di caramelle per i gusti che vi compaiono, allora la permutazione $a_1 a_2 b_1 b_2 b_3$ è diversa da $a_1 b_1 b_2 b_3 a_2$, perché nella prima abbiamo due caramelle all'arancia iniziali e poi tre alla banana e nella seconda abbiamo una caramella all'arancia all'inizio e una alla fine della sequenza e le caramelle centrali sono alla banana. Al contrario, la permutazione\n",
    "$a_1 a_2 b_1 b_2 b_3$ è indistinguibile dalla $a_2 a_1 b_1 b_2 b_3$, perché in entrambe le prime due caramelle sono all'arancia e le restanti tre sono alla banana.\n",
    "\n",
    "Quante sono dunque le permutazioni di $n$ oggetti distinguibili a gruppi di numerosità $n_1, n_2,\\dots n_k$?\n",
    "Torniamo al nostro esempio e fissiamo una configurazione di gusti, fissiamo cioè le posizioni in cui compare la caramella all'arancia e quelle in cui compare la caramella alla banana, per esempio la posizione 1 e la posizione 5 per l'arancia, la 2, la 3 e la 4 per la banana:\n",
    "\n",
    "<p style=\"text-align: center\">arancia banana banana banana arancia</p>\n",
    "\n",
    "In questo caso abbiamo solo due gruppi e quindi, fissate le posizioni di elementi del primo gruppo, automaticamente sono anche fissate quelle degli  elementi del secondo gruppo. Le permutazioni semplici che corrispondono a questa configurazione sono:\n",
    "\n",
    "<table style=\"font-size: 1rem;\">\n",
    "<tr><td>$a_1$</td><td>$b_1$</td><td>$b_2$</td><td>$b_3$</td><td>$a_2$</td></tr>\n",
    "<tr><td>$a_1$</td><td>$b_3$</td><td>$b_1$</td><td>$b_2$</td><td>$a_2$</td></tr>\n",
    "<tr><td>$a_1$</td><td>$b_2$</td><td>$b_3$</td><td>$b_1$</td><td>$a_2$</td></tr>\n",
    "<tr><td>$a_1$</td><td>$b_3$</td><td>$b_2$</td><td>$b_1$</td><td>$a_2$</td></tr>\n",
    "<tr><td>$a_1$</td><td>$b_2$</td><td>$b_1$</td><td>$b_3$</td><td>$a_2$</td></tr>\n",
    "<tr><td>$a_1$</td><td>$b_1$</td><td>$b_3$</td><td>$b_2$</td><td>$a_2$</td></tr>\n",
    "<tr><td>$a_2$</td><td>$b_1$</td><td>$b_2$</td><td>$b_3$</td><td>$a_1$</td></tr>\n",
    "<tr><td>$a_2$</td><td>$b_3$</td><td>$b_1$</td><td>$b_2$</td><td>$a_1$</td></tr>\n",
    "<tr><td>$a_2$</td><td>$b_2$</td><td>$b_3$</td><td>$b_1$</td><td>$a_1$</td></tr>\n",
    "<tr><td>$a_2$</td><td>$b_3$</td><td>$b_2$</td><td>$b_1$</td><td>$a_1$</td></tr>\n",
    "<tr><td>$a_2$</td><td>$b_2$</td><td>$b_1$</td><td>$b_3$</td><td>$a_1$</td></tr>\n",
    "<tr><td>$a_2$</td><td>$b_1$</td><td>$b_3$</td><td>$b_2$</td><td>$a_1$</td></tr>\n",
    "</table>\n",
    "\n",
    "e le abbiamo ottenute lasciando fissati i gusti nelle posizioni scelte e permutando su tali posizioni le caramelle del gusto corrispondente. Utilizzando il principio fondamentale del calcolo combinatorio possiamo dire che alla singola configurazione\n",
    "\n",
    "<p style=\"text-align: center;\">arancia banana banana banana arancia</p>\n",
    "\n",
    "corrispondono $n_1! \\cdot n_2! = 2! \\cdot 3! = 12$ permutazioni semplici.\n",
    "\n",
    "Se chiamiamo $P_{n; n_1,\\dots, n_k}$ il numero di configurazioni differenti e ricordiamo che il numero di permutazioni semplici è $n!$, possiamo scrivere:\n",
    "\n",
    "\\begin{equation}\n",
    "n! = P_{n; n_1,\\dots, n_k} \\cdot n_1! \\cdot n_2! \\dots n_k!,\n",
    "\\end{equation}\n",
    "\n",
    "da cui segue che il numero delle permutazioni di $n$ oggetti distinguibili a gruppi di numerosità $n_1, n_2,\\dots n_k$ è\n",
    "\n",
    "\\begin{equation}\n",
    "P_{n; n_1, \\dots, n_k}=\\frac{n!}{n_1!\\cdot n_2! \\dots n_k!}=\\binom{n}{n_1, n_2, \\dots, n_k}.\n",
    "\\end{equation}\n",
    "\n",
    "Questa quantità è detta anche _coefficiente multinomiale_."
   ]
  },
  {
   "cell_type": "markdown",
   "metadata": {},
   "source": [
    "<div id=\"h-5\"></div>\n",
    "\n",
    "## Disposizioni e combinazioni\n",
    "\n",
    "Consideriamo un insieme di $n$ oggetti distinti $A= \\{ a_1,\\dots a_n \\}$ e selezioniamo $k$ oggetti di questo insieme. Le modalità di selezione possono essere svariate.\n",
    "\n",
    "- Se vogliamo distinguere le configurazioni contenenti gli stessi oggetti ma estratti in ordine differente allora pariamo di _disposizioni di $n$ oggetti su k posti_, che sono configurazioni in cui sono importanti sia l'oggetto selezionato che la sua posizione. Specifichiamo una disposizione indicando tra parentesi tonde gli oggetti estratti. Ad esempio, fissato $k=3$, la disposizione $(a_i, a_j, a_r)$ è diversa dalla disposizione $(a_r, a_j, a_i)$ perché, sebbene gli oggetti selezionati siano gli stessi, essi compaiono in ordine differente.\n",
    "\n",
    "- Se invece siamo solo interessati a quali oggetti sono stati estratti e non alla loro posizione nella sequenza, allora pariamo di _combinazioni di $n$ oggetti presi $k$ alla volta_. Specifichiamo una combinazione indicando tra parentesi graffe gli oggetti estratti. Ad esempio, fissato $k=3$, $\\{ a_i, a_j, a_r \\}$ e $\\{ a_r, a_j, a_i \\}$ sono la stessa combinazione.\n",
    "\n",
    "Inoltre:\n",
    "\n",
    "- Se gli oggetti di $A$ possono essere usati una sola volta, allora parliamo di disposizioni o combinazioni _senza ripetizione_. Gli esempi di disposizioni o combinazioni visti sopra sono senza ripetizione.\n",
    "\n",
    "- Se invece immaginiamo che nel selezionare ciascuno dei $k$ oggetti abbiamo a disposizione sempre l'insieme $A$ completo, e quindi il singolo oggetto $a_i$ può essere selezionato anche più di una volta, allora parliamo di disposizioni o combinazioni _con ripetizione_. Ad esempio, fissato $k=3$, la sequenza $(a_r, a_i, a_i)$ è una disposizione con ripetizione perché l'oggetto $a_i$ ricorre due volte, e analogamente  $\\{a_r, a_i, a_i\\}$ è una combinazione con ripetizione.\n",
    "\n",
    "Abbiamo dunque quattro possibili modi di selezionare $k$ oggetti da un insieme di $n$ oggetti, che corrispondono a quattro tipi di configurazioni diverse:\n",
    "\n",
    "- le _disposizioni senza ripetizione_, dette anche _disposizioni semplici_, che richiedono ovviamente che sia $k\\leq n$,\n",
    "\n",
    "- le _combinazioni senza ripetizione_, dette anche _combinazioni semplici_, con $k\\leq n$,\n",
    "\n",
    "- le _disposizioni con ripetizione_,\n",
    "\n",
    "- le _combinazioni con ripetizione_.\n",
    "\n",
    "Vediamo ora come calcolare, data una particolare modalità di selezione, il numero di possibili scelte distinte.\n",
    "\n",
    "- Per calcolare il numero $d_{n, k}$ di possibili _disposizioni senza ripetizione di $n$ oggetti distinti su $k$ posti_ procediamo in modo analogo a quanto fatto per le permutazioni semplici, fermandoci però alla posizione $k$-esima. L'albero costruito ha profondità $k$ e un numero di foglie pari a:\n",
    "\n",
    "\\begin{align}\n",
    "d_{n, k} &= n (n-1) (n-2) \\dots (n-k+1) \\\\\n",
    "         &= n (n-1) (n-2) \\dots (n-k+1) \\cdot \\left(\\frac{(n-k)(n-k-1)\\dots1}{(n-k)(n-k-1)\\dots1}\\right) \\\\\n",
    "         &=\\frac{n!}{(n-k)!}.\n",
    "\\end{align}\n",
    "\n",
    "- Si osservi che, per $k=n$, nella disposizione si utilizzano tutti gli elementi di $A$, quindi le permutazioni semplici sono un caso particolare di disposizioni semplici.\n",
    "\n",
    "- Per calcolare il numero $c_{n, k}$ di possibili _combinazioni senza ripetizione di $n$ oggetti distinti presi $k$ alla volta_ osserviamo che, fissati $k$ oggetti, alla combinazione contenente quei $k$ oggetti corrispondono $k!$ distinte disposizioni contenenti gli stessi $k$ oggetti. Quindi il numero totale di disposizioni semplici è uguale al numero di combinazioni moltiplicato per $k!$, cioè $d_{n,k} = c_{n,k} \\cdot k!$, da cui segue che\n",
    "\n",
    "\\begin{equation}\n",
    "c_{n, k} = \\frac{d_{n, k}}{k}! = \\frac{n!}{(n-k)!k!} =\\binom{n}{k}\n",
    "\\end{equation}\n",
    "\n",
    "- Per calcolare il numero $D_{n, k}$ di possibili _disposizioni con ripetizione di $n$ oggetti distinti su $k$ posti_ procediamo in modo analogo a quanto fatto per le disposizioni senza ripetizione, tenendo presente però che in ciascun nodo dell'albero abbiamo sempre $n$ possibili oggetti tra i quali scegliere, mentre la profondità dell'albero è, come in quel caso, ancora $k$. Quindi avremo\n",
    "\n",
    "\\begin{equation}\n",
    "D_{n, k} = \\underbrace{n \\cdot n \\dots \\cdot n}_{k \\text{ volte}} = n^k.\n",
    "\\end{equation}\n",
    "\n",
    "- Si potrebbe infine dimostrare (ma non lo faremo) che il numero  $C_{n,k}$ di _combinazioni con ripetizione di $n$ oggetti distinti presi $k$ alla volta_ è\n",
    "\n",
    "\\begin{equation}\n",
    "C_{n, k} = \\binom{n+k-1}{k}\n",
    "\\end{equation}\n",
    "\n",
    "La Tabella seguente contiene uno schema riassuntivo dei casi considerati.\n",
    "\n",
    "<table style=\"font-size: 1rem;\">\n",
    "    <tr>\n",
    "        <th></th>\n",
    "        <th>sequenze (ordinate)</th>\n",
    "        <th>insiemi (non ordinati) </th>\n",
    "    </tr>\n",
    "    <tr>\n",
    "        <th>senza ripetizione</th>\n",
    "        <td>DISPOSIZIONI: $d_{n,k}=\\frac{n!}{(n-k)!}$</td>\n",
    "        <td>COMBINAZIONI: $c_{n,k}=\\binom{n}{k}$</td>\n",
    "    </tr>\n",
    "    <tr>\n",
    "        <th>con ripetizione </th>\n",
    "        <td>DISPOSIZIONI: $D_{n,k}=n^k$</td>\n",
    "        <td>COMBINAZIONI: $C_{n,k}=\\binom{n+k-1}{k}$</td>\n",
    "    </tr>\n",
    "</table>\n",
    "        \n",
    "\n"
   ]
  },
  {
   "cell_type": "markdown",
   "metadata": {},
   "source": [
    "<div id=\"h-6\"></div>\n",
    "\n",
    "## Esercizi\n",
    "\n",
    "<div id=\"h-7\"></div>\n",
    "\n",
    "### Esercizio 1\n",
    "\n",
    "Dato l'insieme $A = \\{ a_1,\\dots a_n\\}$ e indicato con $\\mathcal{P}(A)$ l'insieme delle parti di $A$, calcolare la cardinalità di $\\mathcal{P}(A)$.\n",
    "\n",
    "_Soluzione 1_\n",
    "\n",
    "Ricordiamo che l'insieme delle parti $\\mathcal{P}(A)$ è l'insieme di tutti i sottinsiemi propri e impropri di $A$: contiene l'insieme vuoto, tutti i sottinsiemi costituiti da un solo elemento di $A$, tutti i sottinsiemi costituiti da due soli elementi di $A$ e così via, e contiene anche $A$ stesso.\n",
    "\n",
    "Siccome il numero di sottinsiemi costituiti da $k$ elementi è $c_{n,k}=\\binom{n}{k}$, si ha  che la cardinalità di $\\mathcal{P}(A)$ è $|\\mathcal{P}(A)| = 1 + \\sum_{k=1}^{n} \\binom{n}{k}$, dove il primo addendo è dovuto alla presenza dell'insieme vuoto. Sfruttando le proprietà del coefficiente binomiale otteniamo\n",
    "\n",
    "\\begin{equation}\n",
    "|\\mathcal{P}(A)| = \\sum_{k=0}^{n} \\binom{n}{k} = \\sum_{k=0}^{n}\\binom{n}{k} 1^k 1^{n-k} = 2^n,\n",
    "\\end{equation}\n",
    "\n",
    "dove nell'ultimo passaggio abbiamo utilizzato la formula del binomio di Newton: $(a+b)^n = \\sum_{k=0}^{n}\\binom{n}{k}a^k b^{n-k}$, ponendo $a=1$ e $b=1$.\n",
    "\n",
    "_Soluzione 2_\n",
    "\n",
    "Se rappresentiamo ogni sottinsieme $S$ di $A$ come una $n$-upla di elementi binari in cui nella posizione $i$-esima compare il simbolo $1$ se l'elemento $a_i$ appartiene a $S$  e il simbolo $0$ se l'elemento $a_i$ non  vi appartiene, allora l'insieme delle parti $\\mathcal{P}(A)$ è l'insieme di tutte le $n$-uple che possiamo costruire a partire dai due simboli $0$ e $1$. Quindi\n",
    "\n",
    "\\begin{equation}\n",
    "|\\mathcal{P}(A)| = D_{n,2}=2^n.\n",
    "\\end{equation}\n",
    "\n",
    "<div id=\"h-8\"></div>\n",
    "\n",
    "### Esercizio 2\n",
    "\n",
    "Quanti numeri telefonici di 7 cifre tutte diverse si possono avere?\n",
    "\n",
    "_Soluzione_: $d_{10,7} = 604800$.\n",
    "\n",
    "<div id=\"h-9\"></div>\n",
    "\n",
    "### Esercizio 3\n",
    "\n",
    "Quante combinazioni di numeri si posso ottenere lanciando 3 dadi?\n",
    "\n",
    "_Soluzione_: $C_{6,3} = 56$.\n",
    "\n",
    "<div id=\"h-10\"></div>\n",
    "\n",
    "### Esercizio 4\n",
    "\n",
    "In quanti modi lanciando 3 dadi possono uscire facce tutte diverse?\n",
    "\n",
    "_Soluzione_: $d_{6,3}=120$ se i dadi sono tra loro distinguibili e $c_{6,3}=20$ se questi non sono distinguibili.\n",
    "\n",
    "<div id=\"h-11\"></div>\n",
    "\n",
    "### Esercizio 5\n",
    "\n",
    "Quanti sono gli anagrammi della parola ROMA?\n",
    "\n",
    "_Soluzione_: le permutazioni semplici $d_{4,4} = 24$.\n",
    "\n",
    "<div id=\"h-12\"></div>\n",
    "\n",
    "### Esercizio 6\n",
    "\n",
    "Quanti sono gli anagrammi della parola MATEMATICA?\n",
    "\n",
    "_Soluzione_: le permutazioni di oggetti distinguibili a gruppi $P_{10; 3, 2, 2, 1, 1, 1} = 151200$.\n",
    "\n",
    "<div id=\"h-13\"></div>\n",
    "\n",
    "### Esercizio 7\n",
    "\n",
    "In quanti modi 3 persone possono occupare 4 posti numerati?\n",
    "\n",
    "_Soluzione_: nel numero di modi in cui posso assegnare $4$ posti a $3$ persone: $d_{4, 3} = 24$."
   ]
  },
  {
   "cell_type": "markdown",
   "metadata": {},
   "source": [
    "<div id=\"h-14\"></div>\n",
    "\n",
    "## Generazione di disposizioni, permutazioni e combinazioni\n",
    "\n",
    "In python è abbastanza facile generare tutte le possibili disposizioni con ripetizione degli elementi in una lista in $k$ posti: basta eseguire una list comprehension per ottenere una lista i cui elementi sono $k$-ple, e gli elementi di queste $k$-ple si ottengono iterando $k$ volte sulla lista di partenza. Per esempio la cella seguente permette di generare tutte le $D'_{3, 2} = 9$ coppie con ripetizione a partire da una lista di tre elementi"
   ]
  },
  {
   "cell_type": "code",
   "execution_count": 1,
   "metadata": {},
   "outputs": [
    {
     "data": {
      "text/plain": [
       "[(0, 0), (0, 1), (0, 2), (1, 0), (1, 1), (1, 2), (2, 0), (2, 1), (2, 2)]"
      ]
     },
     "execution_count": 1,
     "metadata": {},
     "output_type": "execute_result"
    }
   ],
   "source": [
    "l = range(3)\n",
    "\n",
    "disp_rep = [(l1, l2) for l1 in l for l2 in l]\n",
    "disp_rep"
   ]
  },
  {
   "cell_type": "markdown",
   "metadata": {},
   "source": [
    "Le disposizioni senza ripetizione si ottengono facilmente a partire da quelle con ripetizione: è sufficiente effettuare un'ulteriore list comprehension che ha il solo scopo di eliminare tutte le disposizioni che contengono uno stesso elemento più volte. Tale controllo si può effettuare verificando che l'insieme ottenuto a partire da una disposizione abbia lo stesso numero di elementi della disposizione stessa. Nella cella seguente utilizziamo questa tecnica per ottenere tutte le $D_{3, 2} = 6$ coppie senza ripetizione a partire dalla stessa lista precedentemente considerata."
   ]
  },
  {
   "cell_type": "code",
   "execution_count": 2,
   "metadata": {},
   "outputs": [
    {
     "data": {
      "text/plain": [
       "[(0, 1), (0, 2), (1, 0), (1, 2), (2, 0), (2, 1)]"
      ]
     },
     "execution_count": 2,
     "metadata": {},
     "output_type": "execute_result"
    }
   ],
   "source": [
    "l = range(3)\n",
    "\n",
    "disp_rep = [(l1, l2) for l1 in l for l2 in l]\n",
    "disp_norep = [d for d in disp_rep if len(d)==len(set(d))]\n",
    "disp_norep"
   ]
  },
  {
   "cell_type": "markdown",
   "metadata": {},
   "source": [
    "Le permutazioni rappresentano un caso particolare delle disposizioni senza ripetizione, in cui il numero di posti è uguale al numero di oggetti. Pertanto si può adattare facilmente il codice della cella precedente per generare, per esempio, tutte le $P_3 = 6$ permutazioni della lista considerata."
   ]
  },
  {
   "cell_type": "code",
   "execution_count": 3,
   "metadata": {},
   "outputs": [
    {
     "data": {
      "text/plain": [
       "[(0, 1, 2), (0, 2, 1), (1, 0, 2), (1, 2, 0), (2, 0, 1), (2, 1, 0)]"
      ]
     },
     "execution_count": 3,
     "metadata": {},
     "output_type": "execute_result"
    }
   ],
   "source": [
    "l = range(3)\n",
    "\n",
    "disp_rep = [(l1, l2, l3) for l1 in l for l2 in l for l3 in l]\n",
    "perm = [d for d in disp_rep if len(d)==len(set(d))]\n",
    "perm"
   ]
  },
  {
   "cell_type": "markdown",
   "metadata": {},
   "source": [
    "La generazione di combinazioni è più complicata: si procede nello stesso modo visto per le disposizioni senza ripetizione, ma la seconda list comprehension non si limita a filtrare le coppie, bensì le trasforma anche in insiemi (tecnicamente, in istanze di `frozenset` che corrispondono a insiemi immutabili). Il risultato conterrà dei doppioni: per esempio le disposizioni $(a, b)$ e $(b, a)$ verrebbero trasformate nello stesso insieme. Per eliminare questi doppioni è sufficiente inserire tutti i risultati in un nuovo insieme. Già che ci siamo, possiamo trasformare tutti i `frozenset` ottenuti in normali insiemi, come nella cella seguente dove vengono costruite tutte le $C_{4, 2} = 6$ combinazioni di quattro elementi in due posti."
   ]
  },
  {
   "cell_type": "code",
   "execution_count": 5,
   "metadata": {},
   "outputs": [
    {
     "data": {
      "text/plain": [
       "[{2, 3}, {1, 2}, {0, 3}, {0, 1}, {0, 2}, {1, 3}]"
      ]
     },
     "execution_count": 5,
     "metadata": {},
     "output_type": "execute_result"
    }
   ],
   "source": [
    "l = range(4)\n",
    "\n",
    "disp_rep = [(l1, l2) for l1 in l for l2 in l]\n",
    "comb = [frozenset(d) for d in disp_rep if len(d)==len(set(d))]\n",
    "list(map(set, set(comb)))"
   ]
  },
  {
   "cell_type": "markdown",
   "metadata": {},
   "source": [
    "<div class=\"alert alert-info\">\n",
    "L'uso di `frozenset` nella cella precedente è fondamentale per poter eseguire l'ultima istruzione. Gli elementi che si inseriscono in un insieme (ma lo stesso varrebbe per le chiavi di un dizionario) devono essere infatti immutabili: ciò è legato agli algoritmi che vengono utilizzati per inserire gli elementi di un insieme in un'opportuna struttura dati che permetta di verificare successivamente se un generico elemento appartiene oppure no all'insieme.\n",
    "</div>"
   ]
  },
  {
   "cell_type": "markdown",
   "metadata": {},
   "source": [
    "Le generazioni di disposizioni, combinazioni e permutazioni fatte finora richiedono di fissare il numero di posti: non sarebbe altrimenti possibile scrivere le list comprehension alla base della costruzione delle disposizioni, che rappresentano il mattone fondamentale per ottenere tutti gli altri oggetti. Il modulo `itertools` contiene funzioni che permettono di superare questo ostacolo. Nella fattispecie:\n",
    "\n",
    "- `product` permette di generare le disposizioni con ripetizione, specificando la lista dei valori come primo elemento e il numero di posti tramite l'argomento opzionale `repeat`:"
   ]
  },
  {
   "cell_type": "code",
   "execution_count": 6,
   "metadata": {},
   "outputs": [
    {
     "data": {
      "text/plain": [
       "[(0, 0), (0, 1), (0, 2), (1, 0), (1, 1), (1, 2), (2, 0), (2, 1), (2, 2)]"
      ]
     },
     "execution_count": 6,
     "metadata": {},
     "output_type": "execute_result"
    }
   ],
   "source": [
    "import itertools\n",
    "list(itertools.product(range(3), repeat=2))"
   ]
  },
  {
   "cell_type": "markdown",
   "metadata": {},
   "source": [
    "- `permutations` genera le disposizioni senza ripetizioni e le permutazioni:"
   ]
  },
  {
   "cell_type": "code",
   "execution_count": 7,
   "metadata": {},
   "outputs": [
    {
     "data": {
      "text/plain": [
       "[(0, 1), (0, 2), (1, 0), (1, 2), (2, 0), (2, 1)]"
      ]
     },
     "execution_count": 7,
     "metadata": {},
     "output_type": "execute_result"
    }
   ],
   "source": [
    "list(itertools.permutations(range(3), 2))"
   ]
  },
  {
   "cell_type": "code",
   "execution_count": 8,
   "metadata": {},
   "outputs": [
    {
     "data": {
      "text/plain": [
       "[(0, 1, 2), (0, 2, 1), (1, 0, 2), (1, 2, 0), (2, 0, 1), (2, 1, 0)]"
      ]
     },
     "execution_count": 8,
     "metadata": {},
     "output_type": "execute_result"
    }
   ],
   "source": [
    "list(itertools.permutations(range(3), 3))"
   ]
  },
  {
   "cell_type": "markdown",
   "metadata": {},
   "source": [
    "- `combinations` genera infine le combinazioni:"
   ]
  },
  {
   "cell_type": "code",
   "execution_count": 9,
   "metadata": {},
   "outputs": [
    {
     "data": {
      "text/plain": [
       "[(0, 1), (0, 2), (0, 3), (1, 2), (1, 3), (2, 3)]"
      ]
     },
     "execution_count": 9,
     "metadata": {},
     "output_type": "execute_result"
    }
   ],
   "source": [
    "list(itertools.combinations(range(4), 2))"
   ]
  },
  {
   "cell_type": "markdown",
   "metadata": {},
   "source": [
    "<div class=\"alert alert-info\">\n",
    "Le funzioni di `itertools` che abbiamo considerato non restituiscono delle liste, bensì degli speciali oggetti che è necessario convertire esplicitamente in liste utilizzando la funzione `list`.\n",
    "</div>"
   ]
  },
  {
   "cell_type": "markdown",
   "metadata": {
    "collapsed": true
   },
   "source": [
    "[try me!](Untitled5.ipynb#altra)"
   ]
  },
  {
   "cell_type": "markdown",
   "metadata": {
    "footer": true
   },
   "source": [
    "<hr style=\"width: 90%;\" align=\"left\" />\n",
    "<span style=\"font-size: 0.8rem;\">D. Malchiodi, Superhero data science. Vol 1: probabilità e statistica: Calcolo combinatorio, 2017.</span>\n",
    "<br>\n",
    "<span style=\"font-size: 0.8rem;\">Powered by <img src=\"img/jupyter-logo.png\" style=\"height: 1rem; display: inline; margin-left: 0.5ex; margin-top: 0;\" alt=\"Jupyter Notebook\"></span>\n",
    "<div style=\"float: left; margin-top: 1ex;\">\n",
    "<img src=\"http://mirrors.creativecommons.org/presskit/icons/cc.large.png\" style=\"width: 1.5em; float: left; margin-right: 0.6ex; margin-top: 0;\">\n",
    "<img src=\"http://mirrors.creativecommons.org/presskit/icons/by.large.png\" style=\"width: 1.5em; float: left; margin-right: 0.6ex; margin-top: 0;\">\n",
    "<img src=\"http://mirrors.creativecommons.org/presskit/icons/nc.large.png\" style=\"width: 1.5em; float: left; margin-right: 0.6ex; margin-top: 0;\">\n",
    "<img src=\"http://mirrors.creativecommons.org/presskit/icons/nd.large.png\" style=\"width: 1.5em; float: left; margin-right: 0.6ex; margin-top: 0;\">\n",
    "<span style=\"font-size: 0.7rem; line-height: 0.7rem; vertical-align: middle;\">Quest'opera è distribuita con Licenza <a rel=\"license\" href=\"http://creativecommons.org/licenses/by-nc-nd/4.0/\">Creative Commons Attribuzione - Non commerciale - Non opere derivate 4.0 Internazionale</a></span>.\n",
    "</div>"
   ]
  }
 ],
 "metadata": {
  "kernelspec": {
   "display_name": "Python 3 (ipykernel)",
   "language": "python",
   "name": "python3"
  },
  "language_info": {
   "codemirror_mode": {
    "name": "ipython",
    "version": 3
   },
   "file_extension": ".py",
   "mimetype": "text/x-python",
   "name": "python",
   "nbconvert_exporter": "python",
   "pygments_lexer": "ipython3",
   "version": "3.9.10"
  },
  "latex_envs": {
   "LaTeX_envs_menu_present": true,
   "autoclose": false,
   "autocomplete": true,
   "bibliofile": "biblio.bib",
   "cite_by": "apalike",
   "current_citInitial": 1,
   "eqLabelWithNumbers": true,
   "eqNumInitial": 1,
   "hotkeys": {
    "equation": "Ctrl-E",
    "itemize": "Ctrl-I"
   },
   "labels_anchors": false,
   "latex_user_defs": false,
   "report_style_numbering": false,
   "user_envs_cfg": false
  }
 },
 "nbformat": 4,
 "nbformat_minor": 2
}
