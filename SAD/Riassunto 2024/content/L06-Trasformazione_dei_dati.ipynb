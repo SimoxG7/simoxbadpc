{
 "cells": [
  {
   "cell_type": "markdown",
   "metadata": {
    "toc": true
   },
   "source": [
    "<h1>Table of Contents<span class=\"tocSkip\"></span></h1>\n",
    "<div class=\"toc\"><ul class=\"toc-item\"><li><span><a href=\"#Trasformazione-dei-dati\" data-toc-modified-id=\"Trasformazione-dei-dati-1\"><span class=\"toc-item-num\">1&nbsp;&nbsp;</span>Trasformazione dei dati</a></span><ul class=\"toc-item\"><li><span><a href=\"#Trasformazioni-lineari\" data-toc-modified-id=\"Trasformazioni-lineari-1.1\"><span class=\"toc-item-num\">1.1&nbsp;&nbsp;</span>Trasformazioni lineari</a></span><ul class=\"toc-item\"><li><span><a href=\"#Cambiamento-di-origine-(traslazione)\" data-toc-modified-id=\"Cambiamento-di-origine-(traslazione)-1.1.1\"><span class=\"toc-item-num\">1.1.1&nbsp;&nbsp;</span>Cambiamento di origine (traslazione)</a></span></li><li><span><a href=\"#Cambiamento-di-scala-(dilatazione-o-contrazione)\" data-toc-modified-id=\"Cambiamento-di-scala-(dilatazione-o-contrazione)-1.1.2\"><span class=\"toc-item-num\">1.1.2&nbsp;&nbsp;</span>Cambiamento di scala (dilatazione o contrazione)</a></span></li><li><span><a href=\"#Cambiamento-di-origine-e-scala\" data-toc-modified-id=\"Cambiamento-di-origine-e-scala-1.1.3\"><span class=\"toc-item-num\">1.1.3&nbsp;&nbsp;</span>Cambiamento di origine e scala</a></span></li><li><span><a href=\"#Standardizzazione\" data-toc-modified-id=\"Standardizzazione-1.1.4\"><span class=\"toc-item-num\">1.1.4&nbsp;&nbsp;</span>Standardizzazione</a></span></li><li><span><a href=\"#Trasformazioni-logaritmiche\" data-toc-modified-id=\"Trasformazioni-logaritmiche-1.1.5\"><span class=\"toc-item-num\">1.1.5&nbsp;&nbsp;</span>Trasformazioni logaritmiche</a></span></li></ul></li></ul></li></ul></div>"
   ]
  },
  {
   "cell_type": "markdown",
   "metadata": {
    "header": true
   },
   "source": [
    "<div class=\"header\">\n",
    "D. Malchiodi, Superhero data science. Vol 1: probabilità e statistica: Trasformazione dei dati.\n",
    "</div>\n",
    "<hr style=\"width: 90%;\" align=\"left\" />"
   ]
  },
  {
   "cell_type": "markdown",
   "metadata": {},
   "source": [
    "\n",
    "<div id=\"h-0\"></div>\n",
    "\n",
    "# Trasformazione dei dati\n",
    "\n",
    "Può succedere di avere la necessità di trasformare i dati osservati per diverse ragioni: per poterli confrontare con altri riportandoli ad un intervallo predefinito, per poter confrontare la loro distribuzione di frequenza con quella di altri dati, oppure per renderli più facilmente leggibili.\n",
    "\n",
    "Consideriamo un insieme di valori osservati $X = \\{ x_1, x_2, \\dots, x_n \\}$, con la rispettiva tabella di frequenze relative.\n",
    "\n",
    "|Valori originali|Frequenze relative|\n",
    "|----------------|------------------|\n",
    "| $x_1$          | $f_1$            |\n",
    "| $x_2$          | $f_2$            |\n",
    "| $\\vdots$       | $\\vdots$         |\n",
    "| $x_n$          | $f_n$            |\n",
    "\n",
    "Consideriamo anche una trasformazione $g$ che trasforma i valori di $X$ in valori appartenenti all'insieme $Y=\\{x_1',x_2',\\dots, x_n'\\}$: più precisamente $\\forall i=1, \\dots, n$ si ha $g(x_i) = x_i'$ (quando il nome della funzione si potrà omettere, scriveremo per brevità $x_i \\mapsto x_i'$). Prenderemo in esame solo _trasformazioni iniettive_ (per le quali cioè a qualsiasi valore trasformato in $Y$ corrisponde un solo valore in $X$). Per questo tipo di trasformazioni i valori delle frequenze nella tabella delle frequenze per $Y$ rimangono ovviamente i medesimi delle loro preimmagini.\n",
    "\n",
    "|Valori trasformati|Frequenze relative|\n",
    "|------------------|------------------|\n",
    "| $x'_1$           | $f_1$            |\n",
    "| $x'_2$           | $f_2$            |\n",
    "| $\\vdots$         | $\\vdots$         |\n",
    "| $x'_n$           | $f_n$            |\n",
    "\n",
    "Cambieranno invece  alcuni indici descrittivi e di conseguenza il grafico della distribuzione: infatti ora i valori  osservati sono quelli dell'insieme $Y$.\n",
    "\n",
    "\n",
    "\n",
    "\n",
    "<div id=\"h-1\"></div>\n",
    "\n",
    "## Trasformazioni lineari\n",
    "\n",
    "Consideriamo la famiglia delle trasformazioni che prevedono di applicare ai dati una funzione _lineare_. Fissate cioè due costanti $a, b \\in \\mathbb R$, il valore originale $x$ verrà trasformato in un valore $x'$ secondo la regola:\n",
    "\n",
    "\\begin{equation}\n",
    "x' = g(x) =a \\cdot x +b\n",
    "\\end{equation}\n",
    "\n",
    "\n",
    "\n",
    "\n",
    "<div id=\"h-2\"></div>\n",
    "\n",
    "### Cambiamento di origine (traslazione)\n",
    "\n",
    "Se vogliamo traslare i dati di una quantità costante $k>0$ applichiamo la trasformazione\n",
    "$x \\mapsto x'=x - k$ per traslare verso sinistra e $x \\mapsto x'=x + k$ per traslare verso destra. Questa trasformazione è utile quando i valori osservati sono molto grandi e poco dispersi. Si osservi che:\n",
    "\n",
    "- la media, la mediana e i quantili vengono traslati della stessa quantità $k$ (nel medesimo verso);\n",
    "- il range, la distanza interquartile, la varianza e la deviazione standard dell'insieme traslato $Y$ rimangono invece gli stessi dell'insieme di partenza $X$.\n",
    "\n",
    "<div class=\"alert alert-success\">\n",
    "<strong>Esercizio</strong>\n",
    "Utilizzando le definizione degli indici viste in precedenza, dimostrate le proprietà sopra elencate.\n",
    "</div>\n",
    "\n",
    "Vediamo due esempi, caricando innanzitutto il nostro dataset e estraendo da esso le osservazioni per anno di prima apparizione e indice di forza. Per evitare di modificare i dati originali, lavoreremo su delle copie da cui elimineremo inoltre i valori mancanti."
   ]
  },
  {
   "cell_type": "code",
   "execution_count": 8,
   "metadata": {},
   "outputs": [],
   "source": [
    "import pandas as pd\n",
    "import numpy as np\n",
    "import matplotlib.pyplot as plt\n",
    "\n",
    "from scipy.constants import golden\n",
    "\n",
    "plt.style.use('fivethirtyeight')\n",
    "plt.rc('figure', figsize=(5.0, 5.0/golden))\n",
    "\n",
    "heroes = pd.read_csv('data/heroes.csv', sep=';', index_col=0)\n",
    "\n",
    "year = heroes['First appearance'].copy()\n",
    "year = year[pd.notnull(year)]\n",
    "\n",
    "strength = heroes['Strength'].copy()\n",
    "strength = strength[pd.notnull(strength)]"
   ]
  },
  {
   "cell_type": "markdown",
   "metadata": {},
   "source": [
    "Per applicare una trasformazione a una serie di dati è di norma sufficiente scrivere la corrispondente espressione in funzione della serie stessa. Per esempio, la seguente cella applica agli anni di prima apparizione una funzione in modo che i dati trasformati partano da zero. In questo caso, la costante $k$ coinciderà con il minimo dei valori osservati e la traslazione verrà fatta verso sinistra."
   ]
  },
  {
   "cell_type": "code",
   "execution_count": 9,
   "metadata": {},
   "outputs": [
    {
     "data": {
      "text/plain": [
       "Name\n",
       "A-Bomb              75.0\n",
       "Agent Bob           74.0\n",
       "Abe Sapien          60.0\n",
       "Abin Sur            26.0\n",
       "Animal Man          32.0\n",
       "Angel Salvadore     68.0\n",
       "Lady Deathstrike    52.0\n",
       "Yoda                47.0\n",
       "Absorbing Man       31.0\n",
       "X-Man               62.0\n",
       "Name: First appearance, dtype: float64"
      ]
     },
     "execution_count": 9,
     "metadata": {},
     "output_type": "execute_result"
    }
   ],
   "source": [
    "transformed_year = year - min(year)\n",
    "transformed_year.iloc[:10]"
   ]
  },
  {
   "cell_type": "markdown",
   "metadata": {},
   "source": [
    "Analogamente, impostando $k$ alla media campionaria di una serie e traslando verso sinistra, i valori trasformati avranno media campionaria nulla. La cella seguente effettua tale operazione sugli indici di forza."
   ]
  },
  {
   "cell_type": "code",
   "execution_count": 10,
   "metadata": {},
   "outputs": [
    {
     "data": {
      "text/plain": [
       "Name\n",
       "A-Bomb         54.99179\n",
       "Abraxas        54.99179\n",
       "Abomination    34.99179\n",
       "Adam Monroe   -35.00821\n",
       "Air-Walker     39.99179\n",
       "Agent Bob     -35.00821\n",
       "Abe Sapien    -15.00821\n",
       "Abin Sur       44.99179\n",
       "Angela         54.99179\n",
       "Animal Man      4.99179\n",
       "Name: Strength, dtype: float64"
      ]
     },
     "execution_count": 10,
     "metadata": {},
     "output_type": "execute_result"
    }
   ],
   "source": [
    "transformed_strength = strength - strength.mean()\n",
    "transformed_strength.iloc[:10]"
   ]
  },
  {
   "cell_type": "markdown",
   "metadata": {},
   "source": [
    "Come già sottolineato, la traslazione è una trasformazione iniettiva e quindi i dati osservati varieranno ma le loro frequenze resteranno uguali. Ciò è evidente se si visualizzano per esempio le tabelle delle frequenze assolute dei dati originali e di quelli trasformati."
   ]
  },
  {
   "cell_type": "code",
   "execution_count": 11,
   "metadata": {},
   "outputs": [
    {
     "data": {
      "text/html": [
       "<div>\n",
       "<style scoped>\n",
       "    .dataframe tbody tr th:only-of-type {\n",
       "        vertical-align: middle;\n",
       "    }\n",
       "\n",
       "    .dataframe tbody tr th {\n",
       "        vertical-align: top;\n",
       "    }\n",
       "\n",
       "    .dataframe thead th {\n",
       "        text-align: right;\n",
       "    }\n",
       "</style>\n",
       "<table border=\"1\" class=\"dataframe\">\n",
       "  <thead>\n",
       "    <tr style=\"text-align: right;\">\n",
       "      <th>Original</th>\n",
       "      <th>Abs. freqence</th>\n",
       "    </tr>\n",
       "    <tr>\n",
       "      <th>Strength</th>\n",
       "      <th></th>\n",
       "    </tr>\n",
       "  </thead>\n",
       "  <tbody>\n",
       "    <tr>\n",
       "      <th>5.0</th>\n",
       "      <td>6</td>\n",
       "    </tr>\n",
       "    <tr>\n",
       "      <th>10.0</th>\n",
       "      <td>156</td>\n",
       "    </tr>\n",
       "    <tr>\n",
       "      <th>15.0</th>\n",
       "      <td>57</td>\n",
       "    </tr>\n",
       "    <tr>\n",
       "      <th>20.0</th>\n",
       "      <td>30</td>\n",
       "    </tr>\n",
       "    <tr>\n",
       "      <th>25.0</th>\n",
       "      <td>3</td>\n",
       "    </tr>\n",
       "    <tr>\n",
       "      <th>30.0</th>\n",
       "      <td>28</td>\n",
       "    </tr>\n",
       "    <tr>\n",
       "      <th>35.0</th>\n",
       "      <td>34</td>\n",
       "    </tr>\n",
       "    <tr>\n",
       "      <th>40.0</th>\n",
       "      <td>18</td>\n",
       "    </tr>\n",
       "    <tr>\n",
       "      <th>45.0</th>\n",
       "      <td>5</td>\n",
       "    </tr>\n",
       "    <tr>\n",
       "      <th>50.0</th>\n",
       "      <td>21</td>\n",
       "    </tr>\n",
       "  </tbody>\n",
       "</table>\n",
       "</div>"
      ],
      "text/plain": [
       "Original  Abs. freqence\n",
       "Strength               \n",
       "5.0                   6\n",
       "10.0                156\n",
       "15.0                 57\n",
       "20.0                 30\n",
       "25.0                  3\n",
       "30.0                 28\n",
       "35.0                 34\n",
       "40.0                 18\n",
       "45.0                  5\n",
       "50.0                 21"
      ]
     },
     "execution_count": 11,
     "metadata": {},
     "output_type": "execute_result"
    }
   ],
   "source": [
    "pd.crosstab(index=strength,\n",
    "            columns=['Abs. freqence'],\n",
    "            colnames=['Original']).iloc[:10]"
   ]
  },
  {
   "cell_type": "code",
   "execution_count": 12,
   "metadata": {},
   "outputs": [
    {
     "data": {
      "text/html": [
       "<div>\n",
       "<style scoped>\n",
       "    .dataframe tbody tr th:only-of-type {\n",
       "        vertical-align: middle;\n",
       "    }\n",
       "\n",
       "    .dataframe tbody tr th {\n",
       "        vertical-align: top;\n",
       "    }\n",
       "\n",
       "    .dataframe thead th {\n",
       "        text-align: right;\n",
       "    }\n",
       "</style>\n",
       "<table border=\"1\" class=\"dataframe\">\n",
       "  <thead>\n",
       "    <tr style=\"text-align: right;\">\n",
       "      <th>Transformed</th>\n",
       "      <th>Abs. freqence</th>\n",
       "    </tr>\n",
       "    <tr>\n",
       "      <th>Strength</th>\n",
       "      <th></th>\n",
       "    </tr>\n",
       "  </thead>\n",
       "  <tbody>\n",
       "    <tr>\n",
       "      <th>-40.00821</th>\n",
       "      <td>6</td>\n",
       "    </tr>\n",
       "    <tr>\n",
       "      <th>-35.00821</th>\n",
       "      <td>156</td>\n",
       "    </tr>\n",
       "    <tr>\n",
       "      <th>-30.00821</th>\n",
       "      <td>57</td>\n",
       "    </tr>\n",
       "    <tr>\n",
       "      <th>-25.00821</th>\n",
       "      <td>30</td>\n",
       "    </tr>\n",
       "    <tr>\n",
       "      <th>-20.00821</th>\n",
       "      <td>3</td>\n",
       "    </tr>\n",
       "    <tr>\n",
       "      <th>-15.00821</th>\n",
       "      <td>28</td>\n",
       "    </tr>\n",
       "    <tr>\n",
       "      <th>-10.00821</th>\n",
       "      <td>34</td>\n",
       "    </tr>\n",
       "    <tr>\n",
       "      <th>-5.00821</th>\n",
       "      <td>18</td>\n",
       "    </tr>\n",
       "    <tr>\n",
       "      <th>-0.00821</th>\n",
       "      <td>5</td>\n",
       "    </tr>\n",
       "    <tr>\n",
       "      <th>4.99179</th>\n",
       "      <td>21</td>\n",
       "    </tr>\n",
       "  </tbody>\n",
       "</table>\n",
       "</div>"
      ],
      "text/plain": [
       "Transformed  Abs. freqence\n",
       "Strength                  \n",
       "-40.00821                6\n",
       "-35.00821              156\n",
       "-30.00821               57\n",
       "-25.00821               30\n",
       "-20.00821                3\n",
       "-15.00821               28\n",
       "-10.00821               34\n",
       "-5.00821                18\n",
       "-0.00821                 5\n",
       " 4.99179                21"
      ]
     },
     "execution_count": 12,
     "metadata": {},
     "output_type": "execute_result"
    }
   ],
   "source": [
    "pd.crosstab(index=transformed_strength,\n",
    "            columns=['Abs. freqence'],\n",
    "            colnames=['Transformed']).iloc[:10]"
   ]
  },
  {
   "cell_type": "markdown",
   "metadata": {},
   "source": [
    "Analogamente, una visualizzazione grafica dei dati originali avrebbe la stessa forma di quella relativa ai dati trasformati: le frequenze sono infatti invariate, e l'unica differenza consisterebbe nei valori riportati sull'asse delle ascisse. Lo si vede facilmente affiancando per esempio gli istogrammi degli indici di forza originali e trasformati."
   ]
  },
  {
   "cell_type": "code",
   "execution_count": 13,
   "metadata": {},
   "outputs": [
    {
     "data": {
      "image/png": "[encoded data removed]",
      "text/plain": [
       "<Figure size 720x216 with 2 Axes>"
      ]
     },
     "metadata": {},
     "output_type": "display_data"
    }
   ],
   "source": [
    "plt.figure(figsize=(10, 3))\n",
    "plt.subplot(1, 2, 1)\n",
    "strength.plot.hist(bins=20)\n",
    "plt.xlabel('Original')\n",
    "plt.subplot(1, 2, 2)\n",
    "transformed_strength.plot.hist(bins=20)\n",
    "plt.xlabel('Transformed')\n",
    "plt.show()"
   ]
  },
  {
   "cell_type": "markdown",
   "metadata": {},
   "source": [
    "\n",
    "\n",
    "\n",
    "<div id=\"h-3\"></div>\n",
    "\n",
    "### Cambiamento di scala (dilatazione o contrazione)\n",
    "\n",
    "Se vogliamo dilatare o contrarre i valori di un fattore costante $h \\in \\mathbb R^+$ applichiamo la trasformazione $x \\mapsto x' = \\frac{x}{h}$. Se $h > 1$ il range dei valori risulta diminuito (è cioè stata applicata una contrazione), mentre se $h < 1$ si applica una dilatazione (il caso $h = 1$ è poco interessante perché la funzione corrispondente lascia i dati inalterati). Inoltre, se $h$ è minore del valore minimo, allora tutti i valori trasformati saranno maggiori di $1$, mentre se $h$ è maggiore del valore massimo, tutti i valori trasformati saranno minori di $1$.\n",
    "\n",
    "Si osservi che:\n",
    "\n",
    "- la media, la mediana e i quantili vengono scalati della stessa quantità $\\frac{1}{h}$;\n",
    "- il range di variazione e la distanza interquartile vengono scalati della stessa quantità $\\frac{1}{h}$;\n",
    "- la varianza viene scalata di una quantità $\\frac{1}{h^2}$ mentre la deviazione standard viene scalata di $\\frac{1}{h}$.\n",
    "\n",
    "<div class=\"alert alert-success\">\n",
    "<strong>Esercizio</strong>\n",
    "Anche in questo caso, dimostrare le proprietà sopra elencate utilizzando le definizioni degli indici coinvolti.\n",
    "</div>\n",
    "\n",
    "Come nel caso delle traslazioni, anche per applicare un cambiamento di scala è sufficiente eseguire la corrispondente operazione aritmetica sulla serie coinvolta. Per esempio, nella cella seguente una copia degli indici di forza originali (da cui anche in questo caso vengono eliminati i valori mancanti) vengono contratti utilizzando un fattore per cui $h$ corrisponde al massimo tra i valori originali. Tenuto conto del fatto che questi ultimi sono non negativi, ciò implica che i dati trasformati varieranno nell'intervallo $[0, 1]$."
   ]
  },
  {
   "cell_type": "code",
   "execution_count": 17,
   "metadata": {},
   "outputs": [
    {
     "data": {
      "text/plain": [
       "Name\n",
       "A-Bomb         1.00\n",
       "Abraxas        1.00\n",
       "Abomination    0.80\n",
       "Adam Monroe    0.10\n",
       "Air-Walker     0.85\n",
       "Agent Bob      0.10\n",
       "Abe Sapien     0.30\n",
       "Abin Sur       0.90\n",
       "Angela         1.00\n",
       "Animal Man     0.50\n",
       "Name: Strength, dtype: float64"
      ]
     },
     "execution_count": 17,
     "metadata": {},
     "output_type": "execute_result"
    }
   ],
   "source": [
    "strength = heroes['Strength'].copy()\n",
    "strength = strength[pd.notnull(strength)]\n",
    "\n",
    "transformed_strength = strength / max(strength)\n",
    "transformed_strength.iloc[:10]"
   ]
  },
  {
   "cell_type": "markdown",
   "metadata": {},
   "source": [
    "Anche in questo caso si verifica facilmente come la tabella delle frequenze varia solo relativamente ai valori osservati, così come gli istogrammi avranno la medesima forma e gli stessi valori sull'asse delle ordinate, ma varieranno su un intervallo diverso se si considera l'asse delle ascisse."
   ]
  },
  {
   "cell_type": "code",
   "execution_count": 18,
   "metadata": {},
   "outputs": [
    {
     "data": {
      "text/html": [
       "<div>\n",
       "<style scoped>\n",
       "    .dataframe tbody tr th:only-of-type {\n",
       "        vertical-align: middle;\n",
       "    }\n",
       "\n",
       "    .dataframe tbody tr th {\n",
       "        vertical-align: top;\n",
       "    }\n",
       "\n",
       "    .dataframe thead th {\n",
       "        text-align: right;\n",
       "    }\n",
       "</style>\n",
       "<table border=\"1\" class=\"dataframe\">\n",
       "  <thead>\n",
       "    <tr style=\"text-align: right;\">\n",
       "      <th>Transformed</th>\n",
       "      <th>Abs. freqence</th>\n",
       "    </tr>\n",
       "    <tr>\n",
       "      <th>Strength</th>\n",
       "      <th></th>\n",
       "    </tr>\n",
       "  </thead>\n",
       "  <tbody>\n",
       "    <tr>\n",
       "      <th>0.05</th>\n",
       "      <td>6</td>\n",
       "    </tr>\n",
       "    <tr>\n",
       "      <th>0.10</th>\n",
       "      <td>156</td>\n",
       "    </tr>\n",
       "    <tr>\n",
       "      <th>0.15</th>\n",
       "      <td>57</td>\n",
       "    </tr>\n",
       "    <tr>\n",
       "      <th>0.20</th>\n",
       "      <td>30</td>\n",
       "    </tr>\n",
       "    <tr>\n",
       "      <th>0.25</th>\n",
       "      <td>3</td>\n",
       "    </tr>\n",
       "    <tr>\n",
       "      <th>0.30</th>\n",
       "      <td>28</td>\n",
       "    </tr>\n",
       "    <tr>\n",
       "      <th>0.35</th>\n",
       "      <td>34</td>\n",
       "    </tr>\n",
       "    <tr>\n",
       "      <th>0.40</th>\n",
       "      <td>18</td>\n",
       "    </tr>\n",
       "    <tr>\n",
       "      <th>0.45</th>\n",
       "      <td>5</td>\n",
       "    </tr>\n",
       "    <tr>\n",
       "      <th>0.50</th>\n",
       "      <td>21</td>\n",
       "    </tr>\n",
       "  </tbody>\n",
       "</table>\n",
       "</div>"
      ],
      "text/plain": [
       "Transformed  Abs. freqence\n",
       "Strength                  \n",
       "0.05                     6\n",
       "0.10                   156\n",
       "0.15                    57\n",
       "0.20                    30\n",
       "0.25                     3\n",
       "0.30                    28\n",
       "0.35                    34\n",
       "0.40                    18\n",
       "0.45                     5\n",
       "0.50                    21"
      ]
     },
     "execution_count": 18,
     "metadata": {},
     "output_type": "execute_result"
    }
   ],
   "source": [
    "pd.crosstab(index=transformed_strength,\n",
    "            columns=['Abs. freqence'],\n",
    "            colnames=['Transformed']).iloc[:10]"
   ]
  },
  {
   "cell_type": "code",
   "execution_count": 19,
   "metadata": {},
   "outputs": [
    {
     "data": {
      "image/png": "[encoded data removed]",
      "text/plain": [
       "<Figure size 720x216 with 2 Axes>"
      ]
     },
     "metadata": {},
     "output_type": "display_data"
    }
   ],
   "source": [
    "plt.figure(figsize=(10, 3))\n",
    "plt.subplot(1, 2, 1)\n",
    "strength.plot.hist(bins=20)\n",
    "plt.xlabel('Original')\n",
    "plt.subplot(1, 2, 2)\n",
    "transformed_strength.plot.hist(bins=20)\n",
    "plt.xlabel('Transformed')\n",
    "plt.show()"
   ]
  },
  {
   "cell_type": "markdown",
   "metadata": {},
   "source": [
    "\n",
    "\n",
    "\n",
    "<div id=\"h-4\"></div>\n",
    "\n",
    "### Cambiamento di origine e scala\n",
    "\n",
    "Se abbiamo un insieme di valori nell'intervallo $(a, b)$ e vogliamo adattarli in modo che appartengano all'intervallo $(c, d)$, la trasformazione da applicare sarà \n",
    "\n",
    "\\begin{equation}\n",
    "x \\mapsto x' = c + \\frac{d - c}{b - a} \\cdot (x - a).\n",
    "\\end{equation}\n",
    "\n",
    "\n",
    "<div class=\"alert alert-success\">\n",
    "<strong>Esercizio</strong>\n",
    "Utilizzando la formula della retta passante per due punti dati, ricavate la trasformazione.\n",
    "</div>\n",
    "\n",
    "Immaginiamo che risulti più pratico misurare la forza dei supereroi in una scala che va da $-10$ a $10$. La trasformazione relativa corrisponderà ai valori $c = -10$, $d = 10$ e rispettivamente al minimo e al massimo dei valori originali per quanto riguarda $a$ e $b$."
   ]
  },
  {
   "cell_type": "code",
   "execution_count": 10,
   "metadata": {},
   "outputs": [
    {
     "data": {
      "text/plain": [
       "Name\n",
       "A-Bomb         10.000000\n",
       "Abraxas        10.000000\n",
       "Abomination     5.789474\n",
       "Adam Monroe    -8.947368\n",
       "Air-Walker      6.842105\n",
       "Agent Bob      -8.947368\n",
       "Abe Sapien     -4.736842\n",
       "Abin Sur        7.894737\n",
       "Angela         10.000000\n",
       "Animal Man     -0.526316\n",
       "Name: Strength, dtype: float64"
      ]
     },
     "execution_count": 10,
     "metadata": {},
     "output_type": "execute_result"
    }
   ],
   "source": [
    "strength = heroes['Strength'].copy()\n",
    "strength = strength[pd.notnull(strength)]\n",
    "\n",
    "old_min = min(strength)\n",
    "old_max = max(strength)\n",
    "new_min = -10.0\n",
    "new_max = 10.0\n",
    "\n",
    "transformed_strength = new_min + (new_max - new_min)/(old_max - old_min) * (strength - old_min)\n",
    "transformed_strength.iloc[:10]"
   ]
  },
  {
   "cell_type": "markdown",
   "metadata": {},
   "source": [
    "Ipotizziamo che i valori originali varino nell'intervallo [a,b] e consideriamo i seguenti casi particolari:\n",
    "\n",
    "- vogliamo trasportare i valori in $[0,1]$: in questo caso la trasformazione da applicare è\n",
    "\n",
    "\\begin{equation}\n",
    "x \\mapsto x' = \\frac{x - a}{b - a};\n",
    "\\end{equation}\n",
    "\n",
    "- nel caso particolare $a = 0$, la trasformazione precedente consiste nel dividere i dati per il valore massimo $b$;\n",
    "- vogliamo trasportare i valori nell'intervallo $[-1,1]$; la trasformazione sarà pertanto\n",
    "\n",
    "\\begin{equation}\n",
    "x \\mapsto x' = 2 \\cdot \\frac{x - a}{b - a} - 1.\n",
    "\\end{equation}"
   ]
  },
  {
   "cell_type": "markdown",
   "metadata": {},
   "source": [
    "\n",
    "\n",
    "\n",
    "<div id=\"h-5\"></div>\n",
    "\n",
    "### Standardizzazione\n",
    "\n",
    "La _standardizzazione_ (o _normalizzazione_) è un caso particolare di cambiamento di origine e scala, e consiste nell'applicare una scala il cui fattore è uguale alla deviazione standard dei valori, per poi traslare verso sinistra rispetto alla media dei valori. Se indichiamo rispettivamente con $\\overline x$ e con $\\sigma_x$ la media campionaria e la deviazione standard campionaria dei valori, la trasformazione  sarà quindi\n",
    "\n",
    "\\begin{equation}\n",
    "x \\mapsto x' = \\frac{x - \\overline x}{\\sigma_x}.\n",
    "\\end{equation}\n",
    "\n",
    "\n",
    "La trasformazione di standardizzazione trasforma pertanto l'insieme dei valori in un altro insieme di valori la cui media è $0$ e la cui varianza è $1$.\n",
    "\n",
    "<div class=\"alert alert-success\">\n",
    "<strong>Esercizio</strong>\n",
    "Si controlli che le proprietà sopra menzionate sono soddisfatte.\n",
    "</div>\n",
    "\n",
    "L'operazione di standardizzazione dei valori di forza dà luogo alla serie seguente:"
   ]
  },
  {
   "cell_type": "code",
   "execution_count": 11,
   "metadata": {},
   "outputs": [
    {
     "data": {
      "text/plain": [
       "Name\n",
       "A-Bomb         1.664831\n",
       "Abraxas        1.664831\n",
       "Abomination    1.059347\n",
       "Adam Monroe   -1.059845\n",
       "Air-Walker     1.210718\n",
       "Agent Bob     -1.059845\n",
       "Abe Sapien    -0.454361\n",
       "Abin Sur       1.362089\n",
       "Angela         1.664831\n",
       "Animal Man     0.151122\n",
       "Name: Strength, dtype: float64"
      ]
     },
     "execution_count": 11,
     "metadata": {},
     "output_type": "execute_result"
    }
   ],
   "source": [
    "transformed_strength = (strength - strength.mean()) / strength.std()\n",
    "transformed_strength.iloc[:10]"
   ]
  },
  {
   "cell_type": "markdown",
   "metadata": {},
   "source": [
    "Questa trasformazione dovrebbe avere l'effetto di rendere nulla la media campionaria dei dati trasformati."
   ]
  },
  {
   "cell_type": "code",
   "execution_count": 12,
   "metadata": {},
   "outputs": [
    {
     "data": {
      "text/plain": [
       "-1.2323657875970539e-16"
      ]
     },
     "execution_count": 12,
     "metadata": {},
     "output_type": "execute_result"
    }
   ],
   "source": [
    "transformed_strength.mean()"
   ]
  },
  {
   "cell_type": "markdown",
   "metadata": {},
   "source": [
    "Il risultato non deve essere particolarmente sconcertante: il fatto di non aver ottenuto un valore _esattamente_ nullo è dovuto al fatto che le operazioni fatte sulle variabili in virgola mobile richiedono di effettuare delle approssimazioni numeriche. In ogni caso, i dati originali hanno un ordine di grandezza che è quindici volte più grande del valore della media campionaria, per cui quest'ultima è per noi essenzialmente equivalente a zero.\n",
    "\n",
    "\n",
    "\n",
    "\n",
    "<div id=\"h-6\"></div>\n",
    "\n",
    "### Trasformazioni logaritmiche\n",
    "\n",
    "A volte i valori di una variabile osservata sono molto grandi oppure molto distanziati. \n",
    "In questi casi può essere utile considerare non tanto il valore originale ma, pensando a tale valore come potenza di una data base, ragionare in termini del relativo esponente. Ciò corrisponde ad applicare una _trasformazione logaritmica_ del seguente tipo:\n",
    "\n",
    "\\begin{equation}\n",
    "x \\mapsto x' = \\log x.\n",
    "\\end{equation}\n",
    "\n",
    "La scelta della base del logaritmo in questa trasformazione viene di norma fatta a seconda delle situazioni che si affrontano: scelte comunemente utilizzate sono 10, la costante di Napier $\\mathrm e \\approx 2.71$ oppure 2.\n",
    "\n",
    "Nel caso i valori siano molto distanziati tra loro e caratterizzati da una distribuzione di frequenza unimodale fortemente asimmetrica, la trasformazione logaritmica permette di ottenere una distribuzione di frequenza pià simmetrica. Questo tipo di trasformazione ha molti altri vantaggi, dovuti al fatto che l'operazione di prodotto (o quoziente)  tra due valori viene trasformata nella somma (o nella differenza) dei rispettivi logaritmi.\n",
    "\n",
    "Consideriamo per esempio i primi dieci anni di prima apparizione nel nostro dataset e applichiamo loro una trasformazione logaritmica usando 10 come base."
   ]
  },
  {
   "cell_type": "code",
   "execution_count": 13,
   "metadata": {},
   "outputs": [
    {
     "data": {
      "text/html": [
       "<div>\n",
       "<style scoped>\n",
       "    .dataframe tbody tr th:only-of-type {\n",
       "        vertical-align: middle;\n",
       "    }\n",
       "\n",
       "    .dataframe tbody tr th {\n",
       "        vertical-align: top;\n",
       "    }\n",
       "\n",
       "    .dataframe thead th {\n",
       "        text-align: right;\n",
       "    }\n",
       "</style>\n",
       "<table border=\"1\" class=\"dataframe\">\n",
       "  <thead>\n",
       "    <tr style=\"text-align: right;\">\n",
       "      <th>Transformed</th>\n",
       "      <th>Abs. freqence</th>\n",
       "    </tr>\n",
       "    <tr>\n",
       "      <th>First appearance</th>\n",
       "      <th></th>\n",
       "    </tr>\n",
       "  </thead>\n",
       "  <tbody>\n",
       "    <tr>\n",
       "      <th>3.286232</th>\n",
       "      <td>1</td>\n",
       "    </tr>\n",
       "    <tr>\n",
       "      <th>3.287578</th>\n",
       "      <td>1</td>\n",
       "    </tr>\n",
       "    <tr>\n",
       "      <th>3.287802</th>\n",
       "      <td>9</td>\n",
       "    </tr>\n",
       "    <tr>\n",
       "      <th>3.288026</th>\n",
       "      <td>7</td>\n",
       "    </tr>\n",
       "    <tr>\n",
       "      <th>3.288473</th>\n",
       "      <td>2</td>\n",
       "    </tr>\n",
       "    <tr>\n",
       "      <th>3.288696</th>\n",
       "      <td>2</td>\n",
       "    </tr>\n",
       "    <tr>\n",
       "      <th>3.288920</th>\n",
       "      <td>1</td>\n",
       "    </tr>\n",
       "    <tr>\n",
       "      <th>3.289366</th>\n",
       "      <td>2</td>\n",
       "    </tr>\n",
       "    <tr>\n",
       "      <th>3.289589</th>\n",
       "      <td>1</td>\n",
       "    </tr>\n",
       "    <tr>\n",
       "      <th>3.290035</th>\n",
       "      <td>1</td>\n",
       "    </tr>\n",
       "  </tbody>\n",
       "</table>\n",
       "</div>"
      ],
      "text/plain": [
       "Transformed       Abs. freqence\n",
       "First appearance               \n",
       "3.286232                      1\n",
       "3.287578                      1\n",
       "3.287802                      9\n",
       "3.288026                      7\n",
       "3.288473                      2\n",
       "3.288696                      2\n",
       "3.288920                      1\n",
       "3.289366                      2\n",
       "3.289589                      1\n",
       "3.290035                      1"
      ]
     },
     "execution_count": 13,
     "metadata": {},
     "output_type": "execute_result"
    }
   ],
   "source": [
    "pd.crosstab(index=np.log10(year),\n",
    "            columns=['Abs. freqence'],\n",
    "            colnames=['Transformed']).iloc[:10]"
   ]
  },
  {
   "cell_type": "markdown",
   "metadata": {},
   "source": [
    "Anche in questo caso l'iniettività della trasformazione assicura che le frequenze di dati originali e dati trasformati coincidono."
   ]
  },
  {
   "cell_type": "code",
   "execution_count": 14,
   "metadata": {},
   "outputs": [
    {
     "data": {
      "text/html": [
       "<div>\n",
       "<style scoped>\n",
       "    .dataframe tbody tr th:only-of-type {\n",
       "        vertical-align: middle;\n",
       "    }\n",
       "\n",
       "    .dataframe tbody tr th {\n",
       "        vertical-align: top;\n",
       "    }\n",
       "\n",
       "    .dataframe thead th {\n",
       "        text-align: right;\n",
       "    }\n",
       "</style>\n",
       "<table border=\"1\" class=\"dataframe\">\n",
       "  <thead>\n",
       "    <tr style=\"text-align: right;\">\n",
       "      <th>Original</th>\n",
       "      <th>Abs. freqence</th>\n",
       "    </tr>\n",
       "    <tr>\n",
       "      <th>First appearance</th>\n",
       "      <th></th>\n",
       "    </tr>\n",
       "  </thead>\n",
       "  <tbody>\n",
       "    <tr>\n",
       "      <th>1933.0</th>\n",
       "      <td>1</td>\n",
       "    </tr>\n",
       "    <tr>\n",
       "      <th>1939.0</th>\n",
       "      <td>1</td>\n",
       "    </tr>\n",
       "    <tr>\n",
       "      <th>1940.0</th>\n",
       "      <td>9</td>\n",
       "    </tr>\n",
       "    <tr>\n",
       "      <th>1941.0</th>\n",
       "      <td>7</td>\n",
       "    </tr>\n",
       "    <tr>\n",
       "      <th>1943.0</th>\n",
       "      <td>2</td>\n",
       "    </tr>\n",
       "    <tr>\n",
       "      <th>1944.0</th>\n",
       "      <td>2</td>\n",
       "    </tr>\n",
       "    <tr>\n",
       "      <th>1945.0</th>\n",
       "      <td>1</td>\n",
       "    </tr>\n",
       "    <tr>\n",
       "      <th>1947.0</th>\n",
       "      <td>2</td>\n",
       "    </tr>\n",
       "    <tr>\n",
       "      <th>1948.0</th>\n",
       "      <td>1</td>\n",
       "    </tr>\n",
       "    <tr>\n",
       "      <th>1950.0</th>\n",
       "      <td>1</td>\n",
       "    </tr>\n",
       "  </tbody>\n",
       "</table>\n",
       "</div>"
      ],
      "text/plain": [
       "Original          Abs. freqence\n",
       "First appearance               \n",
       "1933.0                        1\n",
       "1939.0                        1\n",
       "1940.0                        9\n",
       "1941.0                        7\n",
       "1943.0                        2\n",
       "1944.0                        2\n",
       "1945.0                        1\n",
       "1947.0                        2\n",
       "1948.0                        1\n",
       "1950.0                        1"
      ]
     },
     "execution_count": 14,
     "metadata": {},
     "output_type": "execute_result"
    }
   ],
   "source": [
    "pd.crosstab(index=year,\n",
    "            columns=['Abs. freqence'],\n",
    "            colnames=['Original']).iloc[:10]"
   ]
  },
  {
   "cell_type": "code",
   "execution_count": null,
   "metadata": {
    "collapsed": true
   },
   "outputs": [],
   "source": []
  },
  {
   "cell_type": "markdown",
   "metadata": {
    "footer": true
   },
   "source": [
    "<hr style=\"width: 90%;\" align=\"left\" />\n",
    "<span style=\"font-size: 0.8rem;\">D. Malchiodi, Superhero data science. Vol 1: probabilità e statistica: Trasformazione dei dati, 2017.</span>\n",
    "<br>\n",
    "<span style=\"font-size: 0.8rem;\">Powered by <img src=\"img/jupyter-logo.png\" style=\"height: 1rem; display: inline; margin-left: 0.5ex; margin-top: 0;\" alt=\"Jupyter Notebook\"></span>\n",
    "<div style=\"float: left; margin-top: 1ex;\">\n",
    "<img src=\"http://mirrors.creativecommons.org/presskit/icons/cc.large.png\" style=\"width: 1.5em; float: left; margin-right: 0.6ex; margin-top: 0;\">\n",
    "<img src=\"http://mirrors.creativecommons.org/presskit/icons/by.large.png\" style=\"width: 1.5em; float: left; margin-right: 0.6ex; margin-top: 0;\">\n",
    "<img src=\"http://mirrors.creativecommons.org/presskit/icons/nc.large.png\" style=\"width: 1.5em; float: left; margin-right: 0.6ex; margin-top: 0;\">\n",
    "<img src=\"http://mirrors.creativecommons.org/presskit/icons/nd.large.png\" style=\"width: 1.5em; float: left; margin-right: 0.6ex; margin-top: 0;\">\n",
    "<span style=\"font-size: 0.7rem; line-height: 0.7rem; vertical-align: middle;\">Quest'opera è distribuita con Licenza <a rel=\"license\" href=\"http://creativecommons.org/licenses/by-nc-nd/4.0/\">Creative Commons Attribuzione - Non commerciale - Non opere derivate 4.0 Internazionale</a></span>.\n",
    "</div>"
   ]
  }
 ],
 "metadata": {
  "kernelspec": {
   "display_name": "Python [default]",
   "language": "python",
   "name": "python3"
  },
  "language_info": {
   "codemirror_mode": {
    "name": "ipython",
    "version": 3
   },
   "file_extension": ".py",
   "mimetype": "text/x-python",
   "name": "python",
   "nbconvert_exporter": "python",
   "pygments_lexer": "ipython3",
   "version": "3.6.6"
  },
  "latex_envs": {
   "LaTeX_envs_menu_present": true,
   "autoclose": true,
   "autocomplete": true,
   "bibliofile": "biblio.bib",
   "cite_by": "apalike",
   "current_citInitial": 1,
   "eqLabelWithNumbers": true,
   "eqNumInitial": 1,
   "hotkeys": {
    "equation": "Ctrl-E",
    "itemize": "Ctrl-I"
   },
   "labels_anchors": false,
   "latex_user_defs": false,
   "report_style_numbering": false,
   "user_envs_cfg": false
  },
  "toc": {
   "base_numbering": 1,
   "nav_menu": {},
   "number_sections": true,
   "sideBar": false,
   "skip_h1_title": false,
   "title_cell": "Table of Contents",
   "title_sidebar": "Contents",
   "toc_cell": true,
   "toc_position": {},
   "toc_section_display": true,
   "toc_window_display": false
  }
 },
 "nbformat": 4,
 "nbformat_minor": 2
}
