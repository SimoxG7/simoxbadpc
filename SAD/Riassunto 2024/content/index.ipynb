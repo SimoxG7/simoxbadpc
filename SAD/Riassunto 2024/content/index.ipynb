{
 "cells": [
  {
   "cell_type": "markdown",
   "metadata": {},
   "source": [
    "\n",
    "\n",
    "# Statistica e analisi dei dati\n",
    "### Dario Malchiodi\n"
   ]
  },
  {
   "cell_type": "markdown",
   "metadata": {},
   "source": [
    "# [Introduzione a python](L01-Introduzione_a_python.ipynb#h-0)"
   ]
  },
  {
   "cell_type": "markdown",
   "metadata": {},
   "source": [
    "## [I tipi di dati in python](L01-Introduzione_a_python.ipynb#h-1)"
   ]
  },
  {
   "cell_type": "markdown",
   "metadata": {},
   "source": [
    "### [Le liste](L01-Introduzione_a_python.ipynb#h-2)"
   ]
  },
  {
   "cell_type": "markdown",
   "metadata": {},
   "source": [
    "### [Operatori, funzioni e metodi per le liste](L01-Introduzione_a_python.ipynb#h-3)"
   ]
  },
  {
   "cell_type": "markdown",
   "metadata": {},
   "source": [
    "### [Le tuple](L01-Introduzione_a_python.ipynb#h-4)"
   ]
  },
  {
   "cell_type": "markdown",
   "metadata": {},
   "source": [
    "### [Le stringhe](L01-Introduzione_a_python.ipynb#h-5)"
   ]
  },
  {
   "cell_type": "markdown",
   "metadata": {},
   "source": [
    "### [Gli insiemi](L01-Introduzione_a_python.ipynb#h-6)"
   ]
  },
  {
   "cell_type": "markdown",
   "metadata": {},
   "source": [
    "### [I dizionari](L01-Introduzione_a_python.ipynb#h-7)"
   ]
  },
  {
   "cell_type": "markdown",
   "metadata": {},
   "source": [
    "## [Strutture di controllo](L01-Introduzione_a_python.ipynb#h-8)"
   ]
  },
  {
   "cell_type": "markdown",
   "metadata": {},
   "source": [
    "## [Funzioni](L01-Introduzione_a_python.ipynb#h-9)"
   ]
  },
  {
   "cell_type": "markdown",
   "metadata": {},
   "source": [
    "## [Importare moduli](L01-Introduzione_a_python.ipynb#h-10)"
   ]
  },
  {
   "cell_type": "markdown",
   "metadata": {},
   "source": [
    "## [Disegnare grafici](L01-Introduzione_a_python.ipynb#h-11)"
   ]
  },
  {
   "cell_type": "markdown",
   "metadata": {},
   "source": [
    "## [Leggere dati da file (e un po' di trucchi)](L01-Introduzione_a_python.ipynb#h-12)"
   ]
  },
  {
   "cell_type": "markdown",
   "metadata": {},
   "source": [
    "# [Pandas](L02-Pandas.ipynb#h-0)"
   ]
  },
  {
   "cell_type": "markdown",
   "metadata": {},
   "source": [
    "## [Serie](L02-Pandas.ipynb#h-1)"
   ]
  },
  {
   "cell_type": "markdown",
   "metadata": {},
   "source": [
    "## [Visualizzazione grafica di una serie](L02-Pandas.ipynb#h-2)"
   ]
  },
  {
   "cell_type": "markdown",
   "metadata": {},
   "source": [
    "## [Operazioni con le serie](L02-Pandas.ipynb#h-3)"
   ]
  },
  {
   "cell_type": "markdown",
   "metadata": {},
   "source": [
    "## [Dataframe](L02-Pandas.ipynb#h-4)"
   ]
  },
  {
   "cell_type": "markdown",
   "metadata": {},
   "source": [
    "# [Dati e frequenze](L03-Dati_e_frequenze.ipynb#h-0)"
   ]
  },
  {
   "cell_type": "markdown",
   "metadata": {},
   "source": [
    "## [Dati quantitativi e qualitativi](L03-Dati_e_frequenze.ipynb#h-1)"
   ]
  },
  {
   "cell_type": "markdown",
   "metadata": {},
   "source": [
    "### [Classificazione dei dati qualitativi](L03-Dati_e_frequenze.ipynb#h-2)"
   ]
  },
  {
   "cell_type": "markdown",
   "metadata": {},
   "source": [
    "### [Classificazione dei dati quantitativi](L03-Dati_e_frequenze.ipynb#h-3)"
   ]
  },
  {
   "cell_type": "markdown",
   "metadata": {},
   "source": [
    "## [Frequenze assolute e relative e loro visualizzazione](L03-Dati_e_frequenze.ipynb#h-4)"
   ]
  },
  {
   "cell_type": "markdown",
   "metadata": {},
   "source": [
    "## [Frequenze cumulate](L03-Dati_e_frequenze.ipynb#h-5)"
   ]
  },
  {
   "cell_type": "markdown",
   "metadata": {},
   "source": [
    "### [Diagrammi di Pareto ###](L03-Dati_e_frequenze.ipynb#h-6)"
   ]
  },
  {
   "cell_type": "markdown",
   "metadata": {},
   "source": [
    "## [Frequenze congiunte e marginali](L03-Dati_e_frequenze.ipynb#h-7)"
   ]
  },
  {
   "cell_type": "markdown",
   "metadata": {},
   "source": [
    "## [Alcuni approfondimenti sulla generazione dei grafici <sup>*</sup>](L03-Dati_e_frequenze.ipynb#h-8)"
   ]
  },
  {
   "cell_type": "markdown",
   "metadata": {},
   "source": [
    "## [I diagrammi stelo-foglia <sup>*</sup>](L03-Dati_e_frequenze.ipynb#h-9)"
   ]
  },
  {
   "cell_type": "markdown",
   "metadata": {},
   "source": [
    "# [Calcolo della dispersione in pandas](L04-Indici_di_dispersione.ipynb#h-0)"
   ]
  },
  {
   "cell_type": "markdown",
   "metadata": {},
   "source": [
    "## [Indici di dispersione](L04-Indici_di_dispersione.ipynb#h-1)"
   ]
  },
  {
   "cell_type": "markdown",
   "metadata": {},
   "source": [
    "## [Box plot](L04-Indici_di_dispersione.ipynb#h-2)"
   ]
  },
  {
   "cell_type": "markdown",
   "metadata": {},
   "source": [
    "## [Diagrammi Q-Q](L04-Indici_di_dispersione.ipynb#h-3)"
   ]
  },
  {
   "cell_type": "markdown",
   "metadata": {},
   "source": [
    "## [Simmetria, distribuzioni approssimativamente normali e regola empirica](L04-Indici_di_dispersione.ipynb#h-4)"
   ]
  },
  {
   "cell_type": "markdown",
   "metadata": {},
   "source": [
    "## [Una nota sulla produzione dei grafici <sup>*</sup>](L04-Indici_di_dispersione.ipynb#h-5)"
   ]
  },
  {
   "cell_type": "markdown",
   "metadata": {},
   "source": [
    "# [Indici di eterogeneità](L05-Indici_di_eterogeneità.ipynb#h-0)"
   ]
  },
  {
   "cell_type": "markdown",
   "metadata": {},
   "source": [
    "## [Indice di eterogeneità di Gini](L05-Indici_di_eterogeneità.ipynb#h-1)"
   ]
  },
  {
   "cell_type": "markdown",
   "metadata": {},
   "source": [
    "## [Entropia](L05-Indici_di_eterogeneità.ipynb#h-2)"
   ]
  },
  {
   "cell_type": "markdown",
   "metadata": {},
   "source": [
    "## [Alberi di decisione](L05-Indici_di_eterogeneità.ipynb#h-3)"
   ]
  },
  {
   "cell_type": "markdown",
   "metadata": {},
   "source": [
    "## [Indici di concentrazione](L05-Indici_di_eterogeneità.ipynb#h-4)"
   ]
  },
  {
   "cell_type": "markdown",
   "metadata": {},
   "source": [
    "# [Trasformazione dei dati](L06-Trasformazione_dei_dati.ipynb#h-0)"
   ]
  },
  {
   "cell_type": "markdown",
   "metadata": {},
   "source": [
    "## [Trasformazioni lineari](L06-Trasformazione_dei_dati.ipynb#h-1)"
   ]
  },
  {
   "cell_type": "markdown",
   "metadata": {},
   "source": [
    "### [Cambiamento di origine (traslazione)](L06-Trasformazione_dei_dati.ipynb#h-2)"
   ]
  },
  {
   "cell_type": "markdown",
   "metadata": {},
   "source": [
    "### [Cambiamento di scala (dilatazione o contrazione)](L06-Trasformazione_dei_dati.ipynb#h-3)"
   ]
  },
  {
   "cell_type": "markdown",
   "metadata": {},
   "source": [
    "### [Cambiamento di origine e scala](L06-Trasformazione_dei_dati.ipynb#h-4)"
   ]
  },
  {
   "cell_type": "markdown",
   "metadata": {},
   "source": [
    "### [Standardizzazione](L06-Trasformazione_dei_dati.ipynb#h-5)"
   ]
  },
  {
   "cell_type": "markdown",
   "metadata": {},
   "source": [
    "### [Trasformazioni logaritmiche](L06-Trasformazione_dei_dati.ipynb#h-6)"
   ]
  },
  {
   "cell_type": "markdown",
   "metadata": {},
   "source": [
    "# [Analisi della varianza](L07-Analisi_della_varianza.ipynb#h-0)"
   ]
  },
  {
   "cell_type": "markdown",
   "metadata": {},
   "source": [
    "## [Dimostrazione <sup>*</sup>](L07-Analisi_della_varianza.ipynb#h-1)"
   ]
  },
  {
   "cell_type": "markdown",
   "metadata": {},
   "source": [
    "# [Analisi di classificatori](L08-Analisi_di_classificatori.ipynb#h-0)"
   ]
  },
  {
   "cell_type": "markdown",
   "metadata": {},
   "source": [
    "## [Sensibilità e specificità](L08-Analisi_di_classificatori.ipynb#h-1)"
   ]
  },
  {
   "cell_type": "markdown",
   "metadata": {},
   "source": [
    "### [Classificatori costanti](L08-Analisi_di_classificatori.ipynb#h-2)"
   ]
  },
  {
   "cell_type": "markdown",
   "metadata": {},
   "source": [
    "### [Classificatori ideali](L08-Analisi_di_classificatori.ipynb#h-3)"
   ]
  },
  {
   "cell_type": "markdown",
   "metadata": {},
   "source": [
    "### [Classificatori casuali](L08-Analisi_di_classificatori.ipynb#h-4)"
   ]
  },
  {
   "cell_type": "markdown",
   "metadata": {},
   "source": [
    "## [Classificatori a soglia](L08-Analisi_di_classificatori.ipynb#h-5)"
   ]
  },
  {
   "cell_type": "markdown",
   "metadata": {},
   "source": [
    "# [Calcolo combinatorio](L09-Calcolo_combinatorio.ipynb#h-0)"
   ]
  },
  {
   "cell_type": "markdown",
   "metadata": {},
   "source": [
    "## [Principio fondamentale del calcolo combinatorio](L09-Calcolo_combinatorio.ipynb#h-1)"
   ]
  },
  {
   "cell_type": "markdown",
   "metadata": {},
   "source": [
    "## [Permutazioni](L09-Calcolo_combinatorio.ipynb#h-2)"
   ]
  },
  {
   "cell_type": "markdown",
   "metadata": {},
   "source": [
    "### [Permutazioni semplici](L09-Calcolo_combinatorio.ipynb#h-3)"
   ]
  },
  {
   "cell_type": "markdown",
   "metadata": {},
   "source": [
    "### [Permutazioni di oggetti distinguibili a gruppi](L09-Calcolo_combinatorio.ipynb#h-4)"
   ]
  },
  {
   "cell_type": "markdown",
   "metadata": {},
   "source": [
    "## [Disposizioni e combinazioni](L09-Calcolo_combinatorio.ipynb#h-5)"
   ]
  },
  {
   "cell_type": "markdown",
   "metadata": {},
   "source": [
    "## [Esercizi](L09-Calcolo_combinatorio.ipynb#h-6)"
   ]
  },
  {
   "cell_type": "markdown",
   "metadata": {},
   "source": [
    "### [Esercizio 1](L09-Calcolo_combinatorio.ipynb#h-7)"
   ]
  },
  {
   "cell_type": "markdown",
   "metadata": {},
   "source": [
    "### [Esercizio 2](L09-Calcolo_combinatorio.ipynb#h-8)"
   ]
  },
  {
   "cell_type": "markdown",
   "metadata": {},
   "source": [
    "### [Esercizio 3](L09-Calcolo_combinatorio.ipynb#h-9)"
   ]
  },
  {
   "cell_type": "markdown",
   "metadata": {},
   "source": [
    "### [Esercizio 4](L09-Calcolo_combinatorio.ipynb#h-10)"
   ]
  },
  {
   "cell_type": "markdown",
   "metadata": {},
   "source": [
    "### [Esercizio 5](L09-Calcolo_combinatorio.ipynb#h-11)"
   ]
  },
  {
   "cell_type": "markdown",
   "metadata": {},
   "source": [
    "### [Esercizio 6](L09-Calcolo_combinatorio.ipynb#h-12)"
   ]
  },
  {
   "cell_type": "markdown",
   "metadata": {},
   "source": [
    "### [Esercizio 7](L09-Calcolo_combinatorio.ipynb#h-13)"
   ]
  },
  {
   "cell_type": "markdown",
   "metadata": {},
   "source": [
    "## [Generazione di disposizioni, permutazioni e combinazioni](L09-Calcolo_combinatorio.ipynb#h-14)"
   ]
  },
  {
   "cell_type": "markdown",
   "metadata": {},
   "source": [
    "# [Classificatori naive Bayes](L10-Naive_Bayes.ipynb#h-0)"
   ]
  },
  {
   "cell_type": "markdown",
   "metadata": {},
   "source": [
    "# [La distribuzione geometrica](L11-Distribuzione_geometrica.ipynb#h-0)"
   ]
  },
  {
   "cell_type": "markdown",
   "metadata": {},
   "source": [
    "# [Esercitazione di ripasso](L12-Ripasso.ipynb#h-0)"
   ]
  },
  {
   "cell_type": "markdown",
   "metadata": {},
   "source": [
    "## [Dario Malchiodi e Anna Maria Zanaboni](L12-Ripasso.ipynb#h-1)"
   ]
  },
  {
   "cell_type": "markdown",
   "metadata": {},
   "source": [
    "## [8/1/2018](L12-Ripasso.ipynb#h-2)"
   ]
  },
  {
   "cell_type": "markdown",
   "metadata": {},
   "source": [
    "### [Esercizio 1.1](L12-Ripasso.ipynb#h-3)"
   ]
  },
  {
   "cell_type": "markdown",
   "metadata": {},
   "source": [
    "### [Svolgimento](L12-Ripasso.ipynb#h-4)"
   ]
  },
  {
   "cell_type": "markdown",
   "metadata": {},
   "source": [
    "#### [Punto 1](L12-Ripasso.ipynb#h-5)"
   ]
  },
  {
   "cell_type": "markdown",
   "metadata": {},
   "source": [
    "#### [Punto 2](L12-Ripasso.ipynb#h-6)"
   ]
  },
  {
   "cell_type": "markdown",
   "metadata": {},
   "source": [
    "#### [Punto 3](L12-Ripasso.ipynb#h-7)"
   ]
  },
  {
   "cell_type": "markdown",
   "metadata": {},
   "source": [
    "### [Esercizio 1.2](L12-Ripasso.ipynb#h-8)"
   ]
  },
  {
   "cell_type": "markdown",
   "metadata": {},
   "source": [
    "### [Svolgimento](L12-Ripasso.ipynb#h-9)"
   ]
  },
  {
   "cell_type": "markdown",
   "metadata": {},
   "source": [
    "#### [Punto 1](L12-Ripasso.ipynb#h-10)"
   ]
  },
  {
   "cell_type": "markdown",
   "metadata": {},
   "source": [
    "#### [Punto 2](L12-Ripasso.ipynb#h-11)"
   ]
  },
  {
   "cell_type": "markdown",
   "metadata": {},
   "source": [
    "#### [Punto 3](L12-Ripasso.ipynb#h-12)"
   ]
  },
  {
   "cell_type": "markdown",
   "metadata": {},
   "source": [
    "### [Esercizio 1.3](L12-Ripasso.ipynb#h-13)"
   ]
  },
  {
   "cell_type": "markdown",
   "metadata": {},
   "source": [
    "### [Svolgimento](L12-Ripasso.ipynb#h-14)"
   ]
  },
  {
   "cell_type": "markdown",
   "metadata": {},
   "source": [
    "### [Esercizio 2](L12-Ripasso.ipynb#h-15)"
   ]
  },
  {
   "cell_type": "markdown",
   "metadata": {},
   "source": [
    "### [Svolgimento](L12-Ripasso.ipynb#h-16)"
   ]
  },
  {
   "cell_type": "markdown",
   "metadata": {},
   "source": [
    "#### [Punto 1](L12-Ripasso.ipynb#h-17)"
   ]
  },
  {
   "cell_type": "markdown",
   "metadata": {},
   "source": [
    "#### [Punto 2](L12-Ripasso.ipynb#h-18)"
   ]
  },
  {
   "cell_type": "markdown",
   "metadata": {},
   "source": [
    "#### [Punto 3](L12-Ripasso.ipynb#h-19)"
   ]
  },
  {
   "cell_type": "markdown",
   "metadata": {},
   "source": [
    "#### [Punto 4](L12-Ripasso.ipynb#h-20)"
   ]
  },
  {
   "cell_type": "markdown",
   "metadata": {},
   "source": [
    "#### [Punto 5](L12-Ripasso.ipynb#h-21)"
   ]
  },
  {
   "cell_type": "markdown",
   "metadata": {},
   "source": [
    "#### [Punto 6](L12-Ripasso.ipynb#h-22)"
   ]
  },
  {
   "cell_type": "markdown",
   "metadata": {},
   "source": [
    "#### [Punto 7](L12-Ripasso.ipynb#h-23)"
   ]
  },
  {
   "cell_type": "markdown",
   "metadata": {},
   "source": [
    "#### [Punto 8](L12-Ripasso.ipynb#h-24)"
   ]
  },
  {
   "cell_type": "markdown",
   "metadata": {},
   "source": [
    "#### [Punto 9](L12-Ripasso.ipynb#h-25)"
   ]
  },
  {
   "cell_type": "markdown",
   "metadata": {},
   "source": [
    "### [Esercizio 3](L12-Ripasso.ipynb#h-26)"
   ]
  },
  {
   "cell_type": "markdown",
   "metadata": {},
   "source": [
    "### [Svolgimento](L12-Ripasso.ipynb#h-27)"
   ]
  },
  {
   "cell_type": "markdown",
   "metadata": {},
   "source": [
    "#### [Punto 1](L12-Ripasso.ipynb#h-28)"
   ]
  },
  {
   "cell_type": "markdown",
   "metadata": {},
   "source": [
    "#### [Punto 2](L12-Ripasso.ipynb#h-29)"
   ]
  },
  {
   "cell_type": "markdown",
   "metadata": {},
   "source": [
    "#### [Punto 3](L12-Ripasso.ipynb#h-30)"
   ]
  },
  {
   "cell_type": "markdown",
   "metadata": {},
   "source": [
    "#### [Punto 4](L12-Ripasso.ipynb#h-31)"
   ]
  },
  {
   "cell_type": "markdown",
   "metadata": {},
   "source": [
    "#### [Punto 5](L12-Ripasso.ipynb#h-32)"
   ]
  },
  {
   "cell_type": "markdown",
   "metadata": {},
   "source": [
    "#### [Punto 6](L12-Ripasso.ipynb#h-33)"
   ]
  },
  {
   "cell_type": "markdown",
   "metadata": {},
   "source": [
    "#### [Punto 7](L12-Ripasso.ipynb#h-34)"
   ]
  },
  {
   "cell_type": "markdown",
   "metadata": {},
   "source": [
    "#### [Punto 8](L12-Ripasso.ipynb#h-35)"
   ]
  },
  {
   "cell_type": "markdown",
   "metadata": {},
   "source": [
    "#### [Punto 9](L12-Ripasso.ipynb#h-36)"
   ]
  },
  {
   "cell_type": "markdown",
   "metadata": {},
   "source": [
    "#### [Punto 10](L12-Ripasso.ipynb#h-37)"
   ]
  },
  {
   "cell_type": "markdown",
   "metadata": {},
   "source": [
    "#### [Punto 11](L12-Ripasso.ipynb#h-38)"
   ]
  },
  {
   "cell_type": "markdown",
   "metadata": {},
   "source": [
    "#### [Punto 12](L12-Ripasso.ipynb#h-39)"
   ]
  },
  {
   "cell_type": "markdown",
   "metadata": {},
   "source": [
    "#### [Punto 13](L12-Ripasso.ipynb#h-40)"
   ]
  },
  {
   "cell_type": "markdown",
   "metadata": {},
   "source": [
    "### [Esercizio 4](L12-Ripasso.ipynb#h-41)"
   ]
  },
  {
   "cell_type": "markdown",
   "metadata": {},
   "source": [
    "### [Svolgimento](L12-Ripasso.ipynb#h-42)"
   ]
  },
  {
   "cell_type": "markdown",
   "metadata": {},
   "source": [
    "#### [Punto 1](L12-Ripasso.ipynb#h-43)"
   ]
  },
  {
   "cell_type": "markdown",
   "metadata": {},
   "source": [
    "#### [Punto 2](L12-Ripasso.ipynb#h-44)"
   ]
  },
  {
   "cell_type": "markdown",
   "metadata": {},
   "source": [
    "#### [Punto 3](L12-Ripasso.ipynb#h-45)"
   ]
  }
 ],
 "metadata": {
  "kernelspec": {
   "display_name": "Python [default]",
   "language": "python",
   "name": "python3"
  },
  "language_info": {
   "codemirror_mode": {
    "name": "ipython",
    "version": 3
   },
   "file_extension": ".py",
   "mimetype": "text/x-python",
   "name": "python",
   "nbconvert_exporter": "python",
   "pygments_lexer": "ipython3",
   "version": "3.6.6"
  }
 },
 "nbformat": 4,
 "nbformat_minor": 2
}
