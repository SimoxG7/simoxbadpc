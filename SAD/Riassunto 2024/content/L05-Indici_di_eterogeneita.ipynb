{
 "cells": [
  {
   "cell_type": "markdown",
   "metadata": {
    "toc": true
   },
   "source": [
    "<h1>Table of Contents<span class=\"tocSkip\"></span></h1>\n",
    "<div class=\"toc\"><ul class=\"toc-item\"><li><span><a href=\"#Indici-di-eterogeneità\" data-toc-modified-id=\"Indici-di-eterogeneità-1\"><span class=\"toc-item-num\">1&nbsp;&nbsp;</span>Indici di eterogeneità</a></span><ul class=\"toc-item\"><li><span><a href=\"#Indice-di-eterogeneità-di-Gini\" data-toc-modified-id=\"Indice-di-eterogeneità-di-Gini-1.1\"><span class=\"toc-item-num\">1.1&nbsp;&nbsp;</span>Indice di eterogeneità di Gini</a></span></li><li><span><a href=\"#Entropia\" data-toc-modified-id=\"Entropia-1.2\"><span class=\"toc-item-num\">1.2&nbsp;&nbsp;</span>Entropia</a></span></li><li><span><a href=\"#Alberi-di-decisione\" data-toc-modified-id=\"Alberi-di-decisione-1.3\"><span class=\"toc-item-num\">1.3&nbsp;&nbsp;</span>Alberi di decisione</a></span></li><li><span><a href=\"#Indici-di-concentrazione\" data-toc-modified-id=\"Indici-di-concentrazione-1.4\"><span class=\"toc-item-num\">1.4&nbsp;&nbsp;</span>Indici di concentrazione</a></span></li></ul></li></ul></div>"
   ]
  },
  {
   "cell_type": "markdown",
   "metadata": {
    "header": true
   },
   "source": [
    "<div class=\"header\">\n",
    "D. Malchiodi, Superhero data science. Vol 1: probabilità e statistica: Indici di eterogeneità.\n",
    "</div>\n",
    "<hr style=\"width: 90%;\" align=\"left\" />"
   ]
  },
  {
   "cell_type": "markdown",
   "metadata": {},
   "source": [
    "\n",
    "\n",
    "\n",
    "\n",
    "<div id=\"h-0\"></div>\n",
    "\n",
    "# Indici di eterogeneità\n",
    "Nel caso di variabili qualitative nominali la varianza e gli altri indici da essa derivati non si possono calcolare (infatti non sono calcolabili la media né la mediana né altri valori numerici di riferimento dai quali calcolare le distanze). È comunque necessario avere un indice che misuri la dispersione della distribuzione delle frequenze, detta _eterogeneità_. In particolare diremo che una variabile si distribuisce in modo eterogeneo se ogni suo valore si presenta con la stessa frequenza.\n",
    "\n",
    "\n",
    "\n",
    "\n",
    "\n",
    "<div id=\"h-1\"></div>\n",
    "\n",
    "## Indice di eterogeneità di Gini\n",
    "Dato un campione $\\{ a_1, \\dots, a_n \\}$ in cui occorrono i valori distinti $v_1, \\dots, v_s$ e indicando con $f_i$ la frequenza relativa dell'elemento $v_i$ per $i = 1, \\dots, s$, la quantità\n",
    "\n",
    "\\begin{equation}\n",
    "        I = 1 - \\sum_{i=1}^s f_i^2\n",
    "\\end{equation}\n",
    "\n",
    "è detta _indice di eterogeneità di Gini_. Si noti che:\n",
    "\n",
    "- $0 \\leq I < 1$, in quanto:\n",
    "  - per almeno un $j$ si ha $f_j^2 > 0$ e quindi $\\sum f_i^2 > 0$, il che implica $I < 1$;\n",
    "  - per ogni $i$ si ha $f_i^2 \\leq f_i$ essendo $0 \\leq f_i \\leq 1$, e dunque $\\sum f_i^2 \\leq \\sum f_i = 1$, il che implica $ I \\geq 0$;\n",
    "- in caso di eterogeneità minima (o massima omogeneità), tutti gli elementi del campione assumono lo stesso valore, dunque esiste un solo $j$ per cui $f_j = 1$ e per ogni $i \\neq j$ si ha $f_i = 0$, pertanto $I = 1 - 1 = 0$;\n",
    "- in caso di eterogeneità massima tutte le osservazioni hanno invece la medesima frequenza $f_i = \\frac{1}{s}$, e quindi $I = 1 - \\frac{1}{s} = \\frac{s-1}{s}$.\n",
    "\n",
    "Nel caso in cui si voglia operare con un indice che assuma valori tra $0$ e $1$, è possibile dividere l'indice di Gini per il valore massimo $\\frac{s-1}{s}$, ottenendo il cosiddetto _indice di Gini normalizzato_:\n",
    "\n",
    "\\begin{equation}\n",
    "        I' = \\frac{s \\cdot I}{s-1}\n",
    "\\end{equation}\n",
    "\n",
    "Consideriamo il grafico seguente, che traccia l'andamento dell'indice di Gini nel caso di due valori distinti $v_1$ e $v_2$, di cui indicheremo rispettivamente con $f$ e $1-f$ le frequenze relative."
   ]
  },
  {
   "cell_type": "code",
   "execution_count": 27,
   "metadata": {},
   "outputs": [
    {
     "data": {
      "image/png": "[encoded data removed]",
      "text/plain": [
       "<Figure size 360x222.492 with 1 Axes>"
      ]
     },
     "metadata": {},
     "output_type": "display_data"
    }
   ],
   "source": [
    "import numpy as np\n",
    "import matplotlib.pyplot as plt\n",
    "from scipy.constants import golden\n",
    "\n",
    "plt.style.use('fivethirtyeight')\n",
    "plt.rc('figure', figsize=(5.0, 5.0/golden))\n",
    "\n",
    "def gini_2_val(f):\n",
    "    return 1 - f**2 - (1-f)**2\n",
    "\n",
    "x = np.arange(0, 1.01, .01)\n",
    "y = list(map(gini_2_val, x))\n",
    "\n",
    "plt.plot(x, y)\n",
    "plt.ylim((0, 0.55))\n",
    "plt.show()"
   ]
  },
  {
   "cell_type": "markdown",
   "metadata": {},
   "source": [
    "Il grafico evidenzia come non solo l'indice di Gini assuma valori minimo e massimo rispettivamente in corrispondenza delle situazioni di minima e massima eterogeneità nel campione, ma effettivamente si abbia una crescita graduale del valore dell'indice man mano che l'eterogeneità nel campione aumenta, seguita da una sua riduzione man mano che questa ritorna a diminuire. In altre parole, questo indice cattura effettivamente il concetto di eterogeneità traducendolo in una quantità numerica.\n",
    "\n",
    "Per calcolare il valore dell'indice di Gini per i dati contenuti in una serie è necessario calcolare le corrispondenti frequenze relative tramite `value_counts`; per elevare queste ultime al quadrato risulta utile invocare sulla serie delle frequenze il metodo `map` e poi sommare i valori ottenuti e sottrarre da 1 il risultato."
   ]
  },
  {
   "cell_type": "code",
   "execution_count": 28,
   "metadata": {},
   "outputs": [],
   "source": [
    "def gini(series):\n",
    "    return 1 - (sum(series.value_counts(normalize=True)\n",
    "                    .map(lambda f: f**2)))"
   ]
  },
  {
   "cell_type": "markdown",
   "metadata": {},
   "source": [
    "Possiamo quindi utilizzare la funzione `gini` per valutare l'eterogeneità dei valori assunti dagli attributi _Publisher_ (limitatamente a `'Marvel Comics'` e `'DC Comics'`) _Eye color_, _Hair color_ (senza considerare in entrambi i casi i valori mancanti) e per i nomi dei supereroi (ottenuti a partire dall'indice del _dataframe_). "
   ]
  },
  {
   "cell_type": "code",
   "execution_count": 29,
   "metadata": {},
   "outputs": [
    {
     "name": "stdout",
     "output_type": "stream",
     "text": [
      "0.45945353273979217\n",
      "0.77232789326401\n",
      "0.8370723950922644\n",
      "0.9985654125595816\n"
     ]
    }
   ],
   "source": [
    "import pandas as pd\n",
    "\n",
    "heroes = pd.read_csv('data/heroes.csv', sep=';', index_col=0)\n",
    "\n",
    "publisher = heroes[heroes['Publisher'].isin(['Marvel Comics', 'DC Comics'])]['Publisher']\n",
    "eye_color = heroes[pd.notnull(heroes['Eye color'])]['Eye color']\n",
    "hair_color = heroes[pd.notnull(heroes['Hair color'])]['Hair color']\n",
    "\n",
    "print(gini(publisher))\n",
    "print(gini(eye_color))\n",
    "print(gini(hair_color))\n",
    "print(gini(heroes.index))"
   ]
  },
  {
   "cell_type": "markdown",
   "metadata": {},
   "source": [
    "I risultati ottenuti ci dicono che l'attributo più omogeneo tra quelli considerati è quello relativo all'editore: ciò è dovuto al fatto che sono stati considerati solamente i due editori con il maggior numero di valori. Il nome dei supereroi risulta invece l'attributo più eterogeneo, e anche in questo caso si tratta di un risultato che ci potevamo aspettare, in quanto è ragionevole supporre che i valori assunti dal nome siano univoci. Per avere un quadro più preciso, calcoliamo anche la variante normalizzata dell'indice:"
   ]
  },
  {
   "cell_type": "code",
   "execution_count": 30,
   "metadata": {},
   "outputs": [
    {
     "name": "stdout",
     "output_type": "stream",
     "text": [
      "0.9189070654795843\n",
      "0.8059073668841843\n",
      "0.866967837774131\n",
      "0.9999600569905307\n"
     ]
    }
   ],
   "source": [
    "def generalized_gini(series):\n",
    "    freq = series.value_counts(normalize=True)\n",
    "    s = len(freq)\n",
    "    return (1 - (sum(freq.map(lambda f: f**2)))) * s / (s-1)\n",
    "\n",
    "print(generalized_gini(publisher))\n",
    "print(generalized_gini(eye_color))\n",
    "print(generalized_gini(hair_color))\n",
    "print(generalized_gini(heroes.index))"
   ]
  },
  {
   "cell_type": "markdown",
   "metadata": {},
   "source": [
    "<div id=\"h-2\"></div>\n",
    "\n",
    "## Entropia\n",
    "\n",
    "Dato un campione $\\{ a_1, \\dots, a_n \\}$ in cui occorrono i valori distinti $v_1, \\dots, v_s$ e indicando con $f_i$ la frequenza relativa dell'elemento $v_i$ per $i = 1, \\dots, s$, la quantità\n",
    "\n",
    "\\begin{equation}\n",
    "H = \\sum_{i=1}^s f_i \\log \\frac{1}{f_i} = - \\sum_{i=1}^s f_i \\log f_i\n",
    "\\end{equation}\n",
    "\n",
    "è detta _indice di entropia_ del campione.\n",
    "\n",
    "La funzione $p \\mapsto \\log \\frac{1}{p}$ è detta _autoinformazione_, e il suo andamento in $(0,1]$ è il seguente"
   ]
  },
  {
   "cell_type": "code",
   "execution_count": 5,
   "metadata": {},
   "outputs": [
    {
     "data": {
      "image/png": "[encoded data removed]",
      "text/plain": [
       "<Figure size 432x288 with 1 Axes>"
      ]
     },
     "metadata": {},
     "output_type": "display_data"
    }
   ],
   "source": [
    "x = np.arange(0.01, 1.01, 0.01)\n",
    "y = list(map(lambda f: -1 * np.log2(f), x))\n",
    "plt.plot(x, y)\n",
    "plt.show()"
   ]
  },
  {
   "cell_type": "markdown",
   "metadata": {},
   "source": [
    "In particolare la funzione vale $0$ quando $p=1$ e tende a infinito per $p$ che tende a $0$. Il grafico dell'andamento di un generico addendo dell'entropia è il seguente."
   ]
  },
  {
   "cell_type": "code",
   "execution_count": 6,
   "metadata": {},
   "outputs": [
    {
     "data": {
      "image/png": "[encoded data removed]",
      "text/plain": [
       "<Figure size 432x288 with 1 Axes>"
      ]
     },
     "metadata": {},
     "output_type": "display_data"
    }
   ],
   "source": [
    "x = np.arange(0.001, 1.01, 0.01)\n",
    "y = list(map(lambda f: -f * np.log2(f), x))\n",
    "plt.plot(x, y)\n",
    "plt.ylim(0, 0.6)\n",
    "plt.xlim(0, 1)\n",
    "plt.show()"
   ]
  },
  {
   "cell_type": "markdown",
   "metadata": {},
   "source": [
    "Il risultato ottenuto evidenzia come si possa estendere la definizione del generico addendo anche per $f_i = 0$, ponendolo uguale a $1$. Valgono inoltre le osservazioni che seguono.\n",
    "\n",
    "- Per ogni $i$ vale $- f_i \\log f_i \\geq 0$, dunque $H \\geq 0$.\n",
    "- Per ogni $i$ vale $- f_i \\log f_i = 0$ se e solo se $f_i = 0$ oppure $f_i = 1$, pertanto $H = 0$ se e solo se ci si trova in condizione di massima omogeneità (e cioè tutti gli elementi del campione assumono lo stesso valore).\n",
    "- In caso invece di massima eterogeneità si avrà $f_i=\\frac{1}{s}$ e quindi $H = \\log s$, e si può dimostrare che in tal caso l'entropia assume il valore massimo.\n",
    "\n",
    "Si può pertanto definire l'_indice di entropia normalizzato_\n",
    "\n",
    "\\begin{equation}\n",
    "H' = \\frac{H}{\\log s}\n",
    "\\end{equation}\n",
    "\n",
    "i cui valori variano tra $0$ e $1$. Se il logaritmo è in base $2$ (come nel codice che abbiamo scritto) allora l'entropia si misura in _bit_; è però possibile usare altre basi: per esempio, il logaritmo naturale e quello in base 10 corrispondono rispettivamente a due unità chiamate _nat_ e _hartley_.\n",
    "\n",
    "Analogamente a quanto visto per l'indice di Gini, è possibile visualizzare l'andamento dell'entropia nel caso di due valori possibili, mettendo in evidenza che anche questo indice tende ad aumentare all'aumentare dell'eterogeneità e a diminuire al diminuire di quest'ultima.\n"
   ]
  },
  {
   "cell_type": "code",
   "execution_count": 5,
   "metadata": {},
   "outputs": [
    {
     "data": {
      "image/png": "[encoded data removed]",
      "text/plain": [
       "<Figure size 360x222.492 with 1 Axes>"
      ]
     },
     "metadata": {},
     "output_type": "display_data"
    }
   ],
   "source": [
    "def entropy_2_val(f):\n",
    "    return 0 if f in (0, 1) else - f * np.log2(f) - (1-f) * np.log2(1-f)\n",
    "\n",
    "x = np.arange(0, 1.01, .01)\n",
    "y = list(map(entropy_2_val, x))\n",
    "plt.plot(x, y)\n",
    "plt.ylim((0, 1.1))\n",
    "plt.show()"
   ]
  },
  {
   "cell_type": "markdown",
   "metadata": {},
   "source": [
    "Calcolando il valore dell'entropia per gli attributi precedentemente considerati si verifica come non cambi il loro rapporto relativo in termini di eterogeneità."
   ]
  },
  {
   "cell_type": "code",
   "execution_count": 8,
   "metadata": {},
   "outputs": [
    {
     "name": "stdout",
     "output_type": "stream",
     "text": [
      "0.9406863895967433\n",
      "2.7454093094041547\n",
      "3.1308603347354245\n",
      "9.470566732235026\n"
     ]
    }
   ],
   "source": [
    "def entropy(series):\n",
    "    return sum((series.value_counts(normalize=True)\n",
    "                      .map(lambda f: -f * np.log2(f))))\n",
    "\n",
    "print(entropy(publisher))\n",
    "print(entropy(eye_color))\n",
    "print(entropy(hair_color))\n",
    "print(entropy(heroes.index))              "
   ]
  },
  {
   "cell_type": "markdown",
   "metadata": {},
   "source": [
    "Come nel caso precedente, calcoliamo anche la variante normalizzata dell'indice."
   ]
  },
  {
   "cell_type": "code",
   "execution_count": 6,
   "metadata": {},
   "outputs": [
    {
     "name": "stdout",
     "output_type": "stream",
     "text": [
      "0.9406863895967432\n",
      "0.5987855536380803\n",
      "0.6444776827813027\n",
      "0.9983910129552008\n"
     ]
    }
   ],
   "source": [
    "def entropy(series, normalized=False):\n",
    "    freq = series.value_counts(normalize=True)\n",
    "    e = sum((freq.map(lambda f: -f * np.log2(f))))\n",
    "    if normalized:\n",
    "        e /= np.log2(len(freq))\n",
    "    return e\n",
    "\n",
    "print(entropy(publisher, normalized=True))\n",
    "print(entropy(eye_color, normalized=True))\n",
    "print(entropy(hair_color, normalized=True))\n",
    "print(entropy(heroes.index, normalized=True))"
   ]
  },
  {
   "cell_type": "markdown",
   "metadata": {},
   "source": [
    "\n",
    "\n",
    "\n",
    "\n",
    "\n",
    "<div id=\"h-3\"></div>\n",
    "\n",
    "## Alberi di decisione\n"
   ]
  },
  {
   "cell_type": "markdown",
   "metadata": {},
   "source": [
    "Gli indici di eterogeneità sono alla base della costruzione di un interessante classificatore chiamato _albero di decisione_. Un albero di decisione assegna _oggetti_ a _classi_, dove un oggetto è descritto tramite un'osservazione che consiste, al solito, in un vettore di valori per degli attributi prefissati. Il procedimento di classificazione procede nel modo seguente: si considera la _radice_ dell'albero, cioè l'unico nodo a cui non arrivano frecce (disposto di solito in alto nella rappresentazione dell'albero), e che è contrassegnato da una condizione che coinvolge i valori di uno o più attributi per l'oggetto che si vuole classificare. A seconda del valore di questa condizione, si percorre una delle due frecce partenti dalla radice. Se il nodo a cui si arriva è un nodo terminale (una _foglia_ da cui non dipartono nuove frecce), in tale nodo è indicata la classe assegnata all'oggetto, altrimenti il nodo riporta un'altra condizione da valutare, iterando il comportamento precedente fino a che non si raggiunge una foglia e quindi si determina una classe per l'oggetto.\n",
    "\n",
    "Consideriamo per esempio l'albero riportato qui sotto, che fa riferimento a un dataset molto semplice che in funzione delle condizioni meteorologiche permette di capire se si può uscire a giocare. La radice richiede di iniziare valutando che tempo fa (attributo _Outlook_): se è nuvoloso (_overcast_) si arriva a una foglia che dice che si può uscire (_Yes_); se invece dovesse essere soleggiato viene richiesto di valutare se l'umidità abbia o meno un valore inferiore a 30; nel primo caso si potrebbe uscire, altrimenti no. Il processo di classificazione funziona in modo analogo nel caso di tempo piovoso (_rain_)."
   ]
  },
  {
   "cell_type": "markdown",
   "metadata": {},
   "source": [
    "![Esempio di albero di decisione](./img/decision-tree.png)"
   ]
  },
  {
   "cell_type": "markdown",
   "metadata": {},
   "source": [
    "La costruzione di un albero di ricerca richiede innanzitutto di individuare un indice di eterogeneità. Facciamo un esempio selezioniamo l'indice di Gini e lavorando solo con due classi: i supereroi e i supercattivi, che indicheremo rispettivamente con le etichette `good_guy` e `bad_guy`. Il fatto di avere solo due etichette possibili semplifica notevolmente il calcolo dell'indice: basterà infatti specificare la frequenza relativa $f$ di `good_guy`, così che la frequenza relativa di `bad_guy` sarà $1-f$ e l'indice di Gini assumerà il valore $1 - f^2 - (1-f)^2$: potremo quindi riutilizzare la funzione `gini_2_val` precedentemente definita."
   ]
  },
  {
   "cell_type": "markdown",
   "metadata": {},
   "source": [
    "Per mantenere l'albero di decisione di dimensioni compatte selezioniamo un numero relativamente basso di supereroi e supercattivi (la scelta è stata fatta anche in modo da non avere a che fare con valori mancanti, che avrebbero complicato il processo di calcolo dell'albero)."
   ]
  },
  {
   "cell_type": "code",
   "execution_count": 54,
   "metadata": {},
   "outputs": [],
   "source": [
    "good_guys = heroes.loc[['Wonder Woman',\n",
    "                        'Aquaman',\n",
    "                        'Cyborg',\n",
    "                        'Flash II']]\n",
    "bad_guys = heroes.loc[['Black Manta',\n",
    "                       'Penguin',\n",
    "                       'Joker',\n",
    "                       'Deathstroke',\n",
    "                       'Bizarro']]\n",
    "all_guys = pd.concat([good_guys, bad_guys])"
   ]
  },
  {
   "cell_type": "markdown",
   "metadata": {},
   "source": [
    "Estraiamo dal _dataframe_ ottenuto gli attributi corrispondenti ad altezza, peso, genere, anno di prima apparizione, colore di occhi e capelli, forza e intelligenza, in quanto i rimanenti attributi sono o identici per tutti i casi selezionati o rappresentano valori univoci."
   ]
  },
  {
   "cell_type": "code",
   "execution_count": 55,
   "metadata": {},
   "outputs": [],
   "source": [
    "features = ['Height', 'Weight', 'Gender', 'First appearance',\n",
    "            'Hair color', 'Eye color', 'Strength', 'Intelligence']\n",
    "X = all_guys[features]"
   ]
  },
  {
   "cell_type": "markdown",
   "metadata": {},
   "source": [
    "Il risultato, memorizzato in `X`, è visualizzato qui sotto."
   ]
  },
  {
   "cell_type": "code",
   "execution_count": 56,
   "metadata": {},
   "outputs": [
    {
     "data": {
      "text/html": [
       "<div>\n",
       "<style scoped>\n",
       "    .dataframe tbody tr th:only-of-type {\n",
       "        vertical-align: middle;\n",
       "    }\n",
       "\n",
       "    .dataframe tbody tr th {\n",
       "        vertical-align: top;\n",
       "    }\n",
       "\n",
       "    .dataframe thead th {\n",
       "        text-align: right;\n",
       "    }\n",
       "</style>\n",
       "<table border=\"1\" class=\"dataframe\">\n",
       "  <thead>\n",
       "    <tr style=\"text-align: right;\">\n",
       "      <th></th>\n",
       "      <th>Height</th>\n",
       "      <th>Weight</th>\n",
       "      <th>Gender</th>\n",
       "      <th>First appearance</th>\n",
       "      <th>Hair color</th>\n",
       "      <th>Eye color</th>\n",
       "      <th>Strength</th>\n",
       "      <th>Intelligence</th>\n",
       "    </tr>\n",
       "    <tr>\n",
       "      <th>Name</th>\n",
       "      <th></th>\n",
       "      <th></th>\n",
       "      <th></th>\n",
       "      <th></th>\n",
       "      <th></th>\n",
       "      <th></th>\n",
       "      <th></th>\n",
       "      <th></th>\n",
       "    </tr>\n",
       "  </thead>\n",
       "  <tbody>\n",
       "    <tr>\n",
       "      <th>Wonder Woman</th>\n",
       "      <td>183.13</td>\n",
       "      <td>74.74</td>\n",
       "      <td>F</td>\n",
       "      <td>1941.0</td>\n",
       "      <td>Black</td>\n",
       "      <td>Blue</td>\n",
       "      <td>100.0</td>\n",
       "      <td>high</td>\n",
       "    </tr>\n",
       "    <tr>\n",
       "      <th>Aquaman</th>\n",
       "      <td>185.71</td>\n",
       "      <td>146.96</td>\n",
       "      <td>M</td>\n",
       "      <td>1941.0</td>\n",
       "      <td>Blond</td>\n",
       "      <td>Blue</td>\n",
       "      <td>85.0</td>\n",
       "      <td>high</td>\n",
       "    </tr>\n",
       "    <tr>\n",
       "      <th>Cyborg</th>\n",
       "      <td>198.12</td>\n",
       "      <td>173.81</td>\n",
       "      <td>M</td>\n",
       "      <td>1980.0</td>\n",
       "      <td>Black</td>\n",
       "      <td>Brown</td>\n",
       "      <td>55.0</td>\n",
       "      <td>good</td>\n",
       "    </tr>\n",
       "    <tr>\n",
       "      <th>Flash II</th>\n",
       "      <td>183.41</td>\n",
       "      <td>88.32</td>\n",
       "      <td>M</td>\n",
       "      <td>1956.0</td>\n",
       "      <td>Blond</td>\n",
       "      <td>Blue</td>\n",
       "      <td>50.0</td>\n",
       "      <td>high</td>\n",
       "    </tr>\n",
       "    <tr>\n",
       "      <th>Black Manta</th>\n",
       "      <td>188.12</td>\n",
       "      <td>92.78</td>\n",
       "      <td>M</td>\n",
       "      <td>1967.0</td>\n",
       "      <td>No Hair</td>\n",
       "      <td>Black</td>\n",
       "      <td>30.0</td>\n",
       "      <td>good</td>\n",
       "    </tr>\n",
       "    <tr>\n",
       "      <th>Penguin</th>\n",
       "      <td>157.89</td>\n",
       "      <td>79.13</td>\n",
       "      <td>M</td>\n",
       "      <td>1941.0</td>\n",
       "      <td>Black</td>\n",
       "      <td>Blue</td>\n",
       "      <td>10.0</td>\n",
       "      <td>good</td>\n",
       "    </tr>\n",
       "    <tr>\n",
       "      <th>Joker</th>\n",
       "      <td>196.07</td>\n",
       "      <td>86.91</td>\n",
       "      <td>M</td>\n",
       "      <td>1940.0</td>\n",
       "      <td>Green</td>\n",
       "      <td>Green</td>\n",
       "      <td>10.0</td>\n",
       "      <td>high</td>\n",
       "    </tr>\n",
       "    <tr>\n",
       "      <th>Deathstroke</th>\n",
       "      <td>193.87</td>\n",
       "      <td>101.98</td>\n",
       "      <td>M</td>\n",
       "      <td>1980.0</td>\n",
       "      <td>White</td>\n",
       "      <td>Blue</td>\n",
       "      <td>30.0</td>\n",
       "      <td>good</td>\n",
       "    </tr>\n",
       "    <tr>\n",
       "      <th>Bizarro</th>\n",
       "      <td>191.00</td>\n",
       "      <td>155.57</td>\n",
       "      <td>M</td>\n",
       "      <td>1958.0</td>\n",
       "      <td>Black</td>\n",
       "      <td>Black</td>\n",
       "      <td>95.0</td>\n",
       "      <td>moderate</td>\n",
       "    </tr>\n",
       "  </tbody>\n",
       "</table>\n",
       "</div>"
      ],
      "text/plain": [
       "              Height  Weight Gender  First appearance Hair color Eye color  \\\n",
       "Name                                                                         \n",
       "Wonder Woman  183.13   74.74      F            1941.0      Black      Blue   \n",
       "Aquaman       185.71  146.96      M            1941.0      Blond      Blue   \n",
       "Cyborg        198.12  173.81      M            1980.0      Black     Brown   \n",
       "Flash II      183.41   88.32      M            1956.0      Blond      Blue   \n",
       "Black Manta   188.12   92.78      M            1967.0    No Hair     Black   \n",
       "Penguin       157.89   79.13      M            1941.0      Black      Blue   \n",
       "Joker         196.07   86.91      M            1940.0      Green     Green   \n",
       "Deathstroke   193.87  101.98      M            1980.0      White      Blue   \n",
       "Bizarro       191.00  155.57      M            1958.0      Black     Black   \n",
       "\n",
       "              Strength Intelligence  \n",
       "Name                                 \n",
       "Wonder Woman     100.0         high  \n",
       "Aquaman           85.0         high  \n",
       "Cyborg            55.0         good  \n",
       "Flash II          50.0         high  \n",
       "Black Manta       30.0         good  \n",
       "Penguin           10.0         good  \n",
       "Joker             10.0         high  \n",
       "Deathstroke       30.0         good  \n",
       "Bizarro           95.0     moderate  "
      ]
     },
     "execution_count": 56,
     "metadata": {},
     "output_type": "execute_result"
    }
   ],
   "source": [
    "X"
   ]
  },
  {
   "cell_type": "markdown",
   "metadata": {},
   "source": [
    "In corrispondenza di ogni osservazione in `X` è poi necessario indicare la relativa etichetta. Per comodità è meglio organizzare queste etichette in un _dataframe_ separato che si può costruire facilmente: siccome i primi quattro elementi di `X` rappresentano supereroi mentre i rimanenti elementi rappresentano supercattivi, è sufficiente fondere insieme due _dataframe_ dei quali il primo contiene tante copie dell'etichetta `good_guy` quanti sono i supereroi e il secondo è costruito in modo analogo ma considerando i supercattivi."
   ]
  },
  {
   "cell_type": "code",
   "execution_count": 57,
   "metadata": {},
   "outputs": [],
   "source": [
    "Y = pd.concat([pd.DataFrame(['good guy'] * len(good_guys),\n",
    "                            index=good_guys.index),\n",
    "               pd.DataFrame(['bad guy'] * len(bad_guys),\n",
    "                            index=bad_guys.index)])"
   ]
  },
  {
   "cell_type": "markdown",
   "metadata": {},
   "source": [
    "Ora che abbiamo organizzato i dati a disposizione, è necessario decidere la condizione da inserire nella radice dell'albero. La scelta viene fatta considerando una serie di possibili condizioni, valutando per ognuna il modo in cui i dati risulterebbero suddivisi nei due nodi sottostanti la radice. Consideriamo, per esempio, una condizione che valuti se l'attributo _Strength_ assume un valore minore o uguale a 40 e visualizziamo le etichette delle osservazioni che soddisfano tale condizione."
   ]
  },
  {
   "cell_type": "code",
   "execution_count": 58,
   "metadata": {},
   "outputs": [
    {
     "data": {
      "text/html": [
       "<div>\n",
       "<style scoped>\n",
       "    .dataframe tbody tr th:only-of-type {\n",
       "        vertical-align: middle;\n",
       "    }\n",
       "\n",
       "    .dataframe tbody tr th {\n",
       "        vertical-align: top;\n",
       "    }\n",
       "\n",
       "    .dataframe thead th {\n",
       "        text-align: right;\n",
       "    }\n",
       "</style>\n",
       "<table border=\"1\" class=\"dataframe\">\n",
       "  <thead>\n",
       "    <tr style=\"text-align: right;\">\n",
       "      <th></th>\n",
       "      <th>0</th>\n",
       "    </tr>\n",
       "    <tr>\n",
       "      <th>Name</th>\n",
       "      <th></th>\n",
       "    </tr>\n",
       "  </thead>\n",
       "  <tbody>\n",
       "    <tr>\n",
       "      <th>Black Manta</th>\n",
       "      <td>bad guy</td>\n",
       "    </tr>\n",
       "    <tr>\n",
       "      <th>Penguin</th>\n",
       "      <td>bad guy</td>\n",
       "    </tr>\n",
       "    <tr>\n",
       "      <th>Joker</th>\n",
       "      <td>bad guy</td>\n",
       "    </tr>\n",
       "    <tr>\n",
       "      <th>Deathstroke</th>\n",
       "      <td>bad guy</td>\n",
       "    </tr>\n",
       "  </tbody>\n",
       "</table>\n",
       "</div>"
      ],
      "text/plain": [
       "                   0\n",
       "Name                \n",
       "Black Manta  bad guy\n",
       "Penguin      bad guy\n",
       "Joker        bad guy\n",
       "Deathstroke  bad guy"
      ]
     },
     "execution_count": 58,
     "metadata": {},
     "output_type": "execute_result"
    }
   ],
   "source": [
    "Y[X['Strength'] <= 40]"
   ]
  },
  {
   "cell_type": "markdown",
   "metadata": {},
   "source": [
    "Il risultato è molto interessante in quanto le etichette sono tutte uguali, e quindi l'eventuale nodo successivo nell'albero sarebbe una foglia che etichetta i casi come `bad_guy`. Le cose cambiano, sebbene poco, se consideriamo le osservazioni che non soddisfano la condizione."
   ]
  },
  {
   "cell_type": "code",
   "execution_count": 59,
   "metadata": {},
   "outputs": [
    {
     "data": {
      "text/html": [
       "<div>\n",
       "<style scoped>\n",
       "    .dataframe tbody tr th:only-of-type {\n",
       "        vertical-align: middle;\n",
       "    }\n",
       "\n",
       "    .dataframe tbody tr th {\n",
       "        vertical-align: top;\n",
       "    }\n",
       "\n",
       "    .dataframe thead th {\n",
       "        text-align: right;\n",
       "    }\n",
       "</style>\n",
       "<table border=\"1\" class=\"dataframe\">\n",
       "  <thead>\n",
       "    <tr style=\"text-align: right;\">\n",
       "      <th></th>\n",
       "      <th>0</th>\n",
       "    </tr>\n",
       "    <tr>\n",
       "      <th>Name</th>\n",
       "      <th></th>\n",
       "    </tr>\n",
       "  </thead>\n",
       "  <tbody>\n",
       "    <tr>\n",
       "      <th>Wonder Woman</th>\n",
       "      <td>good guy</td>\n",
       "    </tr>\n",
       "    <tr>\n",
       "      <th>Aquaman</th>\n",
       "      <td>good guy</td>\n",
       "    </tr>\n",
       "    <tr>\n",
       "      <th>Cyborg</th>\n",
       "      <td>good guy</td>\n",
       "    </tr>\n",
       "    <tr>\n",
       "      <th>Flash II</th>\n",
       "      <td>good guy</td>\n",
       "    </tr>\n",
       "    <tr>\n",
       "      <th>Bizarro</th>\n",
       "      <td>bad guy</td>\n",
       "    </tr>\n",
       "  </tbody>\n",
       "</table>\n",
       "</div>"
      ],
      "text/plain": [
       "                     0\n",
       "Name                  \n",
       "Wonder Woman  good guy\n",
       "Aquaman       good guy\n",
       "Cyborg        good guy\n",
       "Flash II      good guy\n",
       "Bizarro        bad guy"
      ]
     },
     "execution_count": 59,
     "metadata": {},
     "output_type": "execute_result"
    }
   ],
   "source": [
    "Y[X['Strength'] > 40]"
   ]
  },
  {
   "cell_type": "markdown",
   "metadata": {},
   "source": [
    "In questo caso infatti vi è un solo caso di `bad_guy` e tutte le osservazioni rimanenti sono relative a `good_guy`. In altre parole, la condizione considerata è buona in quanto suddivide le osservazioni in due gruppi che tendono a essere omogenei rispetto all'etichetta assunta. Si può quindi utilizzare l'indice di Gini per quantificare quanto sia buona l'omogeneità: più l'indice sarà basso, più le osservazioni saranno omogenee. È dunque necessario calcolare la frequenza relativa delle due etichette nei due gruppi. Il calcolo di queste frequenze si può fare invocando `value_counts` sull'unica serie dei _dataframe_ coinvolti. Una volta ottenuta la frequenza relativa di una delle due etichette è poi possibile calcolare il valore dell'indice di Gini. Per esempio, concentrandosi sul gruppo di casi per cui la forza è minore o uguale a 40 e ragionando in termini della frequenza di `'bad guy'` si otterrebbe il risultato seguente."
   ]
  },
  {
   "cell_type": "code",
   "execution_count": 60,
   "metadata": {},
   "outputs": [
    {
     "data": {
      "text/plain": [
       "0.0"
      ]
     },
     "execution_count": 60,
     "metadata": {},
     "output_type": "execute_result"
    }
   ],
   "source": [
    "freq = Y[X['Strength'] <= 40][0].value_counts(normalize=True)\n",
    "freq_bad = freq['bad guy']\n",
    "gini_left = gini_2_val(freq_bad)\n",
    "gini_left"
   ]
  },
  {
   "cell_type": "markdown",
   "metadata": {},
   "source": [
    "Il valore dell'indice per il rimanente gruppo di casi si ottiene in modo analogo."
   ]
  },
  {
   "cell_type": "code",
   "execution_count": 61,
   "metadata": {},
   "outputs": [
    {
     "data": {
      "text/plain": [
       "0.31999999999999984"
      ]
     },
     "execution_count": 61,
     "metadata": {},
     "output_type": "execute_result"
    }
   ],
   "source": [
    "freq = Y[X['Strength'] > 40][0].value_counts(normalize=True)\n",
    "freq_bad = freq['bad guy']\n",
    "gini_right = gini_2_val(freq_bad)\n",
    "gini_right"
   ]
  },
  {
   "cell_type": "markdown",
   "metadata": {},
   "source": [
    "Per combinare insieme i due indici al fine di esprimere in un unico valore l'omogeneità media dei casi suddivisi nei sottogruppi si calcola una loro media, pesata in funzione della numerosità dei sottogruppi stessi."
   ]
  },
  {
   "cell_type": "code",
   "execution_count": 62,
   "metadata": {},
   "outputs": [
    {
     "data": {
      "text/plain": [
       "0.1777777777777777"
      ]
     },
     "execution_count": 62,
     "metadata": {},
     "output_type": "execute_result"
    }
   ],
   "source": [
    "weight_left = len(Y[X['Strength'] <= 40]) / len(Y)\n",
    "weight_right = len(Y[X['Strength'] > 40]) / len(Y)\n",
    "gini_left * weight_left + gini_right * weight_right"
   ]
  },
  {
   "cell_type": "markdown",
   "metadata": {},
   "source": [
    "Tirando le somme, utilizzando la domanda: \"la forza è minore o uguale a 40?\" come criterio per la radice dell'albero si otterrebbe una suddivisione dei dati a disposizione in due gruppi con un'eterogeneità media pari a circa 0.17. Possiamo ora mantenere fisso l'attributo e considerare valori diversi per la soglia, al fine di trovare il valore che minimizza l'indice di Gini medio (e quindi corrisponde al caso di migliore omogeneità). Attrezziamoci per effettuare questo calcolo indipendentemente dalla scelta dell'attributo, del valore di soglia e dell'indice di eterogeneità."
   ]
  },
  {
   "cell_type": "code",
   "execution_count": 63,
   "metadata": {},
   "outputs": [],
   "source": [
    "def split_value(attribute, value, index):\n",
    "    freq = (Y[X[attribute] <= value])[0].value_counts(normalize=True)\n",
    "    freq_bad = freq['bad guy']\n",
    "    index_left = index(freq_bad)\n",
    "    weight_left = len(Y[X[attribute] <= value]) / len(Y)\n",
    "    freq = (Y[X[attribute] > value])[0].value_counts(normalize=True)\n",
    "    freq_bad = freq['bad guy']\n",
    "    index_right = index(freq_bad)\n",
    "    weight_right = len(Y[X[attribute] > value]) / len(Y)\n",
    "    return index_left * weight_left + index_right * weight_right"
   ]
  },
  {
   "cell_type": "markdown",
   "metadata": {},
   "source": [
    "Ovviamente utilizzando la funzione `split_value` otteniamo lo stesso risultato se riconsideriamo una suddivisione in gruppi basata sulla soglia 40 per la forza."
   ]
  },
  {
   "cell_type": "code",
   "execution_count": 64,
   "metadata": {},
   "outputs": [
    {
     "data": {
      "text/plain": [
       "0.1777777777777777"
      ]
     },
     "execution_count": 64,
     "metadata": {},
     "output_type": "execute_result"
    }
   ],
   "source": [
    "split_value('Strength', 40, gini_2_val)"
   ]
  },
  {
   "cell_type": "markdown",
   "metadata": {},
   "source": [
    "Ora siamo però in grado di effettuare in modo automatico lo stesso calcolo al variare dei possibili valori per la soglia."
   ]
  },
  {
   "cell_type": "code",
   "execution_count": 65,
   "metadata": {},
   "outputs": [
    {
     "data": {
      "image/png": "[encoded data removed]",
      "text/plain": [
       "<Figure size 360x222.492 with 1 Axes>"
      ]
     },
     "metadata": {},
     "output_type": "display_data"
    }
   ],
   "source": [
    "x_vals = range(10, 90)\n",
    "\n",
    "plt.plot(x_vals,\n",
    "         list(map(lambda v: split_value('Strength', v, gini_2_val),\n",
    "                  x_vals)))\n",
    "plt.show()"
   ]
  },
  {
   "cell_type": "markdown",
   "metadata": {},
   "source": [
    "I risultati ottenuti ci dicono che un qualsiasi valore tra 30 e 49 massimizza l'omogeneità dei due sottogruppi generati. Avremmo ottenuto un risultato simile se come indice di eterogeneità avessimo utilizzato l'entropia."
   ]
  },
  {
   "cell_type": "code",
   "execution_count": 66,
   "metadata": {},
   "outputs": [
    {
     "data": {
      "image/png": "[encoded data removed]",
      "text/plain": [
       "<Figure size 360x222.492 with 1 Axes>"
      ]
     },
     "metadata": {},
     "output_type": "display_data"
    }
   ],
   "source": [
    "plt.plot(x_vals,\n",
    "         list(map(lambda v: split_value('Strength', v, entropy_2_val),\n",
    "                  x_vals)))\n",
    "plt.ylim(0.35, 1.1)\n",
    "plt.show()"
   ]
  },
  {
   "cell_type": "markdown",
   "metadata": {},
   "source": [
    "Per proseguire con la creazione dell'albero di decisione bisognerebbe applicare nuovamente il processo di ottimizzazione al gruppo che non ha omogeneità massima. In realtà esistono già delle implementazioni che si occupano di costruire gli alberi di decisione: noi faremo riferimento alla libreria `sklearn`. Nonostante il calcolo degli indici di eterogeneità si possa effettuare anche su attributi a valori categorici, questa libreria richiede che i dati siano espressi utilizzando esclusivamente valori numerici. È dunque necessario convertire in numeri tutte le etichette categoriche. Questo procedimento può essere fatto automaticamente utilizzando gli oggetti della classe `LabelEncoder`, che una volta creati generano automaticamente il mapping tra etichette e valori numerici utilizzando il metodo `fit` a cui viene passato l'insieme delle osservazioni da convertire."
   ]
  },
  {
   "cell_type": "code",
   "execution_count": 67,
   "metadata": {},
   "outputs": [],
   "source": [
    "from sklearn.preprocessing import LabelEncoder\n",
    "\n",
    "gender_encoder = LabelEncoder()\n",
    "gender_encoder.fit(all_guys['Gender'])\n",
    "\n",
    "eye_col_encoder = LabelEncoder()\n",
    "eye_col_encoder.fit(all_guys['Eye color'])\n",
    "\n",
    "hair_col_encoder = LabelEncoder()\n",
    "hair_col_encoder.fit(all_guys['Hair color'])\n",
    "\n",
    "intelligence_encoder = LabelEncoder()\n",
    "_ = intelligence_encoder.fit(all_guys['Intelligence'])"
   ]
  },
  {
   "cell_type": "markdown",
   "metadata": {},
   "source": [
    "Una volta determinato questo mapping, il metodo `transform` lo utilizza per convertire la serie corrispondente."
   ]
  },
  {
   "cell_type": "code",
   "execution_count": 68,
   "metadata": {},
   "outputs": [],
   "source": [
    "all_guys['Gender'] = gender_encoder.transform(all_guys['Gender'])\n",
    "all_guys['Eye color'] = eye_col_encoder.transform(all_guys['Eye color'])\n",
    "all_guys['Hair color'] = hair_col_encoder.transform(all_guys['Hair color'])\n",
    "all_guys['Intelligence'] = intelligence_encoder.transform(all_guys['Intelligence'])"
   ]
  },
  {
   "cell_type": "markdown",
   "metadata": {},
   "source": [
    "<div class=\"alert alert-info\">\n",
    "La cella precedente mostra come sia possibile _modificare_ i contenuti di una colonna in un _dataframe_. Utilizzando una sintassi analoga è anche possibile _aggiungere_ a un _dataframe_ esistente una o più colonne.\n",
    "</div>\n",
    "\n",
    "Possiamo ora visualizzare il nuovo _dataframe_, ora composto solo da valori numerici, limitatamente agli attributi cui siamo interessati."
   ]
  },
  {
   "cell_type": "code",
   "execution_count": 69,
   "metadata": {},
   "outputs": [
    {
     "data": {
      "text/html": [
       "<div>\n",
       "<style scoped>\n",
       "    .dataframe tbody tr th:only-of-type {\n",
       "        vertical-align: middle;\n",
       "    }\n",
       "\n",
       "    .dataframe tbody tr th {\n",
       "        vertical-align: top;\n",
       "    }\n",
       "\n",
       "    .dataframe thead th {\n",
       "        text-align: right;\n",
       "    }\n",
       "</style>\n",
       "<table border=\"1\" class=\"dataframe\">\n",
       "  <thead>\n",
       "    <tr style=\"text-align: right;\">\n",
       "      <th></th>\n",
       "      <th>Height</th>\n",
       "      <th>Weight</th>\n",
       "      <th>Gender</th>\n",
       "      <th>First appearance</th>\n",
       "      <th>Hair color</th>\n",
       "      <th>Eye color</th>\n",
       "      <th>Strength</th>\n",
       "      <th>Intelligence</th>\n",
       "    </tr>\n",
       "    <tr>\n",
       "      <th>Name</th>\n",
       "      <th></th>\n",
       "      <th></th>\n",
       "      <th></th>\n",
       "      <th></th>\n",
       "      <th></th>\n",
       "      <th></th>\n",
       "      <th></th>\n",
       "      <th></th>\n",
       "    </tr>\n",
       "  </thead>\n",
       "  <tbody>\n",
       "    <tr>\n",
       "      <th>Wonder Woman</th>\n",
       "      <td>183.13</td>\n",
       "      <td>74.74</td>\n",
       "      <td>0</td>\n",
       "      <td>1941.0</td>\n",
       "      <td>0</td>\n",
       "      <td>1</td>\n",
       "      <td>100.0</td>\n",
       "      <td>1</td>\n",
       "    </tr>\n",
       "    <tr>\n",
       "      <th>Aquaman</th>\n",
       "      <td>185.71</td>\n",
       "      <td>146.96</td>\n",
       "      <td>1</td>\n",
       "      <td>1941.0</td>\n",
       "      <td>1</td>\n",
       "      <td>1</td>\n",
       "      <td>85.0</td>\n",
       "      <td>1</td>\n",
       "    </tr>\n",
       "    <tr>\n",
       "      <th>Cyborg</th>\n",
       "      <td>198.12</td>\n",
       "      <td>173.81</td>\n",
       "      <td>1</td>\n",
       "      <td>1980.0</td>\n",
       "      <td>0</td>\n",
       "      <td>2</td>\n",
       "      <td>55.0</td>\n",
       "      <td>0</td>\n",
       "    </tr>\n",
       "    <tr>\n",
       "      <th>Flash II</th>\n",
       "      <td>183.41</td>\n",
       "      <td>88.32</td>\n",
       "      <td>1</td>\n",
       "      <td>1956.0</td>\n",
       "      <td>1</td>\n",
       "      <td>1</td>\n",
       "      <td>50.0</td>\n",
       "      <td>1</td>\n",
       "    </tr>\n",
       "    <tr>\n",
       "      <th>Black Manta</th>\n",
       "      <td>188.12</td>\n",
       "      <td>92.78</td>\n",
       "      <td>1</td>\n",
       "      <td>1967.0</td>\n",
       "      <td>3</td>\n",
       "      <td>0</td>\n",
       "      <td>30.0</td>\n",
       "      <td>0</td>\n",
       "    </tr>\n",
       "    <tr>\n",
       "      <th>Penguin</th>\n",
       "      <td>157.89</td>\n",
       "      <td>79.13</td>\n",
       "      <td>1</td>\n",
       "      <td>1941.0</td>\n",
       "      <td>0</td>\n",
       "      <td>1</td>\n",
       "      <td>10.0</td>\n",
       "      <td>0</td>\n",
       "    </tr>\n",
       "    <tr>\n",
       "      <th>Joker</th>\n",
       "      <td>196.07</td>\n",
       "      <td>86.91</td>\n",
       "      <td>1</td>\n",
       "      <td>1940.0</td>\n",
       "      <td>2</td>\n",
       "      <td>3</td>\n",
       "      <td>10.0</td>\n",
       "      <td>1</td>\n",
       "    </tr>\n",
       "    <tr>\n",
       "      <th>Deathstroke</th>\n",
       "      <td>193.87</td>\n",
       "      <td>101.98</td>\n",
       "      <td>1</td>\n",
       "      <td>1980.0</td>\n",
       "      <td>4</td>\n",
       "      <td>1</td>\n",
       "      <td>30.0</td>\n",
       "      <td>0</td>\n",
       "    </tr>\n",
       "    <tr>\n",
       "      <th>Bizarro</th>\n",
       "      <td>191.00</td>\n",
       "      <td>155.57</td>\n",
       "      <td>1</td>\n",
       "      <td>1958.0</td>\n",
       "      <td>0</td>\n",
       "      <td>0</td>\n",
       "      <td>95.0</td>\n",
       "      <td>2</td>\n",
       "    </tr>\n",
       "  </tbody>\n",
       "</table>\n",
       "</div>"
      ],
      "text/plain": [
       "              Height  Weight  Gender  First appearance  Hair color  Eye color  \\\n",
       "Name                                                                            \n",
       "Wonder Woman  183.13   74.74       0            1941.0           0          1   \n",
       "Aquaman       185.71  146.96       1            1941.0           1          1   \n",
       "Cyborg        198.12  173.81       1            1980.0           0          2   \n",
       "Flash II      183.41   88.32       1            1956.0           1          1   \n",
       "Black Manta   188.12   92.78       1            1967.0           3          0   \n",
       "Penguin       157.89   79.13       1            1941.0           0          1   \n",
       "Joker         196.07   86.91       1            1940.0           2          3   \n",
       "Deathstroke   193.87  101.98       1            1980.0           4          1   \n",
       "Bizarro       191.00  155.57       1            1958.0           0          0   \n",
       "\n",
       "              Strength  Intelligence  \n",
       "Name                                  \n",
       "Wonder Woman     100.0             1  \n",
       "Aquaman           85.0             1  \n",
       "Cyborg            55.0             0  \n",
       "Flash II          50.0             1  \n",
       "Black Manta       30.0             0  \n",
       "Penguin           10.0             0  \n",
       "Joker             10.0             1  \n",
       "Deathstroke       30.0             0  \n",
       "Bizarro           95.0             2  "
      ]
     },
     "execution_count": 69,
     "metadata": {},
     "output_type": "execute_result"
    }
   ],
   "source": [
    "X = all_guys[features]\n",
    "X"
   ]
  },
  {
   "cell_type": "markdown",
   "metadata": {},
   "source": [
    "Usando questo _dataframe_ modificato è possibile utilizzare un oggetto della classe `DecisionTreeClassifier` per costruire l'albero di decisione, passando al metodo `fit` i _dataframe_ che descrivono rispettivamente i supereroi e le loro etichette."
   ]
  },
  {
   "cell_type": "code",
   "execution_count": 70,
   "metadata": {},
   "outputs": [],
   "source": [
    "from sklearn import tree\n",
    "\n",
    "clf = tree.DecisionTreeClassifier()\n",
    "clf = clf.fit(X, Y)"
   ]
  },
  {
   "cell_type": "markdown",
   "metadata": {},
   "source": [
    "Una volta costruito, sull'oggetto corrispondente all'albero è possibile invocare il metodo `predict` per verificare quale etichetta venga associata agli oggetti di partenza."
   ]
  },
  {
   "cell_type": "code",
   "execution_count": 71,
   "metadata": {},
   "outputs": [
    {
     "data": {
      "text/plain": [
       "array(['good guy', 'good guy', 'good guy', 'good guy', 'bad guy',\n",
       "       'bad guy', 'bad guy', 'bad guy', 'bad guy'], dtype=object)"
      ]
     },
     "execution_count": 71,
     "metadata": {},
     "output_type": "execute_result"
    }
   ],
   "source": [
    "predictions = clf.predict([X.loc[name] for name in X.index])\n",
    "predictions"
   ]
  },
  {
   "cell_type": "markdown",
   "metadata": {},
   "source": [
    "È inoltre possibile visualizzare l'albero di decisione in forma grafica, utilizzando la libreria `graphviz`."
   ]
  },
  {
   "cell_type": "code",
   "execution_count": 72,
   "metadata": {},
   "outputs": [
    {
     "data": {
      "image/svg+xml": [
       "<?xml version=\"1.0\" encoding=\"UTF-8\" standalone=\"no\"?>\n",
       "<!DOCTYPE svg PUBLIC \"-//W3C//DTD SVG 1.1//EN\"\n",
       " \"http://www.w3.org/Graphics/SVG/1.1/DTD/svg11.dtd\">\n",
       "<!-- Generated by graphviz version 2.40.1 (20161225.0304)\n",
       " -->\n",
       "<!-- Title: Tree Pages: 1 -->\n",
       "<svg width=\"300pt\" height=\"314pt\"\n",
       " viewBox=\"0.00 0.00 300.00 314.00\" xmlns=\"http://www.w3.org/2000/svg\" xmlns:xlink=\"http://www.w3.org/1999/xlink\">\n",
       "<g id=\"graph0\" class=\"graph\" transform=\"scale(1 1) rotate(0) translate(4 310)\">\n",
       "<title>Tree</title>\n",
       "<polygon fill=\"#ffffff\" stroke=\"transparent\" points=\"-4,4 -4,-310 296,-310 296,4 -4,4\"/>\n",
       "<!-- 0 -->\n",
       "<g id=\"node1\" class=\"node\">\n",
       "<title>0</title>\n",
       "<polygon fill=\"none\" stroke=\"#000000\" points=\"168,-306 58,-306 58,-223 168,-223 168,-306\"/>\n",
       "<text text-anchor=\"middle\" x=\"113\" y=\"-290.8\" font-family=\"Times,serif\" font-size=\"14.00\" fill=\"#000000\">Strength &lt;= 40.0</text>\n",
       "<text text-anchor=\"middle\" x=\"113\" y=\"-275.8\" font-family=\"Times,serif\" font-size=\"14.00\" fill=\"#000000\">gini = 0.494</text>\n",
       "<text text-anchor=\"middle\" x=\"113\" y=\"-260.8\" font-family=\"Times,serif\" font-size=\"14.00\" fill=\"#000000\">samples = 9</text>\n",
       "<text text-anchor=\"middle\" x=\"113\" y=\"-245.8\" font-family=\"Times,serif\" font-size=\"14.00\" fill=\"#000000\">value = [5, 4]</text>\n",
       "<text text-anchor=\"middle\" x=\"113\" y=\"-230.8\" font-family=\"Times,serif\" font-size=\"14.00\" fill=\"#000000\">class = bad guy</text>\n",
       "</g>\n",
       "<!-- 1 -->\n",
       "<g id=\"node2\" class=\"node\">\n",
       "<title>1</title>\n",
       "<polygon fill=\"none\" stroke=\"#000000\" points=\"102,-179.5 0,-179.5 0,-111.5 102,-111.5 102,-179.5\"/>\n",
       "<text text-anchor=\"middle\" x=\"51\" y=\"-164.3\" font-family=\"Times,serif\" font-size=\"14.00\" fill=\"#000000\">gini = 0.0</text>\n",
       "<text text-anchor=\"middle\" x=\"51\" y=\"-149.3\" font-family=\"Times,serif\" font-size=\"14.00\" fill=\"#000000\">samples = 4</text>\n",
       "<text text-anchor=\"middle\" x=\"51\" y=\"-134.3\" font-family=\"Times,serif\" font-size=\"14.00\" fill=\"#000000\">value = [4, 0]</text>\n",
       "<text text-anchor=\"middle\" x=\"51\" y=\"-119.3\" font-family=\"Times,serif\" font-size=\"14.00\" fill=\"#000000\">class = bad guy</text>\n",
       "</g>\n",
       "<!-- 0&#45;&gt;1 -->\n",
       "<g id=\"edge1\" class=\"edge\">\n",
       "<title>0&#45;&gt;1</title>\n",
       "<path fill=\"none\" stroke=\"#000000\" d=\"M91.3154,-222.8796C85.5864,-211.8835 79.3894,-199.9893 73.6126,-188.9015\"/>\n",
       "<polygon fill=\"#000000\" stroke=\"#000000\" points=\"76.603,-187.0662 68.8784,-179.8149 70.395,-190.3007 76.603,-187.0662\"/>\n",
       "<text text-anchor=\"middle\" x=\"62.8709\" y=\"-195.1914\" font-family=\"Times,serif\" font-size=\"14.00\" fill=\"#000000\">True</text>\n",
       "</g>\n",
       "<!-- 2 -->\n",
       "<g id=\"node3\" class=\"node\">\n",
       "<title>2</title>\n",
       "<polygon fill=\"none\" stroke=\"#000000\" points=\"230,-187 120,-187 120,-104 230,-104 230,-187\"/>\n",
       "<text text-anchor=\"middle\" x=\"175\" y=\"-171.8\" font-family=\"Times,serif\" font-size=\"14.00\" fill=\"#000000\">Eye color &lt;= 0.5</text>\n",
       "<text text-anchor=\"middle\" x=\"175\" y=\"-156.8\" font-family=\"Times,serif\" font-size=\"14.00\" fill=\"#000000\">gini = 0.32</text>\n",
       "<text text-anchor=\"middle\" x=\"175\" y=\"-141.8\" font-family=\"Times,serif\" font-size=\"14.00\" fill=\"#000000\">samples = 5</text>\n",
       "<text text-anchor=\"middle\" x=\"175\" y=\"-126.8\" font-family=\"Times,serif\" font-size=\"14.00\" fill=\"#000000\">value = [1, 4]</text>\n",
       "<text text-anchor=\"middle\" x=\"175\" y=\"-111.8\" font-family=\"Times,serif\" font-size=\"14.00\" fill=\"#000000\">class = good guy</text>\n",
       "</g>\n",
       "<!-- 0&#45;&gt;2 -->\n",
       "<g id=\"edge2\" class=\"edge\">\n",
       "<title>0&#45;&gt;2</title>\n",
       "<path fill=\"none\" stroke=\"#000000\" d=\"M134.6846,-222.8796C139.1423,-214.3236 143.8834,-205.2238 148.4894,-196.3833\"/>\n",
       "<polygon fill=\"#000000\" stroke=\"#000000\" points=\"151.7062,-197.7838 153.2229,-187.2981 145.4983,-194.5494 151.7062,-197.7838\"/>\n",
       "<text text-anchor=\"middle\" x=\"159.2303\" y=\"-202.6745\" font-family=\"Times,serif\" font-size=\"14.00\" fill=\"#000000\">False</text>\n",
       "</g>\n",
       "<!-- 3 -->\n",
       "<g id=\"node4\" class=\"node\">\n",
       "<title>3</title>\n",
       "<polygon fill=\"none\" stroke=\"#000000\" points=\"164,-68 62,-68 62,0 164,0 164,-68\"/>\n",
       "<text text-anchor=\"middle\" x=\"113\" y=\"-52.8\" font-family=\"Times,serif\" font-size=\"14.00\" fill=\"#000000\">gini = 0.0</text>\n",
       "<text text-anchor=\"middle\" x=\"113\" y=\"-37.8\" font-family=\"Times,serif\" font-size=\"14.00\" fill=\"#000000\">samples = 1</text>\n",
       "<text text-anchor=\"middle\" x=\"113\" y=\"-22.8\" font-family=\"Times,serif\" font-size=\"14.00\" fill=\"#000000\">value = [1, 0]</text>\n",
       "<text text-anchor=\"middle\" x=\"113\" y=\"-7.8\" font-family=\"Times,serif\" font-size=\"14.00\" fill=\"#000000\">class = bad guy</text>\n",
       "</g>\n",
       "<!-- 2&#45;&gt;3 -->\n",
       "<g id=\"edge3\" class=\"edge\">\n",
       "<title>2&#45;&gt;3</title>\n",
       "<path fill=\"none\" stroke=\"#000000\" d=\"M151.9135,-103.9815C147.0585,-95.2504 141.926,-86.0202 137.0371,-77.2281\"/>\n",
       "<polygon fill=\"#000000\" stroke=\"#000000\" points=\"139.9712,-75.3025 132.0524,-68.2637 133.8533,-78.7043 139.9712,-75.3025\"/>\n",
       "</g>\n",
       "<!-- 4 -->\n",
       "<g id=\"node5\" class=\"node\">\n",
       "<title>4</title>\n",
       "<polygon fill=\"none\" stroke=\"#000000\" points=\"292,-68 182,-68 182,0 292,0 292,-68\"/>\n",
       "<text text-anchor=\"middle\" x=\"237\" y=\"-52.8\" font-family=\"Times,serif\" font-size=\"14.00\" fill=\"#000000\">gini = 0.0</text>\n",
       "<text text-anchor=\"middle\" x=\"237\" y=\"-37.8\" font-family=\"Times,serif\" font-size=\"14.00\" fill=\"#000000\">samples = 4</text>\n",
       "<text text-anchor=\"middle\" x=\"237\" y=\"-22.8\" font-family=\"Times,serif\" font-size=\"14.00\" fill=\"#000000\">value = [0, 4]</text>\n",
       "<text text-anchor=\"middle\" x=\"237\" y=\"-7.8\" font-family=\"Times,serif\" font-size=\"14.00\" fill=\"#000000\">class = good guy</text>\n",
       "</g>\n",
       "<!-- 2&#45;&gt;4 -->\n",
       "<g id=\"edge4\" class=\"edge\">\n",
       "<title>2&#45;&gt;4</title>\n",
       "<path fill=\"none\" stroke=\"#000000\" d=\"M198.0865,-103.9815C202.9415,-95.2504 208.074,-86.0202 212.9629,-77.2281\"/>\n",
       "<polygon fill=\"#000000\" stroke=\"#000000\" points=\"216.1467,-78.7043 217.9476,-68.2637 210.0288,-75.3025 216.1467,-78.7043\"/>\n",
       "</g>\n",
       "</g>\n",
       "</svg>\n"
      ],
      "text/plain": [
       "<graphviz.files.Source at 0x7fbfc6b4ee48>"
      ]
     },
     "execution_count": 72,
     "metadata": {},
     "output_type": "execute_result"
    }
   ],
   "source": [
    "import graphviz\n",
    "\n",
    "graphviz.Source(tree.export_graphviz(clf, out_file=None, \n",
    "                                    class_names=['bad guy', 'good guy'],\n",
    "                                    feature_names=features))"
   ]
  },
  {
   "cell_type": "code",
   "execution_count": 73,
   "metadata": {},
   "outputs": [
    {
     "data": {
      "text/html": [
       "<div>\n",
       "<style scoped>\n",
       "    .dataframe tbody tr th:only-of-type {\n",
       "        vertical-align: middle;\n",
       "    }\n",
       "\n",
       "    .dataframe tbody tr th {\n",
       "        vertical-align: top;\n",
       "    }\n",
       "\n",
       "    .dataframe thead th {\n",
       "        text-align: right;\n",
       "    }\n",
       "</style>\n",
       "<table border=\"1\" class=\"dataframe\">\n",
       "  <thead>\n",
       "    <tr style=\"text-align: right;\">\n",
       "      <th></th>\n",
       "      <th>0</th>\n",
       "      <th>1</th>\n",
       "      <th>2</th>\n",
       "      <th>3</th>\n",
       "      <th>4</th>\n",
       "      <th>5</th>\n",
       "      <th>6</th>\n",
       "      <th>7</th>\n",
       "      <th>8</th>\n",
       "    </tr>\n",
       "  </thead>\n",
       "  <tbody>\n",
       "    <tr>\n",
       "      <th>0</th>\n",
       "      <td>Wonder Woman</td>\n",
       "      <td>Aquaman</td>\n",
       "      <td>Cyborg</td>\n",
       "      <td>Flash II</td>\n",
       "      <td>Black Manta</td>\n",
       "      <td>Penguin</td>\n",
       "      <td>Joker</td>\n",
       "      <td>Deathstroke</td>\n",
       "      <td>Bizarro</td>\n",
       "    </tr>\n",
       "    <tr>\n",
       "      <th>1</th>\n",
       "      <td>good guy</td>\n",
       "      <td>good guy</td>\n",
       "      <td>good guy</td>\n",
       "      <td>good guy</td>\n",
       "      <td>bad guy</td>\n",
       "      <td>bad guy</td>\n",
       "      <td>bad guy</td>\n",
       "      <td>bad guy</td>\n",
       "      <td>bad guy</td>\n",
       "    </tr>\n",
       "    <tr>\n",
       "      <th>2</th>\n",
       "      <td>good guy</td>\n",
       "      <td>good guy</td>\n",
       "      <td>good guy</td>\n",
       "      <td>good guy</td>\n",
       "      <td>bad guy</td>\n",
       "      <td>bad guy</td>\n",
       "      <td>bad guy</td>\n",
       "      <td>bad guy</td>\n",
       "      <td>bad guy</td>\n",
       "    </tr>\n",
       "  </tbody>\n",
       "</table>\n",
       "</div>"
      ],
      "text/plain": [
       "              0         1         2         3            4        5        6  \\\n",
       "0  Wonder Woman   Aquaman    Cyborg  Flash II  Black Manta  Penguin    Joker   \n",
       "1      good guy  good guy  good guy  good guy      bad guy  bad guy  bad guy   \n",
       "2      good guy  good guy  good guy  good guy      bad guy  bad guy  bad guy   \n",
       "\n",
       "             7        8  \n",
       "0  Deathstroke  Bizarro  \n",
       "1      bad guy  bad guy  \n",
       "2      bad guy  bad guy  "
      ]
     },
     "execution_count": 73,
     "metadata": {},
     "output_type": "execute_result"
    }
   ],
   "source": [
    "pd.DataFrame(np.array((X.index, Y[0], predictions)))"
   ]
  },
  {
   "cell_type": "markdown",
   "metadata": {},
   "source": [
    "Infine, è in teoria possibile utilizzare l'albero ottenuto per ottenere una classificazione per supereroi non utilizzati per costruire l'albero stesso. Per far questo è però necessario tradurre i valori categorici in numeri, riutilizzando i `LabelEncoder` precedentemente preparati. Per comodità, costruiamo una funzione che si occupi di effettuare questa trasformazione."
   ]
  },
  {
   "cell_type": "code",
   "execution_count": 74,
   "metadata": {},
   "outputs": [],
   "source": [
    "def filter(obj):\n",
    "    transformed_obj = obj['Height':'Intelligence']\n",
    "    transformed_obj['Gender'] = gender_encoder.transform([transformed_obj['Gender']])[0]\n",
    "    transformed_obj['Eye color'] = eye_col_encoder.transform([transformed_obj['Eye color']])[0]\n",
    "    transformed_obj['Hair color'] = hair_col_encoder.transform([transformed_obj['Hair color']])[0]\n",
    "    transformed_obj['Intelligence'] = intelligence_encoder.transform([transformed_obj['Intelligence']])[0]\n",
    "    return transformed_obj"
   ]
  },
  {
   "cell_type": "markdown",
   "metadata": {},
   "source": [
    "Possiamo quindi trasformare, per esempio, un supereroe e verificare a quale etichetta esso viene associato."
   ]
  },
  {
   "cell_type": "code",
   "execution_count": 75,
   "metadata": {},
   "outputs": [
    {
     "data": {
      "text/plain": [
       "array(['bad guy'], dtype=object)"
      ]
     },
     "execution_count": 75,
     "metadata": {},
     "output_type": "execute_result"
    }
   ],
   "source": [
    "clf.predict([filter(heroes.loc['Professor X'])])"
   ]
  },
  {
   "cell_type": "markdown",
   "metadata": {},
   "source": [
    "Il risultato ottenuto deve metterci in guardia: non necessariamente infatti un buon comportamento degli alberi di decisione sui dati utilizzati per costruirli è associato a un analogo comportamento nell'_indurre_ etichette per dati nuovi. Le tecniche da utilizzare per valutare la cosiddetta capacità di _generalizzazione_ a nuovi casi esulano però dallo scopo del nostro corso."
   ]
  },
  {
   "cell_type": "markdown",
   "metadata": {},
   "source": [
    "In linea di principio gli alberi di decisione si possono costruire utilizzando un qualsiasi indice che valuti l'eterogeneità: la libreria sklearn supporta la scelta di questo criterio attraverso l'argomento opzionale `criterion` passato al costruttore di `DecisionTreeClassifier`. Il valore predefinito è `'gini'`, corrispondente ovviamente all'indice di Gini, ma è anche possibile specificare `'entropy'` nel caso in cui si volesse utilizzare l'entropia. Ovviamente l'albero ottenuto usando l'entropia non è necessariamente uguale a quello che si ottiene con l'indice di Gini. Per il nostro esempio, l'unica differenza risiede nel nodo di scelta al di sotto della radice, che sarebbe basato sull'attributo \"Intelligence\" invece che su \"Eye color\"."
   ]
  },
  {
   "cell_type": "code",
   "execution_count": 76,
   "metadata": {},
   "outputs": [
    {
     "data": {
      "image/svg+xml": [
       "<?xml version=\"1.0\" encoding=\"UTF-8\" standalone=\"no\"?>\n",
       "<!DOCTYPE svg PUBLIC \"-//W3C//DTD SVG 1.1//EN\"\n",
       " \"http://www.w3.org/Graphics/SVG/1.1/DTD/svg11.dtd\">\n",
       "<!-- Generated by graphviz version 2.40.1 (20161225.0304)\n",
       " -->\n",
       "<!-- Title: Tree Pages: 1 -->\n",
       "<svg width=\"300pt\" height=\"314pt\"\n",
       " viewBox=\"0.00 0.00 300.00 314.00\" xmlns=\"http://www.w3.org/2000/svg\" xmlns:xlink=\"http://www.w3.org/1999/xlink\">\n",
       "<g id=\"graph0\" class=\"graph\" transform=\"scale(1 1) rotate(0) translate(4 310)\">\n",
       "<title>Tree</title>\n",
       "<polygon fill=\"#ffffff\" stroke=\"transparent\" points=\"-4,4 -4,-310 296,-310 296,4 -4,4\"/>\n",
       "<!-- 0 -->\n",
       "<g id=\"node1\" class=\"node\">\n",
       "<title>0</title>\n",
       "<polygon fill=\"none\" stroke=\"#000000\" points=\"168,-306 58,-306 58,-223 168,-223 168,-306\"/>\n",
       "<text text-anchor=\"middle\" x=\"113\" y=\"-290.8\" font-family=\"Times,serif\" font-size=\"14.00\" fill=\"#000000\">Strength &lt;= 40.0</text>\n",
       "<text text-anchor=\"middle\" x=\"113\" y=\"-275.8\" font-family=\"Times,serif\" font-size=\"14.00\" fill=\"#000000\">entropy = 0.991</text>\n",
       "<text text-anchor=\"middle\" x=\"113\" y=\"-260.8\" font-family=\"Times,serif\" font-size=\"14.00\" fill=\"#000000\">samples = 9</text>\n",
       "<text text-anchor=\"middle\" x=\"113\" y=\"-245.8\" font-family=\"Times,serif\" font-size=\"14.00\" fill=\"#000000\">value = [5, 4]</text>\n",
       "<text text-anchor=\"middle\" x=\"113\" y=\"-230.8\" font-family=\"Times,serif\" font-size=\"14.00\" fill=\"#000000\">class = bad guy</text>\n",
       "</g>\n",
       "<!-- 1 -->\n",
       "<g id=\"node2\" class=\"node\">\n",
       "<title>1</title>\n",
       "<polygon fill=\"none\" stroke=\"#000000\" points=\"102,-179.5 0,-179.5 0,-111.5 102,-111.5 102,-179.5\"/>\n",
       "<text text-anchor=\"middle\" x=\"51\" y=\"-164.3\" font-family=\"Times,serif\" font-size=\"14.00\" fill=\"#000000\">entropy = 0.0</text>\n",
       "<text text-anchor=\"middle\" x=\"51\" y=\"-149.3\" font-family=\"Times,serif\" font-size=\"14.00\" fill=\"#000000\">samples = 4</text>\n",
       "<text text-anchor=\"middle\" x=\"51\" y=\"-134.3\" font-family=\"Times,serif\" font-size=\"14.00\" fill=\"#000000\">value = [4, 0]</text>\n",
       "<text text-anchor=\"middle\" x=\"51\" y=\"-119.3\" font-family=\"Times,serif\" font-size=\"14.00\" fill=\"#000000\">class = bad guy</text>\n",
       "</g>\n",
       "<!-- 0&#45;&gt;1 -->\n",
       "<g id=\"edge1\" class=\"edge\">\n",
       "<title>0&#45;&gt;1</title>\n",
       "<path fill=\"none\" stroke=\"#000000\" d=\"M91.3154,-222.8796C85.5864,-211.8835 79.3894,-199.9893 73.6126,-188.9015\"/>\n",
       "<polygon fill=\"#000000\" stroke=\"#000000\" points=\"76.603,-187.0662 68.8784,-179.8149 70.395,-190.3007 76.603,-187.0662\"/>\n",
       "<text text-anchor=\"middle\" x=\"62.8709\" y=\"-195.1914\" font-family=\"Times,serif\" font-size=\"14.00\" fill=\"#000000\">True</text>\n",
       "</g>\n",
       "<!-- 2 -->\n",
       "<g id=\"node3\" class=\"node\">\n",
       "<title>2</title>\n",
       "<polygon fill=\"none\" stroke=\"#000000\" points=\"230,-187 120,-187 120,-104 230,-104 230,-187\"/>\n",
       "<text text-anchor=\"middle\" x=\"175\" y=\"-171.8\" font-family=\"Times,serif\" font-size=\"14.00\" fill=\"#000000\">Eye color &lt;= 0.5</text>\n",
       "<text text-anchor=\"middle\" x=\"175\" y=\"-156.8\" font-family=\"Times,serif\" font-size=\"14.00\" fill=\"#000000\">entropy = 0.722</text>\n",
       "<text text-anchor=\"middle\" x=\"175\" y=\"-141.8\" font-family=\"Times,serif\" font-size=\"14.00\" fill=\"#000000\">samples = 5</text>\n",
       "<text text-anchor=\"middle\" x=\"175\" y=\"-126.8\" font-family=\"Times,serif\" font-size=\"14.00\" fill=\"#000000\">value = [1, 4]</text>\n",
       "<text text-anchor=\"middle\" x=\"175\" y=\"-111.8\" font-family=\"Times,serif\" font-size=\"14.00\" fill=\"#000000\">class = good guy</text>\n",
       "</g>\n",
       "<!-- 0&#45;&gt;2 -->\n",
       "<g id=\"edge2\" class=\"edge\">\n",
       "<title>0&#45;&gt;2</title>\n",
       "<path fill=\"none\" stroke=\"#000000\" d=\"M134.6846,-222.8796C139.1423,-214.3236 143.8834,-205.2238 148.4894,-196.3833\"/>\n",
       "<polygon fill=\"#000000\" stroke=\"#000000\" points=\"151.7062,-197.7838 153.2229,-187.2981 145.4983,-194.5494 151.7062,-197.7838\"/>\n",
       "<text text-anchor=\"middle\" x=\"159.2303\" y=\"-202.6745\" font-family=\"Times,serif\" font-size=\"14.00\" fill=\"#000000\">False</text>\n",
       "</g>\n",
       "<!-- 3 -->\n",
       "<g id=\"node4\" class=\"node\">\n",
       "<title>3</title>\n",
       "<polygon fill=\"none\" stroke=\"#000000\" points=\"164,-68 62,-68 62,0 164,0 164,-68\"/>\n",
       "<text text-anchor=\"middle\" x=\"113\" y=\"-52.8\" font-family=\"Times,serif\" font-size=\"14.00\" fill=\"#000000\">entropy = 0.0</text>\n",
       "<text text-anchor=\"middle\" x=\"113\" y=\"-37.8\" font-family=\"Times,serif\" font-size=\"14.00\" fill=\"#000000\">samples = 1</text>\n",
       "<text text-anchor=\"middle\" x=\"113\" y=\"-22.8\" font-family=\"Times,serif\" font-size=\"14.00\" fill=\"#000000\">value = [1, 0]</text>\n",
       "<text text-anchor=\"middle\" x=\"113\" y=\"-7.8\" font-family=\"Times,serif\" font-size=\"14.00\" fill=\"#000000\">class = bad guy</text>\n",
       "</g>\n",
       "<!-- 2&#45;&gt;3 -->\n",
       "<g id=\"edge3\" class=\"edge\">\n",
       "<title>2&#45;&gt;3</title>\n",
       "<path fill=\"none\" stroke=\"#000000\" d=\"M151.9135,-103.9815C147.0585,-95.2504 141.926,-86.0202 137.0371,-77.2281\"/>\n",
       "<polygon fill=\"#000000\" stroke=\"#000000\" points=\"139.9712,-75.3025 132.0524,-68.2637 133.8533,-78.7043 139.9712,-75.3025\"/>\n",
       "</g>\n",
       "<!-- 4 -->\n",
       "<g id=\"node5\" class=\"node\">\n",
       "<title>4</title>\n",
       "<polygon fill=\"none\" stroke=\"#000000\" points=\"292,-68 182,-68 182,0 292,0 292,-68\"/>\n",
       "<text text-anchor=\"middle\" x=\"237\" y=\"-52.8\" font-family=\"Times,serif\" font-size=\"14.00\" fill=\"#000000\">entropy = 0.0</text>\n",
       "<text text-anchor=\"middle\" x=\"237\" y=\"-37.8\" font-family=\"Times,serif\" font-size=\"14.00\" fill=\"#000000\">samples = 4</text>\n",
       "<text text-anchor=\"middle\" x=\"237\" y=\"-22.8\" font-family=\"Times,serif\" font-size=\"14.00\" fill=\"#000000\">value = [0, 4]</text>\n",
       "<text text-anchor=\"middle\" x=\"237\" y=\"-7.8\" font-family=\"Times,serif\" font-size=\"14.00\" fill=\"#000000\">class = good guy</text>\n",
       "</g>\n",
       "<!-- 2&#45;&gt;4 -->\n",
       "<g id=\"edge4\" class=\"edge\">\n",
       "<title>2&#45;&gt;4</title>\n",
       "<path fill=\"none\" stroke=\"#000000\" d=\"M198.0865,-103.9815C202.9415,-95.2504 208.074,-86.0202 212.9629,-77.2281\"/>\n",
       "<polygon fill=\"#000000\" stroke=\"#000000\" points=\"216.1467,-78.7043 217.9476,-68.2637 210.0288,-75.3025 216.1467,-78.7043\"/>\n",
       "</g>\n",
       "</g>\n",
       "</svg>\n"
      ],
      "text/plain": [
       "<graphviz.files.Source at 0x7fbfc6b4e5f8>"
      ]
     },
     "execution_count": 76,
     "metadata": {},
     "output_type": "execute_result"
    }
   ],
   "source": [
    "clf = tree.DecisionTreeClassifier(criterion='entropy')\n",
    "clf = clf.fit(X, Y)\n",
    "graphviz.Source(tree.export_graphviz(clf, out_file=None, \n",
    "                                    class_names=['bad guy', 'good guy'],\n",
    "                                    feature_names=features))"
   ]
  },
  {
   "cell_type": "markdown",
   "metadata": {},
   "source": [
    "<div id=\"h-4\"></div>\n",
    "\n",
    "## Indici di concentrazione\n",
    "\n",
    "In presenza di variabili che rappresentano beni condivisibili in una popolazione, come per esempio la ricchezza, ci si può chiedere quanto la variabile sia equamente distribuita tra gli individui della popolazione, oppure quanto sia concentrata solo su un numero ridotto di osservazioni. Questo concetto è diverso dalla varianza, che misura la dispersione dei valori intorno a un valore medio.\n",
    "\n",
    "Date $n$ osservazioni, indichiamo con $a_1, \\dots, a_n$ il loro elenco una volta che queste sono state ordinate. Successivamente calcoliamone il valore medio\n",
    "\n",
    "\\begin{equation}\n",
    "\\bar a = \\frac{1}{n} \\sum_{i=1}^n a_i\n",
    "\\end{equation}\n",
    "\n",
    "e sommiamole, ottenendo $\\mathrm{TOT} = n \\bar a = \\sum_{i=1}^n a_i$. Possiamo avere due situazioni estreme:\n",
    "\n",
    "1. in caso di concentrazione minima tutti gli elementi del campione assumono lo stesso valore: $a_1 = a_2 = \\dots = a_n = \\bar a$;\n",
    "2. in caso di concentrazione massima tutti gli elementi del campione assumono il valore $0$, a parte uno:  $a_1 = a_2 = \\dots = a_{n-1} = 0$ e $a_n = n \\bar a$.\n",
    "\n",
    "In generale allora ci può interessare valutare un indice di concentrazione, che valga $0$ oppure $1$ nei casi rispettivamente di concentrazione minima e massima, e che sia negli altri casi sia un valore crescente in funzione della concentrazione. Consideriamo:\n",
    "\n",
    "- la frequenza relativa cumulata fino all'$i$-esima osservazione: $F_i = \\frac{i}{n}$, per $i = 1, \\dots, n$, e\n",
    "- la quantità relativa cumulata fino all'$i$-esima osservazione: $Q_i = \\frac{\\sum_{k=1}^i a_k}{\\mathrm{TOT}}$.\n",
    "\n",
    "Si verifica facilmente che\n",
    "\n",
    "- $0 \\leq F_i \\leq 1$ e $0 \\leq Q_i \\leq 1$;\n",
    "- $Q_i \\leq F_i$ dal momento che le osservazioni sono state ordinate in modo crescente;\n",
    "- $Q_i = F_i$ nel caso di concentrazione minima;\n",
    "- $Q_n = F_n$.\n",
    "\n",
    "Per $i = 1, \\dots,n$ le coppie $(F_i, Q_i)$ indicano che il $100 F_i \\%$ della popolazione detiene il $100 Q_i \\%$ della quantità considerata. Se si considerano i punti sul piano che sono identificati da queste coppie:\n",
    "\n",
    "- nel caso di concentrazione minima tutti i punti $(F_i, Q_i)$ giacciono sulla retta $F = Q$: possiamo dunque dire che in questo caso $F_i - Q_i = 0$ per ogni $i$;"
   ]
  },
  {
   "cell_type": "code",
   "execution_count": 24,
   "metadata": {},
   "outputs": [
    {
     "data": {
      "image/png": "[encoded data removed]",
      "text/plain": [
       "<Figure size 360x222.492 with 1 Axes>"
      ]
     },
     "metadata": {},
     "output_type": "display_data"
    }
   ],
   "source": [
    "tot = 10\n",
    "n = 20\n",
    "a = [tot/n] * n\n",
    "q = np.cumsum(a) / tot\n",
    "f = np.arange(1, n+1) / n\n",
    "plt.plot([0, 1], [0, 1], linestyle='--', linewidth=2, c='gray')\n",
    "plt.plot(f, q, 'o')\n",
    "plt.show()"
   ]
  },
  {
   "cell_type": "markdown",
   "metadata": {},
   "source": [
    "- nel caso di concentrazione massima i punti $(F_i, Q_i)$ per $i = 1, \\dots, n-1$ giacciono sulla retta $Q = 0$, tranne l'ultimo per cui $F_n = Q_n = 1$: dunque in questo caso $F_i - Q_i = F_i$ per $i = 1, \\dots, n-1$ e $F_n - Q_n = 0$."
   ]
  },
  {
   "cell_type": "code",
   "execution_count": 25,
   "metadata": {},
   "outputs": [
    {
     "data": {
      "image/png": "[encoded data removed]",
      "text/plain": [
       "<Figure size 360x222.492 with 1 Axes>"
      ]
     },
     "metadata": {},
     "output_type": "display_data"
    }
   ],
   "source": [
    "tot = 10\n",
    "n = 20\n",
    "a = [0] * (n-1) + [tot]\n",
    "q = np.cumsum(a) / tot\n",
    "f = np.arange(1, n+1) / n\n",
    "plt.plot([0, 1], [0, 1], linestyle='--', linewidth=2, c='gray')\n",
    "plt.plot(f, q, 'o')\n",
    "plt.show()"
   ]
  },
  {
   "cell_type": "markdown",
   "metadata": {},
   "source": [
    "Nei casi intermedi si avrà dunque che i punti staranno su una curva \"sotto\" la retta $F = Q$, dato che $Q_i \\leq F_i$, e più tale curva si \"allontana\" dalla retta, più la concentrazione è alta.\n",
    "\n",
    "L'area compresa tra la curva dei punti $(F_i, Q_i)$ (detta _curva di Lorentz_) e la retta di equidistribuzione (la retta a $45^{\\circ}$) è detta _area di concentrazione_ e può essere utilizzata come base per la definizione di appositi rapporti di concentrazione, di cui l'indice di Gini costituisce un esempio. Maggiore infatti è la concentrazione osservata, maggiore sarà tale area."
   ]
  },
  {
   "cell_type": "code",
   "execution_count": 26,
   "metadata": {
    "scrolled": true
   },
   "outputs": [
    {
     "data": {
      "image/png": "[encoded data removed]",
      "text/plain": [
       "<Figure size 360x222.492 with 1 Axes>"
      ]
     },
     "metadata": {},
     "output_type": "display_data"
    }
   ],
   "source": [
    "tot = 10\n",
    "n = 20\n",
    "a = [tot/100]*10 + [tot*4/90]*9 + [tot/2]\n",
    "q = np.cumsum(a) / tot\n",
    "f = np.arange(1, n+1) / n\n",
    "plt.fill_between(f, f, q, alpha=0.2)\n",
    "plt.plot([0, 1], [0, 1], linestyle='--', linewidth=2, c='gray')\n",
    "plt.plot(f, q, 'o')\n",
    "plt.show()"
   ]
  },
  {
   "cell_type": "markdown",
   "metadata": {},
   "source": [
    "Verifichiamo quale sia la concentrazione dell'attributo _Strength_, nell'idea di verificare se la forza sia più o meno equamente distribuita tra i supereroi."
   ]
  },
  {
   "cell_type": "code",
   "execution_count": 113,
   "metadata": {},
   "outputs": [],
   "source": [
    "strength = heroes[pd.notnull(heroes['Strength'])]['Strength']"
   ]
  },
  {
   "cell_type": "markdown",
   "metadata": {},
   "source": [
    "Le quantità relative cumulate si ottengono ordinando i valori, calcolando le corrispondenti somme cumulate e dividendole per la \"quantità\" totale di forza."
   ]
  },
  {
   "cell_type": "code",
   "execution_count": 114,
   "metadata": {},
   "outputs": [],
   "source": [
    "Q = strength.sort_values().cumsum() / sum(strength)"
   ]
  },
  {
   "cell_type": "markdown",
   "metadata": {},
   "source": [
    "Le frequenze relative cumulate sono facili da calcolare: il loro vettore ha come componenti i valori che vanno da $\\frac{1}{n}$ a $1$, incrementandoli ogni volta di $\\frac{1}{n}$, dove $n$ indica il numero di valori osservati."
   ]
  },
  {
   "cell_type": "code",
   "execution_count": 115,
   "metadata": {},
   "outputs": [],
   "source": [
    "import numpy as np\n",
    "n = len(strength)\n",
    "F = np.arange(1, n+1) / n"
   ]
  },
  {
   "cell_type": "markdown",
   "metadata": {},
   "source": [
    "Pertanto il grafico che mostra l'area di concentrazione è il seguente, in cui a causa dell'elevato numero di osservazioni è più opportuno visualizzare le quantità relative cumulate (i valori di $Q$) usando una spezzata piuttosto che un insieme di punti."
   ]
  },
  {
   "cell_type": "code",
   "execution_count": 153,
   "metadata": {},
   "outputs": [
    {
     "data": {
      "image/png": "[encoded data removed]",
      "text/plain": [
       "<Figure size 360x222.492 with 1 Axes>"
      ]
     },
     "metadata": {},
     "output_type": "display_data"
    }
   ],
   "source": [
    "plt.fill_between(F, F, Q, alpha=0.2)\n",
    "plt.plot([0, 1], [0, 1], linestyle='--', linewidth=2, c='gray')\n",
    "plt.plot(F, Q, linewidth=2, c='blue')\n",
    "plt.show()"
   ]
  },
  {
   "cell_type": "markdown",
   "metadata": {},
   "source": [
    "Il risultato evidenzia una distribuzione della forza relativamente vicina alla situazione di concentrazione minima.\n",
    "\n",
    "I diagrammi come quello appena ottenuto devono essere analizzati _qualitativamente_, mentre spesso è più comodo avere un indice numerico calcolato a partire dai dati, il cui valore possa facilmente essere confrontato con un due estremi minimo e massino. In tal senso si definisce _indice di concentrazione (o coefficiente) di Gini_ il rapporto\n",
    "\n",
    "\\begin{equation}\n",
    "\tG = \\frac{\\sum_{i=1}^{n-1}F_i - Q_i}{\\sum_{i=1}^{n-1}F_i}\n",
    "\\end{equation}\n",
    "\n",
    "tra la quantità $\\sum_{i=1}^{n-1}F_i - Q_i$ e il suo valore massimo\n",
    "\n",
    "\\begin{equation}\n",
    "\\sum_{i=1}^{n-1}F_i = \\frac{1}{n} \\sum_{i=1}^{n-1} i = \\frac{1}{n} \\frac{(n-1)n}{2} = \\frac{(n-1)}{2}\n",
    "\\end{equation}\n",
    "\n",
    "Per quanto appena visto,\n",
    "\n",
    "- $0 \\leq G \\leq 1$, e\n",
    "- $G = \\frac{2}{n-1} \\sum_{i=1}^{n-1} F_i - Q_i$\n",
    "\n",
    "Siamo ora in grado di calcolare indice di concentrazione di Gini per l'attributo _Strength_: sottraendo componente per componente il vettore delle quantità cumulate a quello delle frequenze cumulate, sommando i risultati e moltiplicando per $\\frac{2}{n-1}$ si ottiene il valore dell'indice di concentrazione."
   ]
  },
  {
   "cell_type": "code",
   "execution_count": 116,
   "metadata": {},
   "outputs": [
    {
     "data": {
      "text/plain": [
       "0.4118214635457669"
      ]
     },
     "execution_count": 116,
     "metadata": {},
     "output_type": "execute_result"
    }
   ],
   "source": [
    "2 * sum(F - Q) / (n-1)"
   ]
  },
  {
   "cell_type": "markdown",
   "metadata": {},
   "source": [
    "In accordo con il grafico precedentemente generato, $G$ assume un valore intermedio tra i due possibili estremi, a indicare una distribuzione della forza debolmente concentrata su un sottoinsieme dei supereroi."
   ]
  },
  {
   "cell_type": "markdown",
   "metadata": {
    "footer": true
   },
   "source": [
    "<hr style=\"width: 90%;\" align=\"left\" />\n",
    "<span style=\"font-size: 0.8rem;\">D. Malchiodi, Superhero data science. Vol 1: probabilità e statistica: Indici di eterogeneità, 2017.</span>\n",
    "<br>\n",
    "<span style=\"font-size: 0.8rem;\">Powered by <img src=\"img/jupyter-logo.png\" style=\"height: 1rem; display: inline; margin-left: 0.5ex; margin-top: 0;\" alt=\"Jupyter Notebook\"></span>\n",
    "<div style=\"float: left; margin-top: 1ex;\">\n",
    "<img src=\"http://mirrors.creativecommons.org/presskit/icons/cc.large.png\" style=\"width: 1.5em; float: left; margin-right: 0.6ex; margin-top: 0;\">\n",
    "<img src=\"http://mirrors.creativecommons.org/presskit/icons/by.large.png\" style=\"width: 1.5em; float: left; margin-right: 0.6ex; margin-top: 0;\">\n",
    "<img src=\"http://mirrors.creativecommons.org/presskit/icons/nc.large.png\" style=\"width: 1.5em; float: left; margin-right: 0.6ex; margin-top: 0;\">\n",
    "<img src=\"http://mirrors.creativecommons.org/presskit/icons/nd.large.png\" style=\"width: 1.5em; float: left; margin-right: 0.6ex; margin-top: 0;\">\n",
    "<span style=\"font-size: 0.7rem; line-height: 0.7rem; vertical-align: middle;\">Quest'opera è distribuita con Licenza <a rel=\"license\" href=\"http://creativecommons.org/licenses/by-nc-nd/4.0/\">Creative Commons Attribuzione - Non commerciale - Non opere derivate 4.0 Internazionale</a></span>.\n",
    "</div>"
   ]
  }
 ],
 "metadata": {
  "kernelspec": {
   "display_name": "Python 3",
   "language": "python",
   "name": "python3"
  },
  "language_info": {
   "codemirror_mode": {
    "name": "ipython",
    "version": 3
   },
   "file_extension": ".py",
   "mimetype": "text/x-python",
   "name": "python",
   "nbconvert_exporter": "python",
   "pygments_lexer": "ipython3",
   "version": "3.7.3"
  },
  "latex_envs": {
   "LaTeX_envs_menu_present": true,
   "autoclose": true,
   "autocomplete": true,
   "bibliofile": "biblio.bib",
   "cite_by": "apalike",
   "current_citInitial": 1,
   "eqLabelWithNumbers": true,
   "eqNumInitial": 1,
   "hotkeys": {
    "equation": "Ctrl-E",
    "itemize": "Ctrl-I"
   },
   "labels_anchors": false,
   "latex_user_defs": false,
   "report_style_numbering": false,
   "user_envs_cfg": false
  },
  "toc": {
   "base_numbering": 1,
   "nav_menu": {},
   "number_sections": true,
   "sideBar": false,
   "skip_h1_title": false,
   "title_cell": "Table of Contents",
   "title_sidebar": "Contents",
   "toc_cell": true,
   "toc_position": {},
   "toc_section_display": true,
   "toc_window_display": false
  }
 },
 "nbformat": 4,
 "nbformat_minor": 2
}
