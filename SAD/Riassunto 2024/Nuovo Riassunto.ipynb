{
 "cells": [
  {
   "cell_type": "markdown",
   "metadata": {},
   "source": [
    "# Lezione 1\n",
    "\n",
    "Approccio: analisi esplorativa dei dati, non partendo da un algoritmo -> compilazione -> esecuzione -> debug. Si usano i notebook (Anaconda, Python3).\n",
    "Per runnare il notebook: `jupyter-notebook.exe`.\n",
    "Le celle di codice vengono runnate, ma solo il risultato dell'ultima riga viene mostrato. Tipi di dati Python3 sono: `int, bool, float, string`. Per capire il tipo: `type()`. In realtà Python chiama sempre il costruttore `int()`. \n",
    "Il typechecking in Python è dinamico. I booleani vanno scritti con la inziale maiuscola: `True, False`.\n",
    "Gli operatori: `+, -, *, / (Reale), // (Intera), %, **, ==, !=, <, >, <=, >=`."
   ]
  },
  {
   "cell_type": "code",
   "execution_count": 1,
   "metadata": {},
   "outputs": [
    {
     "data": {
      "text/plain": [
       "123"
      ]
     },
     "execution_count": 1,
     "metadata": {},
     "output_type": "execute_result"
    }
   ],
   "source": [
    "var = 120\n",
    "t = type(var)\n",
    "t(\"123\")"
   ]
  },
  {
   "cell_type": "markdown",
   "metadata": {},
   "source": [
    "### Dati strutturati\n",
    "Python non ha array (dimensione prefissata ed omogenei). Ha invece: \n",
    "- **Liste**: struttura dati eterogenea ad accesso posizionale. Le liste possono essere usate come argomenti di operatori, argomenti di funzioni e oggetti su cui invocare metodi."
   ]
  },
  {
   "cell_type": "code",
   "execution_count": 2,
   "metadata": {},
   "outputs": [
    {
     "name": "stdout",
     "output_type": "stream",
     "text": [
      "list: [1, 'hello', 4.5, True]\n",
      "list[0]: 1\n",
      "list[-1]: True\n",
      "list[0:2]: [1, 'hello']\n",
      "1 in list: True\n",
      "del list[1]: [1, 4.5, True]\n",
      "len(list): 3\n",
      "list.sort(): [1, True, 4.5]\n",
      "list[1:]: [True, 4.5]\n",
      "list.sort(reverse=True): [4.5, 1, True]\n",
      "names.sort(): ['Dario', 'Federico', 'Simone', 'Tea']\n",
      "names.sort(key=len): ['Tea', 'Dario', 'Simone', 'Federico']\n",
      "succ(2): 3\n",
      "names.insert(1, \"Jack\"): ['Tea', 'Jack', 'Dario', 'Simone', 'Federico']\n"
     ]
    }
   ],
   "source": [
    "lst = [1, \"hello\", 4.5, True]\n",
    "print(\"list: \" + str(lst))\n",
    "print(\"list[0]: \" + str(lst[0]))\n",
    "print(\"list[-1]: \" + str(lst[-1]))\n",
    "print(\"list[0:2]: \" + str(lst[0:2])) #slice di lista\n",
    "print(\"1 in list: \" + str(1 in lst)) #operatore per lista in\n",
    "del lst[1] #operatore del: elimina quello che è contenuto nella posizione della lista\n",
    "print(\"del list[1]: \" + str(lst))\n",
    "print(\"len(list): \" + str(len(lst)))\n",
    "lst.sort()\n",
    "print(\"list.sort(): \" + str(lst))\n",
    "print(\"list[1:]: \" + str(lst[1:])) #slicing parziale\n",
    "lst.sort(reverse=True)\n",
    "print(\"list.sort(reverse=True): \" + str(lst)) #argomento nominale - ha valore di default\n",
    "names = [\"Simone\", \"Tea\", \"Federico\", \"Dario\"]\n",
    "names.sort()\n",
    "print(\"names.sort(): \" + str(names))\n",
    "names.sort(key=len) #passo funzione come chiave di ordinamento\n",
    "print(\"names.sort(key=len): \" + str(names))\n",
    "succ = lambda n: n+1 #funzione anonima, possono anche essere usate come (lambda n: n+1) (2)\n",
    "print(\"succ(2): \" + str(succ(2)))\n",
    "names.insert(1, \"Jack\")\n",
    "print(\"names.insert(1, \\\"Jack\\\"): \" + str(names)) #inserisce in posizione"
   ]
  },
  {
   "cell_type": "markdown",
   "metadata": {},
   "source": [
    "- **Tupla**: come la lista, ma non mofidicabile. Si indica con le parentesi tonde. Le stringhe sono tuple di caratteri."
   ]
  },
  {
   "cell_type": "code",
   "execution_count": 3,
   "metadata": {},
   "outputs": [
    {
     "name": "stdout",
     "output_type": "stream",
     "text": [
      "(1, 3.0, 'Simox')\n",
      "('Simox',)\n",
      "Simo\n",
      "prima linea\n",
      "seconda linea\n",
      "terza linea\n",
      "\n"
     ]
    }
   ],
   "source": [
    "tuple = (1, 3., \"Simox\")\n",
    "print(tuple)\n",
    "print(tuple[-1:])\n",
    "print(tuple[2][0:4])\n",
    "triple_apostrophe_string = '''prima linea\n",
    "seconda linea\n",
    "terza linea\n",
    "''' #stringhe multilinea, utilizzate anche per documentazione per funzioni\n",
    "print(triple_apostrophe_string)"
   ]
  },
  {
   "cell_type": "markdown",
   "metadata": {},
   "source": [
    "- **Insiemi**: si perde il concetto di posizione, non di indice. Sono introdotti con le parentesi graffe.\n",
    "- **Dizionari**: array associativi, ovvero un mapping tra chiave e valori. Sono introdotti con le parentesi graffe. Non ha problemi di ambiguità in quanto va specificata anche la chiave e non solo il valore. "
   ]
  },
  {
   "cell_type": "code",
   "execution_count": 4,
   "metadata": {},
   "outputs": [
    {
     "name": "stdout",
     "output_type": "stream",
     "text": [
      "{'Simox': 10, 'Tea': 'No'}\n",
      "10\n",
      "10\n"
     ]
    }
   ],
   "source": [
    "dictionary = {\"Simox\": 10, \"Tea\": \"No\"}\n",
    "print(dictionary)\n",
    "print(dictionary.get(\"Simox\"))\n",
    "print(dictionary[\"Simox\"])"
   ]
  },
  {
   "cell_type": "markdown",
   "metadata": {},
   "source": [
    "`None`: valore utilizzato per indicare dati mancanti.\n",
    "Per aggiungere elementi di una lista in dizionario:"
   ]
  },
  {
   "cell_type": "code",
   "execution_count": 5,
   "metadata": {},
   "outputs": [
    {
     "name": "stdout",
     "output_type": "stream",
     "text": [
      "{30: 2, 20: 1, 29: 1, 18: 4, 15: 1, 26: 1, 12: 1, 4: 1}\n",
      "[(18, 4), (30, 2), (20, 1), (29, 1), (15, 1), (26, 1), (12, 1), (4, 1)]\n"
     ]
    }
   ],
   "source": [
    "votes = [30, 20, 29, 18, 15, 18, 30, 26, 12, 4, 18, 18]\n",
    "frequences = {}\n",
    "for vote in votes:\n",
    "  if vote in frequences:\n",
    "    frequences[vote] += 1\n",
    "  else:\n",
    "    frequences[vote] = 1\n",
    "print(frequences)\n",
    "pairs = frequences.items() #fa tuple di frequenze (dict_items, convertibile in lista)\n",
    "print(sorted(pairs, key=lambda pair : pair[1], reverse=True))\n",
    "# frequences = dict(sorted(frequences.items())) #sorted dict"
   ]
  },
  {
   "cell_type": "markdown",
   "metadata": {},
   "source": [
    "# Lezione 2\n",
    "\n",
    "Riprendendo il codice dell'ultima lezione:"
   ]
  },
  {
   "cell_type": "code",
   "execution_count": 6,
   "metadata": {},
   "outputs": [
    {
     "data": {
      "text/plain": [
       "[(18, 4), (30, 2), (20, 1), (29, 1), (15, 1), (26, 1), (12, 1), (4, 1)]"
      ]
     },
     "execution_count": 6,
     "metadata": {},
     "output_type": "execute_result"
    }
   ],
   "source": [
    "def get_sorted_counts(sequence):\n",
    "  counts = {}\n",
    "  for elem in sequence:\n",
    "    if elem in counts:\n",
    "      counts[elem] += 1\n",
    "    else:\n",
    "      counts[elem] = 1\n",
    "  pairs = counts.items()\n",
    "  return sorted(pairs, key=lambda pair : pair[1], reverse=True)\n",
    "\n",
    "get_sorted_counts(votes)"
   ]
  },
  {
   "cell_type": "markdown",
   "metadata": {},
   "source": [
    "In Python vanno importanti i moduli da utilizzare. In particolare:\n",
    "`from collections import defaultdict` (non sollevano errore se non è presente la chiave a cui si accede). Questa struttura dati semplifica il codice precedente."
   ]
  },
  {
   "cell_type": "code",
   "execution_count": 7,
   "metadata": {},
   "outputs": [
    {
     "name": "stdout",
     "output_type": "stream",
     "text": [
      "0\n"
     ]
    }
   ],
   "source": [
    "from collections import defaultdict\n",
    "default_dict = defaultdict(int)\n",
    "print(default_dict[\"Simox\"])"
   ]
  },
  {
   "cell_type": "markdown",
   "metadata": {},
   "source": [
    "Per importare molti elementi da uno o più moduli, è possibile importare l'intero modulo."
   ]
  },
  {
   "cell_type": "code",
   "execution_count": 8,
   "metadata": {},
   "outputs": [
    {
     "data": {
      "text/plain": [
       "np.int64(0)"
      ]
     },
     "execution_count": 8,
     "metadata": {},
     "output_type": "execute_result"
    }
   ],
   "source": [
    "import numpy as np\n",
    "import pandas as pd\n",
    "import matplotlib.pyplot as plt\n",
    "import csv\n",
    "\n",
    "votes = [x for x in votes if x] #list comprehension\n",
    "np.argmax(votes)"
   ]
  },
  {
   "cell_type": "markdown",
   "metadata": {},
   "source": [
    "Lista che contiene tutte le ascisse e poi lista che contiene tutte le ordinate per fare la frequenza. Vogliamo tutte le X in una sola lista e tutte le Y in una sola lista. Possiamo trasporre votes per ottenere le due liste. Si può fare un doppio assegnamento basato sul fatto che la struttura risultante dell'operazione contiene due elementi. `%matplotlib inline` è un modificatore (magic) di Jupyter che deve essere applicato alla valutazione della cella del notebook."
   ]
  },
  {
   "cell_type": "code",
   "execution_count": 9,
   "metadata": {},
   "outputs": [],
   "source": [
    "x, y = np.array(get_sorted_counts(votes)).transpose() #unpacking della tupla"
   ]
  },
  {
   "cell_type": "code",
   "execution_count": 10,
   "metadata": {},
   "outputs": [
    {
     "data": {
      "image/png": "[encoded data removed]",
      "text/plain": [
       "<Figure size 500x200 with 1 Axes>"
      ]
     },
     "metadata": {},
     "output_type": "display_data"
    }
   ],
   "source": [
    "%matplotlib inline\n",
    "plt.rc('figure', figsize=(5., 2.))\n",
    "plt.bar(x, y)\n",
    "plt.show()"
   ]
  },
  {
   "cell_type": "code",
   "execution_count": 17,
   "metadata": {},
   "outputs": [
    {
     "name": "stdout",
     "output_type": "stream",
     "text": [
      "[['A-Bomb', 'Richard Milhouse Jones', 'Scarsdale, Arizona', 'Marvel Comics', '203.21000000000001', '441.94999999999999', 'M', '2008', 'Yellow', 'No Hair', '100', 'moderate'], ['Abraxas', 'Abraxas', 'Within Eternity ', 'Marvel Comics', '', '', 'M', '', 'Blue', 'Black', '100', 'high']]\n"
     ]
    }
   ],
   "source": [
    "with open(\"content/data/heroes.csv\", \"r\") as heroes_file: #aprire risorsa file\n",
    "  heroes_reader = csv.reader(heroes_file, delimiter=\";\", quotechar=\"\\\"\") #leggo csv\n",
    "  heroes = list(heroes_reader)[1:] #assegno risultato del reader - header\n",
    "  print(heroes[:2])"
   ]
  },
  {
   "cell_type": "markdown",
   "metadata": {},
   "source": [
    "Il modulo Csv però legge tutto come stringa. Dobbiamo riportare i dati nel tipo originale."
   ]
  },
  {
   "cell_type": "code",
   "execution_count": 18,
   "metadata": {},
   "outputs": [
    {
     "data": {
      "text/plain": [
       "[2008,\n",
       " 2007,\n",
       " 1993,\n",
       " 1959,\n",
       " 1965,\n",
       " 2001,\n",
       " 1985,\n",
       " 1980,\n",
       " 1964,\n",
       " 1995,\n",
       " 1986,\n",
       " 1996,\n",
       " 1941,\n",
       " 2005,\n",
       " 1963,\n",
       " 1981,\n",
       " 1984,\n",
       " 1979,\n",
       " 1984,\n",
       " 2004,\n",
       " 2011,\n",
       " 2005,\n",
       " 2005,\n",
       " 1981,\n",
       " 1968,\n",
       " 1965,\n",
       " 1981,\n",
       " 1980,\n",
       " 1963,\n",
       " 1972,\n",
       " 2004,\n",
       " 1975,\n",
       " 1960,\n",
       " 1961,\n",
       " 1986,\n",
       " 2011,\n",
       " 1968,\n",
       " 1964,\n",
       " 1984,\n",
       " 2003,\n",
       " 1994,\n",
       " 1977,\n",
       " 1962,\n",
       " 1972,\n",
       " 2004,\n",
       " 1985,\n",
       " 2001,\n",
       " 1977,\n",
       " 1982,\n",
       " 1975,\n",
       " 2010,\n",
       " 1980,\n",
       " 1993,\n",
       " 1993,\n",
       " 1999,\n",
       " 1993,\n",
       " 1976,\n",
       " 1998,\n",
       " 2000,\n",
       " 2011,\n",
       " 1977,\n",
       " 1992,\n",
       " 1998,\n",
       " 1992,\n",
       " 1966,\n",
       " 1940,\n",
       " 1944,\n",
       " 1965,\n",
       " 2012,\n",
       " 1999,\n",
       " 1998,\n",
       " 1964,\n",
       " 1940,\n",
       " 1980,\n",
       " 1973,\n",
       " 1979,\n",
       " 1995,\n",
       " 1964,\n",
       " 1964,\n",
       " 1994,\n",
       " 2000,\n",
       " 1963,\n",
       " 1941,\n",
       " 1977,\n",
       " 1986,\n",
       " 1976,\n",
       " 1981,\n",
       " 1989,\n",
       " 1959,\n",
       " 1948,\n",
       " 2015,\n",
       " 1940,\n",
       " 1989,\n",
       " 2008,\n",
       " 2007,\n",
       " 1980,\n",
       " 1972,\n",
       " 1981,\n",
       " 1965,\n",
       " 1967,\n",
       " 1971,\n",
       " 1964,\n",
       " 1986,\n",
       " 1963,\n",
       " 1990,\n",
       " 1987,\n",
       " 1968,\n",
       " 1976,\n",
       " 1941,\n",
       " 1963,\n",
       " 1963,\n",
       " 2004,\n",
       " 1963,\n",
       " 1941,\n",
       " 2007,\n",
       " 1989,\n",
       " 1996,\n",
       " 1976,\n",
       " 1975,\n",
       " 1979,\n",
       " 1963,\n",
       " 1985,\n",
       " 1972,\n",
       " 1939,\n",
       " 1947,\n",
       " 1964,\n",
       " 2004,\n",
       " 1975,\n",
       " 1975,\n",
       " 2001,\n",
       " 1975,\n",
       " 1965,\n",
       " 1987,\n",
       " 1985,\n",
       " 1971,\n",
       " 1987,\n",
       " 1959,\n",
       " 2000,\n",
       " 2006,\n",
       " 2004,\n",
       " 1971,\n",
       " 1987,\n",
       " 1963,\n",
       " 1995,\n",
       " 1965,\n",
       " 1997,\n",
       " 1955,\n",
       " 1970,\n",
       " 1984,\n",
       " 1964,\n",
       " 1971,\n",
       " 2005,\n",
       " 1977,\n",
       " 1985,\n",
       " 1972,\n",
       " 2007,\n",
       " 1985,\n",
       " 1955,\n",
       " 1964,\n",
       " 1997,\n",
       " 1964,\n",
       " 1966,\n",
       " 1967,\n",
       " 1933,\n",
       " 2015,\n",
       " 1986,\n",
       " 1983,\n",
       " 1960,\n",
       " 1964,\n",
       " 1993,\n",
       " 1975,\n",
       " 1965,\n",
       " 1977,\n",
       " 1989,\n",
       " 1940,\n",
       " 1997,\n",
       " 2003,\n",
       " 1985,\n",
       " 2010,\n",
       " 2010,\n",
       " 2016,\n",
       " 1963,\n",
       " 2016,\n",
       " 1976,\n",
       " 1987,\n",
       " 2013,\n",
       " 1963,\n",
       " 1972,\n",
       " 2004,\n",
       " 1976,\n",
       " 1963,\n",
       " 1974,\n",
       " 2008,\n",
       " 1994,\n",
       " 1981,\n",
       " 1984,\n",
       " 1989,\n",
       " 1961,\n",
       " 1992,\n",
       " 1981,\n",
       " 2008,\n",
       " 1994,\n",
       " 2008,\n",
       " 1962,\n",
       " 1976,\n",
       " 1993,\n",
       " 1963,\n",
       " 1961,\n",
       " 1940,\n",
       " 2005,\n",
       " 1999,\n",
       " 1968,\n",
       " 1977,\n",
       " 1964,\n",
       " 1999,\n",
       " 1995,\n",
       " 1960,\n",
       " 2006,\n",
       " 1959,\n",
       " 2005,\n",
       " 1964,\n",
       " 1981,\n",
       " 1944,\n",
       " 1994,\n",
       " 1941,\n",
       " 2011,\n",
       " 2006,\n",
       " 1972,\n",
       " 1954,\n",
       " 1975,\n",
       " 1966,\n",
       " 2003,\n",
       " 1956,\n",
       " 1966,\n",
       " 1960,\n",
       " 1978,\n",
       " 1985,\n",
       " 1940,\n",
       " 1977,\n",
       " 1969,\n",
       " 1993,\n",
       " 2011,\n",
       " 1992,\n",
       " 1972,\n",
       " 1960,\n",
       " 2004,\n",
       " 1986,\n",
       " 1973,\n",
       " 1964,\n",
       " 1992,\n",
       " 1992,\n",
       " 1964,\n",
       " 1992,\n",
       " 1962,\n",
       " 1940,\n",
       " 1972,\n",
       " 1965,\n",
       " 1965,\n",
       " 1971,\n",
       " 1992,\n",
       " 1980,\n",
       " 1963,\n",
       " 1991,\n",
       " 1950,\n",
       " 1963,\n",
       " 1967,\n",
       " 1980,\n",
       " 1977,\n",
       " 1976,\n",
       " 1999,\n",
       " 1990,\n",
       " 1970,\n",
       " 1991,\n",
       " 2004,\n",
       " 1974,\n",
       " 1963,\n",
       " 1990,\n",
       " 2010,\n",
       " 1964,\n",
       " 1963,\n",
       " 1980,\n",
       " 1985,\n",
       " 1991,\n",
       " 1975,\n",
       " 1994,\n",
       " 1960,\n",
       " 2007,\n",
       " 1987,\n",
       " 1965,\n",
       " 1943,\n",
       " 1980,\n",
       " 1967,\n",
       " 1997,\n",
       " 1994,\n",
       " 1991,\n",
       " 1979,\n",
       " 1995,\n",
       " 1994,\n",
       " 2012,\n",
       " 1993,\n",
       " 1976,\n",
       " 1982,\n",
       " 1976,\n",
       " 1941,\n",
       " 1986,\n",
       " 1958,\n",
       " 2006,\n",
       " 1973,\n",
       " 2006,\n",
       " 1993,\n",
       " 1964,\n",
       " 1987,\n",
       " 1966,\n",
       " 1994,\n",
       " 2005,\n",
       " 1994,\n",
       " 1973,\n",
       " 1990,\n",
       " 2099,\n",
       " 1975,\n",
       " 1977,\n",
       " 1979,\n",
       " 1965,\n",
       " 1945,\n",
       " 1947,\n",
       " 1958,\n",
       " 1984,\n",
       " 1991,\n",
       " 1967,\n",
       " 1965,\n",
       " 1979,\n",
       " 1987,\n",
       " 1967,\n",
       " 1992,\n",
       " 1967,\n",
       " 1964,\n",
       " 1965,\n",
       " 2006,\n",
       " 1986,\n",
       " 2009,\n",
       " 2006,\n",
       " 1967,\n",
       " 1966,\n",
       " 2008,\n",
       " 1940,\n",
       " 1979,\n",
       " 2003,\n",
       " 2004,\n",
       " 2004,\n",
       " 1993,\n",
       " 1986,\n",
       " 1963,\n",
       " 1960,\n",
       " 1987,\n",
       " 1965,\n",
       " 1941,\n",
       " 1986,\n",
       " 1979,\n",
       " 1968,\n",
       " 1969,\n",
       " 1988,\n",
       " 1979,\n",
       " 1943,\n",
       " 1940,\n",
       " 1960,\n",
       " 1962,\n",
       " 1998]"
      ]
     },
     "execution_count": 18,
     "metadata": {},
     "output_type": "execute_result"
    }
   ],
   "source": [
    "years = [int(h[7]) for h in heroes if h[7]] #per ogni hero in heroes, se l'anno è diverso da None o dal valore zero del tipo (stringa = ''), allora prendi l'anno\n",
    "years"
   ]
  },
  {
   "cell_type": "markdown",
   "metadata": {},
   "source": [
    "Possiamo ora generare il grafico delle frequenze assolute (degli anni):"
   ]
  },
  {
   "cell_type": "code",
   "execution_count": 19,
   "metadata": {},
   "outputs": [
    {
     "data": {
      "image/png": "[encoded data removed]",
      "text/plain": [
       "<Figure size 500x200 with 1 Axes>"
      ]
     },
     "metadata": {},
     "output_type": "display_data"
    }
   ],
   "source": [
    "counts = get_sorted_counts(years)\n",
    "x, y = np.array(counts).transpose()\n",
    "plt.bar(x, y)\n",
    "plt.show()"
   ]
  },
  {
   "cell_type": "markdown",
   "metadata": {},
   "source": [
    "La presenza di un valore outlier va a rovinare il grafico. Possiamo:\n",
    "- Escluderlo con una list comprehension su `years`:"
   ]
  },
  {
   "cell_type": "code",
   "execution_count": 20,
   "metadata": {},
   "outputs": [
    {
     "data": {
      "text/plain": [
       "[2099]"
      ]
     },
     "execution_count": 20,
     "metadata": {},
     "output_type": "execute_result"
    }
   ],
   "source": [
    "[year for year in years if year > 2025]"
   ]
  },
  {
   "cell_type": "markdown",
   "metadata": {},
   "source": [
    "- Utilizzare un limite per gli assi con matplotlib:"
   ]
  },
  {
   "cell_type": "code",
   "execution_count": 21,
   "metadata": {},
   "outputs": [
    {
     "data": {
      "image/png": "[encoded data removed]",
      "text/plain": [
       "<Figure size 500x200 with 1 Axes>"
      ]
     },
     "metadata": {},
     "output_type": "display_data"
    }
   ],
   "source": [
    "plt.bar(x, y)\n",
    "plt.xlim((1950, 2015))\n",
    "plt.ylim((0, 18.5))\n",
    "plt.show()"
   ]
  },
  {
   "cell_type": "markdown",
   "metadata": {},
   "source": [
    "### Basi delle statistica descrittiva\n",
    "\n",
    "Nel corso vedremo: \n",
    "- **Statistica descrittiva**: trasformare dati in un indice numerico (o pochi valori numerici) o in una rappresentazione grafica. In questo modo si possono azzardare conclusioni basate sull'indice o la rappresentazione.\n",
    "- **Calcolo delle probabilità**: strumento matematico che mi permette di formalizzare situazioni nelle quali posso trarre conclusioni facendo stime su qualcosa che non conosco. Parto da un campione di valori e li uso per ottenere una stima di una quantità che non conosco (quanti grammi di farmaco devo dare ad un paziente).\n",
    "- **Statistica inferenziale**: trarre conclusioni robuste rispetto all'innata incertezza. (?)\n",
    "\n",
    "**Popolazione**: insieme di individui (o oggetti) sul quale deve essere svolta l'analisi.\n",
    "**Campione**: sottoinsieme della popolazione che deve essere rappresentativo di quest'ultima. Per essere rappresentativo, un campione non deve avere alcun **bias** (ad esempio prendere come campione delle batterie prodotte in un singolo stabilimento, piuttosto che anche in tutti gli altri stabilimenti).\n",
    "Vogliamo avere una popolazione divisa in due parti: in questo modo posso verificare l'effetto dell'esperimento in confronto con la parte di popolazione su cui non applico l'esperimento (**gruppo di controllo**).\n",
    "\n",
    "Esempio: ipotizziamo di avere: \n",
    "- 300 studenti nel I anno\n",
    "- 500 studenti nel II anno\n",
    "- 600 studenti nel III anno\n",
    "- 600 studenti nel IV anno\n",
    "- 2000 studenti in totale\n",
    "\n",
    "Se la frequenza è espressa come numero assoluto, allora si parla di **frequenza assoluta**.\n",
    "La **frequenza relativa** relativa si ottiene invece dividendo il valore degli studenti per la frequenza assoluta. La somma delle frequenze relative è sempre 1. La frequenza relativa moltiplicata per 100 risulta essere la percentuale della popolazione.\n",
    "Per avere un **campione stratificato**, devo avere la stessa frequenza assoluta della popolazione.\n",
    "\n",
    "### Analisi di tipo quantitativo:\n",
    "\n",
    "Useremo $x$ per indicare un valore dentro al campione. Avendone tanti li rappresentiamo come {$x_1, x_2, ..., x_n$}. Attenzione alla case-sensitivity, minuscolo e maiuscolo vogliono dire cose differenti in statistica.\n",
    "\n",
    "Siamo interessati alla **posizione** o **centralità** dei dati: come un dato si distribuisce su una distribuzione.\n",
    "Usiamo 3 indici di centralità:\n",
    "\n",
    "#### Media campionaria \n",
    "$\\overline{x} = \\dfrac{1}{n} \\sum_{i=1}^{n}x_i$\n",
    "\n",
    "E' un indice di centralità in quanto è una sorta di baricentro dei dati. Sommando gli scarti dalla media campionaria otteniamo $n$ volte la media campionaria $\\overline{x}$: \n",
    "\n",
    "$n\\overline{x} = \\sum_{i=1}^{n}x_i - \\sum_{i=1}^{n}\\overline{x}$\n",
    "\n",
    "Lo scarto dalla media campionaria indica quanto il dato è distante dal centro.\n",
    "Avendo una tabella delle frequenze assolute si ha un altro modo di calcolare la media aritmetica:\n",
    "\n",
    "\n",
    "#### Mediana campionaria"
   ]
  }
 ],
 "metadata": {
  "kernelspec": {
   "display_name": "Python 3",
   "language": "python",
   "name": "python3"
  },
  "language_info": {
   "codemirror_mode": {
    "name": "ipython",
    "version": 3
   },
   "file_extension": ".py",
   "mimetype": "text/x-python",
   "name": "python",
   "nbconvert_exporter": "python",
   "pygments_lexer": "ipython3",
   "version": "3.12.4"
  }
 },
 "nbformat": 4,
 "nbformat_minor": 2
}
