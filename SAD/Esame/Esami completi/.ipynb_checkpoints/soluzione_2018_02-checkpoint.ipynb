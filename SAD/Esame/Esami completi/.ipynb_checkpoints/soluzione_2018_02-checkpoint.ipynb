{
 "cells": [
  {
   "cell_type": "markdown",
   "metadata": {},
   "source": [
    "# Febbraio  2018\n",
    "## Esercizio 0\n",
    "$P(A|B) = \\frac{P(A \\cap B)}{P(B)} = \\frac{P(B|A) P(A)}{P(B)}$"
   ]
  },
  {
   "cell_type": "markdown",
   "metadata": {},
   "source": [
    "## Esercizio 1\n",
    "### 1.1\n",
    "$D_X = (0,1)$\n",
    "### 1.2\n",
    "P(X \\leq 0.5) = (1-p)\n",
    "\n",
    "### 1.3\n",
    "$$Var(X) \\leq \\frac{1}{4}$$\n",
    "$Var(X) = p - p^2$\n",
    "\n",
    "Facendo lo studio di funzione notiamo che nel max ho $p = \\frac{1}{2}$ quindi nel punto massimo $Var(X) = \\frac{1}{2}-\\frac{1}{4} = \\frac{1}{4}$\n",
    "### 1.4\n",
    "$\\overline{X} = \\frac{1}{n} \\sum X_i$ non distorto per p\n",
    "\n",
    "$E[\\frac{1}{n}\\sum X_i] = \\frac{1}{n}\\sum E[X_i] = \\frac{n}{n} E[X] = E(X) = p$\n",
    "\n",
    "### 1.5\n",
    "\n",
    "$$P(|T_n - p| \\leq \\epsilon) \\geq 1 - \\delta$$\n",
    "$$\\delta \\geq \\frac{1}{4n\\epsilon^2}$$\n",
    "\n",
    "Per Chebyshev\n",
    "\n",
    "$P(|T_n - p| > \\epsilon) \\geq \\frac{Var(T_n)}{\\epsilon^2}$\n",
    "\n",
    "$P(|T_n - p| < \\epsilon) \\leq 1- \\frac{Var(T_n)}{\\epsilon^2}$\n",
    "\n",
    "$1-\\frac{Var(X)}{\\epsilon^2} = 1 - \\frac{(1-p)p}{n\\epsilon^2}$ poichè $Var(T_n) = \\frac{Var(X)}{n}$\n",
    "\n",
    "Nel valore max abbiamo dimostrato che $Var(X) = \\frac{1}{4}$ quindi\n",
    "$= 1- \\frac{1}{4n\\epsilon^2}$\n",
    "\n",
    "Tornando all'espressione iniziale\n",
    "\n",
    "$P(|T_n - p| < \\epsilon) \\leq 1- \\frac{1}{4n\\epsilon^2} \\leq 1 -\\delta$\n",
    "quindi l'espressione è verificata\n",
    "\n",
    "### 1.6\n",
    "Grafico\n",
    "### 1.7\n",
    "$$P(|Y-np|\\leq 1.5)$$\n",
    "\n",
    "Standardizzo: $Y^* = \\frac{|Y-np|}{np(1-p)}$\n",
    "\n",
    "$$\\Phi(\\frac{1.5}{np(1-p)})-\\Phi(-\\frac{1.5}{np(1-p)})$$\n",
    "\n",
    "$$\\Phi(\\frac{1.5}{37*0.35(0.65)})) = \\Phi(8.4175)$$\n",
    "\n",
    "Z(np,np\n",
    "$$P(|Z-np|\\leq 1.5)$$\n",
    "P(-1.5+np < Z < 1.5+np)\n",
    "\n",
    "$$\\Phi(\\frac{1.5+np}{np(1-p)})-\\Phi(\\frac{-1.5+np}{np(1-p)})$$\n",
    "\n",
    "$$\\Phi(\\frac{1.5}{37*0.35(0.65)})) = \\Phi(8.4175)$$"
   ]
  },
  {
   "cell_type": "code",
   "execution_count": 1,
   "metadata": {},
   "outputs": [],
   "source": [
    "import pandas as pd\n",
    "import matplotlib.pyplot as plt\n",
    "import numpy as np\n",
    "import statsmodels.api as sm\n",
    "import scipy.stats as st"
   ]
  },
  {
   "cell_type": "code",
   "execution_count": 2,
   "metadata": {},
   "outputs": [
    {
     "data": {
      "text/plain": [
       "0.1414342302202134"
      ]
     },
     "execution_count": 2,
     "metadata": {},
     "output_type": "execute_result"
    }
   ],
   "source": [
    "Y = st.norm()\n",
    "n = 47\n",
    "sigma = 37*0.35*0.65\n",
    "y1 = 1.5/sigma\n",
    "Y.cdf(y1)-Y.cdf(-y1)"
   ]
  },
  {
   "cell_type": "code",
   "execution_count": 3,
   "metadata": {},
   "outputs": [
    {
     "data": {
      "text/plain": [
       "0.8066940654195229"
      ]
     },
     "execution_count": 3,
     "metadata": {},
     "output_type": "execute_result"
    }
   ],
   "source": [
    "p=0.35\n",
    "Z =st.norm()\n",
    "z1 = (1.5 + (27*0.35))/sigma\n",
    "Z.cdf(z1)-Z.cdf(-z1)"
   ]
  },
  {
   "cell_type": "markdown",
   "metadata": {},
   "source": [
    "### Esercizio 2"
   ]
  },
  {
   "cell_type": "code",
   "execution_count": 4,
   "metadata": {},
   "outputs": [
    {
     "data": {
      "text/plain": [
       "Index(['giorno.settimana', 'peso.pescato', 'settore.di.pesca', 'settore.num',\n",
       "       'forza.del.mare', 'tempesta'],\n",
       "      dtype='object')"
      ]
     },
     "execution_count": 4,
     "metadata": {},
     "output_type": "execute_result"
    }
   ],
   "source": [
    "pesca = pd.read_csv('pesca.csv', sep=',', decimal='.')\n",
    "pesca.columns"
   ]
  },
  {
   "cell_type": "markdown",
   "metadata": {},
   "source": [
    "### 2.1"
   ]
  },
  {
   "cell_type": "code",
   "execution_count": 5,
   "metadata": {},
   "outputs": [
    {
     "data": {
      "text/plain": [
       "5"
      ]
     },
     "execution_count": 5,
     "metadata": {},
     "output_type": "execute_result"
    }
   ],
   "source": [
    "len(pesca['giorno.settimana'].unique())\n",
    "#print(\"le giornate lavorative sono 5\")"
   ]
  },
  {
   "cell_type": "markdown",
   "metadata": {},
   "source": [
    "## 2.2"
   ]
  },
  {
   "cell_type": "code",
   "execution_count": 6,
   "metadata": {},
   "outputs": [
    {
     "data": {
      "text/plain": [
       "255"
      ]
     },
     "execution_count": 6,
     "metadata": {},
     "output_type": "execute_result"
    }
   ],
   "source": [
    "len(pesca['giorno.settimana'])"
   ]
  },
  {
   "cell_type": "markdown",
   "metadata": {},
   "source": [
    "### 2.3"
   ]
  },
  {
   "cell_type": "code",
   "execution_count": 7,
   "metadata": {},
   "outputs": [
    {
     "name": "stdout",
     "output_type": "stream",
     "text": [
      "frequenza assoluta:\n",
      "94\n",
      "freq relativa\n",
      "0.3686274509803922\n"
     ]
    }
   ],
   "source": [
    "print(\"frequenza assoluta:\")\n",
    "fr = len(pesca[pesca['tempesta']==1])\n",
    "print(fr)\n",
    "print(\"freq relativa\")\n",
    "print(fr/len(pesca))"
   ]
  },
  {
   "cell_type": "markdown",
   "metadata": {},
   "source": [
    "### 2.4"
   ]
  },
  {
   "cell_type": "code",
   "execution_count": 8,
   "metadata": {},
   "outputs": [
    {
     "data": {
      "image/png": "[encoded data removed]",
      "text/plain": [
       "<Figure size 432x288 with 1 Axes>"
      ]
     },
     "metadata": {},
     "output_type": "display_data"
    }
   ],
   "source": [
    "pesca['tempesta'].value_counts().plot.bar()\n",
    "plt.show()"
   ]
  },
  {
   "cell_type": "markdown",
   "metadata": {},
   "source": [
    "### 2.5"
   ]
  },
  {
   "cell_type": "code",
   "execution_count": 9,
   "metadata": {},
   "outputs": [
    {
     "data": {
      "text/plain": [
       "9"
      ]
     },
     "execution_count": 9,
     "metadata": {},
     "output_type": "execute_result"
    }
   ],
   "source": [
    "len(pesca['settore.di.pesca'].unique())"
   ]
  },
  {
   "cell_type": "markdown",
   "metadata": {},
   "source": [
    "### 2.6"
   ]
  },
  {
   "cell_type": "code",
   "execution_count": 10,
   "metadata": {},
   "outputs": [
    {
     "data": {
      "text/plain": [
       "A    0.145098\n",
       "Name: settore.di.pesca, dtype: float64"
      ]
     },
     "execution_count": 10,
     "metadata": {},
     "output_type": "execute_result"
    }
   ],
   "source": [
    "fres = pesca[\"settore.di.pesca\"].value_counts(normalize = True)\n",
    "mask = fres.index == \"A\"\n",
    "fres[mask]"
   ]
  },
  {
   "cell_type": "markdown",
   "metadata": {},
   "source": [
    "### 2.7"
   ]
  },
  {
   "cell_type": "code",
   "execution_count": 11,
   "metadata": {},
   "outputs": [
    {
     "data": {
      "text/html": [
       "<div>\n",
       "<style scoped>\n",
       "    .dataframe tbody tr th:only-of-type {\n",
       "        vertical-align: middle;\n",
       "    }\n",
       "\n",
       "    .dataframe tbody tr th {\n",
       "        vertical-align: top;\n",
       "    }\n",
       "\n",
       "    .dataframe thead th {\n",
       "        text-align: right;\n",
       "    }\n",
       "</style>\n",
       "<table border=\"1\" class=\"dataframe\">\n",
       "  <thead>\n",
       "    <tr style=\"text-align: right;\">\n",
       "      <th>tempesta</th>\n",
       "      <th>0</th>\n",
       "      <th>1</th>\n",
       "    </tr>\n",
       "    <tr>\n",
       "      <th>settore.di.pesca</th>\n",
       "      <th></th>\n",
       "      <th></th>\n",
       "    </tr>\n",
       "  </thead>\n",
       "  <tbody>\n",
       "    <tr>\n",
       "      <th>A</th>\n",
       "      <td>24</td>\n",
       "      <td>13</td>\n",
       "    </tr>\n",
       "    <tr>\n",
       "      <th>B</th>\n",
       "      <td>28</td>\n",
       "      <td>24</td>\n",
       "    </tr>\n",
       "    <tr>\n",
       "      <th>C</th>\n",
       "      <td>19</td>\n",
       "      <td>14</td>\n",
       "    </tr>\n",
       "    <tr>\n",
       "      <th>D</th>\n",
       "      <td>3</td>\n",
       "      <td>2</td>\n",
       "    </tr>\n",
       "    <tr>\n",
       "      <th>E</th>\n",
       "      <td>24</td>\n",
       "      <td>16</td>\n",
       "    </tr>\n",
       "    <tr>\n",
       "      <th>F</th>\n",
       "      <td>5</td>\n",
       "      <td>3</td>\n",
       "    </tr>\n",
       "    <tr>\n",
       "      <th>G</th>\n",
       "      <td>20</td>\n",
       "      <td>11</td>\n",
       "    </tr>\n",
       "    <tr>\n",
       "      <th>H</th>\n",
       "      <td>8</td>\n",
       "      <td>1</td>\n",
       "    </tr>\n",
       "    <tr>\n",
       "      <th>I</th>\n",
       "      <td>30</td>\n",
       "      <td>10</td>\n",
       "    </tr>\n",
       "  </tbody>\n",
       "</table>\n",
       "</div>"
      ],
      "text/plain": [
       "tempesta           0   1\n",
       "settore.di.pesca        \n",
       "A                 24  13\n",
       "B                 28  24\n",
       "C                 19  14\n",
       "D                  3   2\n",
       "E                 24  16\n",
       "F                  5   3\n",
       "G                 20  11\n",
       "H                  8   1\n",
       "I                 30  10"
      ]
     },
     "execution_count": 11,
     "metadata": {},
     "output_type": "execute_result"
    }
   ],
   "source": [
    "pd.crosstab(pesca[\"settore.di.pesca\"], pesca[\"tempesta\"])"
   ]
  },
  {
   "cell_type": "markdown",
   "metadata": {},
   "source": [
    "### 2.8"
   ]
  },
  {
   "cell_type": "code",
   "execution_count": 12,
   "metadata": {},
   "outputs": [
    {
     "data": {
      "text/html": [
       "<div>\n",
       "<style scoped>\n",
       "    .dataframe tbody tr th:only-of-type {\n",
       "        vertical-align: middle;\n",
       "    }\n",
       "\n",
       "    .dataframe tbody tr th {\n",
       "        vertical-align: top;\n",
       "    }\n",
       "\n",
       "    .dataframe thead th {\n",
       "        text-align: right;\n",
       "    }\n",
       "</style>\n",
       "<table border=\"1\" class=\"dataframe\">\n",
       "  <thead>\n",
       "    <tr style=\"text-align: right;\">\n",
       "      <th>tempesta</th>\n",
       "      <th>0</th>\n",
       "      <th>1</th>\n",
       "    </tr>\n",
       "    <tr>\n",
       "      <th>settore.di.pesca</th>\n",
       "      <th></th>\n",
       "      <th></th>\n",
       "    </tr>\n",
       "  </thead>\n",
       "  <tbody>\n",
       "    <tr>\n",
       "      <th>A</th>\n",
       "      <td>24</td>\n",
       "      <td>13</td>\n",
       "    </tr>\n",
       "  </tbody>\n",
       "</table>\n",
       "</div>"
      ],
      "text/plain": [
       "tempesta           0   1\n",
       "settore.di.pesca        \n",
       "A                 24  13"
      ]
     },
     "execution_count": 12,
     "metadata": {},
     "output_type": "execute_result"
    }
   ],
   "source": [
    "frea = pd.crosstab(pesca[\"settore.di.pesca\"], pesca[\"tempesta\"])\n",
    "mask = frea.index == \"A\"\n",
    "frea[mask]"
   ]
  },
  {
   "cell_type": "markdown",
   "metadata": {},
   "source": [
    "### 2.9"
   ]
  },
  {
   "cell_type": "code",
   "execution_count": 13,
   "metadata": {},
   "outputs": [
    {
     "data": {
      "text/plain": [
       "0.3686274509803922"
      ]
     },
     "execution_count": 13,
     "metadata": {},
     "output_type": "execute_result"
    }
   ],
   "source": [
    "(pesca[\"tempesta\"].mean())"
   ]
  },
  {
   "cell_type": "markdown",
   "metadata": {},
   "source": [
    "### 2.10"
   ]
  },
  {
   "cell_type": "code",
   "execution_count": 14,
   "metadata": {},
   "outputs": [
    {
     "data": {
      "text/plain": [
       "255"
      ]
     },
     "execution_count": 14,
     "metadata": {},
     "output_type": "execute_result"
    }
   ],
   "source": [
    "len(pesca[\"tempesta\"])"
   ]
  },
  {
   "cell_type": "markdown",
   "metadata": {},
   "source": [
    "### 2.11"
   ]
  },
  {
   "cell_type": "code",
   "execution_count": 15,
   "metadata": {},
   "outputs": [
    {
     "data": {
      "text/plain": [
       "0.35135135135135137"
      ]
     },
     "execution_count": 15,
     "metadata": {},
     "output_type": "execute_result"
    }
   ],
   "source": [
    "setta = pesca[pesca[\"settore.di.pesca\"] == \"A\"]\n",
    "setta[\"tempesta\"].mean()"
   ]
  },
  {
   "cell_type": "markdown",
   "metadata": {},
   "source": [
    "### 2.12\n",
    "$$P(A|T = 1) = \\frac{P(A \\cap T = 1)}{P(T=1)}$$"
   ]
  },
  {
   "cell_type": "code",
   "execution_count": 16,
   "metadata": {},
   "outputs": [
    {
     "data": {
      "text/plain": [
       "0.9531339850488787"
      ]
     },
     "execution_count": 16,
     "metadata": {},
     "output_type": "execute_result"
    }
   ],
   "source": [
    "setta[\"tempesta\"].mean()/pesca['tempesta'].mean()"
   ]
  },
  {
   "cell_type": "markdown",
   "metadata": {},
   "source": [
    "### 2.13"
   ]
  },
  {
   "cell_type": "code",
   "execution_count": 17,
   "metadata": {},
   "outputs": [
    {
     "data": {
      "text/plain": [
       "37"
      ]
     },
     "execution_count": 17,
     "metadata": {},
     "output_type": "execute_result"
    }
   ],
   "source": [
    "len(setta.dropna())"
   ]
  },
  {
   "cell_type": "markdown",
   "metadata": {},
   "source": [
    "### 2.14\n",
    "n = 37\n",
    "$$P(|p_{TA} -p | \\leq 0.1 ) > 1 - \\frac{Var(X)}{n*(0.1)^2}$$\n",
    "Per il punto precedente so che n = 37"
   ]
  },
  {
   "cell_type": "code",
   "execution_count": 18,
   "metadata": {},
   "outputs": [
    {
     "data": {
      "text/plain": [
       "0.36693450206963685"
      ]
     },
     "execution_count": 18,
     "metadata": {},
     "output_type": "execute_result"
    }
   ],
   "source": [
    "pta = setta[\"tempesta\"].mean()\n",
    "var = setta[\"tempesta\"].var()\n",
    "1-(var/(37*(0.1)**2))"
   ]
  },
  {
   "cell_type": "markdown",
   "metadata": {},
   "source": [
    "### Esercizio 3"
   ]
  },
  {
   "cell_type": "markdown",
   "metadata": {},
   "source": [
    "### 3.1"
   ]
  },
  {
   "cell_type": "code",
   "execution_count": 19,
   "metadata": {},
   "outputs": [
    {
     "name": "stdout",
     "output_type": "stream",
     "text": [
      "continuo\n"
     ]
    }
   ],
   "source": [
    "pesca['peso.pescato']\n",
    "print(\"continuo\")"
   ]
  },
  {
   "cell_type": "markdown",
   "metadata": {},
   "source": [
    "### 3.2"
   ]
  },
  {
   "cell_type": "code",
   "execution_count": 20,
   "metadata": {},
   "outputs": [
    {
     "data": {
      "image/png": "[encoded data removed]",
      "text/plain": [
       "<Figure size 432x288 with 1 Axes>"
      ]
     },
     "metadata": {},
     "output_type": "display_data"
    }
   ],
   "source": [
    "pesca['peso.pescato'].hist()\n",
    "plt.show()"
   ]
  },
  {
   "cell_type": "markdown",
   "metadata": {},
   "source": [
    "### 3.3"
   ]
  },
  {
   "cell_type": "code",
   "execution_count": 21,
   "metadata": {},
   "outputs": [
    {
     "data": {
      "text/plain": [
       "37.64705882352941"
      ]
     },
     "execution_count": 21,
     "metadata": {},
     "output_type": "execute_result"
    }
   ],
   "source": [
    "mask1 = pesca['peso.pescato'] > 10\n",
    "mask2 = pesca['peso.pescato'] < 15\n",
    "pp = pesca[mask1 & mask2]\n",
    "len(pp['giorno.settimana'])/len(pesca['giorno.settimana']) * 100"
   ]
  },
  {
   "cell_type": "markdown",
   "metadata": {},
   "source": [
    "### 3.4"
   ]
  },
  {
   "cell_type": "code",
   "execution_count": 22,
   "metadata": {},
   "outputs": [
    {
     "name": "stdout",
     "output_type": "stream",
     "text": [
      "16.09024449815005\n",
      "10.788632531936003\n"
     ]
    }
   ],
   "source": [
    "print(pesca[\"peso.pescato\"].var())\n",
    "print(pesca[\"peso.pescato\"].mean())"
   ]
  },
  {
   "cell_type": "markdown",
   "metadata": {},
   "source": [
    "### 3.5"
   ]
  },
  {
   "cell_type": "code",
   "execution_count": 23,
   "metadata": {},
   "outputs": [
    {
     "data": {
      "text/plain": [
       "0.431590863816581"
      ]
     },
     "execution_count": 23,
     "metadata": {},
     "output_type": "execute_result"
    }
   ],
   "source": [
    "from scipy.stats import norm\n",
    "X = norm(loc = 10.78, scale = 4)\n",
    "z = X.cdf(10)\n",
    "y = X.cdf(15)\n",
    "y-z"
   ]
  },
  {
   "cell_type": "markdown",
   "metadata": {},
   "source": [
    "### 3.6"
   ]
  },
  {
   "cell_type": "code",
   "execution_count": 24,
   "metadata": {},
   "outputs": [
    {
     "name": "stdout",
     "output_type": "stream",
     "text": [
      "Si possono confrontare perchè 3.5 è un approssimazione\n"
     ]
    }
   ],
   "source": [
    "print(\"Si possono confrontare perchè 3.5 è un approssimazione\")"
   ]
  },
  {
   "cell_type": "markdown",
   "metadata": {},
   "source": [
    "### 3.8"
   ]
  },
  {
   "cell_type": "code",
   "execution_count": 25,
   "metadata": {},
   "outputs": [
    {
     "data": {
      "image/png": "[encoded data removed]",
      "text/plain": [
       "<Figure size 432x288 with 1 Axes>"
      ]
     },
     "metadata": {},
     "output_type": "display_data"
    }
   ],
   "source": [
    "plt.scatter(pesca['forza.del.mare'],pesca['tempesta'])\n",
    "plt.show()"
   ]
  },
  {
   "cell_type": "markdown",
   "metadata": {},
   "source": [
    "### 3.9"
   ]
  },
  {
   "cell_type": "code",
   "execution_count": 26,
   "metadata": {},
   "outputs": [
    {
     "name": "stdout",
     "output_type": "stream",
     "text": [
      "tra [0,4] non ho tempesta, poi si\n"
     ]
    }
   ],
   "source": [
    "print(\"tra [0,4] non ho tempesta, poi si\")"
   ]
  },
  {
   "cell_type": "markdown",
   "metadata": {},
   "source": [
    "### 3.10\n",
    "No"
   ]
  },
  {
   "cell_type": "code",
   "execution_count": 28,
   "metadata": {},
   "outputs": [
    {
     "data": {
      "text/plain": [
       "0.8412359096077446"
      ]
     },
     "execution_count": 28,
     "metadata": {},
     "output_type": "execute_result"
    }
   ],
   "source": [
    "pesca['forza.del.mare'].corr(pesca['tempesta'])"
   ]
  },
  {
   "cell_type": "markdown",
   "metadata": {},
   "source": [
    "### 3.11"
   ]
  },
  {
   "cell_type": "code",
   "execution_count": 27,
   "metadata": {},
   "outputs": [
    {
     "data": {
      "text/plain": [
       "0.37180473880354103"
      ]
     },
     "execution_count": 27,
     "metadata": {},
     "output_type": "execute_result"
    }
   ],
   "source": [
    "dati_senza_NA = pesca.dropna()\n",
    "dati_senza_NA[\"peso.pescato\"].std()/dati_senza_NA[\"peso.pescato\"].mean()"
   ]
  },
  {
   "cell_type": "code",
   "execution_count": null,
   "metadata": {},
   "outputs": [],
   "source": []
  }
 ],
 "metadata": {
  "kernelspec": {
   "display_name": "Python 3",
   "language": "python",
   "name": "python3"
  },
  "language_info": {
   "codemirror_mode": {
    "name": "ipython",
    "version": 3
   },
   "file_extension": ".py",
   "mimetype": "text/x-python",
   "name": "python",
   "nbconvert_exporter": "python",
   "pygments_lexer": "ipython3",
   "version": "3.6.5"
  }
 },
 "nbformat": 4,
 "nbformat_minor": 2
}
