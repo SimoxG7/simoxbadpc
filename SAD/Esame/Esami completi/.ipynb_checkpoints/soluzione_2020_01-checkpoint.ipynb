{
 "cells": [
  {
   "cell_type": "markdown",
   "metadata": {},
   "source": [
    "# Gennaio 2020"
   ]
  },
  {
   "cell_type": "code",
   "execution_count": 31,
   "metadata": {},
   "outputs": [],
   "source": [
    "import pandas as pd\n",
    "import numpy as np\n",
    "import scipy.stats as st\n",
    "import matplotlib.pyplot as plt\n",
    "import math"
   ]
  },
  {
   "cell_type": "markdown",
   "metadata": {},
   "source": [
    "### Esercizio 0\n",
    "Dato un evento C in uno spazio campionario $\\Omega$, sia P(C) la probabilità che C si verifichi.\n",
    "Data una partizione $A_1, A_2, ... , A_n$ di $\\Omega$, supponiamo che siano note, per ogni i = 1, ... , n:\n",
    "\n",
    "a) Le probabilità marginali dei singoli eventi $A_i$ e \n",
    "\n",
    "\n",
    "b) le probabilità condizionate che accada C dato che è accaduto $A_i$\n",
    "    \n",
    "Esprimete, in funzione delle opportune probabilità marginali e condizionate, la probabilità che accada l'evento C.\n",
    "\n",
    "$$P(C) = \\displaystyle \\sum_{i=1}^n P(C|A_i)P(A_i)$$"
   ]
  },
  {
   "cell_type": "markdown",
   "metadata": {},
   "source": [
    "# Esercizio 1\n",
    "Sia X una variabile casuale di valore atteso μ e varianza σ², indichiamo con X* la corrispondente variabile standardizzata.\n",
    "\n",
    "__1__\n",
    "Esprimete X* in funzione di X, μ e σ.\n",
    "\n",
    "$$X^* = \\frac{X-\\mu}{\\sigma}$$"
   ]
  },
  {
   "cell_type": "markdown",
   "metadata": {},
   "source": [
    "__2__ Controllate che il valore atteso di X* è uguale a 0.\n",
    "\n",
    "$$ E[X^*] = E[\\frac{X - \\mu}{\\sigma}] $$\n",
    "\n",
    "Per proprietà di linearità del valore atteso\n",
    "\n",
    "$$ E[X^*] = \\frac{E[X] - \\mu}{\\sigma} $$\n",
    "\n",
    "$$ E[X^*] = \\frac{\\mu - \\mu}{\\sigma} $$\n",
    "\n",
    "$$ E[X^*] = 0 $$"
   ]
  },
  {
   "cell_type": "markdown",
   "metadata": {},
   "source": [
    "__3__ Controllate che la varianza di X* è uguale a 1.\n",
    "\n",
    "$$ Var(X^*) = \\frac{1}{\\sigma^2}Var(X-\\mu) = \\frac{Var(X)}{\\sigma^2} = 1$$\n"
   ]
  },
  {
   "cell_type": "markdown",
   "metadata": {},
   "source": [
    "__4__ Supponiamo solo in questo punto che X segua una variabile uniforme discreta con punti di massa nell'insieme {1,2}.\n",
    "\n",
    " * __4.1__ Tracciate il grafico di massa di probabilità di X."
   ]
  },
  {
   "cell_type": "markdown",
   "metadata": {},
   "source": [
    "* __4.2__ Quali valori può assumere X*?\n",
    "Poichè ho $D_X = \\{0,2\\}$ quindi n = 2\n",
    "\n",
    "$$E(X^*) =\\frac{n+1}{2} = \\frac{3}{2} $$\n",
    "\n",
    "$$Var(X^*) = \\frac{n^2+1}{12} = \\frac{1}{4}$$\n",
    "\n",
    "$$\\sigma = \\frac{1}{2}$$\n",
    "\n",
    "Per x = 0\n",
    "\n",
    "$$x^* = \\frac{X-\\mu}{\\sigma} = \\frac{1-\\frac{3}{2}}{\\frac{1}{2}} = -1$$\n",
    "\n",
    "Per x = 2\n",
    "$$x^* = 1$$"
   ]
  },
  {
   "cell_type": "markdown",
   "metadata": {},
   "source": [
    "* __4.3__ Tracciate il grafico di massa di probabilità di X*."
   ]
  },
  {
   "cell_type": "markdown",
   "metadata": {},
   "source": [
    "# Esercizio 2\n",
    "Sia X una variabile casuale normale di parametri μ e σ². Sia k > 0 un valore fissato.\n",
    "\n",
    "__1__ Esprimete, in funzione della funzione di ripartizione Fx, la probabilità che X assuma volori compresi tra μ - k e μ + k.\n",
    "\n",
    "$$ P(\\mu - k <= X <= \\mu + k) $$\n",
    "\n",
    "Applico la definizione di Funzione di Ripartizione e ottengo che\n",
    "\n",
    "$$P(\\mu-k \\leq X \\leq \\mu + k) = F_X(k+\\mu) - F_X(\\mu - k)$$"
   ]
  },
  {
   "cell_type": "markdown",
   "metadata": {},
   "source": [
    "__2__ Controllate che P(μ - k <= X <= μ + k) = P(|X*|<= k/σ).\n",
    "\n",
    "$$X^* = \\frac{X-\\mu}{\\sigma}$$\n",
    "\n",
    "$$P(-k \\leq X-\\mu\\leq k) = P(\\frac{-k}{\\sigma} \\leq \\frac{X-\\mu}{\\sigma} \\leq \\frac{k}{\\sigma}) = P(|X^*| \\leq \\frac{k}{\\sigma})$$"
   ]
  },
  {
   "cell_type": "markdown",
   "metadata": {},
   "source": [
    "__3__ Indichiamo con ϕ la funzione di ripartizione di una variabile normale standard. Controllate che P(|X*| <= k/σ) = 2ϕ(k/σ) - 1\n",
    "\n",
    "$$ \\phi(\\frac{k}{\\sigma}) - \\phi(- \\frac{k}{\\sigma}) = 2\\phi(\\frac{k}{\\sigma}) -1 $$ \n",
    "\n",
    "Per la simmetria intorno  all'origine della normale (ho standardizzato ma rimane normale)\n",
    "\n",
    "$$ \\phi(\\frac{k}{\\sigma}) - (1 - \\phi( \\frac{k}{\\sigma}) )= 2\\phi(\\frac{k}{\\sigma}) -1 $$ \n",
    "\n",
    "$$ 2\\phi(\\frac{k}{\\sigma}) - 1 = 2\\phi(\\frac{k}{\\sigma}) -1 $$ "
   ]
  },
  {
   "cell_type": "markdown",
   "metadata": {},
   "source": [
    "# Esercizio 3\n",
    "Sia X̄n la media campionaria di un campione casuale X1, ... , Xn estratto da una popolazione normale X di valore atteso μ e di cui è disponibile una stima della varianza pari a σ² = 3.\n",
    "\n",
    "__1__ Fissati i valori epsilon = 0.25 e alpha = 0.9, determinate una condizione sufficiente per n affinchè sia maggiore di alpha la probabilità P(|X̄<sub>n</sub> - μ| <= epsilon).\n",
    "\n",
    "NON SERVE APPLICARE IL TEOREMA DEL LIMITE CENTRALE O CHEBYSHEV PERCHE' HO GIA' UNA NORMALE STANDARD\n",
    "\n",
    "$$P(|\\overline{X_n} -\\mu| \\leq \\epsilon) \\geq \\alpha$$\n",
    "\n",
    "Standardizzo:\n",
    "\n",
    "$$P(|\\frac{\\overline{X_n} -\\mu}{\\frac{\\sigma}{\\sqrt{n}}}| \\leq \\frac{\\epsilon \\sqrt{n}}{\\sigma}) \\geq \\alpha$$\n",
    "\n",
    "Per la riproducibilità rimane normale\n",
    "\n",
    "$$P(|Z|\\leq \\frac{\\epsilon \\sqrt{n}}{\\sigma}) = 2\\Phi(\\frac{\\epsilon \\sqrt{n}}{\\sigma}) - 1$$\n",
    "\n",
    "$$ \\sqrt{n} \\geq \\Phi^{-1}(\\frac{\\alpha+1}{2}) \\cdot \\frac{\\sigma}{\\epsilon}$$"
   ]
  },
  {
   "cell_type": "code",
   "execution_count": 2,
   "metadata": {},
   "outputs": [
    {
     "data": {
      "text/plain": [
       "129.8660857965798"
      ]
     },
     "execution_count": 2,
     "metadata": {},
     "output_type": "execute_result"
    }
   ],
   "source": [
    "Z = st.norm()\n",
    "sigma = math.sqrt(3)\n",
    "alpha = 0.9\n",
    "epsilon = 0.25\n",
    "(Z.ppf((alpha+1)/2)*sigma/epsilon)**2\n",
    "# n >= 130"
   ]
  },
  {
   "cell_type": "markdown",
   "metadata": {},
   "source": [
    "__2__ Proponete uno stimatore, chiamiamolo Tn di μ\n",
    "\n",
    "$$ T_n = \\frac{\\sum_{i=1}^n{X_i}}{n} $$"
   ]
  },
  {
   "cell_type": "markdown",
   "metadata": {},
   "source": [
    "__3__ Lo sitmatore che avete proposto al punto precedente è non distorto? Giustificate la risposta.\n",
    "\n",
    "Lo stimatore Tn è la media campionaria ed essa è sempre uno stimatore non distorto del VALORE ATTESO della popolazione"
   ]
  },
  {
   "cell_type": "markdown",
   "metadata": {},
   "source": [
    "# Esercizio 4\n",
    "Scaricare mtcars.txt\n",
    "Quessto file contiene, tra le altre, le seguenti informazioni riguardo al design e alle prestazion di diversi modelli di automobili:\n",
    "\n",
    "- modello: identificatore univoco:\n",
    "- consumo: espresso in km/l;\n",
    "- cilindrata: cilindrata (espressa in cavalli vapore);\n",
    "- peso: peso, espresso in tonnellate;\n",
    "- test400metri: tempo (espresso in secondi) impiegato per percorrere 400 metri partendo da fermo;\n",
    "- trasmissione: tipo di trasmissione 0 se si tratta di trasmissione automatica, 1 se si tratta di trasmissione manuale;\n",
    "- marce: numero di marce, senza contare la retromarcia.\n",
    "\n",
    "In questo file il carattere di tabulazione (\"\\t\") separa le colonne ed i numeri reali sono stati registrati usando il carattere \",\" come separatore dei decimali."
   ]
  },
  {
   "cell_type": "code",
   "execution_count": 3,
   "metadata": {},
   "outputs": [
    {
     "name": "stdout",
     "output_type": "stream",
     "text": [
      "<class 'pandas.core.frame.DataFrame'>\n",
      "RangeIndex: 32 entries, 0 to 31\n",
      "Data columns (total 7 columns):\n",
      "modello         32 non-null object\n",
      "consumo         32 non-null float64\n",
      "cilindrata      32 non-null int64\n",
      "peso            32 non-null float64\n",
      "test400metri    32 non-null float64\n",
      "trasmissione    32 non-null int64\n",
      "marce           32 non-null int64\n",
      "dtypes: float64(3), int64(3), object(1)\n",
      "memory usage: 1.8+ KB\n"
     ]
    }
   ],
   "source": [
    "df = pd.read_csv(\"mtcars.txt\",sep=\"\\t\",decimal=\",\")\n",
    "df.info()"
   ]
  },
  {
   "cell_type": "markdown",
   "metadata": {},
   "source": [
    "__1__ Quanti e quali sono i caratteri scalari presenti nel dataset?\n",
    "\n",
    "3 caratteri: consumo, peso, test400metri"
   ]
  },
  {
   "cell_type": "markdown",
   "metadata": {},
   "source": [
    "__2__ Quante osservazioni contiene il dataset?"
   ]
  },
  {
   "cell_type": "code",
   "execution_count": 4,
   "metadata": {},
   "outputs": [
    {
     "data": {
      "text/plain": [
       "32"
      ]
     },
     "execution_count": 4,
     "metadata": {},
     "output_type": "execute_result"
    }
   ],
   "source": [
    "len(df)"
   ]
  },
  {
   "cell_type": "markdown",
   "metadata": {},
   "source": [
    "__3__ Qual'è la moda del carattere peso?"
   ]
  },
  {
   "cell_type": "code",
   "execution_count": 5,
   "metadata": {},
   "outputs": [
    {
     "data": {
      "text/plain": [
       "0    3.44\n",
       "dtype: float64"
      ]
     },
     "execution_count": 5,
     "metadata": {},
     "output_type": "execute_result"
    }
   ],
   "source": [
    "df.peso.mode()"
   ]
  },
  {
   "cell_type": "markdown",
   "metadata": {},
   "source": [
    "__4__ Qual'è il modello di auto più pesante?"
   ]
  },
  {
   "cell_type": "code",
   "execution_count": 6,
   "metadata": {},
   "outputs": [
    {
     "data": {
      "text/plain": [
       "15    Lincoln Continental\n",
       "Name: modello, dtype: object"
      ]
     },
     "execution_count": 6,
     "metadata": {},
     "output_type": "execute_result"
    }
   ],
   "source": [
    "df[df.peso == df.peso.max()].modello"
   ]
  },
  {
   "cell_type": "markdown",
   "metadata": {},
   "source": [
    "__5__ Quali sono i possibili valori per il carattere marce?"
   ]
  },
  {
   "cell_type": "code",
   "execution_count": 7,
   "metadata": {},
   "outputs": [
    {
     "data": {
      "text/plain": [
       "array([4, 3, 5], dtype=int64)"
      ]
     },
     "execution_count": 7,
     "metadata": {},
     "output_type": "execute_result"
    }
   ],
   "source": [
    "df.marce.unique()"
   ]
  },
  {
   "cell_type": "markdown",
   "metadata": {},
   "source": [
    "__6__ Dei caratteri marce e trasmissione visualizzate:\n",
    "\n",
    " * __6.1__ La tabella delle frequenze congiunte assolute;"
   ]
  },
  {
   "cell_type": "code",
   "execution_count": 26,
   "metadata": {},
   "outputs": [
    {
     "data": {
      "text/html": [
       "<div>\n",
       "<style scoped>\n",
       "    .dataframe tbody tr th:only-of-type {\n",
       "        vertical-align: middle;\n",
       "    }\n",
       "\n",
       "    .dataframe tbody tr th {\n",
       "        vertical-align: top;\n",
       "    }\n",
       "\n",
       "    .dataframe thead th {\n",
       "        text-align: right;\n",
       "    }\n",
       "</style>\n",
       "<table border=\"1\" class=\"dataframe\">\n",
       "  <thead>\n",
       "    <tr style=\"text-align: right;\">\n",
       "      <th>trasmissione</th>\n",
       "      <th>0</th>\n",
       "      <th>1</th>\n",
       "      <th>All</th>\n",
       "    </tr>\n",
       "    <tr>\n",
       "      <th>marce</th>\n",
       "      <th></th>\n",
       "      <th></th>\n",
       "      <th></th>\n",
       "    </tr>\n",
       "  </thead>\n",
       "  <tbody>\n",
       "    <tr>\n",
       "      <th>3</th>\n",
       "      <td>15</td>\n",
       "      <td>0</td>\n",
       "      <td>15</td>\n",
       "    </tr>\n",
       "    <tr>\n",
       "      <th>4</th>\n",
       "      <td>4</td>\n",
       "      <td>8</td>\n",
       "      <td>12</td>\n",
       "    </tr>\n",
       "    <tr>\n",
       "      <th>5</th>\n",
       "      <td>0</td>\n",
       "      <td>5</td>\n",
       "      <td>5</td>\n",
       "    </tr>\n",
       "    <tr>\n",
       "      <th>All</th>\n",
       "      <td>19</td>\n",
       "      <td>13</td>\n",
       "      <td>32</td>\n",
       "    </tr>\n",
       "  </tbody>\n",
       "</table>\n",
       "</div>"
      ],
      "text/plain": [
       "trasmissione   0   1  All\n",
       "marce                    \n",
       "3             15   0   15\n",
       "4              4   8   12\n",
       "5              0   5    5\n",
       "All           19  13   32"
      ]
     },
     "execution_count": 26,
     "metadata": {},
     "output_type": "execute_result"
    }
   ],
   "source": [
    "pd.crosstab(index=df.marce, columns=df.trasmissione,margins=True)"
   ]
  },
  {
   "cell_type": "markdown",
   "metadata": {},
   "source": [
    "* __6.2__ La tabella delle frequenze congiunte relative."
   ]
  },
  {
   "cell_type": "code",
   "execution_count": 27,
   "metadata": {},
   "outputs": [
    {
     "data": {
      "text/html": [
       "<div>\n",
       "<style scoped>\n",
       "    .dataframe tbody tr th:only-of-type {\n",
       "        vertical-align: middle;\n",
       "    }\n",
       "\n",
       "    .dataframe tbody tr th {\n",
       "        vertical-align: top;\n",
       "    }\n",
       "\n",
       "    .dataframe thead th {\n",
       "        text-align: right;\n",
       "    }\n",
       "</style>\n",
       "<table border=\"1\" class=\"dataframe\">\n",
       "  <thead>\n",
       "    <tr style=\"text-align: right;\">\n",
       "      <th>trasmissione</th>\n",
       "      <th>0</th>\n",
       "      <th>1</th>\n",
       "      <th>All</th>\n",
       "    </tr>\n",
       "    <tr>\n",
       "      <th>marce</th>\n",
       "      <th></th>\n",
       "      <th></th>\n",
       "      <th></th>\n",
       "    </tr>\n",
       "  </thead>\n",
       "  <tbody>\n",
       "    <tr>\n",
       "      <th>3</th>\n",
       "      <td>0.46875</td>\n",
       "      <td>0.00000</td>\n",
       "      <td>0.46875</td>\n",
       "    </tr>\n",
       "    <tr>\n",
       "      <th>4</th>\n",
       "      <td>0.12500</td>\n",
       "      <td>0.25000</td>\n",
       "      <td>0.37500</td>\n",
       "    </tr>\n",
       "    <tr>\n",
       "      <th>5</th>\n",
       "      <td>0.00000</td>\n",
       "      <td>0.15625</td>\n",
       "      <td>0.15625</td>\n",
       "    </tr>\n",
       "    <tr>\n",
       "      <th>All</th>\n",
       "      <td>0.59375</td>\n",
       "      <td>0.40625</td>\n",
       "      <td>1.00000</td>\n",
       "    </tr>\n",
       "  </tbody>\n",
       "</table>\n",
       "</div>"
      ],
      "text/plain": [
       "trasmissione        0        1      All\n",
       "marce                                  \n",
       "3             0.46875  0.00000  0.46875\n",
       "4             0.12500  0.25000  0.37500\n",
       "5             0.00000  0.15625  0.15625\n",
       "All           0.59375  0.40625  1.00000"
      ]
     },
     "execution_count": 27,
     "metadata": {},
     "output_type": "execute_result"
    }
   ],
   "source": [
    "pd.crosstab(index=df.marce, columns=df.trasmissione, normalize=True,margins=True)"
   ]
  },
  {
   "cell_type": "markdown",
   "metadata": {},
   "source": [
    "__7__ Utilizzate le informazioni contenute nelle tabelle prodotte al punto precedente per rispondere alle seguenti domande:"
   ]
  },
  {
   "cell_type": "markdown",
   "metadata": {},
   "source": [
    "* __7.1__ Quanti sono i modelli di auto a 5 marce con trasmissione automatica?\n",
    "\n",
    "0%"
   ]
  },
  {
   "cell_type": "markdown",
   "metadata": {},
   "source": [
    "* __7.2__ Quanti sono i modelli di auto a 5 marce con trasmissione manuale?\n",
    "\n",
    "5%"
   ]
  },
  {
   "cell_type": "markdown",
   "metadata": {},
   "source": [
    "* __7.3__ Qual'è la percentuale di modelli che hanno 5 marce e trasmissione automatica?\n",
    "\n",
    "0"
   ]
  },
  {
   "cell_type": "markdown",
   "metadata": {},
   "source": [
    "* __7.4__ Qual'è la percentuale di modelli che hanno 5 marce e trasmissione manuale?\n",
    "\n",
    "15%"
   ]
  },
  {
   "cell_type": "markdown",
   "metadata": {},
   "source": [
    "* __7.5__ Qual'è la percentuale di modelli che hanno 4 marce?\n",
    "\n",
    "37%"
   ]
  },
  {
   "cell_type": "markdown",
   "metadata": {},
   "source": [
    "* __7.6__ Tra i modelli che hanno trasmissione manuale, quale percentuale ha 4 marce?\n",
    "\n",
    "8/13 = 0.61\n",
    "\n",
    "61%"
   ]
  },
  {
   "cell_type": "markdown",
   "metadata": {},
   "source": [
    "# Esercizio 5\n",
    "Caratterizziamo ora i vari modelli di automobile rispetto al numero di marce, cioè dividiamo l'insieme delle nostre osservazioni in tre sottoinsiemi, in cui rispettivamente le auto hanno 3, 4 oppure 5 marce.\n",
    "\n",
    "__1__ Compilate la Tabella 1 delle frequenze relative del carattere marce.\n",
    "\n",
    "-----------------------------------__modello a__ --- __modello a__ --- __modello a__\n",
    "\n",
    "-----------------------------------__3 marce__ ------ __4 marce__ ------ __5 marce__\n",
    ">\n",
    ">\n",
    ">\n",
    "__Frequenza Relativa__"
   ]
  },
  {
   "cell_type": "code",
   "execution_count": 10,
   "metadata": {},
   "outputs": [
    {
     "data": {
      "text/plain": [
       "3    0.46875\n",
       "4    0.37500\n",
       "5    0.15625\n",
       "Name: marce, dtype: float64"
      ]
     },
     "execution_count": 10,
     "metadata": {},
     "output_type": "execute_result"
    }
   ],
   "source": [
    "df.marce.value_counts(normalize=True)"
   ]
  },
  {
   "cell_type": "markdown",
   "metadata": {},
   "source": [
    "__2__ Qual'è la probabilità che, sorteggiando un modello di auto dal dataset, quel modello sia a 4 marce?\n",
    "\n",
    "0.375"
   ]
  },
  {
   "cell_type": "markdown",
   "metadata": {},
   "source": [
    "__3__ In Tabella 2, per ogni categoria di auto (a 3, 4 oppure 5 marce) è mostrata la probabilità che l'auto abbia consumi alti (queste probabilità sono state stimate tramite un'analisi precedente). Fornite una stima della probabilità che, sorteggiando un modello di auto dal dataset, quel modello abbia consumi alti.\n",
    "\n",
    "--------------------------------------__modello a__ --- __modello a__ --- __modello a__\n",
    "\n",
    "--------------------------------------__3 marce__ ------ __4 marce__ ------ __5 marce__\n",
    "\n",
    "__probabilità di alti consumi__ &nbsp;&nbsp;&nbsp; 0.8 &nbsp;&nbsp;&nbsp;&nbsp;&nbsp;&nbsp;&nbsp;&nbsp;&nbsp;&nbsp;&nbsp;&nbsp;&nbsp;&nbsp;&nbsp; 0.17 &nbsp;&nbsp;&nbsp;&nbsp;&nbsp;&nbsp;&nbsp;&nbsp;&nbsp;&nbsp;&nbsp;&nbsp;&nbsp;&nbsp;&nbsp; 0.6\n",
    "\n",
    "C = \"alti consumi\", $M_i $= \"modelli di macchina\"\n",
    "\n",
    "$$P(C) = \\sum_{i=1}^3 P(C|M_i)P(M_i)$$"
   ]
  },
  {
   "cell_type": "code",
   "execution_count": 11,
   "metadata": {},
   "outputs": [
    {
     "data": {
      "text/plain": [
       "0.5325"
      ]
     },
     "execution_count": 11,
     "metadata": {},
     "output_type": "execute_result"
    }
   ],
   "source": [
    "0.8*0.46875 + 0.17*0.37500 + 0.6*0.15625"
   ]
  },
  {
   "cell_type": "markdown",
   "metadata": {},
   "source": [
    "# Esercizio 6\n",
    "__1__ Tracciate l'istogramma del tempo impiegato a percorrere 400 metri."
   ]
  },
  {
   "cell_type": "code",
   "execution_count": 28,
   "metadata": {},
   "outputs": [
    {
     "data": {
      "image/png": "[encoded data removed]",
      "text/plain": [
       "<Figure size 432x288 with 1 Axes>"
      ]
     },
     "metadata": {},
     "output_type": "display_data"
    }
   ],
   "source": [
    "import matplotlib.pyplot as plt\n",
    "df.test400metri.hist()\n",
    "plt.show()"
   ]
  },
  {
   "cell_type": "markdown",
   "metadata": {},
   "source": [
    "__2__ Per il tempo impiegato a percorrere 400 metri calcolate:\n",
    "* __2.1__ due indici di posizione centrale,\n",
    "\n",
    "MEDIA, MEDIANA"
   ]
  },
  {
   "cell_type": "code",
   "execution_count": 13,
   "metadata": {},
   "outputs": [
    {
     "name": "stdout",
     "output_type": "stream",
     "text": [
      "17.848750000000003 17.71\n"
     ]
    }
   ],
   "source": [
    "print(df.test400metri.mean(), df.test400metri.median())"
   ]
  },
  {
   "cell_type": "markdown",
   "metadata": {},
   "source": [
    "* __2.2__ due indici di dispersione.\n",
    "\n",
    "VARIANZA, RANGE INTERQUARTILE"
   ]
  },
  {
   "cell_type": "code",
   "execution_count": 29,
   "metadata": {},
   "outputs": [
    {
     "name": "stdout",
     "output_type": "stream",
     "text": [
      "3.193166129032258 2.0075000000000003\n"
     ]
    }
   ],
   "source": [
    "print(df.test400metri.var(), df.test400metri.quantile(0.75) - df.test400metri.quantile(0.25))"
   ]
  },
  {
   "cell_type": "markdown",
   "metadata": {},
   "source": [
    "__3__ Tracciate un grafico opportuno per controllare se è plausibile l'ipotesi che il carattere test400metri segua una legge normale (In caso di errori, controllate che i dati coinvolti non contengano valori mancanti)."
   ]
  },
  {
   "cell_type": "code",
   "execution_count": 15,
   "metadata": {},
   "outputs": [
    {
     "data": {
      "image/png": "[encoded data removed]",
      "text/plain": [
       "<Figure size 432x288 with 1 Axes>"
      ]
     },
     "metadata": {},
     "output_type": "display_data"
    }
   ],
   "source": [
    "import statsmodels.api as sm\n",
    "sm.qqplot(df.test400metri.dropna(), fit=True, line='45')\n",
    "plt.show()"
   ]
  },
  {
   "cell_type": "markdown",
   "metadata": {},
   "source": [
    "__4__ Ritenete plausibile l'ipotesi che il carattere test400metri segua una legge normale? Giustificate la risposta avvalendovi dei risultati trovati nei due punti precedenti.\n",
    "\n",
    "Il grafico qq mostra che il carattere segue una legge normale appoggiandosi bene sulla bisettrice. Inoltre media e mediana simile fanno intendere la stessa ipotesi"
   ]
  },
  {
   "cell_type": "markdown",
   "metadata": {},
   "source": [
    "# Esercizio 7\n",
    "__1__ Selezionate in una variabile chiamata bolidi i modelli di cilindrata superiore a 180. In questo esercizio ci occuperemo soltato dei bolidi."
   ]
  },
  {
   "cell_type": "code",
   "execution_count": 16,
   "metadata": {},
   "outputs": [],
   "source": [
    "bolidi = df[df.cilindrata > 180]"
   ]
  },
  {
   "cell_type": "markdown",
   "metadata": {},
   "source": [
    "__2__ Quanti sono i casi selezionati?"
   ]
  },
  {
   "cell_type": "code",
   "execution_count": 17,
   "metadata": {},
   "outputs": [
    {
     "data": {
      "text/plain": [
       "7"
      ]
     },
     "execution_count": 17,
     "metadata": {},
     "output_type": "execute_result"
    }
   ],
   "source": [
    "len(bolidi)"
   ]
  },
  {
   "cell_type": "markdown",
   "metadata": {},
   "source": [
    "__3__ Calcolate il primo ed il terzo quantile dei consumi di modelli selezionati."
   ]
  },
  {
   "cell_type": "code",
   "execution_count": 18,
   "metadata": {},
   "outputs": [
    {
     "data": {
      "text/plain": [
       "(11.850000000000001, 14.85)"
      ]
     },
     "execution_count": 18,
     "metadata": {},
     "output_type": "execute_result"
    }
   ],
   "source": [
    "(bolidi.consumo.quantile(0.25), bolidi.consumo.quantile(0.75))"
   ]
  },
  {
   "cell_type": "markdown",
   "metadata": {},
   "source": [
    "__4__ Tracciate il grafico che vi sembra più adatto a comunicare l'informazione che questi modelli hanno consumi alti. Commentate la vostra risposta."
   ]
  },
  {
   "cell_type": "code",
   "execution_count": 32,
   "metadata": {},
   "outputs": [
    {
     "data": {
      "image/png": "[encoded data removed]",
      "text/plain": [
       "<Figure size 432x288 with 1 Axes>"
      ]
     },
     "metadata": {},
     "output_type": "display_data"
    }
   ],
   "source": [
    "bolidi.consumo.plot.box()\n",
    "plt.show()"
   ]
  },
  {
   "cell_type": "code",
   "execution_count": 33,
   "metadata": {},
   "outputs": [
    {
     "data": {
      "image/png": "[encoded data removed]",
      "text/plain": [
       "<Figure size 432x288 with 1 Axes>"
      ]
     },
     "metadata": {},
     "output_type": "display_data"
    }
   ],
   "source": [
    "nobolidi  = df[df.cilindrata <= 180]\n",
    "data = [bolidi.consumo, nobolidi.consumo]\n",
    "\n",
    "# Multiple box plots on one Axes\n",
    "fig, ax = plt.subplots()\n",
    "ax.boxplot(data)\n",
    "\n",
    "plt.show()"
   ]
  },
  {
   "cell_type": "markdown",
   "metadata": {},
   "source": [
    "# Esercizio 8\n",
    "Studiamo ora la relazione tra cilindrata, prestazioni e consumi.\n",
    "\n",
    "__1__ Tracciate un grafico opportuno per controllare se esiste una relazione tra i caratteri cilindrata e test400metri."
   ]
  },
  {
   "cell_type": "code",
   "execution_count": 20,
   "metadata": {},
   "outputs": [
    {
     "data": {
      "image/png": "[encoded data removed]",
      "text/plain": [
       "<Figure size 432x288 with 1 Axes>"
      ]
     },
     "metadata": {},
     "output_type": "display_data"
    }
   ],
   "source": [
    "plt.scatter(df.cilindrata, df.test400metri)\n",
    "plt.xlabel('cilindrata')\n",
    "plt.ylabel('test400metri')\n",
    "plt.show()"
   ]
  },
  {
   "cell_type": "markdown",
   "metadata": {},
   "source": [
    "__2__ Come varia il tempo necessario per percorrere 400 metri all'aumentare della cilindrata?\n",
    "\n",
    "All'aumentare della cilindrata il tempo sui 400 metri diminuisce"
   ]
  },
  {
   "cell_type": "markdown",
   "metadata": {},
   "source": [
    "__3__ Utilizzate un'opportuno indice numerico per supportare la risposta che avete dato al punto precedente (In caso di errori, controllate valori mancanti)."
   ]
  },
  {
   "cell_type": "code",
   "execution_count": 21,
   "metadata": {},
   "outputs": [
    {
     "data": {
      "text/plain": [
       "-0.7082233888619532"
      ]
     },
     "execution_count": 21,
     "metadata": {},
     "output_type": "execute_result"
    }
   ],
   "source": [
    "df.cilindrata.corr(df.test400metri)"
   ]
  },
  {
   "cell_type": "markdown",
   "metadata": {},
   "source": [
    "# Esercizio 9\n",
    "Possiamo considerare i valori del carattere test400metri come la realizzazione campionaria di un campione casuale estratto dalla popolazione X = \"tempo necessario per percorrere 400 metri.\n",
    "\n",
    "__1__ Fornite una stima del valore atteso del tempo necessario per percorrere 400 metri."
   ]
  },
  {
   "cell_type": "code",
   "execution_count": 22,
   "metadata": {},
   "outputs": [
    {
     "data": {
      "text/plain": [
       "17.848750000000003"
      ]
     },
     "execution_count": 22,
     "metadata": {},
     "output_type": "execute_result"
    }
   ],
   "source": [
    "df.test400metri.mean()"
   ]
  },
  {
   "cell_type": "markdown",
   "metadata": {},
   "source": [
    "__2__ Qual'è la taglia del campione che avete utilizzato per la stima?\n",
    "\n",
    "IMPORTANTE: attenzione ai valori mancanti"
   ]
  },
  {
   "cell_type": "code",
   "execution_count": 23,
   "metadata": {},
   "outputs": [
    {
     "data": {
      "text/plain": [
       "32"
      ]
     },
     "execution_count": 23,
     "metadata": {},
     "output_type": "execute_result"
    }
   ],
   "source": [
    "len(df.test400metri.dropna())"
   ]
  },
  {
   "cell_type": "markdown",
   "metadata": {},
   "source": [
    "__3__ Lo stimatore che avete utilizzato è non distorto? Giustificate la risposta.\n",
    "\n",
    "Lo stimatore è non distorto in quanto la media campionaria è sempre uno stimatore non distorto per il VALORE ATTESO"
   ]
  },
  {
   "cell_type": "markdown",
   "metadata": {},
   "source": [
    "__4__ Fornite una stima della deviazione standard di X."
   ]
  },
  {
   "cell_type": "code",
   "execution_count": 24,
   "metadata": {},
   "outputs": [
    {
     "data": {
      "text/plain": [
       "1.7869432360968431"
      ]
     },
     "execution_count": 24,
     "metadata": {},
     "output_type": "execute_result"
    }
   ],
   "source": [
    "df.test400metri.std()"
   ]
  },
  {
   "cell_type": "markdown",
   "metadata": {},
   "source": [
    "__5__ Nell'ipotesi che il tempo necessario per percorrere 400 metri segua una legge normale, calcolate la probabilità che, nela stima del valore atteso di X, si commetta un errore al più uguale a 0.25, in eccesso o in difetto.\n",
    "\n",
    "$$ P(|\\bar{X}_n - \\mu| <= 0.25) $$\n",
    "\n",
    "$$ P(- 0.25 <= \\bar{X}_n - \\mu <= 0.25) $$\n",
    "\n",
    "$$ P(- \\frac{0.25\\sqrt{n}}{\\sigma} <= \\frac{(\\bar{X}_n - \\mu )\\sqrt{n}}{\\sigma}<= \\frac{0.25\\sqrt{n}}{\\sigma}) $$\n",
    "\n",
    "$$ P(- \\frac{0.25\\sqrt{n}}{\\sigma} <= Z<= \\frac{0.25\\sqrt{n}}{\\sigma}) $$\n",
    "\n",
    "$$ 2\\phi(\\frac{0.25\\sqrt{n}}{\\sigma}) -1 $$"
   ]
  },
  {
   "cell_type": "code",
   "execution_count": 34,
   "metadata": {},
   "outputs": [
    {
     "data": {
      "text/plain": [
       "0.5712981015960152"
      ]
     },
     "execution_count": 34,
     "metadata": {},
     "output_type": "execute_result"
    }
   ],
   "source": [
    "sigma = df.test400metri.std()\n",
    "n = len(df.test400metri.dropna())\n",
    "Z = st.norm()\n",
    "2*Z.cdf(0.25*(n**0.5)/sigma) - 1"
   ]
  }
 ],
 "metadata": {
  "kernelspec": {
   "display_name": "Python 3",
   "language": "python",
   "name": "python3"
  },
  "language_info": {
   "codemirror_mode": {
    "name": "ipython",
    "version": 3
   },
   "file_extension": ".py",
   "mimetype": "text/x-python",
   "name": "python",
   "nbconvert_exporter": "python",
   "pygments_lexer": "ipython3",
   "version": "3.6.5"
  }
 },
 "nbformat": 4,
 "nbformat_minor": 2
}
