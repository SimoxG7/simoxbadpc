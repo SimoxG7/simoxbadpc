{
 "cells": [
  {
   "cell_type": "code",
   "execution_count": 1,
   "metadata": {},
   "outputs": [],
   "source": [
    "import pandas as pd\n",
    "import matplotlib.pyplot as plt\n",
    "import statsmodels.api as sm\n",
    "import numpy as np\n",
    "import scipy.stats as st"
   ]
  },
  {
   "cell_type": "markdown",
   "metadata": {},
   "source": [
    "## Gennaio 2019\n",
    "### Esercizio 0\n",
    "$X \\in (-1,1)$ con P(X = 1 ) = p\n",
    "\n",
    "### 0.1\n",
    "$$1-P(X=1) = P(X = -1) = 1- p$$\n",
    "\n",
    "### 0.2  \n",
    "$$E(X) = \\sum x_i P(X = x_i) = p + (-1)(1-p) = 2p -1$$\n",
    "\n",
    "### 0.3\n",
    "$$p = \\frac{E(X)}{2} +1$$\n",
    "\n",
    "### 0.4\n",
    "$$Y = g(x) = X^2 = 1$$ sia per X=1 che per X = -1\n",
    "\n",
    "### 0.5\n",
    "$$E(Y) = E(g(X)) = E(X^2) = \\sum g(X_i)P(X = X_i) = p + 1-p = 1$$\n",
    "\n",
    "### 0.6\n",
    "$Var(X) = E(X^2) - E(X)^2 = E(Y) - E(X)^2 = 1 - (2p-1)^2 = 1- (4p^2 +1 -4p) = 4p-4p^2 =$\n",
    "$$4p(1-p)$$\n",
    "\n",
    "### 0.7\n",
    "$h: R \\rightarrow R$ tale che sia una bernoulliana.\n",
    "\n",
    "$$Z = h(X) = \\frac{X+1}{2}$$"
   ]
  },
  {
   "cell_type": "markdown",
   "metadata": {},
   "source": [
    "### 0.8"
   ]
  },
  {
   "cell_type": "code",
   "execution_count": 2,
   "metadata": {},
   "outputs": [
    {
     "data": {
      "image/png": "[encoded data removed]",
      "text/plain": [
       "<Figure size 432x288 with 1 Axes>"
      ]
     },
     "metadata": {},
     "output_type": "display_data"
    }
   ],
   "source": [
    "# grafico f_x,F_x,f_z,F_z\n",
    "y = st.bernoulli(0.7)\n",
    "x = np.arange(-1,2)\n",
    "plt.vlines(x,0,y.pmf(x))\n",
    "plt.show()"
   ]
  },
  {
   "cell_type": "markdown",
   "metadata": {},
   "source": [
    "### Esercizio 1\n",
    "### 1.1\n",
    "$$E(\\overline{X}) = E(X) = 2p-1$$\n",
    "\n",
    "### 1.2-1.3\n",
    "$$Var(\\overline{X}) = \\frac{1}{n}Var(X) = \\frac{4p(1-p)}{n}$$\n",
    "\n",
    "### 2\n",
    "$T_n = \\frac{1+\\overline{X}}{2}$ dimostrare che non è distorto per p\n",
    "\n",
    "$$E(\\frac{1+\\overline{X}}{2}) = E(\\frac{1}{2}+\\frac{1}{2}\\sum\\frac{X_i}{n}) = \\frac{1}{2} + \\frac{1}{2n}\\sum E(X_i) = \\frac{1}{2}+\\frac{n}{2n} E(X) = \\frac{1}{2} + \\frac{2p-1}{2} = \\frac{2p-1+1}{2} = p$$\n",
    "\n",
    "### 3\n",
    "$P(|T_n - p| \\leq 0.05)$  \n",
    "\n",
    "Standardizzo  $$P(\\frac{|T_n - 2p\\sqrt{n}|}{\\sigma}\\leq \\frac{2*0.05\\sqrt{n}}{\\sigma}) = P(|Z| \\leq \\frac{0.1\\sqrt{n}}{\\sigma})  \\approx \\Phi(\\frac{0.1\\sqrt{n}}{\\sigma}) - \\Phi(- \\frac{0.1\\sqrt{n}}{\\sigma}) = 2\\Phi(\\frac{0.1\\sqrt{n}}{\\sigma}) -1$$"
   ]
  },
  {
   "cell_type": "markdown",
   "metadata": {},
   "source": [
    "### Esercizio 2\n",
    "$G \\sim Exp(\\nu)$\n",
    "\n",
    "### 2.1\n",
    "$$D_X = [0,\\infty)$$\n",
    "\n",
    "### 2.2\n",
    "$$f_G = \\nu e^{-nu x}$$\n",
    "### 2.3"
   ]
  },
  {
   "cell_type": "code",
   "execution_count": 3,
   "metadata": {},
   "outputs": [
    {
     "data": {
      "image/png": "[encoded data removed]",
      "text/plain": [
       "<Figure size 432x288 with 1 Axes>"
      ]
     },
     "metadata": {},
     "output_type": "display_data"
    }
   ],
   "source": [
    "nu = 0.1\n",
    "y = st.expon(nu)\n",
    "x = np.arange(y.ppf(0.01),y.ppf(0.99))\n",
    "plt.plot(x,y.pdf(x))\n",
    "plt.show()"
   ]
  },
  {
   "cell_type": "markdown",
   "metadata": {},
   "source": [
    "### 2.4\n",
    "$$\\sqrt(Var(G)) = \\frac{1}{\\nu} = E(X)$$\n",
    "\n",
    "### 2.5\n",
    "$$E(G) = 10 $$ figura a poichè l'area sopra la curva è maggiore."
   ]
  },
  {
   "cell_type": "code",
   "execution_count": 4,
   "metadata": {},
   "outputs": [
    {
     "data": {
      "text/plain": [
       "Index(['CarIdentifier', 'TimeFrame', 'RushHour', 'PremiumCustomer', 'Distance',\n",
       "       'Time'],\n",
       "      dtype='object')"
      ]
     },
     "execution_count": 4,
     "metadata": {},
     "output_type": "execute_result"
    }
   ],
   "source": [
    "car = pd.read_csv(\"carsharing.csv\",delimiter=\";\",decimal=\",\")\n",
    "car.columns"
   ]
  },
  {
   "cell_type": "markdown",
   "metadata": {},
   "source": [
    "### Esercizio 3\n",
    "### 3.1"
   ]
  },
  {
   "cell_type": "code",
   "execution_count": 25,
   "metadata": {},
   "outputs": [
    {
     "data": {
      "text/plain": [
       "392"
      ]
     },
     "execution_count": 25,
     "metadata": {},
     "output_type": "execute_result"
    }
   ],
   "source": [
    "len(car)"
   ]
  },
  {
   "cell_type": "markdown",
   "metadata": {},
   "source": [
    "### 3.2.1"
   ]
  },
  {
   "cell_type": "code",
   "execution_count": 6,
   "metadata": {},
   "outputs": [
    {
     "name": "stdout",
     "output_type": "stream",
     "text": [
      "Qualitativo ORDINALE: ['FRAME D' 'FRAME B' 'FRAME C' 'FRAME E' 'FRAME A']\n"
     ]
    }
   ],
   "source": [
    "print(\"Qualitativo ORDINALE: {}\".format(car['TimeFrame'].unique()))"
   ]
  },
  {
   "cell_type": "markdown",
   "metadata": {},
   "source": [
    "### 3.2.2"
   ]
  },
  {
   "cell_type": "code",
   "execution_count": 7,
   "metadata": {},
   "outputs": [
    {
     "data": {
      "text/plain": [
       "5"
      ]
     },
     "execution_count": 7,
     "metadata": {},
     "output_type": "execute_result"
    }
   ],
   "source": [
    "len(car['TimeFrame'].unique())"
   ]
  },
  {
   "cell_type": "markdown",
   "metadata": {},
   "source": [
    "### 3.2.3"
   ]
  },
  {
   "cell_type": "code",
   "execution_count": 8,
   "metadata": {},
   "outputs": [
    {
     "data": {
      "text/plain": [
       "FRAME C    107\n",
       "FRAME B    123\n",
       "Name: TimeFrame, dtype: int64"
      ]
     },
     "execution_count": 8,
     "metadata": {},
     "output_type": "execute_result"
    }
   ],
   "source": [
    "car['TimeFrame'].value_counts().sort_values().tail(2)\n",
    "#pd.crosstab(index=car['TimeFrame'].sort_values(),columns=['Abs. Freq.'],colnames=[''])"
   ]
  },
  {
   "cell_type": "markdown",
   "metadata": {},
   "source": [
    "### 3.2.4"
   ]
  },
  {
   "cell_type": "code",
   "execution_count": 9,
   "metadata": {},
   "outputs": [
    {
     "data": {
      "text/html": [
       "<div>\n",
       "<style scoped>\n",
       "    .dataframe tbody tr th:only-of-type {\n",
       "        vertical-align: middle;\n",
       "    }\n",
       "\n",
       "    .dataframe tbody tr th {\n",
       "        vertical-align: top;\n",
       "    }\n",
       "\n",
       "    .dataframe thead th {\n",
       "        text-align: right;\n",
       "    }\n",
       "</style>\n",
       "<table border=\"1\" class=\"dataframe\">\n",
       "  <thead>\n",
       "    <tr style=\"text-align: right;\">\n",
       "      <th>Rush Hour</th>\n",
       "      <th>0</th>\n",
       "      <th>1</th>\n",
       "    </tr>\n",
       "    <tr>\n",
       "      <th>TimeFrame</th>\n",
       "      <th></th>\n",
       "      <th></th>\n",
       "    </tr>\n",
       "  </thead>\n",
       "  <tbody>\n",
       "    <tr>\n",
       "      <th>FRAME A</th>\n",
       "      <td>47</td>\n",
       "      <td>0</td>\n",
       "    </tr>\n",
       "    <tr>\n",
       "      <th>FRAME B</th>\n",
       "      <td>0</td>\n",
       "      <td>123</td>\n",
       "    </tr>\n",
       "    <tr>\n",
       "      <th>FRAME C</th>\n",
       "      <td>107</td>\n",
       "      <td>0</td>\n",
       "    </tr>\n",
       "    <tr>\n",
       "      <th>FRAME D</th>\n",
       "      <td>0</td>\n",
       "      <td>94</td>\n",
       "    </tr>\n",
       "    <tr>\n",
       "      <th>FRAME E</th>\n",
       "      <td>21</td>\n",
       "      <td>0</td>\n",
       "    </tr>\n",
       "  </tbody>\n",
       "</table>\n",
       "</div>"
      ],
      "text/plain": [
       "Rush Hour    0    1\n",
       "TimeFrame          \n",
       "FRAME A     47    0\n",
       "FRAME B      0  123\n",
       "FRAME C    107    0\n",
       "FRAME D      0   94\n",
       "FRAME E     21    0"
      ]
     },
     "execution_count": 9,
     "metadata": {},
     "output_type": "execute_result"
    }
   ],
   "source": [
    "pd.crosstab(index=car['TimeFrame'],columns=car['RushHour'],colnames=['Rush Hour'])"
   ]
  },
  {
   "cell_type": "markdown",
   "metadata": {},
   "source": [
    "### 3.2.5"
   ]
  },
  {
   "cell_type": "code",
   "execution_count": 10,
   "metadata": {},
   "outputs": [
    {
     "name": "stdout",
     "output_type": "stream",
     "text": [
      "FRAME B e poi FRAME D\n"
     ]
    }
   ],
   "source": [
    "print(\"FRAME B e poi FRAME D\")"
   ]
  },
  {
   "cell_type": "markdown",
   "metadata": {},
   "source": [
    "### 3.3.1"
   ]
  },
  {
   "cell_type": "code",
   "execution_count": 26,
   "metadata": {},
   "outputs": [
    {
     "data": {
      "text/plain": [
       "227"
      ]
     },
     "execution_count": 26,
     "metadata": {},
     "output_type": "execute_result"
    }
   ],
   "source": [
    "carP = car[car['PremiumCustomer'] == 1]\n",
    "len(carP)"
   ]
  },
  {
   "cell_type": "markdown",
   "metadata": {},
   "source": [
    "### 3.3.2"
   ]
  },
  {
   "cell_type": "code",
   "execution_count": 27,
   "metadata": {},
   "outputs": [
    {
     "data": {
      "text/plain": [
       "8.437444933920705"
      ]
     },
     "execution_count": 27,
     "metadata": {},
     "output_type": "execute_result"
    }
   ],
   "source": [
    "carP['Distance'].mean()"
   ]
  },
  {
   "cell_type": "markdown",
   "metadata": {},
   "source": [
    "### 3.3.3"
   ]
  },
  {
   "cell_type": "code",
   "execution_count": 28,
   "metadata": {},
   "outputs": [
    {
     "data": {
      "text/plain": [
       "0.15816326530612246"
      ]
     },
     "execution_count": 28,
     "metadata": {},
     "output_type": "execute_result"
    }
   ],
   "source": [
    "car.PremiumCustomer.mean()"
   ]
  },
  {
   "cell_type": "markdown",
   "metadata": {},
   "source": [
    "### 3.3.4\n",
    "Media campionaria"
   ]
  },
  {
   "cell_type": "markdown",
   "metadata": {},
   "source": [
    "### 3.3.5 \n",
    "$$P(|Tn - E(X)| < 0.05) < 1 - \\frac{Var(X)}{n*(0.05)^2}$$\n",
    "Non so"
   ]
  },
  {
   "cell_type": "code",
   "execution_count": 31,
   "metadata": {},
   "outputs": [
    {
     "data": {
      "text/plain": [
       "-0.00885188191255537"
      ]
     },
     "execution_count": 31,
     "metadata": {},
     "output_type": "execute_result"
    }
   ],
   "source": [
    "1-(car.PremiumCustomer.std()/((0.05**2)*len(car.PremiumCustomer)))"
   ]
  },
  {
   "cell_type": "markdown",
   "metadata": {},
   "source": [
    "### 3.4.1"
   ]
  },
  {
   "cell_type": "code",
   "execution_count": 15,
   "metadata": {},
   "outputs": [
    {
     "data": {
      "image/png": "[encoded data removed]",
      "text/plain": [
       "<Figure size 432x288 with 1 Axes>"
      ]
     },
     "metadata": {},
     "output_type": "display_data"
    }
   ],
   "source": [
    "car['Distance'].plot.box()\n",
    "plt.show()"
   ]
  },
  {
   "cell_type": "markdown",
   "metadata": {},
   "source": [
    "### 3.4.2"
   ]
  },
  {
   "cell_type": "code",
   "execution_count": 16,
   "metadata": {},
   "outputs": [
    {
     "data": {
      "text/plain": [
       "count    392.000000\n",
       "mean       7.858673\n",
       "std        6.805123\n",
       "min        0.100000\n",
       "25%        1.575000\n",
       "50%        5.750000\n",
       "75%       14.025000\n",
       "max       24.000000\n",
       "Name: Distance, dtype: float64"
      ]
     },
     "execution_count": 16,
     "metadata": {},
     "output_type": "execute_result"
    }
   ],
   "source": [
    "car['Distance'].describe()"
   ]
  },
  {
   "cell_type": "code",
   "execution_count": 17,
   "metadata": {},
   "outputs": [
    {
     "name": "stdout",
     "output_type": "stream",
     "text": [
      "Indice di Centralità = Mediana: 5.75\n",
      "Indice di Dispersione = Range Interquartile : 12.45\n"
     ]
    }
   ],
   "source": [
    "print('Indice di Centralità = Mediana: {}\\nIndice di Dispersione = Range Interquartile : {}'.format(car['Distance'].quantile(0.5),(car['Distance'].quantile(0.75)-car['Distance'].quantile(0.25))))"
   ]
  },
  {
   "cell_type": "markdown",
   "metadata": {},
   "source": [
    "### 3.4.3"
   ]
  },
  {
   "cell_type": "code",
   "execution_count": 18,
   "metadata": {},
   "outputs": [
    {
     "data": {
      "image/png": "[encoded data removed]",
      "text/plain": [
       "<Figure size 432x288 with 1 Axes>"
      ]
     },
     "metadata": {},
     "output_type": "display_data"
    },
    {
     "name": "stdout",
     "output_type": "stream",
     "text": [
      "Due Andamenti differenti. No relazione\n"
     ]
    }
   ],
   "source": [
    "car.plot.scatter('Distance','Time')\n",
    "plt.show()\n",
    "print(\"Due Andamenti differenti. No relazione\")"
   ]
  },
  {
   "cell_type": "markdown",
   "metadata": {},
   "source": [
    "### 3.4.2"
   ]
  },
  {
   "cell_type": "code",
   "execution_count": 19,
   "metadata": {},
   "outputs": [
    {
     "name": "stdout",
     "output_type": "stream",
     "text": [
      "L'indice di correlazione 0.6273992247694647 conferma il fatto che non vi è una relazine di alcun tipo\n"
     ]
    }
   ],
   "source": [
    "print(\"L'indice di correlazione {} conferma il fatto che non vi è una relazine di alcun tipo\".format(car['Distance'].corr(car['Time'])))"
   ]
  },
  {
   "cell_type": "markdown",
   "metadata": {},
   "source": [
    "### 3.5.1"
   ]
  },
  {
   "cell_type": "code",
   "execution_count": 20,
   "metadata": {},
   "outputs": [
    {
     "data": {
      "image/png": "[encoded data removed]",
      "text/plain": [
       "<Figure size 1440x720 with 2 Axes>"
      ]
     },
     "metadata": {},
     "output_type": "display_data"
    }
   ],
   "source": [
    "carD = car[car['RushHour'] == 1]['Distance']\n",
    "plt.figure(figsize=[20,10])\n",
    "plt.subplot(1,2,1)\n",
    "carD.hist()\n",
    "plt.subplot(1,2,2)\n",
    "carD.plot.box(vert=False,whis='range')\n",
    "plt.show()"
   ]
  },
  {
   "cell_type": "markdown",
   "metadata": {},
   "source": [
    "### 3.5.2"
   ]
  },
  {
   "cell_type": "code",
   "execution_count": 21,
   "metadata": {},
   "outputs": [
    {
     "name": "stdout",
     "output_type": "stream",
     "text": [
      "No in quanto l'istogramma mostra che segueuna distribuzione esponenziale\n"
     ]
    }
   ],
   "source": [
    "print(\"No in quanto l'istogramma mostra che segueuna distribuzione esponenziale\")"
   ]
  },
  {
   "cell_type": "markdown",
   "metadata": {},
   "source": [
    "### 3.5.3"
   ]
  },
  {
   "cell_type": "code",
   "execution_count": 22,
   "metadata": {},
   "outputs": [
    {
     "name": "stdout",
     "output_type": "stream",
     "text": [
      "3.3193548387096796\n",
      "3.711106147915895\n"
     ]
    }
   ],
   "source": [
    "print(carD.mean())\n",
    "print(carD.std())"
   ]
  },
  {
   "cell_type": "markdown",
   "metadata": {},
   "source": [
    "### 3.5.4"
   ]
  },
  {
   "cell_type": "code",
   "execution_count": 23,
   "metadata": {},
   "outputs": [
    {
     "name": "stdout",
     "output_type": "stream",
     "text": [
      "Esponenziale\n"
     ]
    }
   ],
   "source": [
    "print(\"Esponenziale\")"
   ]
  },
  {
   "cell_type": "markdown",
   "metadata": {},
   "source": [
    "### 3.5.5"
   ]
  },
  {
   "cell_type": "code",
   "execution_count": 24,
   "metadata": {},
   "outputs": [
    {
     "name": "stdout",
     "output_type": "stream",
     "text": [
      "Si perchè sono molto simili\n"
     ]
    }
   ],
   "source": [
    "print(\"Si perchè sono molto simili\")"
   ]
  }
 ],
 "metadata": {
  "kernelspec": {
   "display_name": "Python 3",
   "language": "python",
   "name": "python3"
  },
  "language_info": {
   "codemirror_mode": {
    "name": "ipython",
    "version": 3
   },
   "file_extension": ".py",
   "mimetype": "text/x-python",
   "name": "python",
   "nbconvert_exporter": "python",
   "pygments_lexer": "ipython3",
   "version": "3.6.5"
  }
 },
 "nbformat": 4,
 "nbformat_minor": 2
}
