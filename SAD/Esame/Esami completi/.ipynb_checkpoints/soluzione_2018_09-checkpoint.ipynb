{
 "cells": [
  {
   "cell_type": "code",
   "execution_count": 2,
   "metadata": {},
   "outputs": [],
   "source": [
    "import pandas as pd\n",
    "import matplotlib.pyplot as plt\n",
    "import numpy as np\n",
    "import statsmodels.api as sm\n",
    "import scipy.stats as st"
   ]
  },
  {
   "cell_type": "markdown",
   "metadata": {},
   "source": [
    "## Settembre 2018"
   ]
  },
  {
   "cell_type": "markdown",
   "metadata": {},
   "source": [
    "### Esercizio 0\n",
    "1) $X \\sim Bern(p)$ con $p \\in (0,1)$\n",
    "\n",
    "2) Var(X) = p(1-p) quindi $dvstd = \\sqrt{p(1-p)}\n",
    "\n",
    "3) $k \\in N$, $Y \\sim Bin(k,p)$\n",
    "\n",
    "$P(X = n) = \\binom{k}{n}p^n(1-p)^{k-n}$\n",
    "\n",
    "4) k = 50, p = 0.5"
   ]
  },
  {
   "cell_type": "code",
   "execution_count": 3,
   "metadata": {},
   "outputs": [
    {
     "data": {
      "image/png": "[encoded data removed]",
      "text/plain": [
       "<Figure size 432x288 with 1 Axes>"
      ]
     },
     "metadata": {
      "needs_background": "light"
     },
     "output_type": "display_data"
    }
   ],
   "source": [
    "Y=st.binom(50,0.5)\n",
    "x=np.arange(0,50)\n",
    "plt.vlines(x,0,Y.pmf(x))\n",
    "plt.plot(x,Y.pmf(x),'o')\n",
    "plt.show()"
   ]
  },
  {
   "cell_type": "markdown",
   "metadata": {},
   "source": [
    "5) Definizione Stimatore\n",
    "\n",
    "6) $E(X) = p$, $T_n = \\overline{X}$\n",
    "\n",
    "$E(T_n) = E(\\sum \\frac{X_i}{n}) = \\frac{1}{n} E(\\sum X_i) = \\frac{1}{n} \\sum E(X_i) = \\frac{n}{n} E(X) = p $\n",
    "\n",
    "7) $n \\geq 1$\n",
    "\n",
    " Dimostrare che $P(-\\epsilon < T_n - p < \\epsilon) \\approx 2\\Phi(\\epsilon \\frac{\\sqrt{n}}{\\sigma}) - 1$\n",
    " \n",
    " Standardizzo: $P(|T_n - p| < \\epsilon)$ lo divido per la deviazione standard di $T_n$ cioè $\\sqrt{\\frac{1}{n}\\sigma^2}$ e ottengo\n",
    " $$P(|Z|< \\frac{\\epsilon \\sqrt{n}}{\\sigma})$$\n",
    " Applico il teorema del limite centrale:\n",
    " $$P(|Z|< \\frac{\\epsilon \\sqrt{n}}{\\sigma}) \\approx \\Phi(\\frac{\\epsilon \\sqrt{n}}{\\sigma}) - \\Phi(-\\frac{\\epsilon \\sqrt{n}}{\\sigma}) = \\Phi(\\frac{\\epsilon \\sqrt{n}}{\\sigma}) - (1-\\Phi(\\frac{\\epsilon \\sqrt{n}}{\\sigma})) = 2\\Phi(\\frac{\\epsilon \\sqrt{n}}{\\sigma})-1$$"
   ]
  },
  {
   "cell_type": "markdown",
   "metadata": {},
   "source": [
    "### Esercizio 1"
   ]
  },
  {
   "cell_type": "code",
   "execution_count": 4,
   "metadata": {},
   "outputs": [
    {
     "data": {
      "text/plain": [
       "Index(['id', 'TemaPrioritario', 'FONTE', 'CodiceCategoria', 'CATEGORIA',\n",
       "       'UNITA', 'FinProvincia', 'FinRegione', 'TotSpese'],\n",
       "      dtype='object')"
      ]
     },
     "execution_count": 4,
     "metadata": {},
     "output_type": "execute_result"
    }
   ],
   "source": [
    "fin = pd.read_csv(\"finanziamenti.csv\",delimiter=\";\",decimal=\",\")\n",
    "fin.columns"
   ]
  },
  {
   "cell_type": "code",
   "execution_count": 5,
   "metadata": {},
   "outputs": [
    {
     "name": "stdout",
     "output_type": "stream",
     "text": [
      "Valore  nominale in quanto indica un codice\n"
     ]
    }
   ],
   "source": [
    "#1\n",
    "fin['CodiceCategoria']\n",
    "print(\"Valore  nominale in quanto indica un codice\")"
   ]
  },
  {
   "cell_type": "code",
   "execution_count": 6,
   "metadata": {},
   "outputs": [
    {
     "data": {
      "text/html": [
       "<div>\n",
       "<style scoped>\n",
       "    .dataframe tbody tr th:only-of-type {\n",
       "        vertical-align: middle;\n",
       "    }\n",
       "\n",
       "    .dataframe tbody tr th {\n",
       "        vertical-align: top;\n",
       "    }\n",
       "\n",
       "    .dataframe thead th {\n",
       "        text-align: right;\n",
       "    }\n",
       "</style>\n",
       "<table border=\"1\" class=\"dataframe\">\n",
       "  <thead>\n",
       "    <tr style=\"text-align: right;\">\n",
       "      <th></th>\n",
       "      <th>Abs. Freq.</th>\n",
       "    </tr>\n",
       "    <tr>\n",
       "      <th>UNITA</th>\n",
       "      <th></th>\n",
       "    </tr>\n",
       "  </thead>\n",
       "  <tbody>\n",
       "    <tr>\n",
       "      <th>ASSISI</th>\n",
       "      <td>243</td>\n",
       "    </tr>\n",
       "    <tr>\n",
       "      <th>CASCIA</th>\n",
       "      <td>13</td>\n",
       "    </tr>\n",
       "    <tr>\n",
       "      <th>CASTIGLIONE DEL L</th>\n",
       "      <td>75</td>\n",
       "    </tr>\n",
       "    <tr>\n",
       "      <th>CHIUSI</th>\n",
       "      <td>30</td>\n",
       "    </tr>\n",
       "    <tr>\n",
       "      <th>CITTA DI CASTELLO</th>\n",
       "      <td>288</td>\n",
       "    </tr>\n",
       "    <tr>\n",
       "      <th>CORTONA</th>\n",
       "      <td>1</td>\n",
       "    </tr>\n",
       "    <tr>\n",
       "      <th>FOLIGNO</th>\n",
       "      <td>449</td>\n",
       "    </tr>\n",
       "    <tr>\n",
       "      <th>GUALDO TADINO</th>\n",
       "      <td>75</td>\n",
       "    </tr>\n",
       "    <tr>\n",
       "      <th>GUBBIO</th>\n",
       "      <td>76</td>\n",
       "    </tr>\n",
       "    <tr>\n",
       "      <th>NORCIA</th>\n",
       "      <td>28</td>\n",
       "    </tr>\n",
       "    <tr>\n",
       "      <th>ORVIETO</th>\n",
       "      <td>60</td>\n",
       "    </tr>\n",
       "    <tr>\n",
       "      <th>PERUGIA</th>\n",
       "      <td>1005</td>\n",
       "    </tr>\n",
       "    <tr>\n",
       "      <th>SLL MULTIPLO</th>\n",
       "      <td>5</td>\n",
       "    </tr>\n",
       "    <tr>\n",
       "      <th>SLL NON ATTRIBUIBILE</th>\n",
       "      <td>255</td>\n",
       "    </tr>\n",
       "    <tr>\n",
       "      <th>SPOLETO</th>\n",
       "      <td>186</td>\n",
       "    </tr>\n",
       "    <tr>\n",
       "      <th>TERNI</th>\n",
       "      <td>638</td>\n",
       "    </tr>\n",
       "    <tr>\n",
       "      <th>TODI</th>\n",
       "      <td>117</td>\n",
       "    </tr>\n",
       "    <tr>\n",
       "      <th>UMBERTIDE</th>\n",
       "      <td>124</td>\n",
       "    </tr>\n",
       "  </tbody>\n",
       "</table>\n",
       "</div>"
      ],
      "text/plain": [
       "                      Abs. Freq.\n",
       "UNITA                           \n",
       "ASSISI                       243\n",
       "CASCIA                        13\n",
       "CASTIGLIONE DEL L             75\n",
       "CHIUSI                        30\n",
       "CITTA DI CASTELLO            288\n",
       "CORTONA                        1\n",
       "FOLIGNO                      449\n",
       "GUALDO TADINO                 75\n",
       "GUBBIO                        76\n",
       "NORCIA                        28\n",
       "ORVIETO                       60\n",
       "PERUGIA                     1005\n",
       "SLL MULTIPLO                   5\n",
       "SLL NON ATTRIBUIBILE         255\n",
       "SPOLETO                      186\n",
       "TERNI                        638\n",
       "TODI                         117\n",
       "UMBERTIDE                    124"
      ]
     },
     "execution_count": 6,
     "metadata": {},
     "output_type": "execute_result"
    }
   ],
   "source": [
    "#2\n",
    "finu = pd.crosstab(index=fin['UNITA'],columns=['Abs. Freq.'],colnames=[''])\n",
    "finu"
   ]
  },
  {
   "cell_type": "code",
   "execution_count": 10,
   "metadata": {},
   "outputs": [
    {
     "data": {
      "image/png": "[encoded data removed]",
      "text/plain": [
       "<Figure size 432x288 with 1 Axes>"
      ]
     },
     "metadata": {},
     "output_type": "display_data"
    }
   ],
   "source": [
    "#3\n",
    "finu.plot.bar()\n",
    "plt.show()"
   ]
  },
  {
   "cell_type": "code",
   "execution_count": 25,
   "metadata": {},
   "outputs": [],
   "source": [
    "#4  vedi foglio"
   ]
  },
  {
   "cell_type": "code",
   "execution_count": 27,
   "metadata": {},
   "outputs": [],
   "source": [
    "#5 \n",
    "progetti_a=fin[fin['FinProvincia']<(fin['FinRegione'])]\n",
    "progetti_b=fin[fin['FinProvincia']>=(fin['FinRegione'])]"
   ]
  },
  {
   "cell_type": "code",
   "execution_count": 34,
   "metadata": {},
   "outputs": [
    {
     "name": "stdout",
     "output_type": "stream",
     "text": [
      "A: 368\n",
      "B: 3284\n"
     ]
    }
   ],
   "source": [
    "print(\"A: {}\".format(len(progetti_a)))\n",
    "print(\"B: {}\".format(len(progetti_b)))"
   ]
  },
  {
   "cell_type": "code",
   "execution_count": 36,
   "metadata": {},
   "outputs": [],
   "source": [
    "#6.1\n",
    "mask = progetti_a['FinProvincia'] >= 200\n",
    "mask1 = progetti_a['FinProvincia'] < 1000\n",
    "selezione_progetti_a = progetti_a[mask & mask1]"
   ]
  },
  {
   "cell_type": "code",
   "execution_count": 39,
   "metadata": {},
   "outputs": [
    {
     "data": {
      "image/png": "[encoded data removed]",
      "text/plain": [
       "<Figure size 432x288 with 1 Axes>"
      ]
     },
     "metadata": {},
     "output_type": "display_data"
    }
   ],
   "source": [
    "#6.2\n",
    "bins=np.arange(0,1001,100)\n",
    "selezione_progetti_a['FinProvincia'].hist(bins = bins)\n",
    "plt.show()"
   ]
  },
  {
   "cell_type": "code",
   "execution_count": 40,
   "metadata": {},
   "outputs": [
    {
     "data": {
      "image/png": "[encoded data removed]",
      "text/plain": [
       "<Figure size 432x288 with 1 Axes>"
      ]
     },
     "metadata": {},
     "output_type": "display_data"
    }
   ],
   "source": [
    "#6.3\n",
    "selezione_progetti_a['FinProvincia'].plot.box()\n",
    "plt.show()"
   ]
  },
  {
   "cell_type": "code",
   "execution_count": 41,
   "metadata": {},
   "outputs": [
    {
     "name": "stdout",
     "output_type": "stream",
     "text": [
      "Tra i due grafici ritengo che l'istogramma sia più informativo in quanto, nonostante nel box plot possiamo trarre un sacco di informazioni non rileviamo la più importante : il carattere è suddiviso in due gruppi che sembrerebbero seguire una distribuzione normale 'BIMODALE'\n"
     ]
    }
   ],
   "source": [
    "#6.4\n",
    "print(\"Tra i due grafici ritengo che l'istogramma sia più informativo in quanto, nonostante nel box plot possiamo trarre un sacco di informazioni non rileviamo la più importante : il carattere è suddiviso in due gruppi che sembrerebbero seguire una distribuzione normale 'BIMODALE'\")"
   ]
  },
  {
   "cell_type": "code",
   "execution_count": 42,
   "metadata": {},
   "outputs": [
    {
     "data": {
      "text/plain": [
       "636.9052631578948"
      ]
     },
     "execution_count": 42,
     "metadata": {},
     "output_type": "execute_result"
    }
   ],
   "source": [
    "#6.5\n",
    "selezione_progetti_a['FinProvincia'].mean()"
   ]
  },
  {
   "cell_type": "code",
   "execution_count": 43,
   "metadata": {},
   "outputs": [
    {
     "data": {
      "text/plain": [
       "264.80233322588253"
      ]
     },
     "execution_count": 43,
     "metadata": {},
     "output_type": "execute_result"
    }
   ],
   "source": [
    "selezione_progetti_a['FinProvincia'].std()"
   ]
  },
  {
   "cell_type": "code",
   "execution_count": 47,
   "metadata": {},
   "outputs": [
    {
     "name": "stdout",
     "output_type": "stream",
     "text": [
      "Nessuno vedi grafico\n"
     ]
    }
   ],
   "source": [
    "#6.6\n",
    "print(\"Nessuno vedi grafico\")"
   ]
  },
  {
   "cell_type": "code",
   "execution_count": 52,
   "metadata": {},
   "outputs": [
    {
     "name": "stdout",
     "output_type": "stream",
     "text": [
      "0.6964011723762348\n"
     ]
    },
    {
     "data": {
      "image/png": "[encoded data removed]",
      "text/plain": [
       "<Figure size 432x288 with 1 Axes>"
      ]
     },
     "metadata": {},
     "output_type": "display_data"
    }
   ],
   "source": [
    "#6.7\n",
    "print(selezione_progetti_a['FinProvincia'].corr(selezione_progetti_a['TotSpese']))\n",
    "selezione_progetti_a.plot.scatter('FinProvincia','TotSpese')\n",
    "plt.show()"
   ]
  },
  {
   "cell_type": "code",
   "execution_count": 53,
   "metadata": {},
   "outputs": [
    {
     "data": {
      "image/png": "[encoded data removed]",
      "text/plain": [
       "<Figure size 432x288 with 1 Axes>"
      ]
     },
     "metadata": {},
     "output_type": "display_data"
    }
   ],
   "source": [
    "#6.8\n",
    "selezione_progetti_a_noutliers=selezione_progetti_a[selezione_progetti_a['TotSpese']>2000]\n",
    "selezione_progetti_a_noutliers.plot.scatter('FinProvincia','TotSpese')\n",
    "plt.show()"
   ]
  },
  {
   "cell_type": "markdown",
   "metadata": {},
   "source": [
    "### Esercizio 2"
   ]
  },
  {
   "cell_type": "code",
   "execution_count": 54,
   "metadata": {},
   "outputs": [
    {
     "data": {
      "text/plain": [
       "1134"
      ]
     },
     "execution_count": 54,
     "metadata": {},
     "output_type": "execute_result"
    }
   ],
   "source": [
    "#1\n",
    "len(fin)-len(fin.dropna(axis=0,subset=['TotSpese']))"
   ]
  },
  {
   "cell_type": "code",
   "execution_count": 56,
   "metadata": {},
   "outputs": [
    {
     "data": {
      "text/plain": [
       "(0.0005678277621445123, 6765.183171365392)"
      ]
     },
     "execution_count": 56,
     "metadata": {},
     "output_type": "execute_result"
    }
   ],
   "source": [
    "#2\n",
    "Z=st.norm()\n",
    "dev=fin['TotSpese'].std()\n",
    "(Z.ppf(1.95/2)*(len(fin))**0.5)/dev,(Z.ppf(1.95/2)*dev)/len(fin)**0.5"
   ]
  },
  {
   "cell_type": "code",
   "execution_count": 57,
   "metadata": {},
   "outputs": [],
   "source": [
    "#3"
   ]
  },
  {
   "cell_type": "code",
   "execution_count": 58,
   "metadata": {},
   "outputs": [
    {
     "name": "stdout",
     "output_type": "stream",
     "text": [
      "Normale\n"
     ]
    }
   ],
   "source": [
    "#4\n",
    "print(\"Normale\")"
   ]
  },
  {
   "cell_type": "code",
   "execution_count": 59,
   "metadata": {},
   "outputs": [],
   "source": [
    "#5\n"
   ]
  },
  {
   "cell_type": "code",
   "execution_count": 60,
   "metadata": {},
   "outputs": [],
   "source": [
    "#6"
   ]
  },
  {
   "cell_type": "code",
   "execution_count": 61,
   "metadata": {},
   "outputs": [],
   "source": [
    "#7"
   ]
  },
  {
   "cell_type": "code",
   "execution_count": 62,
   "metadata": {},
   "outputs": [],
   "source": [
    "#8"
   ]
  }
 ],
 "metadata": {
  "kernelspec": {
   "display_name": "Python 3",
   "language": "python",
   "name": "python3"
  },
  "language_info": {
   "codemirror_mode": {
    "name": "ipython",
    "version": 3
   },
   "file_extension": ".py",
   "mimetype": "text/x-python",
   "name": "python",
   "nbconvert_exporter": "python",
   "pygments_lexer": "ipython3",
   "version": "3.6.5"
  }
 },
 "nbformat": 4,
 "nbformat_minor": 2
}
