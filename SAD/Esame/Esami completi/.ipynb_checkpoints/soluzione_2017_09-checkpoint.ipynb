{
 "cells": [
  {
   "cell_type": "markdown",
   "metadata": {},
   "source": [
    "# Settembre 2017\n",
    "\n",
    "## Esercizio 0"
   ]
  },
  {
   "cell_type": "markdown",
   "metadata": {},
   "source": [
    "0.1\n",
    "Il valore atteso di A - B è uguale a u - u = 0 \n",
    "\n",
    "0.2\n",
    "$$ Var(A - B) = E[(A - B)^2] - E[A - B]^2 $$\n",
    "\n",
    "$$ Var(A - B) = E[A^2 - 2AB + B^2] $$\n",
    "\n",
    "$$ Var(A - B) = E[A^2] - 2E[AB] + E[B^2] $$\n",
    "\n",
    "Perché A e B variabili indipendenti\n",
    "\n",
    "$$ Var(A - B) = E[A^2] - 2E[A]E[B] + E[B^2] $$\n",
    "\n",
    "$$ Var(A - B) = (E[A^2] - u^2) + (E[B^2] -u^2) $$\n",
    "\n",
    "$$ Var(A - B) = Var(A) + Var(B) $$\n",
    "\n",
    "$$ Var(A - B) = 2\\sigma^2 $$\n",
    "\n",
    "0.3\n",
    "La distribuzione di A - B sarebbe a sua volta una variabile aleatoria normale perché somma di variabili aleatorie normali.\n",
    "I parametri sarebbero: valore atteso 0 e varianza 2o^2\n",
    "\n",
    "0.4\n",
    "$$T_x = \\frac{\\sum_{i=1}^n {(X_i - u)^2}}{n}$$\n",
    "\n",
    "0.5\n",
    "Lo stimatore è non distorto perché il valore atteso di ogni (Xi -u) è uguale alla varianza di X per definizione:\n",
    "\n",
    "$$E[(X_i - u)^2] = Var(X)$$\n",
    "\n",
    "$$E[T_x] = \\frac{n * Var(X)}{n} = Var(X)$$\n",
    "\n",
    "0.6\n",
    "$$ Y = A - B $$\n",
    "\n",
    "$$ T_y = 2T_x $$\n",
    "\n",
    "0.7\n",
    "$$E[T_y] = E[2T_x]$$\n",
    "\n",
    "$$E[T_y] = 2E[T_x]$$\n",
    "\n",
    "$$E[T_y] = 2\\sigma^2$$"
   ]
  },
  {
   "cell_type": "markdown",
   "metadata": {},
   "source": [
    "## Esercizio 1"
   ]
  },
  {
   "cell_type": "code",
   "execution_count": 1,
   "metadata": {},
   "outputs": [
    {
     "data": {
      "text/html": [
       "<div>\n",
       "<style scoped>\n",
       "    .dataframe tbody tr th:only-of-type {\n",
       "        vertical-align: middle;\n",
       "    }\n",
       "\n",
       "    .dataframe tbody tr th {\n",
       "        vertical-align: top;\n",
       "    }\n",
       "\n",
       "    .dataframe thead th {\n",
       "        text-align: right;\n",
       "    }\n",
       "</style>\n",
       "<table border=\"1\" class=\"dataframe\">\n",
       "  <thead>\n",
       "    <tr style=\"text-align: right;\">\n",
       "      <th></th>\n",
       "      <th>ParkID</th>\n",
       "      <th>PSA</th>\n",
       "      <th>Park</th>\n",
       "      <th>FQ</th>\n",
       "      <th>Score</th>\n",
       "      <th>Facility Type</th>\n",
       "      <th>Facility Name</th>\n",
       "      <th>Address</th>\n",
       "      <th>State</th>\n",
       "      <th>Zipcode</th>\n",
       "      <th>Floor Count</th>\n",
       "      <th>Square Feet</th>\n",
       "      <th>Perimeter Length</th>\n",
       "      <th>Acres</th>\n",
       "      <th>Longitude</th>\n",
       "      <th>Latitude</th>\n",
       "    </tr>\n",
       "  </thead>\n",
       "  <tbody>\n",
       "    <tr>\n",
       "      <th>0</th>\n",
       "      <td>86</td>\n",
       "      <td>PSA4</td>\n",
       "      <td>Carl Larsen Park</td>\n",
       "      <td>FY05Q3</td>\n",
       "      <td>0.795</td>\n",
       "      <td>Basketball Court</td>\n",
       "      <td>Ocean View Basketball Courts</td>\n",
       "      <td>Capitol &amp; Montana St</td>\n",
       "      <td>CA</td>\n",
       "      <td>94112.0</td>\n",
       "      <td>NaN</td>\n",
       "      <td>5572.020314</td>\n",
       "      <td>311.982228</td>\n",
       "      <td>0.127916</td>\n",
       "      <td>-122.456708</td>\n",
       "      <td>37.716335</td>\n",
       "    </tr>\n",
       "    <tr>\n",
       "      <th>1</th>\n",
       "      <td>13</td>\n",
       "      <td>PSA4</td>\n",
       "      <td>Junipero Serra Playground</td>\n",
       "      <td>FY05Q3</td>\n",
       "      <td>0.957</td>\n",
       "      <td>Ball Field</td>\n",
       "      <td>Glen ball fields</td>\n",
       "      <td>Diamond &amp; Farnum Street</td>\n",
       "      <td>CA</td>\n",
       "      <td>94131.0</td>\n",
       "      <td>NaN</td>\n",
       "      <td>124520.486259</td>\n",
       "      <td>1891.675445</td>\n",
       "      <td>2.858608</td>\n",
       "      <td>-122.440592</td>\n",
       "      <td>37.736008</td>\n",
       "    </tr>\n",
       "    <tr>\n",
       "      <th>2</th>\n",
       "      <td>9</td>\n",
       "      <td>PSA4</td>\n",
       "      <td>Rolph Nicol Playground</td>\n",
       "      <td>FY05Q3</td>\n",
       "      <td>0.864</td>\n",
       "      <td>Dog Play Area</td>\n",
       "      <td>Douglass dog play area</td>\n",
       "      <td>26th &amp; Douglass Street</td>\n",
       "      <td>CA</td>\n",
       "      <td>94114.0</td>\n",
       "      <td>NaN</td>\n",
       "      <td>70655.337234</td>\n",
       "      <td>1153.019646</td>\n",
       "      <td>1.622030</td>\n",
       "      <td>-122.438895</td>\n",
       "      <td>37.746741</td>\n",
       "    </tr>\n",
       "    <tr>\n",
       "      <th>3</th>\n",
       "      <td>117</td>\n",
       "      <td>PSA2</td>\n",
       "      <td>Alamo Square</td>\n",
       "      <td>FY05Q4</td>\n",
       "      <td>0.857</td>\n",
       "      <td>Restroom</td>\n",
       "      <td>Gilman Bathrooms</td>\n",
       "      <td>Gilman Ave &amp; Griffith</td>\n",
       "      <td>CA</td>\n",
       "      <td>94124.0</td>\n",
       "      <td>NaN</td>\n",
       "      <td>378.668603</td>\n",
       "      <td>94.257319</td>\n",
       "      <td>0.008693</td>\n",
       "      <td>-122.388772</td>\n",
       "      <td>37.717179</td>\n",
       "    </tr>\n",
       "    <tr>\n",
       "      <th>4</th>\n",
       "      <td>60</td>\n",
       "      <td>PSA6</td>\n",
       "      <td>Jose Coronado Playground</td>\n",
       "      <td>FY05Q4</td>\n",
       "      <td>0.859</td>\n",
       "      <td>Basketball Court</td>\n",
       "      <td>GGP1 Panhandle Basketball Courts</td>\n",
       "      <td>Stanyan &amp; Great Hwy</td>\n",
       "      <td>CA</td>\n",
       "      <td>94117.0</td>\n",
       "      <td>NaN</td>\n",
       "      <td>4645.553645</td>\n",
       "      <td>279.465313</td>\n",
       "      <td>0.106648</td>\n",
       "      <td>-122.448380</td>\n",
       "      <td>37.772304</td>\n",
       "    </tr>\n",
       "  </tbody>\n",
       "</table>\n",
       "</div>"
      ],
      "text/plain": [
       "   ParkID   PSA                       Park      FQ  Score     Facility Type  \\\n",
       "0      86  PSA4           Carl Larsen Park  FY05Q3  0.795  Basketball Court   \n",
       "1      13  PSA4  Junipero Serra Playground  FY05Q3  0.957        Ball Field   \n",
       "2       9  PSA4     Rolph Nicol Playground  FY05Q3  0.864     Dog Play Area   \n",
       "3     117  PSA2               Alamo Square  FY05Q4  0.857          Restroom   \n",
       "4      60  PSA6   Jose Coronado Playground  FY05Q4  0.859  Basketball Court   \n",
       "\n",
       "                      Facility Name                  Address State  Zipcode  \\\n",
       "0      Ocean View Basketball Courts     Capitol & Montana St    CA  94112.0   \n",
       "1                  Glen ball fields  Diamond & Farnum Street    CA  94131.0   \n",
       "2            Douglass dog play area   26th & Douglass Street    CA  94114.0   \n",
       "3                  Gilman Bathrooms    Gilman Ave & Griffith    CA  94124.0   \n",
       "4  GGP1 Panhandle Basketball Courts      Stanyan & Great Hwy    CA  94117.0   \n",
       "\n",
       "   Floor Count    Square Feet  Perimeter Length     Acres   Longitude  \\\n",
       "0          NaN    5572.020314        311.982228  0.127916 -122.456708   \n",
       "1          NaN  124520.486259       1891.675445  2.858608 -122.440592   \n",
       "2          NaN   70655.337234       1153.019646  1.622030 -122.438895   \n",
       "3          NaN     378.668603         94.257319  0.008693 -122.388772   \n",
       "4          NaN    4645.553645        279.465313  0.106648 -122.448380   \n",
       "\n",
       "    Latitude  \n",
       "0  37.716335  \n",
       "1  37.736008  \n",
       "2  37.746741  \n",
       "3  37.717179  \n",
       "4  37.772304  "
      ]
     },
     "execution_count": 1,
     "metadata": {},
     "output_type": "execute_result"
    }
   ],
   "source": [
    "import pandas as pd\n",
    "import matplotlib.pyplot as plt\n",
    "import scipy.stats as st\n",
    "\n",
    "df = pd.read_csv('SF_Park_Scores.csv', sep=',', decimal='.')\n",
    "df[:5]"
   ]
  },
  {
   "cell_type": "code",
   "execution_count": 7,
   "metadata": {},
   "outputs": [
    {
     "data": {
      "text/html": [
       "<div>\n",
       "<style scoped>\n",
       "    .dataframe tbody tr th:only-of-type {\n",
       "        vertical-align: middle;\n",
       "    }\n",
       "\n",
       "    .dataframe tbody tr th {\n",
       "        vertical-align: top;\n",
       "    }\n",
       "\n",
       "    .dataframe thead th {\n",
       "        text-align: right;\n",
       "    }\n",
       "</style>\n",
       "<table border=\"1\" class=\"dataframe\">\n",
       "  <thead>\n",
       "    <tr style=\"text-align: right;\">\n",
       "      <th></th>\n",
       "      <th>ParkID</th>\n",
       "      <th>Score</th>\n",
       "      <th>Zipcode</th>\n",
       "      <th>Floor Count</th>\n",
       "      <th>Square Feet</th>\n",
       "      <th>Perimeter Length</th>\n",
       "      <th>Acres</th>\n",
       "      <th>Longitude</th>\n",
       "      <th>Latitude</th>\n",
       "    </tr>\n",
       "  </thead>\n",
       "  <tbody>\n",
       "    <tr>\n",
       "      <td>count</td>\n",
       "      <td>5494.000000</td>\n",
       "      <td>5494.000000</td>\n",
       "      <td>4719.000000</td>\n",
       "      <td>1324.000000</td>\n",
       "      <td>4719.000000</td>\n",
       "      <td>4719.000000</td>\n",
       "      <td>4719.000000</td>\n",
       "      <td>4719.000000</td>\n",
       "      <td>4719.000000</td>\n",
       "    </tr>\n",
       "    <tr>\n",
       "      <td>mean</td>\n",
       "      <td>32991.238260</td>\n",
       "      <td>0.897962</td>\n",
       "      <td>94117.015469</td>\n",
       "      <td>1.205438</td>\n",
       "      <td>26631.239099</td>\n",
       "      <td>548.798660</td>\n",
       "      <td>0.611372</td>\n",
       "      <td>-122.442014</td>\n",
       "      <td>37.755449</td>\n",
       "    </tr>\n",
       "    <tr>\n",
       "      <td>std</td>\n",
       "      <td>150843.356703</td>\n",
       "      <td>0.117428</td>\n",
       "      <td>7.789351</td>\n",
       "      <td>0.555411</td>\n",
       "      <td>63124.930195</td>\n",
       "      <td>793.532309</td>\n",
       "      <td>1.449155</td>\n",
       "      <td>0.032165</td>\n",
       "      <td>0.025242</td>\n",
       "    </tr>\n",
       "    <tr>\n",
       "      <td>min</td>\n",
       "      <td>1.000000</td>\n",
       "      <td>0.000000</td>\n",
       "      <td>94102.000000</td>\n",
       "      <td>1.000000</td>\n",
       "      <td>213.120658</td>\n",
       "      <td>60.729108</td>\n",
       "      <td>0.004893</td>\n",
       "      <td>-122.510114</td>\n",
       "      <td>37.708446</td>\n",
       "    </tr>\n",
       "    <tr>\n",
       "      <td>25%</td>\n",
       "      <td>55.000000</td>\n",
       "      <td>0.859000</td>\n",
       "      <td>94112.000000</td>\n",
       "      <td>1.000000</td>\n",
       "      <td>1379.550956</td>\n",
       "      <td>169.151099</td>\n",
       "      <td>0.031670</td>\n",
       "      <td>-122.465363</td>\n",
       "      <td>37.737555</td>\n",
       "    </tr>\n",
       "    <tr>\n",
       "      <td>50%</td>\n",
       "      <td>106.000000</td>\n",
       "      <td>0.931000</td>\n",
       "      <td>94116.000000</td>\n",
       "      <td>1.000000</td>\n",
       "      <td>4241.343735</td>\n",
       "      <td>285.193904</td>\n",
       "      <td>0.097368</td>\n",
       "      <td>-122.438155</td>\n",
       "      <td>37.756926</td>\n",
       "    </tr>\n",
       "    <tr>\n",
       "      <td>75%</td>\n",
       "      <td>154.000000</td>\n",
       "      <td>0.976000</td>\n",
       "      <td>94122.000000</td>\n",
       "      <td>1.000000</td>\n",
       "      <td>10192.913376</td>\n",
       "      <td>513.541252</td>\n",
       "      <td>0.233998</td>\n",
       "      <td>-122.414374</td>\n",
       "      <td>37.773748</td>\n",
       "    </tr>\n",
       "    <tr>\n",
       "      <td>max</td>\n",
       "      <td>957226.000000</td>\n",
       "      <td>1.000000</td>\n",
       "      <td>94134.000000</td>\n",
       "      <td>4.000000</td>\n",
       "      <td>515443.479217</td>\n",
       "      <td>5506.267664</td>\n",
       "      <td>11.833001</td>\n",
       "      <td>-122.383721</td>\n",
       "      <td>37.806461</td>\n",
       "    </tr>\n",
       "  </tbody>\n",
       "</table>\n",
       "</div>"
      ],
      "text/plain": [
       "              ParkID        Score       Zipcode  Floor Count    Square Feet  \\\n",
       "count    5494.000000  5494.000000   4719.000000  1324.000000    4719.000000   \n",
       "mean    32991.238260     0.897962  94117.015469     1.205438   26631.239099   \n",
       "std    150843.356703     0.117428      7.789351     0.555411   63124.930195   \n",
       "min         1.000000     0.000000  94102.000000     1.000000     213.120658   \n",
       "25%        55.000000     0.859000  94112.000000     1.000000    1379.550956   \n",
       "50%       106.000000     0.931000  94116.000000     1.000000    4241.343735   \n",
       "75%       154.000000     0.976000  94122.000000     1.000000   10192.913376   \n",
       "max    957226.000000     1.000000  94134.000000     4.000000  515443.479217   \n",
       "\n",
       "       Perimeter Length        Acres    Longitude     Latitude  \n",
       "count       4719.000000  4719.000000  4719.000000  4719.000000  \n",
       "mean         548.798660     0.611372  -122.442014    37.755449  \n",
       "std          793.532309     1.449155     0.032165     0.025242  \n",
       "min           60.729108     0.004893  -122.510114    37.708446  \n",
       "25%          169.151099     0.031670  -122.465363    37.737555  \n",
       "50%          285.193904     0.097368  -122.438155    37.756926  \n",
       "75%          513.541252     0.233998  -122.414374    37.773748  \n",
       "max         5506.267664    11.833001  -122.383721    37.806461  "
      ]
     },
     "execution_count": 7,
     "metadata": {},
     "output_type": "execute_result"
    }
   ],
   "source": [
    "# 1.2\n",
    "df.describe()"
   ]
  },
  {
   "cell_type": "code",
   "execution_count": 8,
   "metadata": {},
   "outputs": [
    {
     "data": {
      "text/plain": [
       "5494"
      ]
     },
     "execution_count": 8,
     "metadata": {},
     "output_type": "execute_result"
    }
   ],
   "source": [
    "# 1.3\n",
    "len(df)"
   ]
  },
  {
   "cell_type": "code",
   "execution_count": 9,
   "metadata": {},
   "outputs": [
    {
     "data": {
      "text/plain": [
       "(array(['PSA4', 'PSA2', 'PSA6', 'PSA3', 'GGP', 'PSA1', 'PSA5'],\n",
       "       dtype=object), 7)"
      ]
     },
     "execution_count": 9,
     "metadata": {},
     "output_type": "execute_result"
    }
   ],
   "source": [
    "# 1.4\n",
    "(df['PSA'].unique(), len(df['PSA'].unique()))"
   ]
  },
  {
   "cell_type": "code",
   "execution_count": 10,
   "metadata": {},
   "outputs": [
    {
     "data": {
      "image/png": "[encoded data removed]",
      "text/plain": [
       "<Figure size 432x288 with 1 Axes>"
      ]
     },
     "metadata": {
      "needs_background": "light"
     },
     "output_type": "display_data"
    }
   ],
   "source": [
    "# 1.5\n",
    "from statsmodels.distributions.empirical_distribution import ECDF\n",
    "dist = ECDF(df.Acres.dropna())\n",
    "plt.plot(dist.x, dist.y)\n",
    "plt.show()"
   ]
  },
  {
   "cell_type": "code",
   "execution_count": 11,
   "metadata": {},
   "outputs": [],
   "source": [
    "# 1.6\n",
    "    # La metà dei parchi di San Frascisco ha una estensione maggiore di 0.097368 acri"
   ]
  },
  {
   "cell_type": "code",
   "execution_count": 12,
   "metadata": {},
   "outputs": [],
   "source": [
    "# 1.7\n",
    "    # estensione media: 0.611372 acri"
   ]
  },
  {
   "cell_type": "code",
   "execution_count": 13,
   "metadata": {},
   "outputs": [],
   "source": [
    "# 1.8\n",
    "    # media e mediana non sono simili, quindi probabilmente la distribuzione non seguirà quindi una legge normale.\n",
    "    # il grafico sarà quindi asimmetrico con una coda a destra"
   ]
  },
  {
   "cell_type": "code",
   "execution_count": 14,
   "metadata": {},
   "outputs": [
    {
     "data": {
      "text/plain": [
       "1324"
      ]
     },
     "execution_count": 14,
     "metadata": {},
     "output_type": "execute_result"
    }
   ],
   "source": [
    "# 1.9\n",
    "len(df[df.Acres < 50].dropna())"
   ]
  },
  {
   "cell_type": "markdown",
   "metadata": {},
   "source": [
    "## Esercizio 2"
   ]
  },
  {
   "cell_type": "code",
   "execution_count": 15,
   "metadata": {},
   "outputs": [],
   "source": [
    "# 2.1\n",
    "# -122.442014\n",
    "# 37.755449\n",
    "# 0.032165^2\n",
    "# 0.025242^2"
   ]
  },
  {
   "cell_type": "code",
   "execution_count": 16,
   "metadata": {},
   "outputs": [],
   "source": [
    "# 2.2\n",
    "#!?"
   ]
  },
  {
   "cell_type": "code",
   "execution_count": 17,
   "metadata": {},
   "outputs": [
    {
     "data": {
      "image/png": "[encoded data removed]",
      "text/plain": [
       "<Figure size 432x288 with 1 Axes>"
      ]
     },
     "metadata": {
      "needs_background": "light"
     },
     "output_type": "display_data"
    },
    {
     "data": {
      "image/png": "[encoded data removed]",
      "text/plain": [
       "<Figure size 432x288 with 1 Axes>"
      ]
     },
     "metadata": {
      "needs_background": "light"
     },
     "output_type": "display_data"
    }
   ],
   "source": [
    "# 2.3\n",
    "import statsmodels.api as sm\n",
    "sm.qqplot(df.Latitude.dropna(), fit=True, line='45')\n",
    "plt.show()\n",
    "\n",
    "sm.qqplot(df.Longitude.dropna(), fit=True, line='45')\n",
    "plt.show()\n",
    "\n",
    "# I grafici confermano una distribuzione normale dei due caratteri.\n",
    "# L'ipotesi è oltretutto confermata dai valori di media e mediana"
   ]
  },
  {
   "cell_type": "code",
   "execution_count": 18,
   "metadata": {},
   "outputs": [],
   "source": [
    "# 2.4 \n",
    "# Segue una legge normale perché summa di due variabili aleatorie normali. \n",
    "# Con valore atteso 0 e varianza 2o^2 (non convintissimo)"
   ]
  },
  {
   "cell_type": "code",
   "execution_count": 19,
   "metadata": {},
   "outputs": [
    {
     "data": {
      "image/png": "[encoded data removed]",
      "text/plain": [
       "<Figure size 432x288 with 1 Axes>"
      ]
     },
     "metadata": {
      "needs_background": "light"
     },
     "output_type": "display_data"
    },
    {
     "name": "stdout",
     "output_type": "stream",
     "text": [
      "-0.07568466249043722\n"
     ]
    }
   ],
   "source": [
    "# 2.5\n",
    "df.plot.scatter('Latitude', 'Longitude')\n",
    "plt.show()\n",
    "print(df.Latitude.corr(df.Longitude))"
   ]
  },
  {
   "cell_type": "code",
   "execution_count": 20,
   "metadata": {},
   "outputs": [],
   "source": [
    "# 2.6\n",
    "    # Sia dal grafico molto sparso che dall'indice di correlazione molto vicino a 0 è chiaro vedere come non ci sia alcuna\n",
    "    # dipendenza tra i due caratteri."
   ]
  },
  {
   "cell_type": "code",
   "execution_count": 21,
   "metadata": {},
   "outputs": [
    {
     "data": {
      "image/png": "[encoded data removed]",
      "text/plain": [
       "<Figure size 432x288 with 1 Axes>"
      ]
     },
     "metadata": {
      "needs_background": "light"
     },
     "output_type": "display_data"
    }
   ],
   "source": [
    "# 2.7\n",
    "plt.scatter(df.Latitude, df.Acres)\n",
    "plt.show()"
   ]
  },
  {
   "cell_type": "code",
   "execution_count": 22,
   "metadata": {},
   "outputs": [],
   "source": [
    "# 2.8\n",
    "parchi = df[(df.Acres < 5) & (df.Latitude < 37.8)]"
   ]
  },
  {
   "cell_type": "code",
   "execution_count": 23,
   "metadata": {},
   "outputs": [
    {
     "data": {
      "image/png": "[encoded data removed]",
      "text/plain": [
       "<Figure size 432x288 with 1 Axes>"
      ]
     },
     "metadata": {
      "needs_background": "light"
     },
     "output_type": "display_data"
    },
    {
     "data": {
      "image/png": "[encoded data removed]",
      "text/plain": [
       "<Figure size 432x288 with 1 Axes>"
      ]
     },
     "metadata": {
      "needs_background": "light"
     },
     "output_type": "display_data"
    }
   ],
   "source": [
    "# 2.9\n",
    "parchi['Latitude'].plot.box()\n",
    "plt.show()\n",
    "\n",
    "parchi['Longitude'].plot.box()\n",
    "plt.show()"
   ]
  },
  {
   "cell_type": "markdown",
   "metadata": {},
   "source": [
    "## Esercizio 3\n"
   ]
  },
  {
   "cell_type": "markdown",
   "metadata": {},
   "source": [
    "### 3.1\n",
    "$$P(A - B < 0.1)$$\n",
    "\n",
    "Visto che la Longitudine ha una distribuzione normale, standardizzo\n",
    "\n",
    "$$P(\\frac{A - B - u}{std(A - B)} < \\frac{0.1 - u}{std(A - B)})$$\n",
    "\n",
    "$$P(Z < \\frac{0.1 - u}{std(A - B)})$$"
   ]
  },
  {
   "cell_type": "code",
   "execution_count": 27,
   "metadata": {},
   "outputs": [
    {
     "data": {
      "text/plain": [
       "0.9860392741005208"
      ]
     },
     "execution_count": 27,
     "metadata": {},
     "output_type": "execute_result"
    }
   ],
   "source": [
    "import math \n",
    "## per esercizio 0 la var(A - B) = 2var(X) \n",
    "devstd = math.sqrt(df.Longitude.std()**2 * 2)\n",
    "x = (0.1)/devstd\n",
    "norm = st.norm()\n",
    "norm.cdf(x)\n",
    "# Potrebbe essere sbagliato"
   ]
  },
  {
   "cell_type": "markdown",
   "metadata": {},
   "source": [
    "### 3.2\n",
    "$$P(|A - B| < 0.1)$$\n",
    "\n",
    "$$P(-0.1 < A - B < 0.1)$$\n",
    "\n",
    "Visto che la Longitudine ha una distribuzione normale, standardizzo\n",
    "\n",
    "$$P(-\\frac{0.1 - u}{std(A - B)} < \\frac{A - B - u}{std(A - B)} < \\frac{0.1 - u}{std(A - B)})$$\n",
    "\n",
    "$$P(Z < \\frac{0.1 - u}{std(A - B)}) - P(Z < - \\frac{0.1 - u}{std(A - B)})$$"
   ]
  },
  {
   "cell_type": "code",
   "execution_count": 28,
   "metadata": {},
   "outputs": [
    {
     "data": {
      "text/plain": [
       "0.9720785482010417"
      ]
     },
     "execution_count": 28,
     "metadata": {},
     "output_type": "execute_result"
    }
   ],
   "source": [
    "\n",
    "devstd = math.sqrt(df.Longitude.std()**2 * 2)\n",
    "x1 = (0.1)/devstd\n",
    "x2 = - (0.1)/devstd\n",
    "norm = st.norm()\n",
    "norm.cdf(x1) - norm.cdf(x2)"
   ]
  },
  {
   "cell_type": "code",
   "execution_count": null,
   "metadata": {},
   "outputs": [],
   "source": []
  }
 ],
 "metadata": {
  "kernelspec": {
   "display_name": "Python 3",
   "language": "python",
   "name": "python3"
  },
  "language_info": {
   "codemirror_mode": {
    "name": "ipython",
    "version": 3
   },
   "file_extension": ".py",
   "mimetype": "text/x-python",
   "name": "python",
   "nbconvert_exporter": "python",
   "pygments_lexer": "ipython3",
   "version": "3.6.5"
  }
 },
 "nbformat": 4,
 "nbformat_minor": 2
}
