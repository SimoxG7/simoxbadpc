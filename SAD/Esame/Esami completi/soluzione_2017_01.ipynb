{
 "cells": [
  {
   "cell_type": "markdown",
   "metadata": {},
   "source": [
    "# 25 gennaio 2017\n",
    "\n",
    "## Esercizio 0\n",
    "\n",
    "### 0.1\n",
    "- a => Funz cum emp: h, Istogramma: f\n",
    "- b => Funz cum emp: g, Isogramma: d\n",
    "- c => Funz cum emp: i, Istogramma e\n",
    "\n",
    "### 0.2\n",
    "$$P(B|A) = \\frac{P(A , B)}{P(A)} $$\n",
    "la probabilità condizionata di un evento A rispetto a un evento B è la probabilità che si verifichi A, sapendo che B è verificato.\n",
    "\n",
    "### 0.3\n",
    "$$T_n = \\frac{\\sum_{i=1}^n {X_i}}{n} $$\n",
    "\n",
    "### 0.4\n",
    "$$ P(|T_n - \\mu| < 0.5) $$\n",
    "\n",
    "$$ P(-0.5 < T_n - \\mu < 0.5) $$\n",
    "\n",
    "$$ P(-\\frac{0.5}{\\frac{\\sigma}{\\sqrt{n}}} < \\frac{T_n - \\mu }{\\frac{\\sigma}{\\sqrt{n}}}< \\frac{0.5}{\\frac{\\sigma}{\\sqrt{n}}}) $$\n",
    "\n",
    "$$ P(-\\frac{0.5}{\\frac{\\sigma}{\\sqrt{n}}} < Z < \\frac{0.5}{\\frac{\\sigma}{\\sqrt{n}}}) $$\n",
    "\n",
    "$$ \\phi(\\frac{0.5}{\\frac{\\sigma}{\\sqrt{n}}}) - \\phi(-\\frac{0.5}{\\frac{\\sigma}{\\sqrt{n}}}) $$"
   ]
  },
  {
   "cell_type": "code",
   "execution_count": 1,
   "metadata": {},
   "outputs": [],
   "source": [
    "import pandas as pd\n",
    "import matplotlib.pyplot as plt\n",
    "import scipy.stats as st\n",
    "import math"
   ]
  },
  {
   "cell_type": "code",
   "execution_count": 2,
   "metadata": {},
   "outputs": [
    {
     "data": {
      "text/plain": [
       "0.8296658522624347"
      ]
     },
     "execution_count": 2,
     "metadata": {},
     "output_type": "execute_result"
    }
   ],
   "source": [
    "Z = st.norm()\n",
    "n = 47\n",
    "sigma = 2.5\n",
    "z1 = 0.5 * math.sqrt(n)/ sigma \n",
    "z2 = - (0.5 * math.sqrt(n)/ sigma)\n",
    "Z.cdf(z1) -Z.cdf(z2)"
   ]
  },
  {
   "cell_type": "markdown",
   "metadata": {},
   "source": [
    "## Esercizio 1"
   ]
  },
  {
   "cell_type": "code",
   "execution_count": 15,
   "metadata": {
    "scrolled": true
   },
   "outputs": [
    {
     "data": {
      "text/html": [
       "<div>\n",
       "<style scoped>\n",
       "    .dataframe tbody tr th:only-of-type {\n",
       "        vertical-align: middle;\n",
       "    }\n",
       "\n",
       "    .dataframe tbody tr th {\n",
       "        vertical-align: top;\n",
       "    }\n",
       "\n",
       "    .dataframe thead th {\n",
       "        text-align: right;\n",
       "    }\n",
       "</style>\n",
       "<table border=\"1\" class=\"dataframe\">\n",
       "  <thead>\n",
       "    <tr style=\"text-align: right;\">\n",
       "      <th></th>\n",
       "      <th>Odontoiatri_Universitari</th>\n",
       "      <th>Geologi_SSN</th>\n",
       "      <th>Collaboratori_tecnico-profes_Univ</th>\n",
       "      <th>Tecnico-sanitario_Univ</th>\n",
       "      <th>Ingegneri_Univ</th>\n",
       "      <th>Operatori_II_cat_SSN</th>\n",
       "      <th>Operatori_II_cat_Univ</th>\n",
       "      <th>Didattico-organizzativo_Univ</th>\n",
       "      <th>Vigilanza_e_ispezione_Univ</th>\n",
       "      <th>Addetti_ai_LSU_SSN</th>\n",
       "      <th>...</th>\n",
       "      <th>Sociologi_SSN</th>\n",
       "      <th>Contrattisti_SSN</th>\n",
       "      <th>Operatori_tecnici_di_assistenza_SSN</th>\n",
       "      <th>Collaboratori_Amministr_SSN</th>\n",
       "      <th>Fisici_SSN</th>\n",
       "      <th>Regione</th>\n",
       "      <th>MediciSSN</th>\n",
       "      <th>Ausiliari_specializzati_SSN</th>\n",
       "      <th>Assistenti_sociali_Univ</th>\n",
       "      <th>grandestruttura</th>\n",
       "    </tr>\n",
       "  </thead>\n",
       "  <tbody>\n",
       "    <tr>\n",
       "      <th>0</th>\n",
       "      <td>NaN</td>\n",
       "      <td>NaN</td>\n",
       "      <td>0.0</td>\n",
       "      <td>0.0</td>\n",
       "      <td>0.0</td>\n",
       "      <td>29.0</td>\n",
       "      <td>0.0</td>\n",
       "      <td>0.0</td>\n",
       "      <td>0.0</td>\n",
       "      <td>NaN</td>\n",
       "      <td>...</td>\n",
       "      <td>1.0</td>\n",
       "      <td>NaN</td>\n",
       "      <td>63.0</td>\n",
       "      <td>30</td>\n",
       "      <td>NaN</td>\n",
       "      <td>Veneto</td>\n",
       "      <td>89</td>\n",
       "      <td>0.0</td>\n",
       "      <td>0</td>\n",
       "      <td>0</td>\n",
       "    </tr>\n",
       "    <tr>\n",
       "      <th>1</th>\n",
       "      <td>0.0</td>\n",
       "      <td>NaN</td>\n",
       "      <td>0.0</td>\n",
       "      <td>0.0</td>\n",
       "      <td>0.0</td>\n",
       "      <td>83.0</td>\n",
       "      <td>0.0</td>\n",
       "      <td>0.0</td>\n",
       "      <td>0.0</td>\n",
       "      <td>NaN</td>\n",
       "      <td>...</td>\n",
       "      <td>1.0</td>\n",
       "      <td>NaN</td>\n",
       "      <td>368.0</td>\n",
       "      <td>206</td>\n",
       "      <td>0.0</td>\n",
       "      <td>Piemonte</td>\n",
       "      <td>598</td>\n",
       "      <td>97.0</td>\n",
       "      <td>0</td>\n",
       "      <td>1</td>\n",
       "    </tr>\n",
       "    <tr>\n",
       "      <th>2</th>\n",
       "      <td>NaN</td>\n",
       "      <td>NaN</td>\n",
       "      <td>0.0</td>\n",
       "      <td>0.0</td>\n",
       "      <td>0.0</td>\n",
       "      <td>71.0</td>\n",
       "      <td>0.0</td>\n",
       "      <td>0.0</td>\n",
       "      <td>0.0</td>\n",
       "      <td>NaN</td>\n",
       "      <td>...</td>\n",
       "      <td>1.0</td>\n",
       "      <td>NaN</td>\n",
       "      <td>144.0</td>\n",
       "      <td>17</td>\n",
       "      <td>NaN</td>\n",
       "      <td>Friuli-Venezia Giulia</td>\n",
       "      <td>153</td>\n",
       "      <td>35.0</td>\n",
       "      <td>0</td>\n",
       "      <td>0</td>\n",
       "    </tr>\n",
       "    <tr>\n",
       "      <th>3</th>\n",
       "      <td>NaN</td>\n",
       "      <td>NaN</td>\n",
       "      <td>0.0</td>\n",
       "      <td>0.0</td>\n",
       "      <td>0.0</td>\n",
       "      <td>36.0</td>\n",
       "      <td>0.0</td>\n",
       "      <td>0.0</td>\n",
       "      <td>0.0</td>\n",
       "      <td>NaN</td>\n",
       "      <td>...</td>\n",
       "      <td>NaN</td>\n",
       "      <td>2.0</td>\n",
       "      <td>109.0</td>\n",
       "      <td>48</td>\n",
       "      <td>4.0</td>\n",
       "      <td>Valle d'Aosta</td>\n",
       "      <td>299</td>\n",
       "      <td>78.0</td>\n",
       "      <td>0</td>\n",
       "      <td>0</td>\n",
       "    </tr>\n",
       "    <tr>\n",
       "      <th>4</th>\n",
       "      <td>NaN</td>\n",
       "      <td>NaN</td>\n",
       "      <td>0.0</td>\n",
       "      <td>0.0</td>\n",
       "      <td>0.0</td>\n",
       "      <td>12.0</td>\n",
       "      <td>0.0</td>\n",
       "      <td>0.0</td>\n",
       "      <td>0.0</td>\n",
       "      <td>NaN</td>\n",
       "      <td>...</td>\n",
       "      <td>5.0</td>\n",
       "      <td>1.0</td>\n",
       "      <td>344.0</td>\n",
       "      <td>168</td>\n",
       "      <td>3.0</td>\n",
       "      <td>Toscana</td>\n",
       "      <td>604</td>\n",
       "      <td>17.0</td>\n",
       "      <td>0</td>\n",
       "      <td>1</td>\n",
       "    </tr>\n",
       "    <tr>\n",
       "      <th>5</th>\n",
       "      <td>NaN</td>\n",
       "      <td>NaN</td>\n",
       "      <td>0.0</td>\n",
       "      <td>0.0</td>\n",
       "      <td>0.0</td>\n",
       "      <td>47.0</td>\n",
       "      <td>0.0</td>\n",
       "      <td>0.0</td>\n",
       "      <td>0.0</td>\n",
       "      <td>NaN</td>\n",
       "      <td>...</td>\n",
       "      <td>NaN</td>\n",
       "      <td>1.0</td>\n",
       "      <td>348.0</td>\n",
       "      <td>54</td>\n",
       "      <td>NaN</td>\n",
       "      <td>Veneto</td>\n",
       "      <td>246</td>\n",
       "      <td>3.0</td>\n",
       "      <td>0</td>\n",
       "      <td>0</td>\n",
       "    </tr>\n",
       "    <tr>\n",
       "      <th>6</th>\n",
       "      <td>NaN</td>\n",
       "      <td>NaN</td>\n",
       "      <td>0.0</td>\n",
       "      <td>0.0</td>\n",
       "      <td>0.0</td>\n",
       "      <td>24.0</td>\n",
       "      <td>0.0</td>\n",
       "      <td>NaN</td>\n",
       "      <td>0.0</td>\n",
       "      <td>NaN</td>\n",
       "      <td>...</td>\n",
       "      <td>18.0</td>\n",
       "      <td>13.0</td>\n",
       "      <td>106.0</td>\n",
       "      <td>107</td>\n",
       "      <td>NaN</td>\n",
       "      <td>Campania</td>\n",
       "      <td>506</td>\n",
       "      <td>24.0</td>\n",
       "      <td>0</td>\n",
       "      <td>1</td>\n",
       "    </tr>\n",
       "    <tr>\n",
       "      <th>7</th>\n",
       "      <td>NaN</td>\n",
       "      <td>NaN</td>\n",
       "      <td>0.0</td>\n",
       "      <td>0.0</td>\n",
       "      <td>0.0</td>\n",
       "      <td>13.0</td>\n",
       "      <td>0.0</td>\n",
       "      <td>NaN</td>\n",
       "      <td>0.0</td>\n",
       "      <td>NaN</td>\n",
       "      <td>...</td>\n",
       "      <td>11.0</td>\n",
       "      <td>12.0</td>\n",
       "      <td>34.0</td>\n",
       "      <td>92</td>\n",
       "      <td>NaN</td>\n",
       "      <td>Campania</td>\n",
       "      <td>305</td>\n",
       "      <td>4.0</td>\n",
       "      <td>0</td>\n",
       "      <td>1</td>\n",
       "    </tr>\n",
       "    <tr>\n",
       "      <th>8</th>\n",
       "      <td>NaN</td>\n",
       "      <td>NaN</td>\n",
       "      <td>0.0</td>\n",
       "      <td>0.0</td>\n",
       "      <td>0.0</td>\n",
       "      <td>219.0</td>\n",
       "      <td>0.0</td>\n",
       "      <td>0.0</td>\n",
       "      <td>0.0</td>\n",
       "      <td>NaN</td>\n",
       "      <td>...</td>\n",
       "      <td>19.0</td>\n",
       "      <td>18.0</td>\n",
       "      <td>315.0</td>\n",
       "      <td>221</td>\n",
       "      <td>NaN</td>\n",
       "      <td>Campania</td>\n",
       "      <td>1184</td>\n",
       "      <td>87.0</td>\n",
       "      <td>0</td>\n",
       "      <td>1</td>\n",
       "    </tr>\n",
       "    <tr>\n",
       "      <th>9</th>\n",
       "      <td>NaN</td>\n",
       "      <td>NaN</td>\n",
       "      <td>0.0</td>\n",
       "      <td>0.0</td>\n",
       "      <td>0.0</td>\n",
       "      <td>14.0</td>\n",
       "      <td>0.0</td>\n",
       "      <td>NaN</td>\n",
       "      <td>0.0</td>\n",
       "      <td>NaN</td>\n",
       "      <td>...</td>\n",
       "      <td>1.0</td>\n",
       "      <td>3.0</td>\n",
       "      <td>NaN</td>\n",
       "      <td>113</td>\n",
       "      <td>NaN</td>\n",
       "      <td>Lombardia</td>\n",
       "      <td>207</td>\n",
       "      <td>1.0</td>\n",
       "      <td>0</td>\n",
       "      <td>0</td>\n",
       "    </tr>\n",
       "  </tbody>\n",
       "</table>\n",
       "<p>10 rows × 83 columns</p>\n",
       "</div>"
      ],
      "text/plain": [
       "   Odontoiatri_Universitari  Geologi_SSN  Collaboratori_tecnico-profes_Univ  \\\n",
       "0                       NaN          NaN                                0.0   \n",
       "1                       0.0          NaN                                0.0   \n",
       "2                       NaN          NaN                                0.0   \n",
       "3                       NaN          NaN                                0.0   \n",
       "4                       NaN          NaN                                0.0   \n",
       "5                       NaN          NaN                                0.0   \n",
       "6                       NaN          NaN                                0.0   \n",
       "7                       NaN          NaN                                0.0   \n",
       "8                       NaN          NaN                                0.0   \n",
       "9                       NaN          NaN                                0.0   \n",
       "\n",
       "   Tecnico-sanitario_Univ  Ingegneri_Univ  Operatori_II_cat_SSN  \\\n",
       "0                     0.0             0.0                  29.0   \n",
       "1                     0.0             0.0                  83.0   \n",
       "2                     0.0             0.0                  71.0   \n",
       "3                     0.0             0.0                  36.0   \n",
       "4                     0.0             0.0                  12.0   \n",
       "5                     0.0             0.0                  47.0   \n",
       "6                     0.0             0.0                  24.0   \n",
       "7                     0.0             0.0                  13.0   \n",
       "8                     0.0             0.0                 219.0   \n",
       "9                     0.0             0.0                  14.0   \n",
       "\n",
       "   Operatori_II_cat_Univ  Didattico-organizzativo_Univ  \\\n",
       "0                    0.0                           0.0   \n",
       "1                    0.0                           0.0   \n",
       "2                    0.0                           0.0   \n",
       "3                    0.0                           0.0   \n",
       "4                    0.0                           0.0   \n",
       "5                    0.0                           0.0   \n",
       "6                    0.0                           NaN   \n",
       "7                    0.0                           NaN   \n",
       "8                    0.0                           0.0   \n",
       "9                    0.0                           NaN   \n",
       "\n",
       "   Vigilanza_e_ispezione_Univ  Addetti_ai_LSU_SSN       ...         \\\n",
       "0                         0.0                 NaN       ...          \n",
       "1                         0.0                 NaN       ...          \n",
       "2                         0.0                 NaN       ...          \n",
       "3                         0.0                 NaN       ...          \n",
       "4                         0.0                 NaN       ...          \n",
       "5                         0.0                 NaN       ...          \n",
       "6                         0.0                 NaN       ...          \n",
       "7                         0.0                 NaN       ...          \n",
       "8                         0.0                 NaN       ...          \n",
       "9                         0.0                 NaN       ...          \n",
       "\n",
       "   Sociologi_SSN  Contrattisti_SSN  Operatori_tecnici_di_assistenza_SSN  \\\n",
       "0            1.0               NaN                                 63.0   \n",
       "1            1.0               NaN                                368.0   \n",
       "2            1.0               NaN                                144.0   \n",
       "3            NaN               2.0                                109.0   \n",
       "4            5.0               1.0                                344.0   \n",
       "5            NaN               1.0                                348.0   \n",
       "6           18.0              13.0                                106.0   \n",
       "7           11.0              12.0                                 34.0   \n",
       "8           19.0              18.0                                315.0   \n",
       "9            1.0               3.0                                  NaN   \n",
       "\n",
       "   Collaboratori_Amministr_SSN  Fisici_SSN                Regione  MediciSSN  \\\n",
       "0                           30         NaN                 Veneto         89   \n",
       "1                          206         0.0               Piemonte        598   \n",
       "2                           17         NaN  Friuli-Venezia Giulia        153   \n",
       "3                           48         4.0          Valle d'Aosta        299   \n",
       "4                          168         3.0                Toscana        604   \n",
       "5                           54         NaN                 Veneto        246   \n",
       "6                          107         NaN               Campania        506   \n",
       "7                           92         NaN               Campania        305   \n",
       "8                          221         NaN               Campania       1184   \n",
       "9                          113         NaN              Lombardia        207   \n",
       "\n",
       "   Ausiliari_specializzati_SSN  Assistenti_sociali_Univ  grandestruttura  \n",
       "0                          0.0                        0                0  \n",
       "1                         97.0                        0                1  \n",
       "2                         35.0                        0                0  \n",
       "3                         78.0                        0                0  \n",
       "4                         17.0                        0                1  \n",
       "5                          3.0                        0                0  \n",
       "6                         24.0                        0                1  \n",
       "7                          4.0                        0                1  \n",
       "8                         87.0                        0                1  \n",
       "9                          1.0                        0                0  \n",
       "\n",
       "[10 rows x 83 columns]"
      ]
     },
     "execution_count": 15,
     "metadata": {},
     "output_type": "execute_result"
    }
   ],
   "source": [
    "df = pd.read_csv('dati-ospedali_new.csv', sep=';')\n",
    "df[:10]"
   ]
  },
  {
   "cell_type": "code",
   "execution_count": 4,
   "metadata": {},
   "outputs": [
    {
     "data": {
      "text/plain": [
       "146"
      ]
     },
     "execution_count": 4,
     "metadata": {},
     "output_type": "execute_result"
    }
   ],
   "source": [
    "# 1.1\n",
    "len(df)"
   ]
  },
  {
   "cell_type": "code",
   "execution_count": 5,
   "metadata": {},
   "outputs": [
    {
     "data": {
      "text/plain": [
       "83"
      ]
     },
     "execution_count": 5,
     "metadata": {},
     "output_type": "execute_result"
    }
   ],
   "source": [
    "# 1.2\n",
    "len(df.columns)"
   ]
  },
  {
   "cell_type": "code",
   "execution_count": 6,
   "metadata": {},
   "outputs": [
    {
     "data": {
      "image/png": "[encoded data removed]",
      "text/plain": [
       "<Figure size 432x288 with 1 Axes>"
      ]
     },
     "metadata": {},
     "output_type": "display_data"
    },
    {
     "data": {
      "image/png": "[encoded data removed]",
      "text/plain": [
       "<Figure size 432x288 with 1 Axes>"
      ]
     },
     "metadata": {},
     "output_type": "display_data"
    }
   ],
   "source": [
    "# 1.3\n",
    "medici = df['MediciSSN'].dropna()\n",
    "# 1.3.1\n",
    "medici.hist(bins=20)\n",
    "plt.show()\n",
    "\n",
    "# medici.plot.box(vert=False)\n",
    "# plt.show()\n",
    "\n",
    "from statsmodels.distributions.empirical_distribution import ECDF\n",
    "dist = ECDF(medici)\n",
    "plt.plot(dist.x, dist.y)\n",
    "plt.show()"
   ]
  },
  {
   "cell_type": "code",
   "execution_count": 7,
   "metadata": {},
   "outputs": [
    {
     "data": {
      "text/plain": [
       "(451.40140845070425, 383.5)"
      ]
     },
     "execution_count": 7,
     "metadata": {},
     "output_type": "execute_result"
    },
    {
     "data": {
      "image/png": "[encoded data removed]",
      "text/plain": [
       "<Figure size 432x288 with 1 Axes>"
      ]
     },
     "metadata": {},
     "output_type": "display_data"
    }
   ],
   "source": [
    "# 1.3.2\n",
    "import statsmodels.api as sm\n",
    "medici_no_outliers = df.loc[df['MediciSSN'] < 1300,'MediciSSN'].dropna()\n",
    "sm.qqplot(medici_no_outliers,fit=True, line='45')\n",
    "(medici_no_outliers.mean(), medici_no_outliers.median())\n",
    "\n",
    "# dal grafico si può vedere come il parametro segua una legge normale essendo quasi sovrapposto alla bisettrice del quadrante\n",
    "# (media e mediana non mi convincono troppo, ma vabbé)"
   ]
  },
  {
   "cell_type": "code",
   "execution_count": 8,
   "metadata": {},
   "outputs": [
    {
     "data": {
      "text/plain": [
       "(402.5, 357.25)"
      ]
     },
     "execution_count": 8,
     "metadata": {},
     "output_type": "execute_result"
    }
   ],
   "source": [
    "# 1.3.3\n",
    "(medici.median(), medici.quantile(0.75) - medici.quantile(0.25))\n",
    "\n",
    "# utilizzo la mediana come indice di centralità perché più robusto rispetto agli outliers presenti nel carattere.\n",
    "# di conseguenza utilizzo il range interquartile per lo stesso motivo e ben si sposa con la mediana\n",
    "\n",
    "# (non uso la varianza perché deriva dalla media che soffre gli outliers)"
   ]
  },
  {
   "cell_type": "code",
   "execution_count": 9,
   "metadata": {},
   "outputs": [],
   "source": [
    "# 1.4\n",
    "farmacisti = df['Farmacisti_SSN']"
   ]
  },
  {
   "cell_type": "code",
   "execution_count": 10,
   "metadata": {},
   "outputs": [
    {
     "data": {
      "image/png": "[encoded data removed]",
      "text/plain": [
       "<Figure size 432x288 with 1 Axes>"
      ]
     },
     "metadata": {},
     "output_type": "display_data"
    }
   ],
   "source": [
    "# 1.4.1\n",
    "farmacisti.plot.box()\n",
    "plt.show()"
   ]
  },
  {
   "cell_type": "code",
   "execution_count": 11,
   "metadata": {},
   "outputs": [
    {
     "data": {
      "text/plain": [
       "(0.39522872602065906, 0.45312499999999994)"
      ]
     },
     "execution_count": 11,
     "metadata": {},
     "output_type": "execute_result"
    }
   ],
   "source": [
    "# 1.4.2 / 1.4.3\n",
    "# Coefficiente di variazione (o deviazione standard relativa)\n",
    "medici_mean = 406.6\n",
    "medici_dev = 160.7\n",
    "medici_coeff_var = medici_dev / medici_mean\n",
    "\n",
    "farmacisti_mean = 6.4\n",
    "farmacisti_dev = 2.9\n",
    "farmacisti_coeff_var = farmacisti_dev / farmacisti_mean\n",
    "\n",
    "(medici_coeff_var, farmacisti_coeff_var)"
   ]
  },
  {
   "cell_type": "code",
   "execution_count": 12,
   "metadata": {},
   "outputs": [
    {
     "data": {
      "image/png": "[encoded data removed]",
      "text/plain": [
       "<Figure size 432x288 with 1 Axes>"
      ]
     },
     "metadata": {},
     "output_type": "display_data"
    },
    {
     "data": {
      "text/plain": [
       "0.8191729725239217"
      ]
     },
     "execution_count": 12,
     "metadata": {},
     "output_type": "execute_result"
    }
   ],
   "source": [
    "# 1.4.4\n",
    "plt.scatter(medici, farmacisti)\n",
    "plt.show()\n",
    "\n",
    "medici.corr(farmacisti)\n",
    "# il grafico mostra una dipendenza lineare tra i due caratteri\n",
    "# il valore di correlazione molto vicino a 1 conferma la relazione"
   ]
  },
  {
   "cell_type": "markdown",
   "metadata": {},
   "source": [
    "\\# 1.5\n",
    "\n",
    "0 farmacisti => 2 \\\n",
    "1 farmacisti => 22 \\\n",
    "2 farmacisti => 4 \\\n",
    "3 farmacisti => 1 \n",
    "\n",
    "0 grande struttura => 24 \\\n",
    "1 grande struttra => 5\n",
    "\n",
    "(L'esercizio richiedeva di basarsi sulla tabella sulla fotocopia. Nel caso richiedesse di farlo tramite codice bisogna fare così)\n",
    "pd.crosstab(index=df.Avvocati_SSN, columns= df.grandestruttura, margins=True)"
   ]
  },
  {
   "cell_type": "markdown",
   "metadata": {},
   "source": [
    "## Esercizio 2\n",
    "veri positivi : 15 \\\n",
    "veri negativi : 12 \\\n",
    "falsi positivi : 35 \\\n",
    "falsi negativi : 2"
   ]
  },
  {
   "cell_type": "markdown",
   "metadata": {},
   "source": [
    "## Esercizio 3\n"
   ]
  },
  {
   "cell_type": "code",
   "execution_count": 13,
   "metadata": {},
   "outputs": [
    {
     "data": {
      "text/plain": [
       "(4.708333333333333, 4.306240389679412)"
      ]
     },
     "execution_count": 13,
     "metadata": {},
     "output_type": "execute_result"
    }
   ],
   "source": [
    "# 3.1\n",
    "ingegneri = df['Ingegneri_SSN']\n",
    "(ingegneri.mean(), ingegneri.std())"
   ]
  },
  {
   "cell_type": "markdown",
   "metadata": {},
   "source": [
    "#### 3.2\n",
    "$$ P(| \\bar{X_n} - u| < 0.5) >= 0.85 $$\n",
    "\n",
    "$$ P(-0.5 < \\bar{X_n} - u < 0.5) >= 0.85 $$\n",
    "\n",
    "$$ P(-\\frac{0.5}{\\frac{\\sigma}{\\sqrt{n}}}<\\frac{\\bar{X_n}-u}{\\frac{\\sigma}{\\sqrt{n}}}<\\frac{0.5}{\\frac{\\sigma}{\\sqrt{n}}}) >=0.85 $$\n",
    "\n",
    "$$ P(-\\frac{0.5}{\\frac{\\sigma}{\\sqrt{n}}}<Z<\\frac{0.5}{\\frac{\\sigma}{\\sqrt{n}}}) >=0.85 $$\n",
    "\n",
    "$$ P(Z < \\frac{0.5}{\\frac{\\sigma}{\\sqrt{n}}}) - P(Z < - \\frac{0.5}{\\frac{\\sigma}{\\sqrt{n}}}) >=0.85 $$\n",
    "\n",
    "$$ \\phi(\\frac{0.5}{\\frac{\\sigma}{\\sqrt{n}}}) - \\phi(- \\frac{0.5}{\\frac{\\sigma}{\\sqrt{n}}}) >=0.85 $$\n",
    "\n",
    "$$ \\phi(\\frac{0.5}{\\frac{\\sigma}{\\sqrt{n}}}) - (1 - \\phi(\\frac{0.5}{\\frac{\\sigma}{\\sqrt{n}}})) >=0.85 $$\n",
    "\n",
    "$$ 2\\phi(\\frac{0.5}{\\frac{\\sigma}{\\sqrt{n}}})>=1.85 $$\n",
    "\n",
    "$$ \\phi(\\frac{0.5}{\\frac{\\sigma}{\\sqrt{n}}})>=0.925 $$\n",
    "\n",
    "$$ \\frac{0.5}{\\frac{\\sigma}{\\sqrt{n}}}>=\\phi^{-1}(0.925) $$\n",
    "\n",
    "$$ n>=(\\frac{\\sigma}{0.5}\\phi^{-1}(0.925))^2 $$"
   ]
  },
  {
   "cell_type": "code",
   "execution_count": 14,
   "metadata": {},
   "outputs": [
    {
     "data": {
      "text/plain": [
       "153.70884494899622"
      ]
     },
     "execution_count": 14,
     "metadata": {},
     "output_type": "execute_result"
    }
   ],
   "source": [
    "sigma = ingegneri.std()\n",
    "X = st.norm()\n",
    "((sigma/0.5)*X.ppf(0.925))**2"
   ]
  },
  {
   "cell_type": "markdown",
   "metadata": {},
   "source": [
    "Per avere una stima del valore atteso con un errore inferiore a 1 è necessario un campione di almeno 154 elementi.\n",
    "Il nostro dataset ne contiene solo 146"
   ]
  },
  {
   "cell_type": "code",
   "execution_count": null,
   "metadata": {},
   "outputs": [],
   "source": []
  }
 ],
 "metadata": {
  "kernelspec": {
   "display_name": "Python 3",
   "language": "python",
   "name": "python3"
  },
  "language_info": {
   "codemirror_mode": {
    "name": "ipython",
    "version": 3
   },
   "file_extension": ".py",
   "mimetype": "text/x-python",
   "name": "python",
   "nbconvert_exporter": "python",
   "pygments_lexer": "ipython3",
   "version": "3.6.5"
  }
 },
 "nbformat": 4,
 "nbformat_minor": 2
}
