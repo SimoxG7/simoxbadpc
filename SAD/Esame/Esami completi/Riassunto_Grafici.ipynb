{
 "cells": [
  {
   "cell_type": "markdown",
   "metadata": {},
   "source": [
    "# RIASSUNTO TIPOLOGIA DI GRAFICI E INDICI"
   ]
  },
  {
   "cell_type": "code",
   "execution_count": 13,
   "metadata": {},
   "outputs": [],
   "source": [
    "import pandas as pd \n",
    "import numpy as np\n",
    "import matplotlib.pyplot as plt"
   ]
  },
  {
   "cell_type": "code",
   "execution_count": 21,
   "metadata": {},
   "outputs": [
    {
     "data": {
      "text/html": [
       "<div>\n",
       "<style scoped>\n",
       "    .dataframe tbody tr th:only-of-type {\n",
       "        vertical-align: middle;\n",
       "    }\n",
       "\n",
       "    .dataframe tbody tr th {\n",
       "        vertical-align: top;\n",
       "    }\n",
       "\n",
       "    .dataframe thead th {\n",
       "        text-align: right;\n",
       "    }\n",
       "</style>\n",
       "<table border=\"1\" class=\"dataframe\">\n",
       "  <thead>\n",
       "    <tr style=\"text-align: right;\">\n",
       "      <th></th>\n",
       "      <th>TimeFrame</th>\n",
       "      <th>RushHour</th>\n",
       "      <th>PremiumCustomer</th>\n",
       "      <th>Distance</th>\n",
       "      <th>Time</th>\n",
       "    </tr>\n",
       "    <tr>\n",
       "      <th>CarIdentifier</th>\n",
       "      <th></th>\n",
       "      <th></th>\n",
       "      <th></th>\n",
       "      <th></th>\n",
       "      <th></th>\n",
       "    </tr>\n",
       "  </thead>\n",
       "  <tbody>\n",
       "    <tr>\n",
       "      <th>102</th>\n",
       "      <td>FRAME D</td>\n",
       "      <td>1</td>\n",
       "      <td>1</td>\n",
       "      <td>3.0</td>\n",
       "      <td>7.9</td>\n",
       "    </tr>\n",
       "    <tr>\n",
       "      <th>103</th>\n",
       "      <td>FRAME D</td>\n",
       "      <td>1</td>\n",
       "      <td>1</td>\n",
       "      <td>5.3</td>\n",
       "      <td>13.9</td>\n",
       "    </tr>\n",
       "    <tr>\n",
       "      <th>105</th>\n",
       "      <td>FRAME D</td>\n",
       "      <td>1</td>\n",
       "      <td>-1</td>\n",
       "      <td>0.4</td>\n",
       "      <td>4.1</td>\n",
       "    </tr>\n",
       "    <tr>\n",
       "      <th>110</th>\n",
       "      <td>FRAME D</td>\n",
       "      <td>1</td>\n",
       "      <td>1</td>\n",
       "      <td>2.8</td>\n",
       "      <td>5.0</td>\n",
       "    </tr>\n",
       "    <tr>\n",
       "      <th>110</th>\n",
       "      <td>FRAME B</td>\n",
       "      <td>1</td>\n",
       "      <td>-1</td>\n",
       "      <td>2.7</td>\n",
       "      <td>5.6</td>\n",
       "    </tr>\n",
       "  </tbody>\n",
       "</table>\n",
       "</div>"
      ],
      "text/plain": [
       "              TimeFrame  RushHour  PremiumCustomer  Distance  Time\n",
       "CarIdentifier                                                     \n",
       "102             FRAME D         1                1       3.0   7.9\n",
       "103             FRAME D         1                1       5.3  13.9\n",
       "105             FRAME D         1               -1       0.4   4.1\n",
       "110             FRAME D         1                1       2.8   5.0\n",
       "110             FRAME B         1               -1       2.7   5.6"
      ]
     },
     "execution_count": 21,
     "metadata": {},
     "output_type": "execute_result"
    }
   ],
   "source": [
    "df = pd.read_csv(\"carsharing.csv\",delimiter=\";\",decimal=\",\",index_col=\"CarIdentifier\")\n",
    "df[:5]"
   ]
  },
  {
   "cell_type": "markdown",
   "metadata": {},
   "source": [
    "CarIdentifier      CATEGORICO int64\n",
    "\n",
    "TimeFrame          NOMINALE object\n",
    "\n",
    "RushHour           CATEGORICO/NOMINALE int64\n",
    "\n",
    "PremiumCustomer    CATEGORICO/NOMINALE int64\n",
    "\n",
    "Distance           NUMERICO float64\n",
    "\n",
    "Time               NUMERICO float64"
   ]
  },
  {
   "cell_type": "markdown",
   "metadata": {},
   "source": [
    "### GRAFICO A BARRE O BAR PLOT\n",
    "Permette di rappresentare meglio  i dati nominali o categorici, calcolare la frequenza oppure fare groupby.sum\n",
    "\n",
    "questo grafico prendi in input la tabella delle frequenze e mostra sull'asse dellex i valori, su quello delle y le frequenze."
   ]
  },
  {
   "cell_type": "code",
   "execution_count": 50,
   "metadata": {},
   "outputs": [
    {
     "data": {
      "image/png": "[encoded data removed]",
      "text/plain": [
       "<Figure size 432x288 with 2 Axes>"
      ]
     },
     "metadata": {},
     "output_type": "display_data"
    }
   ],
   "source": [
    "plt.subplot(1,2,1)\n",
    "df.TimeFrame.value_counts().plot.bar()\n",
    "plt.subplot(1,2,2)\n",
    "df.Time.plot.bar()\n",
    "plt.show()"
   ]
  },
  {
   "cell_type": "markdown",
   "metadata": {},
   "source": [
    "### ISTOGRAMMA\n",
    "Suddivide la popolazione in classi e ne rappresenta le frequenze\n",
    "\n",
    "Mette in risalto:\n",
    "- simmetria \n",
    "- dispersione\n",
    "- intervalli di concentrazione\n",
    "- vuoti nei dati\n",
    "- distacco tra i dati"
   ]
  },
  {
   "cell_type": "code",
   "execution_count": 66,
   "metadata": {},
   "outputs": [
    {
     "data": {
      "image/png": "[encoded data removed]",
      "text/plain": [
       "<Figure size 432x288 with 2 Axes>"
      ]
     },
     "metadata": {},
     "output_type": "display_data"
    }
   ],
   "source": [
    "plt.subplot(1,2,1)\n",
    "df.TimeFrame.hist()\n",
    "plt.subplot(1,2,2)\n",
    "df.Time.hist()\n",
    "plt.show()"
   ]
  },
  {
   "cell_type": "markdown",
   "metadata": {},
   "source": [
    "### BOXPLOT\n",
    "Mostra chiaramente come è distribuita la frequenza.\n",
    "- a linea centrale indica la mediana\n",
    "- i lati orizzonatali del rettangolo il primo e terzo quantile\n",
    "- i baffi indicano il terzo quartile - la distanza interquartile e il primo quartile - la distanza interquartile\n",
    "- i pallini indicano gli outlier\n",
    "\n",
    "Grafico utile per il colpo d'occhio, permette di individuare il range di variazione"
   ]
  },
  {
   "cell_type": "code",
   "execution_count": 48,
   "metadata": {},
   "outputs": [
    {
     "data": {
      "image/png": "[encoded data removed]",
      "text/plain": [
       "<Figure size 432x288 with 1 Axes>"
      ]
     },
     "metadata": {},
     "output_type": "display_data"
    }
   ],
   "source": [
    "plt.boxplot([df.TimeFrame.value_counts(),df.Time], labels=['Nominale','Numerico'])\n",
    "plt.show()"
   ]
  },
  {
   "cell_type": "markdown",
   "metadata": {},
   "source": [
    "### QQ-PLOT\n",
    "Serve per stimare se dei campioni sono estratti dalla stessa popolazione oppure se la popolazione segue una normale\n",
    "\n",
    "Rappresenta i quantili della distribuzione"
   ]
  },
  {
   "cell_type": "code",
   "execution_count": 59,
   "metadata": {},
   "outputs": [
    {
     "data": {
      "image/png": "[encoded data removed]",
      "text/plain": [
       "<Figure size 432x288 with 1 Axes>"
      ]
     },
     "metadata": {},
     "output_type": "display_data"
    }
   ],
   "source": [
    "import statsmodels.api as sm\n",
    "sm.qqplot(df.Time.dropna(), fit=True, line='45')\n",
    "plt.show()"
   ]
  },
  {
   "cell_type": "markdown",
   "metadata": {},
   "source": [
    "### GRAFICO di DISPERSIONE\n",
    "Serve per determinare la relazione tra più attributi di uno stesso dataframe"
   ]
  },
  {
   "cell_type": "code",
   "execution_count": 61,
   "metadata": {},
   "outputs": [
    {
     "data": {
      "image/png": "[encoded data removed]",
      "text/plain": [
       "<Figure size 432x288 with 1 Axes>"
      ]
     },
     "metadata": {},
     "output_type": "display_data"
    }
   ],
   "source": [
    "plt.scatter(df.Time,df.Distance)\n",
    "plt.show()"
   ]
  },
  {
   "cell_type": "markdown",
   "metadata": {},
   "source": [
    "### ECDF\n",
    "\n",
    "Permette di evidenziare:\n",
    "- valori mancanti\n",
    "- distribuzione unimodale e/o simmetria\n",
    "- distribuzione asimmetrica a sinistra (mediana < media)\n",
    "- distribuzione asimmetrica a destra (mediana > media)"
   ]
  },
  {
   "cell_type": "code",
   "execution_count": 70,
   "metadata": {},
   "outputs": [
    {
     "data": {
      "image/png": "[encoded data removed]",
      "text/plain": [
       "<Figure size 432x288 with 1 Axes>"
      ]
     },
     "metadata": {},
     "output_type": "display_data"
    }
   ],
   "source": [
    "import statsmodels.distributions as dm\n",
    "dist = dm.ECDF(df.Distance.dropna())\n",
    "plt.plot(dist.x,dist.y)\n",
    "plt.show()"
   ]
  }
 ],
 "metadata": {
  "kernelspec": {
   "display_name": "Python 3",
   "language": "python",
   "name": "python3"
  },
  "language_info": {
   "codemirror_mode": {
    "name": "ipython",
    "version": 3
   },
   "file_extension": ".py",
   "mimetype": "text/x-python",
   "name": "python",
   "nbconvert_exporter": "python",
   "pygments_lexer": "ipython3",
   "version": "3.6.5"
  }
 },
 "nbformat": 4,
 "nbformat_minor": 2
}
