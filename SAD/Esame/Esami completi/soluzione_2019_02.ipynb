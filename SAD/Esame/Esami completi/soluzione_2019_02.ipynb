{
 "cells": [
  {
   "cell_type": "markdown",
   "metadata": {},
   "source": [
    "## Febbraio 2019\n",
    "### Esercizio 0\n",
    "Conosco P(A),P(B),P(A|B)\n",
    "\n",
    "1) $$P(B|A) = \\frac{P(A|B)P(B)}{P(A)}$$\n",
    "\n",
    "$X\\sim (0,1)$, $P(X=1)= p$\n",
    "\n",
    "2.1) $$E(X) = p$, $\\sigma = \\sqrt{p(1-p)}$$\n",
    "\n",
    "2.2)$$ 0.3 = \\sqrt{p -p^2} $$\n",
    "\n",
    "$$ 0.09 = p -p^2 $$\n",
    "\n",
    "$$ +p^2 -p + \\frac{9}{100}  = 0 $$\n",
    "\n",
    "$$ (p-\\frac{9}{10})(p-\\frac{1}{10}) = 0 => p = 0.9 || p = 0.1 $$\n",
    "\n",
    "2.3) $$ F^{-1}(std(X)) = \\frac{-2p +1}{2\\sqrt{p - p^2}} $$ \n",
    "\n",
    "$$ -2p +1 = 0 $$ \n",
    "\n",
    "$$ p = 0.5 $$ \n",
    "\n",
    "2.4) p = 0.45  "
   ]
  },
  {
   "cell_type": "markdown",
   "metadata": {},
   "source": [
    "### Esercizio 1\n",
    "$\\overline{X}$\n",
    "\n",
    "1.1) $\\forall X_i = 0$ avrò $$\\sum \\frac{X_i}{n} = 0$$\n",
    "\n",
    "1.2) $\\forall X_{1,2} = 1$ avrò $$\\sum \\frac{X_i}{n} = \\frac{2}{n}$$\n",
    "\n",
    "1.3)$\\forall X_i = 1$ avrò $$\\sum \\frac{X_i}{n} = 1$$\n",
    "\n",
    "2) $$ \\{0, \\frac{1}{n}, \\frac{2}{n}, .... , 1\\} $$\n",
    "\n",
    "3) è uno stimatore non distorto di p perchè la media campionaria è sempre iuno stimatore non distorto del valore atteso\n",
    "$$E(\\overline{X}) = E(\\sum \\frac{X_i}{n}) = \\frac{1}{n} \\sum E(X) = \\frac{1}{n}nE(X) = E(X) = p$$\n",
    "\n",
    "4) $n >> 1$ dimostrare che $P(|\\overline(X) -p| \\leq \\epsilon) \\geq 2\\Phi(2\\epsilon \\sqrt{n})-1$\n",
    "\n",
    "Standardizzo $ P(|Z| \\leq \\frac{\\epsilon \\sqrt{n}}{\\sigma}) \\approx 2\\Phi(\\frac{\\sqrt{n}\\epsilon}{\\sigma}) -1$\n",
    "\n",
    "Poichè $Var(X) \\leq \\frac{1}{4}$ allora la deviazione standard sarà max $\\frac{1}{2}$ quindi avrò\n",
    "$$2\\Phi(2\\sqrt{n}\\epsilon)-1$$"
   ]
  },
  {
   "cell_type": "code",
   "execution_count": 1,
   "metadata": {},
   "outputs": [],
   "source": [
    "import pandas as pd\n",
    "import matplotlib.pyplot as plt\n",
    "import numpy as np\n",
    "import statsmodels.api as sm\n",
    "import scipy.stats as st"
   ]
  },
  {
   "cell_type": "code",
   "execution_count": 2,
   "metadata": {},
   "outputs": [
    {
     "data": {
      "text/html": [
       "<div>\n",
       "<style scoped>\n",
       "    .dataframe tbody tr th:only-of-type {\n",
       "        vertical-align: middle;\n",
       "    }\n",
       "\n",
       "    .dataframe tbody tr th {\n",
       "        vertical-align: top;\n",
       "    }\n",
       "\n",
       "    .dataframe thead th {\n",
       "        text-align: right;\n",
       "    }\n",
       "</style>\n",
       "<table border=\"1\" class=\"dataframe\">\n",
       "  <thead>\n",
       "    <tr style=\"text-align: right;\">\n",
       "      <th></th>\n",
       "      <th>CarIdentifier</th>\n",
       "      <th>TimeFrame</th>\n",
       "      <th>RushHour</th>\n",
       "      <th>PremiumCustomer</th>\n",
       "      <th>Distance</th>\n",
       "      <th>Time</th>\n",
       "    </tr>\n",
       "  </thead>\n",
       "  <tbody>\n",
       "    <tr>\n",
       "      <th>0</th>\n",
       "      <td>102</td>\n",
       "      <td>FRAME D</td>\n",
       "      <td>1</td>\n",
       "      <td>1</td>\n",
       "      <td>3.0</td>\n",
       "      <td>7.9</td>\n",
       "    </tr>\n",
       "    <tr>\n",
       "      <th>1</th>\n",
       "      <td>103</td>\n",
       "      <td>FRAME D</td>\n",
       "      <td>1</td>\n",
       "      <td>1</td>\n",
       "      <td>5.3</td>\n",
       "      <td>13.9</td>\n",
       "    </tr>\n",
       "    <tr>\n",
       "      <th>2</th>\n",
       "      <td>105</td>\n",
       "      <td>FRAME D</td>\n",
       "      <td>1</td>\n",
       "      <td>-1</td>\n",
       "      <td>0.4</td>\n",
       "      <td>4.1</td>\n",
       "    </tr>\n",
       "    <tr>\n",
       "      <th>3</th>\n",
       "      <td>110</td>\n",
       "      <td>FRAME D</td>\n",
       "      <td>1</td>\n",
       "      <td>1</td>\n",
       "      <td>2.8</td>\n",
       "      <td>5.0</td>\n",
       "    </tr>\n",
       "    <tr>\n",
       "      <th>4</th>\n",
       "      <td>110</td>\n",
       "      <td>FRAME B</td>\n",
       "      <td>1</td>\n",
       "      <td>-1</td>\n",
       "      <td>2.7</td>\n",
       "      <td>5.6</td>\n",
       "    </tr>\n",
       "  </tbody>\n",
       "</table>\n",
       "</div>"
      ],
      "text/plain": [
       "   CarIdentifier TimeFrame  RushHour  PremiumCustomer  Distance  Time\n",
       "0            102   FRAME D         1                1       3.0   7.9\n",
       "1            103   FRAME D         1                1       5.3  13.9\n",
       "2            105   FRAME D         1               -1       0.4   4.1\n",
       "3            110   FRAME D         1                1       2.8   5.0\n",
       "4            110   FRAME B         1               -1       2.7   5.6"
      ]
     },
     "execution_count": 2,
     "metadata": {},
     "output_type": "execute_result"
    }
   ],
   "source": [
    "car = pd.read_csv(\"carsharing.csv\",delimiter=\";\",decimal=\",\")\n",
    "car[:5]"
   ]
  },
  {
   "cell_type": "markdown",
   "metadata": {},
   "source": [
    "### Esercizio 2"
   ]
  },
  {
   "cell_type": "code",
   "execution_count": 3,
   "metadata": {},
   "outputs": [
    {
     "name": "stdout",
     "output_type": "stream",
     "text": [
      "Scalare: [ 3.   5.3  0.4  2.8  2.7 11.8  9.3  7.   4.  13.1  0.8  3.5 13.4  0.1\n",
      "  1.   1.2 18.5  0.9  6.8  1.9 10.3 17.6  1.6  2.2  2.3 14.   0.2  0.3\n",
      "  1.8 12.   6.3 18.  17.4 10.9 15.8  2.1 11.4  0.5 17.1  7.3 19.6 12.2\n",
      " 13.5 21.  23.   7.1 12.1  1.5 16.6  1.7 16.5  0.6 15.1 14.8 15.7 13.\n",
      " 14.6  4.7  4.2 17.2 16.7  3.1 19.   8.2  1.3 14.9  7.8  5.2 14.4  3.4\n",
      "  7.4 12.4 13.3 20.   0.7  5.7  3.8 11.3  2.6  4.4 14.7 18.4 18.2  6.1\n",
      "  6.6 19.7  3.7 10.6  3.2 13.9 11.6  5.6 15.6 16.3  3.3  7.2 16.1  7.6\n",
      "  2.  19.1 17.8 16.  17.   4.9  8.8  9.7 19.4 15.4  9.4  8.4  1.1 18.8\n",
      " 19.9  7.9  8.1 13.7 11.7  5.8 17.7 12.6 10.  15.9  8.   8.9 14.3 10.1\n",
      " 17.5 14.1  8.7 18.3  6.2 19.3  9.1 10.4  9.8 12.5  6.4 16.2  3.6  5.4\n",
      " 12.8  5.1  1.4 22.   8.5  9.  12.9 24.  10.8  3.9  9.6  8.6 15.2  5.\n",
      " 16.8  4.1  5.9  2.5  7.5 13.2 10.2 15.5 11.9 18.7  7.7 14.5 18.6]\n"
     ]
    }
   ],
   "source": [
    "#2.1\n",
    "print(\"Scalare: {}\".format(car['Distance'].unique()))"
   ]
  },
  {
   "cell_type": "code",
   "execution_count": 19,
   "metadata": {},
   "outputs": [
    {
     "data": {
      "image/png": "[encoded data removed]",
      "text/plain": [
       "<Figure size 432x288 with 1 Axes>"
      ]
     },
     "metadata": {},
     "output_type": "display_data"
    }
   ],
   "source": [
    "#2.2\n",
    "carP = car[car['RushHour'] == 1]['Distance']\n",
    "carNP = car[car['RushHour'] == 0]['Distance']\n",
    "plt.boxplot([carP,carNP], labels=['Rush','No Rush'])\n",
    "plt.show()"
   ]
  },
  {
   "cell_type": "markdown",
   "metadata": {},
   "source": [
    "### 2.3\n",
    "Negli orari di punta sono privilegiati gli spostamenti brevi come si può notare dal 3° quartile < 5km, al contrario per gli orari non di punta dove il 75% degli spostamenti supera i 10km"
   ]
  },
  {
   "cell_type": "code",
   "execution_count": 6,
   "metadata": {},
   "outputs": [
    {
     "name": "stdout",
     "output_type": "stream",
     "text": [
      "13.487428571428563\n",
      "3.3193548387096796\n",
      "Possiamo dire che la distanza è maggiore nelle ore non di punta e che quindi abbiamo una fascia breve di ore di punta, una grande di ore non di punta\n"
     ]
    }
   ],
   "source": [
    "#4\n",
    "print(carNP.mean())\n",
    "print(carP.mean())\n",
    "print(\"Possiamo dire che la distanza è maggiore nelle ore non di punta e che quindi abbiamo una fascia breve di ore di punta, una grande di ore non di punta\")"
   ]
  },
  {
   "cell_type": "markdown",
   "metadata": {},
   "source": [
    "### Esercizio 3"
   ]
  },
  {
   "cell_type": "code",
   "execution_count": 20,
   "metadata": {},
   "outputs": [],
   "source": [
    "#3.1\n",
    "tragittibrevi = car[car['Distance'] < 1.5]"
   ]
  },
  {
   "cell_type": "code",
   "execution_count": 21,
   "metadata": {},
   "outputs": [
    {
     "data": {
      "image/png": "[encoded data removed]",
      "text/plain": [
       "<Figure size 432x288 with 1 Axes>"
      ]
     },
     "metadata": {},
     "output_type": "display_data"
    }
   ],
   "source": [
    "#3.2\n",
    "plt.scatter(tragittibrevi['Distance'], tragittibrevi['Time'])\n",
    "plt.show()"
   ]
  },
  {
   "cell_type": "code",
   "execution_count": 22,
   "metadata": {},
   "outputs": [
    {
     "name": "stdout",
     "output_type": "stream",
     "text": [
      "Sia dal gragico che dal valore del coefficiente di correlazione 0.03691131525657363, possiamo confermare che non vi è alcuna relazione tra i due valori presi in considerazione\n"
     ]
    }
   ],
   "source": [
    "#3.3\n",
    "print('Sia dal gragico che dal valore del coefficiente di correlazione {}, possiamo confermare che non vi è alcuna relazione tra i due valori presi in considerazione'.format(tragittibrevi['Distance'].corr(tragittibrevi['Time'])))"
   ]
  },
  {
   "cell_type": "markdown",
   "metadata": {},
   "source": [
    "### Esercizio 4"
   ]
  },
  {
   "cell_type": "code",
   "execution_count": 23,
   "metadata": {},
   "outputs": [
    {
     "data": {
      "image/png": "[encoded data removed]",
      "text/plain": [
       "<Figure size 432x288 with 2 Axes>"
      ]
     },
     "metadata": {},
     "output_type": "display_data"
    }
   ],
   "source": [
    "#4.1\n",
    "plt.subplot(1,2,1)\n",
    "carNP.hist(bins=20)\n",
    "plt.subplot(1,2,2)\n",
    "carNP.plot.box()\n",
    "plt.show()"
   ]
  },
  {
   "cell_type": "code",
   "execution_count": 26,
   "metadata": {},
   "outputs": [
    {
     "data": {
      "image/png": "[encoded data removed]",
      "text/plain": [
       "<Figure size 432x288 with 1 Axes>"
      ]
     },
     "metadata": {},
     "output_type": "display_data"
    },
    {
     "name": "stdout",
     "output_type": "stream",
     "text": [
      "13.487428571428563 14.4\n",
      "Il grafico quasi sovrapposto alla bisettrice e la vicinanza tra media e mediana fanno intuire un comportamento normale\n"
     ]
    }
   ],
   "source": [
    "# 4.2\n",
    "sm.qqplot(carNP, fit=True, line='45')\n",
    "plt.show()\n",
    "print(carNP.mean(), carNP.median())\n",
    "print(\"Il grafico quasi sovrapposto alla bisettrice e la vicinanza tra media e mediana fanno intuire un comportamento normale\")"
   ]
  },
  {
   "cell_type": "code",
   "execution_count": 11,
   "metadata": {},
   "outputs": [
    {
     "name": "stdout",
     "output_type": "stream",
     "text": [
      "Media : 13.487428571428563\n",
      "Mediana : 14.4\n",
      "Sia dal grafico che dal valore della Media e Mediana possiamo dire che la Distanza negli orari non di punta segue un andamento approssimativamente normale con coda a sinistra\n"
     ]
    }
   ],
   "source": [
    "print('Media : {}\\nMediana : {}\\nSia dal grafico che dal valore della Media e Mediana possiamo dire che la Distanza negli orari non di punta segue un andamento approssimativamente normale con coda a sinistra'.format(carNP.mean(),carNP.quantile(0.5)))"
   ]
  },
  {
   "cell_type": "markdown",
   "metadata": {},
   "source": [
    "### Esercizio 5"
   ]
  },
  {
   "cell_type": "code",
   "execution_count": 27,
   "metadata": {},
   "outputs": [
    {
     "data": {
      "text/plain": [
       "0.5535714285714286"
      ]
     },
     "execution_count": 27,
     "metadata": {},
     "output_type": "execute_result"
    }
   ],
   "source": [
    "#5.1\n",
    "len(car[car['RushHour'] == 1])/len(car)\n",
    "car['RushHour'].mean()"
   ]
  },
  {
   "cell_type": "code",
   "execution_count": 13,
   "metadata": {},
   "outputs": [
    {
     "name": "stdout",
     "output_type": "stream",
     "text": [
      "Media\n"
     ]
    }
   ],
   "source": [
    "#5.2\n",
    "print(\"Media campionaria\")"
   ]
  },
  {
   "cell_type": "code",
   "execution_count": 28,
   "metadata": {},
   "outputs": [
    {
     "data": {
      "text/plain": [
       "392"
      ]
     },
     "execution_count": 28,
     "metadata": {},
     "output_type": "execute_result"
    }
   ],
   "source": [
    "#5.3\n",
    "campione = len(car.dropna())\n",
    "campione"
   ]
  },
  {
   "cell_type": "markdown",
   "metadata": {},
   "source": [
    "### 5.4\n",
    "$$ P(|\\bar{X_n} - \\mu| <= 0.025) $$\n",
    "\n",
    "$$ P(-0.025 <= \\bar{X_n} - \\mu <= 0.025) $$\n",
    "\n",
    "$$ P(-\\frac{0.025}{\\frac{\\sigma}{\\sqrt{n}}} <=  \\frac{\\bar{X_n} - \\mu}{\\frac{\\sigma}{\\sqrt{n}}}<= \\frac{0.025}{\\frac{\\sigma}{\\sqrt{n}}}) $$\n",
    "\n",
    "$$ P(-\\frac{0.025}{\\frac{\\sigma}{\\sqrt{n}}} <=Z<= \\frac{0.025}{\\frac{\\sigma}{\\sqrt{n}}}) $$\n",
    "\n",
    "$$ P(Z <= \\frac{0.025}{\\frac{\\sigma}{\\sqrt{n}}}) - P( Z<= -\\frac{0.025}{\\frac{\\sigma}{\\sqrt{n}}}) $$\n",
    "\n",
    "$$ P(|\\bar{X_n} - \\mu| <= 0.025) = \\phi(\\frac{0.025}{\\frac{\\sigma}{\\sqrt{n}}}) - \\phi(-\\frac{0.025}{\\frac{\\sigma}{\\sqrt{n}}}) $$"
   ]
  },
  {
   "cell_type": "code",
   "execution_count": 29,
   "metadata": {},
   "outputs": [
    {
     "data": {
      "text/plain": [
       "0.6799767876150911"
      ]
     },
     "execution_count": 29,
     "metadata": {},
     "output_type": "execute_result"
    }
   ],
   "source": [
    "p=0.05\n",
    "Z = st.norm()\n",
    "dev=car['RushHour'].std()\n",
    "n = len(car.dropna())\n",
    "x1 = (0.025*(n)**0.5)/dev\n",
    "Z.cdf(x1)-Z.cdf(-x1)"
   ]
  },
  {
   "cell_type": "markdown",
   "metadata": {},
   "source": [
    "### Esercizio 6\n",
    "incidente = A = 0.15 \\\n",
    "orario di punta = B = 0.55\n",
    "\n",
    "P(A|B) = 0.2\n",
    "\n",
    "$$ P(B|A) = \\frac{P(B \\cap A)}{P(A)} $$\n",
    "\n",
    "$$ P(B|A) = \\frac{P(A|B)P(B)}{P(A)} $$"
   ]
  },
  {
   "cell_type": "code",
   "execution_count": 16,
   "metadata": {},
   "outputs": [],
   "source": [
    "p = 0.15\n",
    "pp = 0.2\n",
    "prob = (pp*(len(car[car['RushHour'] == 1])/len(car)))/p"
   ]
  },
  {
   "cell_type": "code",
   "execution_count": 17,
   "metadata": {},
   "outputs": [
    {
     "name": "stdout",
     "output_type": "stream",
     "text": [
      "La probabilità che una data auto oggi non è disponibile perché ieri ha subito un incidente è : 0.7380952380952381\n"
     ]
    }
   ],
   "source": [
    "print('La probabilità che una data auto oggi non è disponibile perché ieri ha subito un incidente è : {}'.format(prob))"
   ]
  }
 ],
 "metadata": {
  "kernelspec": {
   "display_name": "Python 3",
   "language": "python",
   "name": "python3"
  },
  "language_info": {
   "codemirror_mode": {
    "name": "ipython",
    "version": 3
   },
   "file_extension": ".py",
   "mimetype": "text/x-python",
   "name": "python",
   "nbconvert_exporter": "python",
   "pygments_lexer": "ipython3",
   "version": "3.6.5"
  }
 },
 "nbformat": 4,
 "nbformat_minor": 2
}
