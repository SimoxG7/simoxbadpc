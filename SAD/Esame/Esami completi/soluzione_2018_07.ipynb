{
 "cells": [
  {
   "cell_type": "markdown",
   "metadata": {},
   "source": [
    "## Luglio 2018"
   ]
  },
  {
   "cell_type": "code",
   "execution_count": 1,
   "metadata": {},
   "outputs": [],
   "source": [
    "import pandas as pd\n",
    "import matplotlib.pyplot as plt\n",
    "import numpy as np\n",
    "import statsmodels.api as sm\n",
    "import scipy.stats as st"
   ]
  },
  {
   "cell_type": "markdown",
   "metadata": {},
   "source": [
    "### Esercizio 0\n",
    "### 0.1\n",
    "1B -> 2A normale, 1A -> 2B esponenziale\n",
    "\n",
    "### 0.2 \n",
    "Il valore atteso minore è b, poichè è l'area sopra la curva.\n",
    "\n",
    "### 0.3\n",
    "Il valore 2:\n",
    "- (X) 70esimo p\n",
    "- (Y) 20p\n",
    "\n",
    "### 0.4\n",
    "cinquantesimo percentile:\n",
    "- (X,a) 1\n",
    "- (Y,b) 3\n",
    "\n",
    "### 0.5\n",
    "$P(2 \\leq X \\leq 5) = F_X(5) - F_X(2) = 1 - 0.8 = 0.2$\n",
    "\n",
    "$P(2 \\leq Y \\leq 5) = F_Y(5)-F_Y(2) = 0.8 - 0.2$\n",
    "\n",
    "### 0.6\n",
    "La  mediana è minore della media."
   ]
  },
  {
   "cell_type": "markdown",
   "metadata": {},
   "source": [
    "### Esercizio 1\n",
    "$X \\sim Exp(\\nu)$\n",
    "\n",
    "1) $f_X(x) = \\nu e^{-\\nu x}$\n",
    "\n",
    "2) $E(X) = \\frac{1}{\\nu}$ = deviazione standard\n",
    "\n",
    "3) $T_n = \\overline{X}$, $E(T_n) = \\frac{1}{n} E(\\sum X_i) = \\frac{1}{n}\\sum E(X_i) = \\frac{1}{n}n\\frac{1}{\\nu} = \\frac{1}{\\nu}$\n",
    "\n",
    "4) Poichè $\\frac{1}{\\nu}$ è il valore atteso di x allora avremo $\\nu = \\frac{1}{E(X)}$ quindi \n",
    "$$\\frac{1}{T_n} = R_n$$"
   ]
  },
  {
   "cell_type": "markdown",
   "metadata": {},
   "source": [
    "### Esercizio 2"
   ]
  },
  {
   "cell_type": "code",
   "execution_count": 2,
   "metadata": {},
   "outputs": [
    {
     "data": {
      "text/plain": [
       "Index(['Cartella', 'IP', 'GravitaIP', 'EtaAnni', 'MORTE', 'MC', 'SURVIVALTIME',\n",
       "       'Terapia', 'Antiaritmico', 'PesoKg', 'VTricuspide', 'AsxAo', 'OndaE',\n",
       "       'OndaEA', 'FrazEspuls', 'FrazAccorc', 'EDVI', 'ESVI', 'Allodiast',\n",
       "       'Allosist'],\n",
       "      dtype='object')"
      ]
     },
     "execution_count": 2,
     "metadata": {},
     "output_type": "execute_result"
    }
   ],
   "source": [
    "cani = pd.read_csv(\"cani.csv\",delimiter=\";\",decimal=\",\")\n",
    "cani.columns"
   ]
  },
  {
   "cell_type": "markdown",
   "metadata": {},
   "source": [
    "### 2.1.1"
   ]
  },
  {
   "cell_type": "code",
   "execution_count": 3,
   "metadata": {},
   "outputs": [
    {
     "data": {
      "text/html": [
       "<div>\n",
       "<style scoped>\n",
       "    .dataframe tbody tr th:only-of-type {\n",
       "        vertical-align: middle;\n",
       "    }\n",
       "\n",
       "    .dataframe tbody tr th {\n",
       "        vertical-align: top;\n",
       "    }\n",
       "\n",
       "    .dataframe thead th {\n",
       "        text-align: right;\n",
       "    }\n",
       "</style>\n",
       "<table border=\"1\" class=\"dataframe\">\n",
       "  <thead>\n",
       "    <tr style=\"text-align: right;\">\n",
       "      <th></th>\n",
       "      <th>Abs. Freq.</th>\n",
       "    </tr>\n",
       "    <tr>\n",
       "      <th>Antiaritmico</th>\n",
       "      <th></th>\n",
       "    </tr>\n",
       "  </thead>\n",
       "  <tbody>\n",
       "    <tr>\n",
       "      <th>NO</th>\n",
       "      <td>150</td>\n",
       "    </tr>\n",
       "    <tr>\n",
       "      <th>SI</th>\n",
       "      <td>11</td>\n",
       "    </tr>\n",
       "  </tbody>\n",
       "</table>\n",
       "</div>"
      ],
      "text/plain": [
       "              Abs. Freq.\n",
       "Antiaritmico            \n",
       "NO                   150\n",
       "SI                    11"
      ]
     },
     "execution_count": 3,
     "metadata": {},
     "output_type": "execute_result"
    }
   ],
   "source": [
    "\n",
    "ar = pd.crosstab(index=cani['Antiaritmico'],columns=[\"Abs. Freq.\"],colnames=[''])\n",
    "ar"
   ]
  },
  {
   "cell_type": "markdown",
   "metadata": {},
   "source": [
    "### 2.1.2"
   ]
  },
  {
   "cell_type": "code",
   "execution_count": 4,
   "metadata": {},
   "outputs": [
    {
     "data": {
      "text/plain": [
       "11"
      ]
     },
     "execution_count": 4,
     "metadata": {},
     "output_type": "execute_result"
    }
   ],
   "source": [
    "len(cani[cani['Antiaritmico'] == 'SI'])"
   ]
  },
  {
   "cell_type": "markdown",
   "metadata": {},
   "source": [
    "### 2.1.3"
   ]
  },
  {
   "cell_type": "code",
   "execution_count": 5,
   "metadata": {},
   "outputs": [
    {
     "name": "stdout",
     "output_type": "stream",
     "text": [
      "Si == 1, NO == 0\n"
     ]
    }
   ],
   "source": [
    "print(\"Si == 1, NO == 0\")"
   ]
  },
  {
   "cell_type": "markdown",
   "metadata": {},
   "source": [
    "### 2.1.4"
   ]
  },
  {
   "cell_type": "code",
   "execution_count": 6,
   "metadata": {},
   "outputs": [
    {
     "data": {
      "text/html": [
       "<div>\n",
       "<style scoped>\n",
       "    .dataframe tbody tr th:only-of-type {\n",
       "        vertical-align: middle;\n",
       "    }\n",
       "\n",
       "    .dataframe tbody tr th {\n",
       "        vertical-align: top;\n",
       "    }\n",
       "\n",
       "    .dataframe thead th {\n",
       "        text-align: right;\n",
       "    }\n",
       "</style>\n",
       "<table border=\"1\" class=\"dataframe\">\n",
       "  <thead>\n",
       "    <tr style=\"text-align: right;\">\n",
       "      <th>Cani Morti Cardiaci</th>\n",
       "      <th>0.0</th>\n",
       "      <th>1.0</th>\n",
       "    </tr>\n",
       "    <tr>\n",
       "      <th>Antiaritmico</th>\n",
       "      <th></th>\n",
       "      <th></th>\n",
       "    </tr>\n",
       "  </thead>\n",
       "  <tbody>\n",
       "    <tr>\n",
       "      <th>NO</th>\n",
       "      <td>28</td>\n",
       "      <td>78</td>\n",
       "    </tr>\n",
       "    <tr>\n",
       "      <th>SI</th>\n",
       "      <td>0</td>\n",
       "      <td>9</td>\n",
       "    </tr>\n",
       "  </tbody>\n",
       "</table>\n",
       "</div>"
      ],
      "text/plain": [
       "Cani Morti Cardiaci  0.0  1.0\n",
       "Antiaritmico                 \n",
       "NO                    28   78\n",
       "SI                     0    9"
      ]
     },
     "execution_count": 6,
     "metadata": {},
     "output_type": "execute_result"
    }
   ],
   "source": [
    "pd.crosstab(index=cani['Antiaritmico'],columns=cani['MC'],colnames=['Cani Morti Cardiaci'])"
   ]
  },
  {
   "cell_type": "markdown",
   "metadata": {},
   "source": [
    "### 2.1.5"
   ]
  },
  {
   "cell_type": "code",
   "execution_count": 7,
   "metadata": {},
   "outputs": [
    {
     "data": {
      "text/plain": [
       "6.832298136645963"
      ]
     },
     "execution_count": 7,
     "metadata": {},
     "output_type": "execute_result"
    }
   ],
   "source": [
    "len(cani.MC[cani.Antiaritmico == 'SI'])*100/len(cani.MC)"
   ]
  },
  {
   "cell_type": "markdown",
   "metadata": {},
   "source": [
    "### 2.2.1"
   ]
  },
  {
   "cell_type": "code",
   "execution_count": 8,
   "metadata": {},
   "outputs": [
    {
     "data": {
      "image/png": "[encoded data removed]",
      "text/plain": [
       "<Figure size 432x288 with 1 Axes>"
      ]
     },
     "metadata": {},
     "output_type": "display_data"
    }
   ],
   "source": [
    "cani['SURVIVALTIME'].plot.box()\n",
    "plt.show()"
   ]
  },
  {
   "cell_type": "markdown",
   "metadata": {},
   "source": [
    "### 2.2.2"
   ]
  },
  {
   "cell_type": "code",
   "execution_count": 9,
   "metadata": {},
   "outputs": [
    {
     "name": "stdout",
     "output_type": "stream",
     "text": [
      "I cani rappresentati dal quadrato all'interno del box plot sono : 81\n"
     ]
    }
   ],
   "source": [
    "cani['SURVIVALTIME'].quantile(0.25),cani['SURVIVALTIME'].quantile(0.75)\n",
    "canibox= cani[(cani['SURVIVALTIME']>=113)&(cani['SURVIVALTIME']<=711)]\n",
    "print(\"I cani rappresentati dal quadrato all'interno del box plot sono : {}\".format(len(canibox)))"
   ]
  },
  {
   "cell_type": "markdown",
   "metadata": {},
   "source": [
    "### 2.2.3"
   ]
  },
  {
   "cell_type": "code",
   "execution_count": 10,
   "metadata": {},
   "outputs": [
    {
     "data": {
      "image/png": "[encoded data removed]",
      "text/plain": [
       "<Figure size 432x288 with 1 Axes>"
      ]
     },
     "metadata": {},
     "output_type": "display_data"
    }
   ],
   "source": [
    "cani['SURVIVALTIME'].hist()\n",
    "plt.show()"
   ]
  },
  {
   "cell_type": "markdown",
   "metadata": {},
   "source": [
    "### 2.2.4"
   ]
  },
  {
   "cell_type": "code",
   "execution_count": 11,
   "metadata": {},
   "outputs": [
    {
     "name": "stdout",
     "output_type": "stream",
     "text": [
      "Come si può vedere dal grafico si può supporre un modello esponenziale. Inoltre solitamente il modello esponenziale viene usato per descrivere il tempo di vita di un fenomeno\n"
     ]
    }
   ],
   "source": [
    "print(\"Come si può vedere dal grafico si può supporre un modello esponenziale. Inoltre solitamente il modello esponenziale viene usato per descrivere il tempo di vita di un fenomeno\")"
   ]
  },
  {
   "cell_type": "markdown",
   "metadata": {},
   "source": [
    "### 2.2.5"
   ]
  },
  {
   "cell_type": "code",
   "execution_count": 12,
   "metadata": {},
   "outputs": [
    {
     "data": {
      "text/plain": [
       "459.888198757764"
      ]
     },
     "execution_count": 12,
     "metadata": {},
     "output_type": "execute_result"
    }
   ],
   "source": [
    "cani['SURVIVALTIME'].mean()"
   ]
  },
  {
   "cell_type": "markdown",
   "metadata": {},
   "source": [
    "### 2.2.6"
   ]
  },
  {
   "cell_type": "code",
   "execution_count": 13,
   "metadata": {},
   "outputs": [
    {
     "data": {
      "text/plain": [
       "467.1967063479367"
      ]
     },
     "execution_count": 13,
     "metadata": {},
     "output_type": "execute_result"
    }
   ],
   "source": [
    "cani['SURVIVALTIME'].std()"
   ]
  },
  {
   "cell_type": "markdown",
   "metadata": {},
   "source": [
    "### 2.2.7"
   ]
  },
  {
   "cell_type": "code",
   "execution_count": 14,
   "metadata": {},
   "outputs": [
    {
     "name": "stdout",
     "output_type": "stream",
     "text": [
      "Esponenziale: 1/valore atteso -> 1/(cani['SURVIVALTIME'].mean() cioè 0.0021744415331838686\n"
     ]
    }
   ],
   "source": [
    "print(\"Esponenziale: 1/valore atteso -> 1/(cani['SURVIVALTIME'].mean() cioè {}\".format(1/(cani['SURVIVALTIME'].mean())))"
   ]
  },
  {
   "cell_type": "code",
   "execution_count": null,
   "metadata": {},
   "outputs": [],
   "source": []
  },
  {
   "cell_type": "markdown",
   "metadata": {},
   "source": [
    "### Esercizio 3"
   ]
  },
  {
   "cell_type": "code",
   "execution_count": 15,
   "metadata": {},
   "outputs": [],
   "source": [
    "canimorti = cani[cani['MORTE'] == 1]\n",
    "canimortinna = canimorti.dropna(axis=0,subset=['MC'])\n",
    "canimortinna = canimorti.dropna(axis=0,subset=['OndaEA'])"
   ]
  },
  {
   "cell_type": "markdown",
   "metadata": {},
   "source": [
    "### 3.1"
   ]
  },
  {
   "cell_type": "code",
   "execution_count": 16,
   "metadata": {},
   "outputs": [
    {
     "name": "stdout",
     "output_type": "stream",
     "text": [
      "Scalare\n"
     ]
    }
   ],
   "source": [
    "#1\n",
    "canimortinna['OndaEA'].head()\n",
    "print(\"Scalare\")"
   ]
  },
  {
   "cell_type": "markdown",
   "metadata": {},
   "source": [
    "### 3.2"
   ]
  },
  {
   "cell_type": "code",
   "execution_count": 17,
   "metadata": {},
   "outputs": [
    {
     "data": {
      "text/plain": [
       "<matplotlib.axes._subplots.AxesSubplot at 0x1fb747c0828>"
      ]
     },
     "execution_count": 17,
     "metadata": {},
     "output_type": "execute_result"
    },
    {
     "data": {
      "image/png": "[encoded data removed]",
      "text/plain": [
       "<Figure size 432x288 with 1 Axes>"
      ]
     },
     "metadata": {},
     "output_type": "display_data"
    }
   ],
   "source": [
    "canimortinna['OndaEA'].plot.box()"
   ]
  },
  {
   "cell_type": "markdown",
   "metadata": {},
   "source": [
    "### 3.3"
   ]
  },
  {
   "cell_type": "code",
   "execution_count": 18,
   "metadata": {},
   "outputs": [
    {
     "data": {
      "text/plain": [
       "4.19"
      ]
     },
     "execution_count": 18,
     "metadata": {},
     "output_type": "execute_result"
    }
   ],
   "source": [
    "max(canimortinna['OndaEA'])"
   ]
  },
  {
   "cell_type": "markdown",
   "metadata": {},
   "source": [
    "### 3.4"
   ]
  },
  {
   "cell_type": "code",
   "execution_count": 19,
   "metadata": {},
   "outputs": [
    {
     "name": "stdout",
     "output_type": "stream",
     "text": [
      "Si è morto per cause cardiache\n"
     ]
    }
   ],
   "source": [
    "#4\n",
    "canimortinna[canimortinna['OndaEA'] == 4.19]['MC']\n",
    "print(\"Si è morto per cause cardiache\")"
   ]
  },
  {
   "cell_type": "markdown",
   "metadata": {},
   "source": [
    "### 3.5"
   ]
  },
  {
   "cell_type": "code",
   "execution_count": 20,
   "metadata": {},
   "outputs": [
    {
     "data": {
      "text/plain": [
       "1.41"
      ]
     },
     "execution_count": 20,
     "metadata": {},
     "output_type": "execute_result"
    }
   ],
   "source": [
    "#5\n",
    "s = canimortinna[canimortinna['MC'] == 0]['OndaEA'].quantile(0.75)\n",
    "s"
   ]
  },
  {
   "cell_type": "markdown",
   "metadata": {},
   "source": [
    "### 3.6"
   ]
  },
  {
   "cell_type": "code",
   "execution_count": 21,
   "metadata": {},
   "outputs": [
    {
     "name": "stdout",
     "output_type": "stream",
     "text": [
      "I cani morti per cause cardiache sono: 66\n",
      "I cani morti per cause non cardiache sono: 17\n"
     ]
    }
   ],
   "source": [
    "#6\n",
    "mask1 = canimortinna['MORTE'] == 1\n",
    "mask2 = canimortinna['MC'] == 0\n",
    "mask3 = canimortinna['MC'] == 1\n",
    "print(\"I cani morti per cause cardiache sono: {}\".format(len(canimortinna[mask1 & mask3])))\n",
    "print(\"I cani morti per cause non cardiache sono: {}\".format(len(canimortinna[mask1 & mask2])))"
   ]
  },
  {
   "cell_type": "markdown",
   "metadata": {},
   "source": [
    "### 3.7"
   ]
  },
  {
   "cell_type": "code",
   "execution_count": 22,
   "metadata": {},
   "outputs": [
    {
     "name": "stdout",
     "output_type": "stream",
     "text": [
      ">= : 41\n",
      "< :12\n"
     ]
    }
   ],
   "source": [
    "#7\n",
    "mask4 = canimortinna['OndaEA'] >= s\n",
    "mask5 = canimortinna['OndaEA'] < s\n",
    "print(\">= : {}\".format(len(canimortinna[mask1 & mask3 & mask4])))\n",
    "print(\"< :{}\".format(len(canimortinna[mask1 & mask2 & mask5])))"
   ]
  },
  {
   "cell_type": "code",
   "execution_count": 23,
   "metadata": {},
   "outputs": [
    {
     "name": "stdout",
     "output_type": "stream",
     "text": [
      "Cani morti per altre cause con valore di OndaEA >=s\n",
      "Falso Positivo : 5\n",
      "Cani morti per cause cardiache con valore di OndaEA < s\n",
      "Falso Negativo : 25\n"
     ]
    }
   ],
   "source": [
    "print('Cani morti per altre cause con valore di OndaEA >=s\\nFalso Positivo : {}\\nCani morti per cause cardiache con valore di OndaEA < s\\nFalso Negativo : {}'.format(len(canimortinna[mask1 & mask2 & mask4]),len(canimortinna[mask1 & mask3 & mask5])))"
   ]
  },
  {
   "cell_type": "markdown",
   "metadata": {},
   "source": [
    "### 3.8"
   ]
  },
  {
   "cell_type": "code",
   "execution_count": 24,
   "metadata": {},
   "outputs": [
    {
     "name": "stdout",
     "output_type": "stream",
     "text": [
      "Sensibilità : 0.6212121212121212\n",
      "Specificità : 0.7058823529411765\n"
     ]
    }
   ],
   "source": [
    "print(\"Sensibilità : {}\\nSpecificità : {}\".format((41/66),(12/17)))"
   ]
  }
 ],
 "metadata": {
  "kernelspec": {
   "display_name": "Python 3",
   "language": "python",
   "name": "python3"
  },
  "language_info": {
   "codemirror_mode": {
    "name": "ipython",
    "version": 3
   },
   "file_extension": ".py",
   "mimetype": "text/x-python",
   "name": "python",
   "nbconvert_exporter": "python",
   "pygments_lexer": "ipython3",
   "version": "3.6.5"
  }
 },
 "nbformat": 4,
 "nbformat_minor": 2
}
