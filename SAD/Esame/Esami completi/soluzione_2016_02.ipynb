{
 "cells": [
  {
   "cell_type": "markdown",
   "metadata": {},
   "source": [
    "## Febbraio 2016"
   ]
  },
  {
   "cell_type": "code",
   "execution_count": 40,
   "metadata": {},
   "outputs": [],
   "source": [
    "import pandas as pd\n",
    "import numpy as np\n",
    "import math\n",
    "import scipy.stats as st\n",
    "import matplotlib.pyplot as plt"
   ]
  },
  {
   "cell_type": "markdown",
   "metadata": {},
   "source": [
    "### Esercizio 0\n",
    "### 0.1\n",
    "$i = 1,...,7$\n",
    "\n",
    "$$X_i = \\begin{cases}\n",
    "0 & giorno\\;i\\;non\\;piove\\\\\n",
    "1& altrimenti\n",
    "\\end{cases}$$\n",
    "\n",
    "### 0.2\n",
    "$E_1$ = \"piove in almeno un giorno infrasettimanale\"\n",
    "\n",
    "$$P(E_1) = \\displaystyle 1- \\sum_{i=1}^5 f_X(i) = 1- (1-p)^5$$\n",
    "\n",
    "$E_2$ = \"non piove nel fine settimana\"\n",
    "\n",
    "$$P(E_2) = \\displaystyle \\sum_{i=6}^7 f_X(i) = (1-p)^2$$\n",
    "\n",
    "### 0.3\n",
    "Gli eventi considerati sono indipendenti, ma non mutuamente esclusivi. Questo perchè la pioggia in un giorno non influenza gli altri.\n",
    "\n",
    "### 0.4\n",
    "Calcolo la probabilità di $E_1,E_2,E_3$ = \"piove in almeno un giorno infrasettimanale, ma non durante il fine settimana\",$E_4$ = \"piove in almeno un giorno infrasettimanale oppure non piove nel fine settimana\"\n",
    "\n",
    "$$P(E_3) = P(E_1 \\cap E_2) = P(E_1) * P(E_2) $$\n",
    "\n",
    "$E_4 = E_1 \\cup E_2 $ \n",
    "$$P(E_1 \\cup E_2) = P(E_1)+P(E_2) - P(E_1 \\cap E_2)$$"
   ]
  },
  {
   "cell_type": "code",
   "execution_count": 11,
   "metadata": {},
   "outputs": [
    {
     "name": "stdout",
     "output_type": "stream",
     "text": [
      "0.9222400000000001 0.36 0.33200640000000003 0.9502336\n"
     ]
    }
   ],
   "source": [
    "p = 0.4\n",
    "e1 = 1 - (1-p)**5 ### E_1\n",
    "e2 = (1-p)**2 ### E_2\n",
    "e3 = e1*e2\n",
    "e4 = e1+e2-e3\n",
    "print(e1,e2,e3,e4)"
   ]
  },
  {
   "cell_type": "markdown",
   "metadata": {},
   "source": [
    "### Esercizio 1\n",
    "### 1.1\n",
    "$$D_X = \\{1,...,7\\}$$\n",
    "\n",
    "### 1.2\n",
    "$$X \\sim Binom(p,7)$$\n",
    "\n",
    "$$f_X(x) = \\binom{7}{x}p^x(1-p)^{7-x}I_{0,...,7}(x)$$\n",
    "\n",
    "### 1.3\n",
    "\n",
    "$$P(|T_n-p| \\leq 0.25) \\geq 0.4$$\n",
    "$E(X) = p, Var(X) = p(1-p)$\n",
    "$$2\\Phi(\\frac{0.25\\sqrt{n}}{\\sqrt{p(1-p)}})-1 \\geq 0.4$$\n",
    "$$2\\Phi(\\frac{0.25\\sqrt{n}}{\\sqrt{p(1-p)}}) \\geq 1.4$$\n",
    "$$\\frac{0.25\\sqrt{n}}{\\sqrt{p(1-p)}}\\geq \\Phi^{-1}(0.7)$$\n",
    "\n",
    "Sappiamo che p = 0.4\n",
    "$$\\frac{0.25\\sqrt{n}}{\\sqrt{0.4(1-0.4)}}\\geq \\Phi^{-1}(0.7)$$\n",
    "$$\\sqrt{n}\\geq \\frac{\\Phi^{-1}(0.7)\\sqrt{0.24}}{0.25}$$"
   ]
  },
  {
   "cell_type": "code",
   "execution_count": 25,
   "metadata": {},
   "outputs": [
    {
     "data": {
      "text/plain": [
       "1.0559842472772705"
      ]
     },
     "execution_count": 25,
     "metadata": {},
     "output_type": "execute_result"
    }
   ],
   "source": [
    "Z = st.norm()\n",
    "p = .4\n",
    "n = ((Z.ppf(0.7)*(math.sqrt(0.24)))/(0.25))**2\n",
    "n"
   ]
  },
  {
   "cell_type": "markdown",
   "metadata": {},
   "source": [
    "### Esercizio 2"
   ]
  },
  {
   "cell_type": "code",
   "execution_count": 36,
   "metadata": {},
   "outputs": [
    {
     "name": "stdout",
     "output_type": "stream",
     "text": [
      "<class 'pandas.core.frame.DataFrame'>\n",
      "RangeIndex: 150 entries, 0 to 149\n",
      "Data columns (total 15 columns):\n",
      "PROVINCIA                           150 non-null object\n",
      "C6H6                                27 non-null object\n",
      "SO2                                 38 non-null object\n",
      "CO                                  57 non-null object\n",
      "NO2                                 138 non-null float64\n",
      "O3                                  74 non-null float64\n",
      "O3_GIORNI_SUPERAMENTO_TOLLERANZA    77 non-null float64\n",
      "O3_GIORNI_SUPERAMENTO_ALLARME       77 non-null float64\n",
      "PM10                                71 non-null float64\n",
      "PM2_5                               26 non-null float64\n",
      "Pb                                  14 non-null object\n",
      "As                                  14 non-null object\n",
      "Ni                                  14 non-null object\n",
      "Cd                                  14 non-null object\n",
      "BaP                                 13 non-null object\n",
      "dtypes: float64(6), object(9)\n",
      "memory usage: 17.7+ KB\n"
     ]
    }
   ],
   "source": [
    "df = pd.read_csv('DATI-AMBIENTE.txt',sep=\";\",decimal=\",\",na_values=' ')\n",
    "df.info()"
   ]
  },
  {
   "cell_type": "markdown",
   "metadata": {},
   "source": [
    "### 2.1"
   ]
  },
  {
   "cell_type": "code",
   "execution_count": 37,
   "metadata": {},
   "outputs": [
    {
     "data": {
      "text/plain": [
       "150"
      ]
     },
     "execution_count": 37,
     "metadata": {},
     "output_type": "execute_result"
    }
   ],
   "source": [
    "len(df)"
   ]
  },
  {
   "cell_type": "markdown",
   "metadata": {},
   "source": [
    "### 2.2"
   ]
  },
  {
   "cell_type": "code",
   "execution_count": 42,
   "metadata": {},
   "outputs": [
    {
     "data": {
      "image/png": "[encoded data removed]",
      "text/plain": [
       "<Figure size 432x288 with 1 Axes>"
      ]
     },
     "metadata": {},
     "output_type": "display_data"
    }
   ],
   "source": [
    "fprov = pd.crosstab(index=df['PROVINCIA'],colnames=[''],columns=\"Frequenza Assoluta\")\n",
    "fprov.plot.bar()\n",
    "plt.show()"
   ]
  },
  {
   "cell_type": "markdown",
   "metadata": {},
   "source": [
    "### 2.3\n",
    "La provincia meno rappresentata è Como, mentre quella più rappresentata è Milano"
   ]
  },
  {
   "cell_type": "code",
   "execution_count": 51,
   "metadata": {},
   "outputs": [
    {
     "name": "stdout",
     "output_type": "stream",
     "text": [
      "CO    5\n",
      "Name: PROVINCIA, dtype: int64\n",
      "MI    36\n",
      "Name: PROVINCIA, dtype: int64\n"
     ]
    }
   ],
   "source": [
    "print(df['PROVINCIA'].value_counts().sort_values().head(1))\n",
    "print(df['PROVINCIA'].value_counts().sort_values().tail(1))"
   ]
  },
  {
   "cell_type": "markdown",
   "metadata": {},
   "source": [
    "### 2.4\n",
    "L'eterogeneità è molto vicino a 1 quindi c'è una buona distribuzione."
   ]
  },
  {
   "cell_type": "code",
   "execution_count": 52,
   "metadata": {},
   "outputs": [
    {
     "data": {
      "text/plain": [
       "0.9639757575757577"
      ]
     },
     "execution_count": 52,
     "metadata": {},
     "output_type": "execute_result"
    }
   ],
   "source": [
    "def gini(series):\n",
    "    return 1 - sum(series.value_counts(normalize=True)\n",
    "                         .map(lambda f: f**2))\n",
    "\n",
    "def normalized_gini(series):\n",
    "    s = len(series.unique())\n",
    "    return s * gini(series)/(s-1)\n",
    "\n",
    "normalized_gini(df['PROVINCIA'].dropna())"
   ]
  },
  {
   "cell_type": "markdown",
   "metadata": {},
   "source": [
    "### 2.5"
   ]
  },
  {
   "cell_type": "code",
   "execution_count": 54,
   "metadata": {},
   "outputs": [
    {
     "data": {
      "text/plain": [
       "count    18.000000\n",
       "mean      1.500000\n",
       "std       0.857493\n",
       "min       1.000000\n",
       "25%       1.000000\n",
       "50%       1.000000\n",
       "75%       2.000000\n",
       "max       4.000000\n",
       "Name: C6H6, dtype: float64"
      ]
     },
     "execution_count": 54,
     "metadata": {},
     "output_type": "execute_result"
    }
   ],
   "source": [
    "df['C6H6'].value_counts().describe()"
   ]
  },
  {
   "cell_type": "code",
   "execution_count": 55,
   "metadata": {},
   "outputs": [
    {
     "data": {
      "text/plain": [
       "count    13.000000\n",
       "mean      2.923077\n",
       "std       2.498718\n",
       "min       1.000000\n",
       "25%       1.000000\n",
       "50%       1.000000\n",
       "75%       4.000000\n",
       "max       8.000000\n",
       "Name: SO2, dtype: float64"
      ]
     },
     "execution_count": 55,
     "metadata": {},
     "output_type": "execute_result"
    }
   ],
   "source": [
    "df['SO2'].value_counts().describe()"
   ]
  },
  {
   "cell_type": "code",
   "execution_count": 56,
   "metadata": {},
   "outputs": [
    {
     "data": {
      "text/plain": [
       "count    11.000000\n",
       "mean      5.181818\n",
       "std       3.919647\n",
       "min       1.000000\n",
       "25%       2.000000\n",
       "50%       4.000000\n",
       "75%       7.000000\n",
       "max      13.000000\n",
       "Name: CO, dtype: float64"
      ]
     },
     "execution_count": 56,
     "metadata": {},
     "output_type": "execute_result"
    }
   ],
   "source": [
    "df['CO'].value_counts().describe()"
   ]
  },
  {
   "cell_type": "markdown",
   "metadata": {},
   "source": [
    "### 2.6"
   ]
  },
  {
   "cell_type": "code",
   "execution_count": null,
   "metadata": {},
   "outputs": [],
   "source": []
  },
  {
   "cell_type": "markdown",
   "metadata": {},
   "source": [
    "### 2.7\n",
    "Concentrazione a: cadmio\n",
    "\n",
    "Concentrazione b: benzoapirene"
   ]
  },
  {
   "cell_type": "markdown",
   "metadata": {},
   "source": [
    "### 2.8"
   ]
  },
  {
   "cell_type": "code",
   "execution_count": 71,
   "metadata": {},
   "outputs": [
    {
     "data": {
      "text/plain": [
       "47.0    0.108108\n",
       "42.0    0.094595\n",
       "50.0    0.067568\n",
       "44.0    0.067568\n",
       "40.0    0.067568\n",
       "55.0    0.054054\n",
       "48.0    0.054054\n",
       "37.0    0.054054\n",
       "46.0    0.054054\n",
       "45.0    0.040541\n",
       "41.0    0.040541\n",
       "38.0    0.040541\n",
       "60.0    0.027027\n",
       "43.0    0.027027\n",
       "35.0    0.027027\n",
       "39.0    0.027027\n",
       "61.0    0.013514\n",
       "56.0    0.013514\n",
       "34.0    0.013514\n",
       "93.0    0.013514\n",
       "53.0    0.013514\n",
       "51.0    0.013514\n",
       "52.0    0.013514\n",
       "59.0    0.013514\n",
       "49.0    0.013514\n",
       "54.0    0.013514\n",
       "58.0    0.013514\n",
       "Name: O3, dtype: float64"
      ]
     },
     "execution_count": 71,
     "metadata": {},
     "output_type": "execute_result"
    }
   ],
   "source": [
    "df['O3'].value_counts(normalize=True)"
   ]
  },
  {
   "cell_type": "markdown",
   "metadata": {},
   "source": [
    "### 2.9"
   ]
  },
  {
   "cell_type": "code",
   "execution_count": 72,
   "metadata": {},
   "outputs": [
    {
     "data": {
      "image/png": "[encoded data removed]",
      "text/plain": [
       "<Figure size 432x288 with 1 Axes>"
      ]
     },
     "metadata": {},
     "output_type": "display_data"
    }
   ],
   "source": [
    "import statsmodels.distributions as dm\n",
    "dist = dm.ECDF(df.O3.dropna())\n",
    "plt.plot(dist.x, dist.y)\n",
    "plt.show()"
   ]
  },
  {
   "cell_type": "markdown",
   "metadata": {},
   "source": [
    "### 2.10"
   ]
  },
  {
   "cell_type": "code",
   "execution_count": 75,
   "metadata": {},
   "outputs": [
    {
     "data": {
      "text/plain": [
       "4"
      ]
     },
     "execution_count": 75,
     "metadata": {},
     "output_type": "execute_result"
    }
   ],
   "source": [
    "len(df[df['O3'] == 46])"
   ]
  },
  {
   "cell_type": "markdown",
   "metadata": {},
   "source": [
    "### 2.11\n"
   ]
  },
  {
   "cell_type": "code",
   "execution_count": 81,
   "metadata": {},
   "outputs": [
    {
     "data": {
      "text/plain": [
       "25"
      ]
     },
     "execution_count": 81,
     "metadata": {},
     "output_type": "execute_result"
    }
   ],
   "source": [
    "mask1 = df['O3'] > 45\n",
    "mask2 = df['O3'] < 50\n",
    "len(df[mask1 & mask2]) + len(df[df['O3'] == 45]) + len(df[df['O3'] == 50])"
   ]
  },
  {
   "cell_type": "markdown",
   "metadata": {},
   "source": [
    "### 2.12"
   ]
  },
  {
   "cell_type": "code",
   "execution_count": null,
   "metadata": {},
   "outputs": [],
   "source": []
  },
  {
   "cell_type": "markdown",
   "metadata": {},
   "source": [
    "### 2.13\n",
    "X = numero dei giorni inun anno nei quali viene superata la soglia per l'ozono\n",
    "\n",
    "n = 150, $X_1,...,X_n$ campione "
   ]
  },
  {
   "cell_type": "code",
   "execution_count": 93,
   "metadata": {},
   "outputs": [
    {
     "name": "stdout",
     "output_type": "stream",
     "text": [
      "11.207792207792208 8.025186769982142\n"
     ]
    }
   ],
   "source": [
    "tn = df['O3_GIORNI_SUPERAMENTO_TOLLERANZA'].mean() #valore atteso\n",
    "dvn = df['O3_GIORNI_SUPERAMENTO_TOLLERANZA'].std()\n",
    "print(tn,dvn)"
   ]
  },
  {
   "cell_type": "markdown",
   "metadata": {},
   "source": [
    "### 2.14\n",
    "Si potremmo dedurre che segua una legge binomiale per via della definizione: (0 non superamento, 1 superamento).\n",
    "Anche il grafico sembra rispettare."
   ]
  },
  {
   "cell_type": "code",
   "execution_count": 94,
   "metadata": {},
   "outputs": [
    {
     "data": {
      "image/png": "[encoded data removed]",
      "text/plain": [
       "<Figure size 432x288 with 1 Axes>"
      ]
     },
     "metadata": {},
     "output_type": "display_data"
    }
   ],
   "source": [
    "df['O3_GIORNI_SUPERAMENTO_TOLLERANZA'].hist()\n",
    "plt.show()"
   ]
  },
  {
   "cell_type": "code",
   "execution_count": null,
   "metadata": {},
   "outputs": [],
   "source": []
  }
 ],
 "metadata": {
  "kernelspec": {
   "display_name": "Python 3",
   "language": "python",
   "name": "python3"
  },
  "language_info": {
   "codemirror_mode": {
    "name": "ipython",
    "version": 3
   },
   "file_extension": ".py",
   "mimetype": "text/x-python",
   "name": "python",
   "nbconvert_exporter": "python",
   "pygments_lexer": "ipython3",
   "version": "3.6.5"
  }
 },
 "nbformat": 4,
 "nbformat_minor": 2
}
