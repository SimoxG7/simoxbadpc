{
 "cells": [
  {
   "cell_type": "markdown",
   "metadata": {},
   "source": [
    "## Gennaio 2016"
   ]
  },
  {
   "cell_type": "code",
   "execution_count": 14,
   "metadata": {},
   "outputs": [],
   "source": [
    "import pandas as pd\n",
    "import numpy as np\n",
    "import scipy.stats as st\n",
    "import matplotlib.pyplot as plt"
   ]
  },
  {
   "cell_type": "markdown",
   "metadata": {},
   "source": [
    "### Esercizio 0\n",
    "#### 0.1,0.2 Grafici\n",
    "$D_X = {2,...,14}$, $X \\sim Unif(D_X)$\n",
    "\n",
    "$X \\sim Geom(p)$, $n \\in \\{0,1,2,...\\}$\n",
    "\n",
    "### 0.3\n",
    "$$E(X) = \\frac{1-p}{p}$$\n",
    "\n",
    "### 0.4\n",
    "$$p = \\frac{1}{E(X)+1}$$\n",
    "\n",
    "### 0.5\n",
    "$$Var(X) = \\frac{1-p}{p^2} = E(X)(E(X)+1)$$"
   ]
  },
  {
   "cell_type": "markdown",
   "metadata": {},
   "source": [
    "### Esercizio 1"
   ]
  },
  {
   "cell_type": "code",
   "execution_count": 10,
   "metadata": {},
   "outputs": [
    {
     "data": {
      "text/plain": [
       "Index(['Protocollo', 'Anno', 'Data', 'Ora', 'Localita', 'NaturaIncidente',\n",
       "       'N_Illesi', 'N_Feriti', 'N_Riservata', 'N_Morti', 'Pedoni',\n",
       "       'Velocipedi', 'Ciclomotori_Motocicli', 'Mezzi_Pesanti',\n",
       "       'Localizzazione'],\n",
       "      dtype='object')"
      ]
     },
     "execution_count": 10,
     "metadata": {},
     "output_type": "execute_result"
    }
   ],
   "source": [
    "df = pd.read_csv('Comune_Bergamo_-_Incidenti_stradali.csv')\n",
    "df.columns"
   ]
  },
  {
   "cell_type": "markdown",
   "metadata": {},
   "source": [
    "### 1.1"
   ]
  },
  {
   "cell_type": "code",
   "execution_count": 11,
   "metadata": {},
   "outputs": [
    {
     "data": {
      "text/plain": [
       "28040"
      ]
     },
     "execution_count": 11,
     "metadata": {},
     "output_type": "execute_result"
    }
   ],
   "source": [
    "len(df)"
   ]
  },
  {
   "cell_type": "markdown",
   "metadata": {},
   "source": [
    "### 1.2\n",
    "- Protocollo               categorici\n",
    "- Anno                     ordinali\n",
    "- Data                     ordinali\n",
    "- Ora                      ordinali\n",
    "- Localita                 categorici\n",
    "- NaturaIncidente          categorici\n",
    "- N_Illesi                 scalari\n",
    "- N_Feriti                 scalari\n",
    "- N_Riservata              28040 non-null int64\n",
    "- N_Morti                  scalari\n",
    "- Pedoni                   categorici\n",
    "- Velocipedi               categorici\n",
    "- Ciclomotori_Motocicli    categorici\n",
    "- Mezzi_Pesanti            categorici\n",
    "- Localizzazione           categorici"
   ]
  },
  {
   "cell_type": "code",
   "execution_count": 12,
   "metadata": {},
   "outputs": [
    {
     "name": "stdout",
     "output_type": "stream",
     "text": [
      "<class 'pandas.core.frame.DataFrame'>\n",
      "RangeIndex: 28040 entries, 0 to 28039\n",
      "Data columns (total 15 columns):\n",
      "Protocollo               28040 non-null object\n",
      "Anno                     28040 non-null int64\n",
      "Data                     28040 non-null object\n",
      "Ora                      28040 non-null object\n",
      "Localita                 28040 non-null object\n",
      "NaturaIncidente          28040 non-null object\n",
      "N_Illesi                 28040 non-null int64\n",
      "N_Feriti                 28040 non-null int64\n",
      "N_Riservata              28040 non-null int64\n",
      "N_Morti                  28040 non-null int64\n",
      "Pedoni                   28040 non-null bool\n",
      "Velocipedi               28040 non-null bool\n",
      "Ciclomotori_Motocicli    28040 non-null bool\n",
      "Mezzi_Pesanti            28040 non-null bool\n",
      "Localizzazione           27954 non-null object\n",
      "dtypes: bool(4), int64(5), object(6)\n",
      "memory usage: 2.5+ MB\n"
     ]
    }
   ],
   "source": [
    "df.info()"
   ]
  },
  {
   "cell_type": "markdown",
   "metadata": {},
   "source": [
    "### 1.3\n",
    "Modello Uniforme Anno intorno ai 2000"
   ]
  },
  {
   "cell_type": "code",
   "execution_count": 21,
   "metadata": {},
   "outputs": [
    {
     "data": {
      "image/png": "[encoded data removed]",
      "text/plain": [
       "<Figure size 432x288 with 1 Axes>"
      ]
     },
     "metadata": {},
     "output_type": "display_data"
    }
   ],
   "source": [
    "df['Anno'].value_counts(sort=False).plot.bar()\n",
    "plt.show()"
   ]
  },
  {
   "cell_type": "markdown",
   "metadata": {},
   "source": [
    "### 1.4"
   ]
  },
  {
   "cell_type": "code",
   "execution_count": 33,
   "metadata": {},
   "outputs": [
    {
     "data": {
      "text/html": [
       "<div>\n",
       "<style scoped>\n",
       "    .dataframe tbody tr th:only-of-type {\n",
       "        vertical-align: middle;\n",
       "    }\n",
       "\n",
       "    .dataframe tbody tr th {\n",
       "        vertical-align: top;\n",
       "    }\n",
       "\n",
       "    .dataframe thead th {\n",
       "        text-align: right;\n",
       "    }\n",
       "</style>\n",
       "<table border=\"1\" class=\"dataframe\">\n",
       "  <thead>\n",
       "    <tr style=\"text-align: right;\">\n",
       "      <th></th>\n",
       "      <th>Frequenza Relativa</th>\n",
       "    </tr>\n",
       "    <tr>\n",
       "      <th>N_Feriti</th>\n",
       "      <th></th>\n",
       "    </tr>\n",
       "  </thead>\n",
       "  <tbody>\n",
       "    <tr>\n",
       "      <th>0</th>\n",
       "      <td>0.501676</td>\n",
       "    </tr>\n",
       "    <tr>\n",
       "      <th>1</th>\n",
       "      <td>0.398930</td>\n",
       "    </tr>\n",
       "    <tr>\n",
       "      <th>2</th>\n",
       "      <td>0.074750</td>\n",
       "    </tr>\n",
       "    <tr>\n",
       "      <th>3</th>\n",
       "      <td>0.016084</td>\n",
       "    </tr>\n",
       "    <tr>\n",
       "      <th>4</th>\n",
       "      <td>0.005528</td>\n",
       "    </tr>\n",
       "    <tr>\n",
       "      <th>5</th>\n",
       "      <td>0.001961</td>\n",
       "    </tr>\n",
       "    <tr>\n",
       "      <th>6</th>\n",
       "      <td>0.000571</td>\n",
       "    </tr>\n",
       "    <tr>\n",
       "      <th>7</th>\n",
       "      <td>0.000357</td>\n",
       "    </tr>\n",
       "    <tr>\n",
       "      <th>8</th>\n",
       "      <td>0.000071</td>\n",
       "    </tr>\n",
       "    <tr>\n",
       "      <th>9</th>\n",
       "      <td>0.000036</td>\n",
       "    </tr>\n",
       "    <tr>\n",
       "      <th>10</th>\n",
       "      <td>0.000036</td>\n",
       "    </tr>\n",
       "  </tbody>\n",
       "</table>\n",
       "</div>"
      ],
      "text/plain": [
       "          Frequenza Relativa\n",
       "N_Feriti                    \n",
       "0                   0.501676\n",
       "1                   0.398930\n",
       "2                   0.074750\n",
       "3                   0.016084\n",
       "4                   0.005528\n",
       "5                   0.001961\n",
       "6                   0.000571\n",
       "7                   0.000357\n",
       "8                   0.000071\n",
       "9                   0.000036\n",
       "10                  0.000036"
      ]
     },
     "execution_count": 33,
     "metadata": {},
     "output_type": "execute_result"
    }
   ],
   "source": [
    "n_feriti = pd.crosstab(index=df['N_Feriti'],columns=\"Frequenza Relativa\",colnames=[''],normalize=True)\n",
    "n_feriti"
   ]
  },
  {
   "cell_type": "markdown",
   "metadata": {},
   "source": [
    "### 1.5"
   ]
  },
  {
   "cell_type": "code",
   "execution_count": 31,
   "metadata": {},
   "outputs": [
    {
     "data": {
      "image/png": "[encoded data removed]",
      "text/plain": [
       "<Figure size 432x288 with 1 Axes>"
      ]
     },
     "metadata": {},
     "output_type": "display_data"
    }
   ],
   "source": [
    "### incidenti, feriti ???\n",
    "n_feriti.cumsum().plot()\n",
    "plt.show()"
   ]
  },
  {
   "cell_type": "markdown",
   "metadata": {},
   "source": [
    "### 1.6\n",
    "!A = \"nessuno ferito\"\n",
    "\n",
    "A = \"almeno un ferito\" = 1-P(!A)"
   ]
  },
  {
   "cell_type": "code",
   "execution_count": 43,
   "metadata": {},
   "outputs": [
    {
     "data": {
      "text/plain": [
       "0.49832382310984313"
      ]
     },
     "execution_count": 43,
     "metadata": {},
     "output_type": "execute_result"
    }
   ],
   "source": [
    "1-df['N_Feriti'].value_counts(normalize=True).sort_index()[0]\n",
    "#1-n_feriti[:1]"
   ]
  },
  {
   "cell_type": "markdown",
   "metadata": {},
   "source": [
    "### 1.7\n",
    "valore atteso -> stimo con media campionaria"
   ]
  },
  {
   "cell_type": "code",
   "execution_count": 44,
   "metadata": {},
   "outputs": [
    {
     "data": {
      "text/plain": [
       "0.6357703281027104"
      ]
     },
     "execution_count": 44,
     "metadata": {},
     "output_type": "execute_result"
    }
   ],
   "source": [
    "df['N_Feriti'].mean()"
   ]
  },
  {
   "cell_type": "markdown",
   "metadata": {},
   "source": [
    "### 1.8\n",
    "Osservando il grafico e notando dai dati quì sotto che media e deviazione standard sono vicini possiamo assumere che il modello probabilistico è geometrico"
   ]
  },
  {
   "cell_type": "code",
   "execution_count": 45,
   "metadata": {},
   "outputs": [
    {
     "data": {
      "text/plain": [
       "count    28040.000000\n",
       "mean         0.635770\n",
       "std          0.790586\n",
       "min          0.000000\n",
       "25%          0.000000\n",
       "50%          0.000000\n",
       "75%          1.000000\n",
       "max         10.000000\n",
       "Name: N_Feriti, dtype: float64"
      ]
     },
     "execution_count": 45,
     "metadata": {},
     "output_type": "execute_result"
    }
   ],
   "source": [
    "df['N_Feriti'].describe()"
   ]
  },
  {
   "cell_type": "code",
   "execution_count": 48,
   "metadata": {},
   "outputs": [
    {
     "data": {
      "image/png": "[encoded data removed]",
      "text/plain": [
       "<Figure size 432x288 with 1 Axes>"
      ]
     },
     "metadata": {},
     "output_type": "display_data"
    }
   ],
   "source": [
    "from statsmodels.distributions.empirical_distribution import ECDF\n",
    "dist = ECDF(df['N_Feriti'].dropna())\n",
    "plt.plot(dist.x, dist.y)\n",
    "plt.show()"
   ]
  },
  {
   "cell_type": "markdown",
   "metadata": {},
   "source": [
    "### 1.9\n",
    "stima parametro della distribuzione"
   ]
  },
  {
   "cell_type": "code",
   "execution_count": 53,
   "metadata": {},
   "outputs": [
    {
     "data": {
      "text/plain": [
       "0.6113327664769879"
      ]
     },
     "execution_count": 53,
     "metadata": {},
     "output_type": "execute_result"
    }
   ],
   "source": [
    "p = (1/(1+df['N_Feriti'].mean()))#vedi esercizio 0\n",
    "p"
   ]
  },
  {
   "cell_type": "markdown",
   "metadata": {},
   "source": [
    "### 1.10"
   ]
  },
  {
   "cell_type": "code",
   "execution_count": 56,
   "metadata": {},
   "outputs": [
    {
     "data": {
      "image/png": "[encoded data removed]",
      "text/plain": [
       "<Figure size 432x288 with 1 Axes>"
      ]
     },
     "metadata": {},
     "output_type": "display_data"
    }
   ],
   "source": [
    "X = st.geom(p,loc=-1)\n",
    "x = np.arange(11) #numero max di incidenti\n",
    "plt.plot(x,X.pmf(x),'o')\n",
    "plt.show()"
   ]
  },
  {
   "cell_type": "markdown",
   "metadata": {},
   "source": [
    "### 1.11\n",
    "diagramma dispesione N_Feriti e N_Illesi"
   ]
  },
  {
   "cell_type": "code",
   "execution_count": 64,
   "metadata": {},
   "outputs": [
    {
     "data": {
      "image/png": "[encoded data removed]",
      "text/plain": [
       "<Figure size 432x288 with 1 Axes>"
      ]
     },
     "metadata": {},
     "output_type": "display_data"
    }
   ],
   "source": [
    "plt.scatter(df['N_Feriti'],df['N_Illesi'],color=\"brown\")\n",
    "plt.xlabel('Feriti')\n",
    "plt.ylabel('Illesi')\n",
    "plt.show()"
   ]
  },
  {
   "cell_type": "markdown",
   "metadata": {},
   "source": [
    "### 1.12\n",
    "Correlazione tra feriti e illesi"
   ]
  },
  {
   "cell_type": "code",
   "execution_count": 65,
   "metadata": {},
   "outputs": [
    {
     "data": {
      "text/plain": [
       "-0.3070519976103214"
      ]
     },
     "execution_count": 65,
     "metadata": {},
     "output_type": "execute_result"
    }
   ],
   "source": [
    "df['N_Feriti'].corr(df['N_Illesi'])"
   ]
  },
  {
   "cell_type": "markdown",
   "metadata": {},
   "source": [
    "### Esercizio 2"
   ]
  },
  {
   "cell_type": "markdown",
   "metadata": {},
   "source": [
    "Dati $X_1,...,X_n$ campione casuale, con X= numero illesi incidente\n",
    "### 2.1 \n",
    "\n",
    "Stimatore del valore atteso\n",
    "\n",
    "$$T_n = \\overline{X}$$"
   ]
  },
  {
   "cell_type": "code",
   "execution_count": 58,
   "metadata": {},
   "outputs": [
    {
     "data": {
      "text/plain": [
       "1.7973965763195434"
      ]
     },
     "execution_count": 58,
     "metadata": {},
     "output_type": "execute_result"
    }
   ],
   "source": [
    "df['N_Illesi'].mean()"
   ]
  },
  {
   "cell_type": "markdown",
   "metadata": {},
   "source": [
    "\n",
    "### 2.2\n",
    "\n",
    "$Var(\\overline{X}) = \\frac{1}{n} Var(X)$\n",
    "\n",
    "$$\\sigma(\\overline{X}) = \\sqrt{\\frac{1}{n}Var(X)}$$"
   ]
  },
  {
   "cell_type": "code",
   "execution_count": 59,
   "metadata": {},
   "outputs": [
    {
     "data": {
      "text/plain": [
       "0.007751809852772057"
      ]
     },
     "execution_count": 59,
     "metadata": {},
     "output_type": "execute_result"
    }
   ],
   "source": [
    "std = (df['N_Illesi'].var()/df['N_Illesi'].dropna().count())**0.5\n",
    "std"
   ]
  },
  {
   "cell_type": "markdown",
   "metadata": {},
   "source": [
    "\n",
    "### 2.3\n",
    "Dimostrare che $P(|Z| < k ) = 2\\Phi(k)-1$\n",
    "\n",
    "$$P(|Z|<k) = P(-k < Z < k) = \\Phi(k) - \\Phi(-k) = \\Phi(k)-(1-\\Phi(k)) = 2\\Phi(k)-1$$\n",
    "\n",
    "### 2.4\n",
    "Determinare k tale che $P(|Z|<k) = 0.99$. Riprendo l'esercizio precedente \n",
    "$$2\\Phi(k)-1 = 0.99$$\n",
    "\n",
    "$$\\Phi(k) = \\frac{1.99}{2} = 0.995$$\n",
    "\n",
    "\n",
    "$$k = \\Phi^{-1}(0,955)$$"
   ]
  },
  {
   "cell_type": "code",
   "execution_count": 6,
   "metadata": {},
   "outputs": [
    {
     "data": {
      "text/plain": [
       "2.5758293035489004"
      ]
     },
     "execution_count": 6,
     "metadata": {},
     "output_type": "execute_result"
    }
   ],
   "source": [
    "Z = st.norm()\n",
    "Z.ppf(0.995)"
   ]
  },
  {
   "cell_type": "markdown",
   "metadata": {},
   "source": [
    "### 2.5\n",
    "$$ P(|T_n - \\mu| < \\epsilon) = 0.99 $$\n",
    "\n",
    "$$2\\Phi(\\frac{\\epsilon\\sqrt{n}}{\\sigma}) - 1 = 0.99$$\n",
    "\n",
    "$$P(|\\overline{X}-E(\\overline(X))|\\leq 0.99) > \\frac{Var(X)}{n*0.99}$$\n",
    "\n",
    "$$ \\epsilon = \\frac{\\phi^{-1}(0.995)\\sigma}{\\sqrt{n}} $$"
   ]
  },
  {
   "cell_type": "code",
   "execution_count": 60,
   "metadata": {},
   "outputs": [
    {
     "data": {
      "text/plain": [
       "0.019967338974309353"
      ]
     },
     "execution_count": 60,
     "metadata": {},
     "output_type": "execute_result"
    }
   ],
   "source": [
    "(Z.ppf(0.995) * df['N_Illesi'].std())/df['N_Illesi'].dropna().count()**0.5"
   ]
  }
 ],
 "metadata": {
  "kernelspec": {
   "display_name": "Python 3",
   "language": "python",
   "name": "python3"
  },
  "language_info": {
   "codemirror_mode": {
    "name": "ipython",
    "version": 3
   },
   "file_extension": ".py",
   "mimetype": "text/x-python",
   "name": "python",
   "nbconvert_exporter": "python",
   "pygments_lexer": "ipython3",
   "version": "3.6.5"
  }
 },
 "nbformat": 4,
 "nbformat_minor": 2
}
