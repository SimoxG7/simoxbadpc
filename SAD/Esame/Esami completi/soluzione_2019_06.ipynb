{
 "cells": [
  {
   "cell_type": "code",
   "execution_count": 1,
   "metadata": {},
   "outputs": [],
   "source": [
    "import numpy as np\n",
    "import pandas as pd\n",
    "import scipy.stats as st\n",
    "import matplotlib.pyplot as plt\n",
    "import statsmodels.api as sm\n",
    "import math"
   ]
  },
  {
   "cell_type": "markdown",
   "metadata": {},
   "source": [
    "## Giugno 2019\n",
    "### Esercizio 0\n",
    "$Y \\sim UnifDisc(s)$\n",
    "\n",
    "$X \\sim Bern(p)$ con p=0.8\n",
    "\n",
    "### 0.1.1-0.1.2-0.2.1-0.2-2\n",
    "grafici dispersione e ripartizione\n",
    "\n",
    "### 0.2.3\n",
    "$$E(X) = p$$ \n",
    "$$Var(X) = p(1-p)$$"
   ]
  },
  {
   "cell_type": "markdown",
   "metadata": {},
   "source": [
    "### Esercizio 1\n",
    "$\\overline{X_n} = \\sum \\frac{X_i}{n}$\n",
    "\n",
    "### 1.1\n",
    "$$E(\\overline{X}) = p$$\n",
    "\n",
    "### 1.2\n",
    "$$Var(\\overline{X}) = \\frac{1}{n} Var(X)$$\n",
    "\n",
    "### 1.3\n",
    "$T_n$ stimatore per il valore atteso\n",
    "\n",
    "$$T_n = \\overline{X_n}$$\n",
    "\n",
    "### 1.4\n",
    "$E(T_n) = E(\\sum \\frac{X_i}{n}) = \\frac{1}{n} \\sum E(X_i) = \\frac{1}{n} nE(X) = E(X) = p$ non è distorto\n",
    "\n",
    "### 1.5\n",
    "$U_n$ stimatore varianza non distorto\n",
    "\n",
    "$$E(Var(X)) = \\sum (1-p)p = np(1-p)$$\n",
    "\n",
    "$$E(U_n) = E(nT_n (1-T_n))$$\n",
    "??????????"
   ]
  },
  {
   "cell_type": "markdown",
   "metadata": {},
   "source": [
    "### Esercizio 2\n",
    "$0 < \\delta < 1, \\epsilon > 0$\n",
    "\n",
    "### 2.1\n",
    "$P(|\\overline{X_n} - p | \\leq \\epsilon) \\geq 1 - \\delta \\approx P(|X^*| \\leq \\frac{\\epsilon}{\\sqrt{p(1-p)}}\\sqrt{n})$\n",
    "\n",
    "$P(|\\frac{X_n - p}{\\frac{\\sigma}{\\sqrt{n}}}| \\leq \\frac{\\epsilon \\sqrt{n}}{\\sqrt{p(1-p)}} \\geq 1 - \\delta $\n",
    "\n",
    "### 2.2\n",
    "$P(|\\overline{X} - p |\\leq \\epsilon) \\geq 1 - \\delta$\n",
    "\n",
    "$2\\Phi(2\\epsilon\\sqrt{n}) -1  \\geq 1- \\delta$\n",
    "\n",
    "$\\Phi(2\\epsilon\\sqrt{n}) \\geq 1-\\frac{\\delta}{2}$\n",
    "\n",
    "### 2.3\n",
    "$\\delta = 0.05, \\epsilon = 0.01$\n",
    "\n",
    "$\\Phi(2\\epsilon\\sqrt{n}) \\geq 1 - \\frac{\\delta}{2}  = \\Phi(0.02\\sqrt{n}) \\geq 1 - 0.025$\n",
    "\n",
    "$\\Phi(0.02\\sqrt{n}) \\geq 0.975$\n",
    "\n",
    "$\\sqrt{n} \\geq \\frac{\\Phi^{-1}(0.975)}{0.02}$"
   ]
  },
  {
   "cell_type": "code",
   "execution_count": 10,
   "metadata": {},
   "outputs": [
    {
     "data": {
      "text/plain": [
       "9603.647051735312"
      ]
     },
     "execution_count": 10,
     "metadata": {},
     "output_type": "execute_result"
    }
   ],
   "source": [
    "X = st.norm()\n",
    "n = (X.ppf(0.975)/0.02)**2\n",
    "n"
   ]
  },
  {
   "cell_type": "code",
   "execution_count": null,
   "metadata": {
    "scrolled": false
   },
   "outputs": [],
   "source": [
    "imp = pd.read_csv(\"impiantitermici.csv\",sep=\";\",decimal=\".\",parse_dates=True)\n",
    "imp[:5]"
   ]
  },
  {
   "cell_type": "markdown",
   "metadata": {},
   "source": [
    "### Esercizio 3"
   ]
  },
  {
   "cell_type": "markdown",
   "metadata": {},
   "source": [
    "### 3.1"
   ]
  },
  {
   "cell_type": "code",
   "execution_count": null,
   "metadata": {},
   "outputs": [],
   "source": [
    "len(imp)"
   ]
  },
  {
   "cell_type": "markdown",
   "metadata": {},
   "source": [
    "### 3.2"
   ]
  },
  {
   "cell_type": "code",
   "execution_count": null,
   "metadata": {},
   "outputs": [],
   "source": [
    "print(\"scalare\")"
   ]
  },
  {
   "cell_type": "markdown",
   "metadata": {},
   "source": [
    "### 3.3"
   ]
  },
  {
   "cell_type": "code",
   "execution_count": null,
   "metadata": {},
   "outputs": [],
   "source": [
    "len(imp[imp['GENERATORE_DATA_INST'] < '01/01/1940'])"
   ]
  },
  {
   "cell_type": "markdown",
   "metadata": {},
   "source": [
    "### 3.4"
   ]
  },
  {
   "cell_type": "code",
   "execution_count": null,
   "metadata": {},
   "outputs": [],
   "source": [
    "mask1 = imp['POTENZA_IMPIANTO_RISC'] > 15.0\n",
    "mask2 = imp['POTENZA_IMPIANTO_RISC'] < 35.0\n",
    "mask3 = imp['GENERATORE_COMBUSTIBILE'] == 'GAS NATURALE'\n",
    "selezione = imp[mask1 &  mask2 & mask3]"
   ]
  },
  {
   "cell_type": "markdown",
   "metadata": {},
   "source": [
    "### 3.5 \n",
    "In questo caso l'eterogeneità è massima perchè tutti i valori sono uguali, in quanto abbiamo posto come condizione di considerare come combustibile il gas naturale"
   ]
  },
  {
   "cell_type": "markdown",
   "metadata": {},
   "source": [
    "### 3.6"
   ]
  },
  {
   "cell_type": "code",
   "execution_count": null,
   "metadata": {},
   "outputs": [],
   "source": [
    "selezione['EDIFICIO_CATEGORIA'].unique()"
   ]
  },
  {
   "cell_type": "markdown",
   "metadata": {},
   "source": [
    "### 3.7"
   ]
  },
  {
   "cell_type": "code",
   "execution_count": null,
   "metadata": {},
   "outputs": [],
   "source": [
    "selezione['EDIFICIO_CATEGORIA'].mode()"
   ]
  },
  {
   "cell_type": "markdown",
   "metadata": {},
   "source": [
    "### 3.8"
   ]
  },
  {
   "cell_type": "code",
   "execution_count": null,
   "metadata": {},
   "outputs": [],
   "source": [
    "len(selezione[selezione['EDIFICIO_CATEGORIA'] == 'E1'])"
   ]
  },
  {
   "cell_type": "markdown",
   "metadata": {},
   "source": [
    "### 3.9"
   ]
  },
  {
   "cell_type": "code",
   "execution_count": null,
   "metadata": {},
   "outputs": [],
   "source": [
    "#9\n",
    "len(selezione[selezione['EDIFICIO_CATEGORIA'] == 'E1'])/len(selezione) * 100"
   ]
  },
  {
   "cell_type": "code",
   "execution_count": null,
   "metadata": {},
   "outputs": [],
   "source": [
    "### Esercizio 4 non si riesce a fare il confronto fra date"
   ]
  },
  {
   "cell_type": "code",
   "execution_count": null,
   "metadata": {},
   "outputs": [],
   "source": []
  }
 ],
 "metadata": {
  "kernelspec": {
   "display_name": "Python 3",
   "language": "python",
   "name": "python3"
  },
  "language_info": {
   "codemirror_mode": {
    "name": "ipython",
    "version": 3
   },
   "file_extension": ".py",
   "mimetype": "text/x-python",
   "name": "python",
   "nbconvert_exporter": "python",
   "pygments_lexer": "ipython3",
   "version": "3.6.5"
  }
 },
 "nbformat": 4,
 "nbformat_minor": 2
}
