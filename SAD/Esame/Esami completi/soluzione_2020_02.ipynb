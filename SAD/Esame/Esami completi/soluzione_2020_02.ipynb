{
 "cells": [
  {
   "cell_type": "markdown",
   "metadata": {},
   "source": [
    "# Febbraio 2020"
   ]
  },
  {
   "cell_type": "markdown",
   "metadata": {},
   "source": [
    "## Esercizio 0\n",
    "Sia X una variabile casuale che segue una legge bernoulliana di parametro p."
   ]
  },
  {
   "cell_type": "markdown",
   "metadata": {},
   "source": [
    "### 1. Quali valori può assumere X?\n",
    "\n",
    "X=1 successo, X=0 insuccesso\n",
    "\n",
    "### 2. Quali valori può assumere il parametro p?\n",
    "\n",
    "$0 \\leq p \\leq 1$\n",
    "\n",
    "### 3. Esprimete, in funzione di p, il valore atteso E(X)\n",
    "\n",
    "$E(X) = p $\n",
    "\n",
    "### 4./7. Grafici E(X) Var(X)\n",
    "\n",
    "E(X) diagonale con p max 1 e E(X) max 1\n",
    "\n",
    "Var(X) parabola tra 0 e 1, con max $\\frac{1}{4}$\n",
    "\n",
    "### 5. Quali valori può assumere E(X)?\n",
    "\n",
    "E(X) è tra 0 e 1 in quanto E(X) = p\n",
    "\n",
    "### 6. Esprimete, in funzione di p, la varianza Var(X)\n",
    "\n",
    "$Var(X) = p(1-p)$\n",
    "\n",
    "### 8. Quali valori può assumere Var(X)?\n",
    "var(X) è tra 0 e $\\frac{1}{2}$"
   ]
  },
  {
   "cell_type": "markdown",
   "metadata": {},
   "source": [
    "## Esercizio 1\n",
    "\n",
    "Sia $\\overline{X_n}$ media campionaria di un campione di una popolazione bernoulliana di parametro p.\n",
    "\n",
    "### 1. Esprimete $E(\\overline{X_n})$ in funzione di p\n",
    "\n",
    "$(\\overline{X_n}) = E(X) = p$\n",
    "\n",
    "### 2. Esprimete $Var(\\overline{X_n})$ in funzione di p e n\n",
    "\n",
    "$Var(\\overline{X_n}) = \\frac{Var(X)}{n} = \\frac{p(1-p)}{n}$\n",
    "\n",
    "### 3. Controllate che $Var(\\overline{X_n}) \\leq \\frac{1}{4n}$\n",
    "\n",
    "Nel punto massimo Var(X) è uguale a \\frac{1}{4} perchè p = \\frac{1}{2} perciò Var(X) = \\frac{1}{2}-\\frac{1}{4}.\n",
    "\n",
    "Quindi,nel punto massimo, $Var(\\overline{X_n}) = \\frac{Var(X)}{n} = \\frac{1}{4n}$ quindi sarà sempre minore di quel valore.\n",
    "\n",
    "### 4. Controllate che, per ogni $\\epsilon > 0$, vale la disuguaglianza $P(|\\overline{X_n}-p|\\leq \\epsilon) \\geq 1- \\frac{1}{4n\\epsilon^2}$\n",
    "\n",
    "Applico la disuguaglianza di Chebyshev $P(|\\overline{X_n}-E(X)|\\leq \\epsilon ) \\geq 1-\\frac{Var(\\overline{X_n})}{\\epsilon^2}$\n",
    "\n",
    "So che E(X) = p e che $Var(\\overline{X_n}) = \\frac{Var(X)}{n}$ quindi ottengo\n",
    "\n",
    "$P(|\\overline{X_n}-p|\\leq \\epsilon ) \\geq 1-\\frac{Var(X)}{n\\epsilon^2}$\n",
    "\n",
    "Poichè Var(X) nel punto massimo è $\\frac{1}{4}$, allora ottengo\n",
    "\n",
    "$P(|\\overline{X_n}-p|\\leq \\epsilon ) \\geq 1-\\frac{1}{4n\\epsilon^2}$"
   ]
  },
  {
   "cell_type": "markdown",
   "metadata": {},
   "source": [
    "## Esercizio 2 \n",
    "### 1. $\\overline{X_n}$ è uno stimatore non distorto di p?\n",
    "\n",
    "$E(\\overline{X}) =E( \\frac{1}{n}\\sum_{i=1}^n X_i) = \\frac{1}{n} \\sum_{i=1}^2 E(X_i) = \\frac{n}{n} E(X) = E(X) = p$\n",
    "\n",
    "Ottengo questo risultato per la linearità del valore atteso e risolvendo la sommatoria.\n",
    "\n",
    "### 2. Esprimete 1-p in funzione di E(X)\n",
    "\n",
    "Poichè E(X) = p allora 1-p = 1-E(X)\n",
    "\n",
    "### 3. Determinare uno stimatore $S_n$ del parametro 1-p\n",
    "\n",
    "$S_n = 1- \\overline{X_n}$\n",
    "\n",
    "### 4. Lo stimatore trovato al punto precedente è non distorto?\n",
    "\n",
    "Si, infatti\n",
    "\n",
    "$E(S_n) = E(1-\\overline{X_n}) = E(1-E(X)) = E(1-p)$"
   ]
  },
  {
   "cell_type": "markdown",
   "metadata": {},
   "source": [
    "## Esercizio 3"
   ]
  },
  {
   "cell_type": "code",
   "execution_count": 1,
   "metadata": {},
   "outputs": [],
   "source": [
    "import pandas as pd\n",
    "import numpy as np\n",
    "import matplotlib.pyplot as plt"
   ]
  },
  {
   "cell_type": "code",
   "execution_count": 2,
   "metadata": {},
   "outputs": [
    {
     "data": {
      "text/plain": [
       "Index(['modello', 'consumo', 'cilindrata', 'peso', 'test400metri',\n",
       "       'trasmissione', 'marce', 'cilindri'],\n",
       "      dtype='object')"
      ]
     },
     "execution_count": 2,
     "metadata": {},
     "output_type": "execute_result"
    }
   ],
   "source": [
    "car = pd.read_csv(\"mtcars2.txt\",sep=\"\\t\",decimal=\",\")\n",
    "car.columns"
   ]
  },
  {
   "cell_type": "markdown",
   "metadata": {},
   "source": [
    "### 1. Quanti casi contiene il dataset?\n",
    "### 2. Tracciare il boxplot del carattere cilindrata\n",
    "### 3. Qual è e quali sono i modelli di auto che posssono essere considerati degli outlier rispetto alla cilindrata\n",
    "### 4. Calcolate i quartili del carattere cilindrata\n",
    "### 5. Calcolate la distanza interquartile del carattere cilindrata"
   ]
  },
  {
   "cell_type": "code",
   "execution_count": 3,
   "metadata": {},
   "outputs": [
    {
     "data": {
      "text/plain": [
       "32"
      ]
     },
     "execution_count": 3,
     "metadata": {},
     "output_type": "execute_result"
    }
   ],
   "source": [
    "len(car.dropna())"
   ]
  },
  {
   "cell_type": "code",
   "execution_count": 4,
   "metadata": {},
   "outputs": [
    {
     "data": {
      "image/png": "[encoded data removed]",
      "text/plain": [
       "<Figure size 432x288 with 1 Axes>"
      ]
     },
     "metadata": {
      "needs_background": "light"
     },
     "output_type": "display_data"
    }
   ],
   "source": [
    "plt.boxplot(car.cilindrata)\n",
    "plt.show()"
   ]
  },
  {
   "cell_type": "code",
   "execution_count": 5,
   "metadata": {},
   "outputs": [
    {
     "data": {
      "text/plain": [
       "30    Maserati Bora\n",
       "Name: modello, dtype: object"
      ]
     },
     "execution_count": 5,
     "metadata": {},
     "output_type": "execute_result"
    }
   ],
   "source": [
    "car[car.cilindrata == max(car.cilindrata)].modello"
   ]
  },
  {
   "cell_type": "code",
   "execution_count": 6,
   "metadata": {},
   "outputs": [
    {
     "name": "stdout",
     "output_type": "stream",
     "text": [
      "52.0 96.5 123.0 180.0 335.0\n"
     ]
    }
   ],
   "source": [
    "print(car.cilindrata.quantile(0),car.cilindrata.quantile(0.25),car.cilindrata.quantile(0.5),car.cilindrata.quantile(0.75),car.cilindrata.quantile(1))"
   ]
  },
  {
   "cell_type": "code",
   "execution_count": 7,
   "metadata": {},
   "outputs": [
    {
     "data": {
      "text/plain": [
       "83.5"
      ]
     },
     "execution_count": 7,
     "metadata": {},
     "output_type": "execute_result"
    }
   ],
   "source": [
    "car.cilindrata.quantile(0.75)-car.cilindrata.quantile(0.25)"
   ]
  },
  {
   "cell_type": "markdown",
   "metadata": {},
   "source": [
    "### 6. Tracciate un grafico diverso dal boxplot"
   ]
  },
  {
   "cell_type": "code",
   "execution_count": 8,
   "metadata": {},
   "outputs": [
    {
     "data": {
      "image/png": "[encoded data removed]",
      "text/plain": [
       "<Figure size 432x288 with 1 Axes>"
      ]
     },
     "metadata": {
      "needs_background": "light"
     },
     "output_type": "display_data"
    }
   ],
   "source": [
    "car.cilindrata.hist()\n",
    "plt.show()"
   ]
  },
  {
   "cell_type": "markdown",
   "metadata": {},
   "source": [
    "## Esercizio 4"
   ]
  },
  {
   "cell_type": "markdown",
   "metadata": {},
   "source": [
    "### 1. Tracciate un grafico per controllare se c'è una relazione tra il numero di cilindri e la cilindrata"
   ]
  },
  {
   "cell_type": "code",
   "execution_count": 9,
   "metadata": {},
   "outputs": [
    {
     "data": {
      "image/png": "[encoded data removed]",
      "text/plain": [
       "<Figure size 432x288 with 1 Axes>"
      ]
     },
     "metadata": {
      "needs_background": "light"
     },
     "output_type": "display_data"
    }
   ],
   "source": [
    "plt.scatter(car.cilindrata, car.cilindri)\n",
    "plt.show()"
   ]
  },
  {
   "cell_type": "markdown",
   "metadata": {},
   "source": [
    "### 2. Individuate nel grafico una relazione tra il numero di cilindri e la cilindrata\n",
    "\n",
    "Tre fasce di valori di cilindrata con cilindri uguali."
   ]
  },
  {
   "cell_type": "markdown",
   "metadata": {},
   "source": [
    "### 3. Indice numerico a supporto della vostra risposta"
   ]
  },
  {
   "cell_type": "code",
   "execution_count": 10,
   "metadata": {},
   "outputs": [
    {
     "data": {
      "text/plain": [
       "0.8324474527218194"
      ]
     },
     "execution_count": 10,
     "metadata": {},
     "output_type": "execute_result"
    }
   ],
   "source": [
    "car.cilindrata.corr(car.cilindri)"
   ]
  },
  {
   "cell_type": "markdown",
   "metadata": {},
   "source": [
    "## Esercizio 5"
   ]
  },
  {
   "cell_type": "markdown",
   "metadata": {},
   "source": [
    "### 1. media del carattere cilindrata"
   ]
  },
  {
   "cell_type": "code",
   "execution_count": 11,
   "metadata": {},
   "outputs": [
    {
     "data": {
      "text/plain": [
       "146.6875"
      ]
     },
     "execution_count": 11,
     "metadata": {},
     "output_type": "execute_result"
    }
   ],
   "source": [
    "m = car.cilindrata.mean()\n",
    "m"
   ]
  },
  {
   "cell_type": "markdown",
   "metadata": {},
   "source": [
    "### 2. dev standard del carattere cilindrata"
   ]
  },
  {
   "cell_type": "code",
   "execution_count": 12,
   "metadata": {},
   "outputs": [
    {
     "data": {
      "text/plain": [
       "68.56286848932059"
      ]
     },
     "execution_count": 12,
     "metadata": {},
     "output_type": "execute_result"
    }
   ],
   "source": [
    "ds = car.cilindrata.std()\n",
    "ds"
   ]
  },
  {
   "cell_type": "markdown",
   "metadata": {},
   "source": [
    "### 3. generate un campione casuale di 32 elementi"
   ]
  },
  {
   "cell_type": "code",
   "execution_count": 13,
   "metadata": {},
   "outputs": [],
   "source": [
    "import scipy.stats as st\n",
    "X = st.norm(m,ds)\n",
    "valoriSimulati = X.rvs(32)"
   ]
  },
  {
   "cell_type": "markdown",
   "metadata": {},
   "source": [
    "### 4. tracciate il diagramma di dispersione tra cilindrata e valori simulati"
   ]
  },
  {
   "cell_type": "code",
   "execution_count": 14,
   "metadata": {},
   "outputs": [
    {
     "data": {
      "image/png": "[encoded data removed]",
      "text/plain": [
       "<Figure size 432x288 with 1 Axes>"
      ]
     },
     "metadata": {
      "needs_background": "light"
     },
     "output_type": "display_data"
    }
   ],
   "source": [
    "plt.scatter(car.cilindrata,valoriSimulati)\n",
    "plt.show()"
   ]
  },
  {
   "cell_type": "markdown",
   "metadata": {},
   "source": [
    "### 5./6. Ordinare i valori"
   ]
  },
  {
   "cell_type": "code",
   "execution_count": 15,
   "metadata": {},
   "outputs": [],
   "source": [
    "cilindrataSorted = car.cilindrata.sort_values()\n",
    "valoriSimulatiSorted = np.sort(valoriSimulati)"
   ]
  },
  {
   "cell_type": "markdown",
   "metadata": {},
   "source": [
    "### 7. Diagramma di dispersione tra i valori ordinati"
   ]
  },
  {
   "cell_type": "code",
   "execution_count": 16,
   "metadata": {},
   "outputs": [
    {
     "data": {
      "image/png": "[encoded data removed]",
      "text/plain": [
       "<Figure size 432x288 with 1 Axes>"
      ]
     },
     "metadata": {
      "needs_background": "light"
     },
     "output_type": "display_data"
    }
   ],
   "source": [
    "plt.scatter(valoriSimulatiSorted,cilindrataSorted)\n",
    "plt.show()"
   ]
  },
  {
   "cell_type": "markdown",
   "metadata": {},
   "source": [
    "### 8. \n",
    "(i)\n",
    "\n",
    "(ii)"
   ]
  },
  {
   "cell_type": "markdown",
   "metadata": {},
   "source": [
    "### Perchè è importante che la variabile valoriSimulati sia basata su un campione di 32 elementi\n",
    "\n",
    "Perchè i valori numeri avrebbero differente distribuzione se il numero di elementi del campione fossero differenti. Infatti anche cilindrata ha 32 elementi"
   ]
  },
  {
   "cell_type": "markdown",
   "metadata": {},
   "source": [
    "## Esercizio 6"
   ]
  },
  {
   "cell_type": "code",
   "execution_count": 17,
   "metadata": {},
   "outputs": [],
   "source": [
    "tr = car.trasmissione"
   ]
  },
  {
   "cell_type": "markdown",
   "metadata": {},
   "source": [
    "### 1. Tracciate un grafico opportuno per descrivere il carattere trasmissione\n",
    "Il plot bar mette in risalto che il carattere trasmissione può assumere solo due valori, 0 e 1, e ne da le frequenze."
   ]
  },
  {
   "cell_type": "code",
   "execution_count": 18,
   "metadata": {},
   "outputs": [
    {
     "data": {
      "image/png": "[encoded data removed]",
      "text/plain": [
       "<Figure size 432x288 with 1 Axes>"
      ]
     },
     "metadata": {
      "needs_background": "light"
     },
     "output_type": "display_data"
    }
   ],
   "source": [
    "tr.value_counts().plot.bar()\n",
    "plt.show()"
   ]
  },
  {
   "cell_type": "markdown",
   "metadata": {},
   "source": [
    "### 2. Che legge segue la variabile casuale X = \"tipo di trasmissione\"\n",
    "Segue una legge bernoulliana in quanto abbiamo solo due tipi di valori 0 e 1, ovvero se la trasmissione è automatica o non lo è."
   ]
  },
  {
   "cell_type": "markdown",
   "metadata": {},
   "source": [
    "### 3. Stima valore atteso di X"
   ]
  },
  {
   "cell_type": "code",
   "execution_count": 19,
   "metadata": {},
   "outputs": [
    {
     "data": {
      "text/plain": [
       "0.40625"
      ]
     },
     "execution_count": 19,
     "metadata": {},
     "output_type": "execute_result"
    }
   ],
   "source": [
    "tr.mean()"
   ]
  },
  {
   "cell_type": "markdown",
   "metadata": {},
   "source": [
    "### 4. Lo stimatore è non distorto?\n",
    "Si, lo stimatore è non distorto perchè è la media campionaria la quale è sempre uno stimatore non distorto per il valore atteso."
   ]
  },
  {
   "cell_type": "markdown",
   "metadata": {},
   "source": [
    "### 5. Quale è la taglia del campione?"
   ]
  },
  {
   "cell_type": "code",
   "execution_count": 20,
   "metadata": {},
   "outputs": [
    {
     "data": {
      "text/plain": [
       "32"
      ]
     },
     "execution_count": 20,
     "metadata": {},
     "output_type": "execute_result"
    }
   ],
   "source": [
    "len(tr.dropna())"
   ]
  },
  {
   "cell_type": "markdown",
   "metadata": {},
   "source": [
    "### 6. tabella delle frequenze assolute"
   ]
  },
  {
   "cell_type": "code",
   "execution_count": 21,
   "metadata": {},
   "outputs": [
    {
     "data": {
      "text/html": [
       "<div>\n",
       "<style scoped>\n",
       "    .dataframe tbody tr th:only-of-type {\n",
       "        vertical-align: middle;\n",
       "    }\n",
       "\n",
       "    .dataframe tbody tr th {\n",
       "        vertical-align: top;\n",
       "    }\n",
       "\n",
       "    .dataframe thead th {\n",
       "        text-align: right;\n",
       "    }\n",
       "</style>\n",
       "<table border=\"1\" class=\"dataframe\">\n",
       "  <thead>\n",
       "    <tr style=\"text-align: right;\">\n",
       "      <th></th>\n",
       "      <th>Frequenze Assolute</th>\n",
       "      <th>All</th>\n",
       "    </tr>\n",
       "    <tr>\n",
       "      <th>trasmissione</th>\n",
       "      <th></th>\n",
       "      <th></th>\n",
       "    </tr>\n",
       "  </thead>\n",
       "  <tbody>\n",
       "    <tr>\n",
       "      <th>0</th>\n",
       "      <td>19</td>\n",
       "      <td>19</td>\n",
       "    </tr>\n",
       "    <tr>\n",
       "      <th>1</th>\n",
       "      <td>13</td>\n",
       "      <td>13</td>\n",
       "    </tr>\n",
       "    <tr>\n",
       "      <th>All</th>\n",
       "      <td>32</td>\n",
       "      <td>32</td>\n",
       "    </tr>\n",
       "  </tbody>\n",
       "</table>\n",
       "</div>"
      ],
      "text/plain": [
       "              Frequenze Assolute  All\n",
       "trasmissione                         \n",
       "0                             19   19\n",
       "1                             13   13\n",
       "All                           32   32"
      ]
     },
     "execution_count": 21,
     "metadata": {},
     "output_type": "execute_result"
    }
   ],
   "source": [
    "pd.crosstab(index=tr, columns=['Frequenze Assolute'],colnames=[''],margins=True)"
   ]
  },
  {
   "cell_type": "markdown",
   "metadata": {},
   "source": [
    "### 7. Stimate la probabilità che un'auto abbia la trasmissione manuale (1)\n",
    "P(X = 1)"
   ]
  },
  {
   "cell_type": "code",
   "execution_count": 22,
   "metadata": {},
   "outputs": [
    {
     "data": {
      "text/plain": [
       "0.40625"
      ]
     },
     "execution_count": 22,
     "metadata": {},
     "output_type": "execute_result"
    }
   ],
   "source": [
    "car.trasmissione.mean()"
   ]
  },
  {
   "cell_type": "markdown",
   "metadata": {},
   "source": [
    "### 8. è non distorto\n",
    "Si, lo stimatore è non distorto perchè è la media campionaria la quale è sempre uno stimatore non distorto per il valore atteso."
   ]
  },
  {
   "cell_type": "markdown",
   "metadata": {},
   "source": [
    "### 9. Stimate la probabilità che un'auto abbia la trasmissione manuale (1)\n",
    "1- P(X = 1)"
   ]
  },
  {
   "cell_type": "code",
   "execution_count": 23,
   "metadata": {},
   "outputs": [
    {
     "data": {
      "text/plain": [
       "0.59375"
      ]
     },
     "execution_count": 23,
     "metadata": {},
     "output_type": "execute_result"
    }
   ],
   "source": [
    "1-car.trasmissione.mean()"
   ]
  },
  {
   "cell_type": "markdown",
   "metadata": {},
   "source": [
    "### 10. è non distorto\n",
    "\n",
    "1-E(X) è uno stimatore non distorto, vedi esercizio 2.4"
   ]
  },
  {
   "cell_type": "markdown",
   "metadata": {},
   "source": [
    "### 11. Dato alpha = 0.85 determinate l'errore massimo commesso con probabilità maggiore o uguale ad alpha, per eccesso o per difetto, nella stima del valore atteso di X.\n",
    "\n",
    "$$P(|T_n - E(X)| \\leq \\epsilon) \\leq \\alpha$$\n",
    "\n",
    "Standardizzo e applico TLC\n",
    "\n",
    "$$2 \\Phi(\\frac{\\epsilon\\sqrt{n}}{\\sigma}) -1 \\leq \\alpha$$\n",
    "\n",
    "$$\\epsilon \\leq \\frac{\\Phi^{-1}(\\frac{\\alpha+1}{2})\\sigma}{\\sqrt{n}}$$"
   ]
  },
  {
   "cell_type": "code",
   "execution_count": 24,
   "metadata": {},
   "outputs": [
    {
     "data": {
      "text/plain": [
       "0.12698102114579055"
      ]
     },
     "execution_count": 24,
     "metadata": {},
     "output_type": "execute_result"
    }
   ],
   "source": [
    "import math\n",
    "a = (0.85+1)/2\n",
    "Z = st.norm()\n",
    "phi = Z.ppf(a)\n",
    "n = len(tr.dropna())\n",
    "sigma = tr.std()\n",
    "e = (phi*sigma)/math.sqrt(n)\n",
    "e"
   ]
  }
 ],
 "metadata": {
  "kernelspec": {
   "display_name": "Python 3",
   "language": "python",
   "name": "python3"
  },
  "language_info": {
   "codemirror_mode": {
    "name": "ipython",
    "version": 3
   },
   "file_extension": ".py",
   "mimetype": "text/x-python",
   "name": "python",
   "nbconvert_exporter": "python",
   "pygments_lexer": "ipython3",
   "version": "3.7.3"
  }
 },
 "nbformat": 4,
 "nbformat_minor": 2
}
