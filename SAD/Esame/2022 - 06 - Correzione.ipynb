{
 "cells": [
  {
   "cell_type": "markdown",
   "id": "0e12de4a",
   "metadata": {},
   "source": [
    "# Correzione della prova di giugno 2022:\n",
    "\n",
    "## Esercizio 1:\n",
    "\n",
    "$ X $ è una variabile aleatoria distribuita secondo un modello esponenziale di parametro $ \\lambda $.\n",
    "\n",
    "- $ \\lambda $ può assumere un valore negativo?\n",
    "\n",
    "Guardando la funzione di densità di probabilità di un modello esponenziale se $ \\lambda < 0 $ si avrebbe un valore negativo per la funzione di densità e ciò non è mai possibile.\n",
    "\n",
    "- $ \\lambda $ può assumere un valore non intero?\n",
    "\n",
    "Perché una funzione di densità sia tale essa deve integrare a 1 e ciò avviene per $ \\lambda > 0 $, quindi $ \\lambda $ può essere anche non intero.\n",
    "\n",
    "- Valore atteso di $ X $ in funzione di $ \\lambda $:\n",
    "\n",
    "$$\n",
    "    E(X) = \\frac{1}{\\lambda}\n",
    "$$\n",
    "\n",
    "- Varianza di $ X $ in funzione di $ \\lambda $:\n",
    "\n",
    "$$\n",
    "    Var(X) = \\frac{1}{\\lambda^2}\n",
    "$$\n",
    "\n",
    "- Varianza di $ X $ in funzione del suo valore atteso:\n",
    "\n",
    "$$\n",
    "    Var(X) = E(X)\n",
    "$$\n",
    "\n",
    "Sia $ Y = \\frac{X}{\\alpha} $ e $ p(x) = P(Y \\ge x) $.\n",
    "\n",
    "- Si esprima $ p(x) $ in funzione di $ \\lambda $, $ \\alpha $ e $ x $:\n",
    "\n",
    "$$\n",
    "    p(x) = P(Y > x) = P\\left(\\frac{X}{\\alpha} > x \\right) = P(X > \\alpha x) = 1 - P(X \\le \\alpha x) = 1 - F_X(\\alpha x) = 1 - (1 - e^{-\\lambda \\alpha x}) = e^{-\\lambda \\alpha x}\n",
    "$$\n",
    "\n",
    "- Per $ \\alpha = 10 $ e $ \\lambda = 0,4 $ si tracci il grafico $ p(x) $:"
   ]
  },
  {
   "cell_type": "code",
   "execution_count": 2,
   "id": "f6553f03",
   "metadata": {},
   "outputs": [
    {
     "data": {
      "image/png": "[encoded data removed]",
      "text/plain": [
       "<Figure size 432x288 with 1 Axes>"
      ]
     },
     "metadata": {
      "needs_background": "light"
     },
     "output_type": "display_data"
    }
   ],
   "source": [
    "%matplotlib inline\n",
    "\n",
    "import matplotlib.pyplot as plt\n",
    "import numpy as np\n",
    "\n",
    "x = np.arange(0, 10, 1)\n",
    "# Siccome Y segue una distribuzione esponenziale di parametro lambda alpha\n",
    "# il valore massimo può essere scelto come un opportuno quantile (10 è un valore a caso).\n",
    "\n",
    "y = np.exp(-4 * x)\n",
    "\n",
    "plt.plot(x, y)\n",
    "plt.show()"
   ]
  },
  {
   "cell_type": "markdown",
   "id": "636c42b6",
   "metadata": {},
   "source": [
    "- Utilizzando la diseguaglianza di Markov si trovi una maggiorazione di $ p(x) $:\n",
    "\n",
    "$$\n",
    "    p(x) = P(Y > x)\n",
    "$$\n",
    "\n",
    "$ P(Y > x) $ è il membro sinistro della disuguaglianza di Markov che può essere applicata perché $ x > 0 $ e $ Y $ è non negativa.\n",
    "\n",
    "$$\n",
    "    p(x) = P(Y > x) \\le \\frac{E(Y)}{x}  \\\\\n",
    "    P(Y > x) \\le \\frac{E(\\frac{X}{\\alpha})}{x}  \\\\\n",
    "    P(Y > x) \\le \\frac{E(X)}{\\alpha x}  \\\\\n",
    "    P(Y > x) \\le \\frac{1}{\\lambda \\alpha x}\n",
    "$$\n",
    "\n",
    "- La maggiorazione trovata è una buona approssimazione di $ p(x) $:\n",
    "\n",
    "No, perché la diseguaglianza di Markov facendo così poche ipotesi non è molto precisa.<br>\n",
    "Inoltre, poiché $ \\alpha = 10 $ e $ \\lambda = 0,4 $, è possibile sovrapporre i grafici di $ p(x) $ con quello della maggiorazione trovata vedendo così che non è adatta come approssimazione."
   ]
  },
  {
   "cell_type": "markdown",
   "id": "13be419f",
   "metadata": {},
   "source": [
    "## Esercizio 2:\n",
    "\n",
    "Sono date le variabili aleatorie $ X_1, X_2, \\ldots, X_n $ distribuite secondo un modello esponenziale di parametro $ \\lambda $.\n",
    "\n",
    "- Per $ n = 3 $ la variabile aleatoria $ T = \\frac{1}{4} (X_1 - 2 X_2 + X_3) $ è un buon stimatore per il valore atteso di $ X $ (dall'esercizio precedente).\n",
    "\n",
    "No, perché:\n",
    "$$\n",
    "    E(T) = \\frac{1}{4} E(X_1 - 2 X_2 + X_3) = \\frac{1}{4} (E(X) - 2 E(X) + E(X)) = 0 \\ne \\frac{1}{\\lambda} = E(X)\n",
    "$$\n",
    "\n",
    "- Per $ n = 3 $ la variabile aleatoria $ S = \\frac{1}{4} (X_1 + 2 X_2 + X_3) $ è un buon stimatore per il valore atteso di $ X $ (dall'esercizio precedente).\n",
    "\n",
    "Sì, perché:\n",
    "$$\n",
    "    E(S) = \\frac{1}{4} E(X_1 + 2 X_2 + X_3) = \\frac{1}{4} (E(X) + 2 E(X) + E(X)) = E(X)\n",
    "$$\n",
    "\n",
    "- La variabile aleatoria $ \\bar{X} = \\frac{1}{n} \\sum_{i = 1}^{n}{X_i} $ corrispondente alla media campionaria è distribuita secondo uno dei modelli studiatai?\n",
    "\n",
    "No, perché nessuno dei modelli studiati corrisponde alla somma di $ n $ variabili aleatorie esponenziali.\n",
    "\n",
    "- In caso negativo esiste un modello che approssima quello assunto da $ \\bar{X} $?\n",
    "\n",
    "Sì, quello normale, per il teorema centrale del limite; i parametri del modello sono $ \\mu = \\frac{1}{\\lambda} $ e $ \\sigma = \\frac{1}{\\sqrt{n} \\lambda} $.\n",
    "\n",
    "- $ \\bar{X} $ è un buon stimatore per il valore atteso della popolazione? Se sì, di quali proprietà gode?\n",
    "\n",
    "Sì, perché la media campionaria è sempre uno stimatore non deviato e consistente in media quadratica rispetto al valore atteso di popolazione.\n",
    "\n",
    "- $ \\bar{X} $ è un buon stimatore per la varianza della popolazione? Se sì, di quali proprietà gode?\n",
    "\n",
    "No, perché il valore atteso di $ \\bar{X} $ è diverso dalla varianza di popolazione e $ \\bar{X} $ è quindi deviato rispetto alla varianza di popolazione.\n",
    "\n",
    "- $ \\bar{X} $ è un buon stimatore per la deviazione standard della popolazione? Se sì, di quali proprietà gode?\n",
    "\n",
    "Sì, perché per il modello esponenziale il valore atteso e la deviazione standard coincidono e pertanto $ \\bar{X} $ è non deviato e consistente in media quadratica rispetto alla deviazione standard di popolazione.\n",
    "\n",
    "- Esprimere in funzione di $ \\lambda $ e $ n $ il più piccole valore $ \\epsilon $ per cui si può garantire con probabilità almeno pari a $ 0,9 $ che $ \\left| \\bar{X} - \\mu \\right| \\le \\epsilon $:\n",
    "\n",
    "$$\n",
    "    P\\left(\\left| \\bar{X} - \\mu \\right| \\le \\epsilon \\right) \\ge 0,9\n",
    "$$\n",
    "Applicando il teorema centrale del limite:\n",
    "$$\n",
    "    P\\left(\\left| \\bar{X} - \\mu \\right| \\le \\epsilon \\right) \\approx 2 \\Phi\\left(\\frac{\\epsilon \\sqrt{n}}{\\sigma} \\right) \\ge 0,9  \\\\\n",
    "    \\Rightarrow \\epsilon \\ge \\frac{\\sigma}{\\sqrt{n}} \\Phi^{-1}\\left(0,95 \\right) \\ge \\frac{1}{\\lambda \\sqrt{n}} \\Phi^{-1}\\left(0,95 \\right)\n",
    "$$"
   ]
  },
  {
   "cell_type": "markdown",
   "id": "9463fc55",
   "metadata": {},
   "source": [
    "## Esercizio 3:\n",
    "\n",
    "È dato un dataset relativo ai danni subiti da hard-disk; si indica di seguito tale dataset tramite la variabile _data_.\n",
    "\n",
    "- Quanti casi sono contenuti nel dataset?"
   ]
  },
  {
   "cell_type": "code",
   "execution_count": null,
   "id": "071c8784",
   "metadata": {},
   "outputs": [],
   "source": [
    "len(data)"
   ]
  },
  {
   "cell_type": "markdown",
   "id": "30cdabcc",
   "metadata": {},
   "source": [
    "- Quanti attributi sono contenuti nel dataset?"
   ]
  },
  {
   "cell_type": "code",
   "execution_count": null,
   "id": "abe16c76",
   "metadata": {},
   "outputs": [],
   "source": [
    "len(data.columns)"
   ]
  },
  {
   "cell_type": "markdown",
   "id": "8fee5722",
   "metadata": {},
   "source": [
    "- Si rappresenti graficamente l'attributo _tempo_guasto_ nel modo giudicato più opportuno; si motivi la scelta fatta.\n",
    "\n",
    "L'attributo è scalare e pertanto si può decidere di utilizzare un diagramma a barre / bastoncini o un istogramma. Siccome l'attributo è continuo si utilizza un istogramma.\n",
    "\n",
    "- Qual è il tipo dell'attributo _modello_?\n",
    "\n",
    "Categorico, perché i valori che può assumere sono etichette.\n",
    "\n",
    "- Si valuti l'ipotesi che un tempo di vita di un disco fisso dipenda dal suo modello.\n",
    "\n",
    "Siccome il carattere _modello_ è di tipo categorico non è possibile valutare l'ipotesi utilizzando un diagramma di dispersione o calcolare l'indice di correlazione lineare. Rappresentando infatti il diagramma di dispersione si otterrebbero in questo modo tre colonne di punti: è possibile trarne comunque delle conclusioni, ma si preferisce in questo caso creare un grafico (tipo un boxplot o un istogramma) per ogni possibile modello e valutarli singolarmente.\n",
    "\n",
    "- Si tracci un istogramma per l'attributo _tempo_guasto_ per ogni valore dell'attributo _modello_, possibilmente affiancando i grafici. Ha senso confrontare i grafici sull'asse dell'ascisse? Mentre sull'asse delle ordinate?\n",
    "\n",
    "Si producono tre istogrammi per lo stesso carattere ma per tre casi diversi (uno per ogni modello).<br>\n",
    "Ha senso eseguire un confronto sull'asse delle ascisse perché in tutti i tre casi l'asse assumere come valore i mesi.<br>\n",
    "Ha senso eseguire un confronto sull'asse delle ordinate solamente se la frequenza delle barre dell'istogramma è quella relativa; l'implementazione standard di _matplotlib_ utilizza le frequenze assolute e quindi il confronto non ha senso.\n",
    "\n",
    "- Qual è il tipo dell'attributo _temperatura_?\n",
    "\n",
    "Scalare.\n",
    "\n",
    "- Si valuti l'ipotesi che vi sia una relazione tra il tempo di vita di un disco fisso e la sua temperatura al momento del guasto?\n",
    "\n",
    "Siccome entrambi i caratteri sono scalari si utilizza un diagramma di dispersione da cui si deduce che trai due caratteri non c'è una relazione forte. L'ipotesi è confermata calcolando l'indice di correlazione lineare."
   ]
  },
  {
   "cell_type": "markdown",
   "id": "977218ee",
   "metadata": {},
   "source": [
    "## Esercizio 4:\n",
    "\n",
    "- Si salvi in una variabile _tempo_vita_m12_ i valori assunti dall'attributo _tempo_guasto_ per i casi nei quali il modello del disco fisso è M1 o M2.\n",
    "\n",
    "Si risolve con un filtro sul dataset."
   ]
  },
  {
   "cell_type": "code",
   "execution_count": null,
   "id": "2feae41f",
   "metadata": {},
   "outputs": [],
   "source": [
    "tempo_vita_m12 = data[(data[\"modello\"] == \"M1\") | (data[\"modello\"] == \"M2\")][\"tempo_guasto\"]"
   ]
  },
  {
   "cell_type": "markdown",
   "id": "569505fe",
   "metadata": {},
   "source": [
    "- Quanti sono i valori mancanti nel filtro?\n",
    "\n",
    "Si risolve facendo una somma sul dataframe ottenuto applicando il metodo _isnull_.\n",
    "\n",
    "- I valori assunti dal campione sono assimilabili a quelli di un campione distribuito secondo un modello normale?\n",
    "\n",
    "Si rappresenta il diagramma Q-Q e se i valori sono distribuiti lungo la bisettrice del grafico allora il campione è distribuito in modo normale.\n",
    "\n",
    "- I valori assunti dal campione sono assimilabili a quelli di un campione distribuito secondo un modello esponenziale? Si può utilizzare un diagramma Q-Q per rispondere alla domanda?\n",
    "\n",
    "Si può utilizzare un diagramma Q-Q ma rappresentando sull'asse delle ordinate invece dei quantili teorici della distribuzione normale quelli della distribuzione esponenziale; la funzione _statsmodels.api.qqplot_ permette di farlo specificando l'attributo opzionale _dist_.\n",
    "\n",
    "In alternativa è possibile rispondere valutando il valore atteso e la varianza del campione e verificando che non siano troppo diversi tra loro.\n",
    "\n",
    "- Ipotizzando che il campione sia estratto da una popolazione $ X $ distribuita secondo un modello esponenziale di parametro $ \\lambda $ sconosciuto si stimi il valore atteso del campione indicando eventuali proprietà dello stimatore utilizzato."
   ]
  },
  {
   "cell_type": "code",
   "execution_count": null,
   "id": "867281ab",
   "metadata": {},
   "outputs": [],
   "source": [
    "tempi_vita_m12.mean()"
   ]
  },
  {
   "cell_type": "markdown",
   "id": "c43bf866",
   "metadata": {},
   "source": [
    "Si è utilizzato lo stimatore della media campionaria che è non distorto e consistente in media quadratica rispetto al valore atteso di popolazione."
   ]
  },
  {
   "cell_type": "markdown",
   "id": "336138ba",
   "metadata": {},
   "source": [
    "- Esiste uno stimatore non deviato per la deviazione standard di $ X $? Se sì, quale?\n",
    "\n",
    "Sì, quello della media campionaria, perché lo stimatore della media campionaria è non deviato rispetto al valore atteso, ma per un modello esponenziale il valore atteso e la deviazione standard coincidono e pertanto è non deviato anche per la deviazione standard.\n",
    "\n",
    "- Si stimi $ \\lambda $ indicando quale stimatore si è utilizzate ed eventuali sue proprietà?\n",
    "\n",
    "Si può stimare $ \\lambda $ tramite lo stimatore $ T = \\frac{1}{\\bar{X}} $, ma non essendo in grado di calcolarne il valore assoluto non è possibile dire di quali proprietà gode.\n",
    "\n",
    "- Qual è l'errore minimo $ \\epsilon $ se si vuole garantire che sia maggiore di $ 0,9 $ la probabilità che la stima fatta al punto precedente sia minore di $ \\epsilon $?\n",
    "\n",
    "Si veda l'ultimo punto dell'esercizio 2.\n",
    "\n",
    "- Se $ Y $ indica il tempo di vita di un hard-disk espresso in anni qual è la sua relazione con $ X $ e com'è distribuita?\n",
    "\n",
    "$ Y = \\frac{X}{12} $ ed è quindi distibuita secondo un modello esponenziale di parametro $ 12 \\lambda $.\n",
    "\n",
    "- Un hard-disk di modello M1 non si è rotto in 3 anni; qual è la probabilità che non si rompa per un altro anno?\n",
    "\n",
    "Si calcola la probabilità sfruttando la proprietà di assenza di memoria del modello esponenziale:\n",
    "$$\n",
    "    P(Y > 4\\ |\\ Y > 3) = P(Y > 1) = 1 - F_Y(1) = e^{-12 \\lambda}\n",
    "$$\n",
    "\n",
    "- Se un computer ha due dischi fissi di tipo M1, uno principale e uno di backup, si stimi la probabilità che il disco principale sia ancora funzionante dopo un anno.\n",
    "\n",
    "Si indica con $ Y_P $ il tempo di vita del disco principale in anni, mentre con $ Y_B $ il tempo di vita del disco di backup in anni.\n",
    "$$\n",
    "    P(Y_P > 1) = p(1) = 1 - F_Y(1) = e^{-12 \\lambda}\n",
    "$$\n",
    "Dove $ p(x) $ è la funzione utilizzata nel primo esercizio.\n",
    "\n",
    "- Qual è la probabilità dopo un anno almeno uno dei due dischi sia funzionante ipotizzando che i tempi di rottura siano indipendenti?\n",
    "\n",
    "$$\n",
    "    P(Y_P > 1 \\cup Y_B > 1) = 1 - P(Y_P \\le 1 \\cap Y_B \\le 1) = 1 - P(Y_P \\le 1) P(Y_B \\le 1) = 1 - (1 - e^{-12 \\lambda})^2\n",
    "$$"
   ]
  }
 ],
 "metadata": {
  "kernelspec": {
   "display_name": "Python 3 (ipykernel)",
   "language": "python",
   "name": "python3"
  },
  "language_info": {
   "codemirror_mode": {
    "name": "ipython",
    "version": 3
   },
   "file_extension": ".py",
   "mimetype": "text/x-python",
   "name": "python",
   "nbconvert_exporter": "python",
   "pygments_lexer": "ipython3",
   "version": "3.10.2"
  }
 },
 "nbformat": 4,
 "nbformat_minor": 5
}
