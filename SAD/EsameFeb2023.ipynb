{
 "cells": [
  {
   "cell_type": "markdown",
   "id": "3c54ebfc",
   "metadata": {},
   "source": [
    "### Esercizio 0\n",
    "ESAME CON DATASET CREATO DA ME E QUINDI NON TOTALMENTE VERITIERO, LE SOLUZIONI DEL PROFESSORE SARANNO CERTAMENTE DIVERSE"
   ]
  },
  {
   "cell_type": "markdown",
   "id": "19baae1c",
   "metadata": {},
   "source": [
    "Un nuovo tipo di lotteria funzione così. Pagando $c$ euro è possibile comprare un biglietto \"gratta e gioca\" che una volta eliminata la parte da grattare è associato al numero $t$ compreso tra {1...10} con valori equiprobabili. \n",
    "Una volta alla setimana viene generato un valore $x$ compreso tra [0..10] (insieme continuo stavolta) con equiprobabilità.\n",
    "I possessori di biglietti associati ad un numero $t$ tale che $x>t$ vincono una somma $M$ che si dividono equamente\n",
    "\n",
    "Modelliamo l'estrazione del valore $x$ che determina chi ha vinto con una variabile aleatoria $X$ distribuita secondo una legge uniforme continua."
   ]
  },
  {
   "cell_type": "markdown",
   "id": "f83a446a",
   "metadata": {},
   "source": [
    "**1.** Quali sono le specificazioni di $X$"
   ]
  },
  {
   "cell_type": "code",
   "execution_count": 1,
   "id": "d68ee4d5",
   "metadata": {},
   "outputs": [],
   "source": [
    "#X essendo una varaibile aleatoria continua può assumere valori continui tra (a,b) con a=0 e b=10"
   ]
  },
  {
   "cell_type": "markdown",
   "id": "9c2372b9",
   "metadata": {},
   "source": [
    "**2.** Scrivete la forma analitica della funzione di ripartizione di $X$ e disegnate il grafico, mettendo in evidenza le info importanti"
   ]
  },
  {
   "cell_type": "code",
   "execution_count": 2,
   "id": "d1f53547",
   "metadata": {},
   "outputs": [],
   "source": [
    "#la funzione di ripartizione di una Var aleatoria continua è F(X)=x-a/b-a * I(a,b) + I[b,+inf).\n",
    "#Il grafico è una linea retta crescente tra a e b che poi va ad 1 una volta che è maggiore di b"
   ]
  },
  {
   "cell_type": "markdown",
   "id": "c12bd3dd",
   "metadata": {},
   "source": [
    "**3.** Dato $t$ tra [0,10] calcolate la probabilità dell'evento $X>t$ esprimendola in funzione del valore $t$"
   ]
  },
  {
   "cell_type": "code",
   "execution_count": null,
   "id": "9afc2910",
   "metadata": {},
   "outputs": [],
   "source": [
    "#Semplicemente basta applicate l'inverso e ottenere 1-P(X<=t) che è uguale a 1-F(t)=1-(t-a/b-a)=1-(t/10)"
   ]
  },
  {
   "cell_type": "markdown",
   "id": "3da1caaa",
   "metadata": {},
   "source": [
    "**4.** Quali sono le spcificazioni che può assumere $X$ dato che sappiamo che si è verificato $X>t$"
   ]
  },
  {
   "cell_type": "code",
   "execution_count": null,
   "id": "b4d17b1d",
   "metadata": {},
   "outputs": [],
   "source": [
    "#Dato che X>t si è verificato X potrà assumere valori continui tra t e 10"
   ]
  },
  {
   "cell_type": "markdown",
   "id": "6d2b7ed9",
   "metadata": {},
   "source": [
    "Analogamente modelliamo il numero associato al generico biglietto tramite una variabile aleatoria $T$ distribuita secondo una legge uniforme discreta di parametro 10, indipendente da $X$"
   ]
  },
  {
   "cell_type": "markdown",
   "id": "5e5182dd",
   "metadata": {},
   "source": [
    "**5.** Quali sono le specificazioni di $T$? "
   ]
  },
  {
   "cell_type": "code",
   "execution_count": null,
   "id": "9bf5394f",
   "metadata": {},
   "outputs": [],
   "source": [
    "#Essendo T uniforme discreta potrà assumere valori discreti tra 1 e n, con n=10\n",
    "vedendo la distribuzione sulla teoria n è 11 (tra 0 e 10) e numeriamo i valori da 1 a 11"
   ]
  },
  {
   "cell_type": "markdown",
   "id": "dd302c5b",
   "metadata": {},
   "source": [
    "**6.** Scrivete l'enunciato del teorema delle probabilità totali usando, al variare delle specificazioni $t$ di $T$, $X>t$ come evento condizionato e $T=t$ come eventi condizionanti"
   ]
  },
  {
   "cell_type": "code",
   "execution_count": 70,
   "id": "1a86a0ff",
   "metadata": {},
   "outputs": [],
   "source": [
    "#Il teorema delle probabilità totali dice che P(E)=P(E|F)*P(F)+P(E|Fnegato)*P(Fnegato)=P(E|F)*P(F)+P(E|Fnegato)*(1-P(F))\n",
    "#Questo si può estendere a più eventi condizionanti come:\n",
    "#P(E)=Sommatoria(P(E intersecato Fi)) al variare di i che è uguale a P(E)=Sommatoria(P(E|Fi)*P(Fi)) al variare di i\n",
    "\n",
    "#Quindi ottenendo: P(X>t)=Sommatoria(P(X>t|T=t)*P(T=t)) al variare di t"
   ]
  },
  {
   "cell_type": "markdown",
   "id": "334901a9",
   "metadata": {},
   "source": [
    "**7.** Calcolate laprobabilità dell'evento $X>T$ (suggerimento: se tenete conto dei punti precedenti il calcolo è facile da impostare, ad un certo punto è necessario calcolare una sommatoria. Se non ricordate le formule teoriche potete facilemten scrivere del codice per effettuare questo calcolo) "
   ]
  },
  {
   "cell_type": "code",
   "execution_count": 16,
   "id": "e29e3046",
   "metadata": {},
   "outputs": [
    {
     "data": {
      "text/plain": [
       "5.5"
      ]
     },
     "execution_count": 16,
     "metadata": {},
     "output_type": "execute_result"
    }
   ],
   "source": [
    "#Usare teorema delle probabilità totali"
   ]
  },
  {
   "cell_type": "markdown",
   "id": "ad6bc0fb",
   "metadata": {},
   "source": [
    "**8.** Fissato $n$ $\\in$ $\\mathbb{N}$, siano $X1,..,Xn$ variabili aleatorie i.i.d distribuite come X e tutte indipendenti da T.\n",
    "Denotiamo $p(n)=P(intersezione(1,n) Xi>T)$. Esprimete p(n) esclusivamente in funzione di $n$, giustificando i passaggi eseguiti"
   ]
  },
  {
   "cell_type": "code",
   "execution_count": null,
   "id": "4ca787cc",
   "metadata": {},
   "outputs": [],
   "source": [
    "#Dato che le Xn sono iid il'intersezione di probabilità può essere esperessa come produttoria, ottendendo:\n",
    "# Produttoria(Xi>T) ma dato che Xi sono iid ad X possiamo scivere la produttoria come p(n)=P(X>T)^n con T da 1 a 10"
   ]
  },
  {
   "cell_type": "markdown",
   "id": "f4b720c6",
   "metadata": {},
   "source": [
    "**9.** Tracciate il grafico di $p(n)$ al variare di n, scegliendo opportunamente il valore massimo, motivando la scela dello strumento grafico"
   ]
  },
  {
   "cell_type": "code",
   "execution_count": 102,
   "id": "01b1b728",
   "metadata": {},
   "outputs": [],
   "source": [
    "#Dallo scorso esercizio abbiamo che P(X>T)=1-F(T) e quindi possiamo calcolare p(n)=n*(1-F(T))\n",
    "\n",
    "inverso della funzione?\n",
    "\n"
   ]
  },
  {
   "cell_type": "markdown",
   "id": "ac7b07eb",
   "metadata": {},
   "source": [
    "**10.** Sulla base del grafico generato, quanti biglietti possono ragionevolmente risultare vincenti in una settimana? "
   ]
  },
  {
   "cell_type": "code",
   "execution_count": null,
   "id": "ac4fedef",
   "metadata": {},
   "outputs": [],
   "source": [
    "Valore atteso? Problema del call center della poisson(lambda)?"
   ]
  },
  {
   "cell_type": "markdown",
   "id": "4c5d90b1",
   "metadata": {},
   "source": [
    "### Esercizio 2"
   ]
  },
  {
   "cell_type": "markdown",
   "id": "100936c9",
   "metadata": {},
   "source": [
    "Sia $V$ una variabile aleatoria bernoulliana che assume valore 1 se un generico giocatore della lotteria ha vinto il premio e 0 negli altri casi"
   ]
  },
  {
   "cell_type": "markdown",
   "id": "464867af",
   "metadata": {},
   "source": [
    "**1.** Quanti parametri ha la distribuzione di V? Indicate ognuno di essi"
   ]
  },
  {
   "cell_type": "code",
   "execution_count": 3,
   "id": "59259a0d",
   "metadata": {},
   "outputs": [],
   "source": [
    "#V essendo una bernoulliana ha un unico parametro p che esprime la probabilità di vittoria"
   ]
  },
  {
   "cell_type": "markdown",
   "id": "c96f07c7",
   "metadata": {},
   "source": [
    "**2.** Per $m$ $\\in$ $\\mathbb{N}$ siano $V1,..,Vm$ delle variabili aleatorie che descrivono gli esiti delle giocate degli $m$ giocatori che hanno comprato il biglietto della lotteria in una settimana.\n",
    "Indichiamo con $Y$ la variabile aleatoria che conta il numero totale di vincitori. Che relazione intercorre tra $Y$ e $V1,...Vm$?"
   ]
  },
  {
   "cell_type": "code",
   "execution_count": 67,
   "id": "1099a2a0",
   "metadata": {},
   "outputs": [],
   "source": [
    "#Y può essere vista come una somma di bernoulliane e quindi è una v.a. binomiale.\n",
    "# Y=sum(Vi)"
   ]
  },
  {
   "cell_type": "markdown",
   "id": "d5b33799",
   "metadata": {},
   "source": [
    "**3.** Y segue un modello che abbiamo studiato a lezione? Se si specificare quale e i relativi parametri"
   ]
  },
  {
   "cell_type": "code",
   "execution_count": null,
   "id": "2fc6c954",
   "metadata": {},
   "outputs": [],
   "source": [
    "#Y segue il modello binomiale e ha parametri B(m,p) con m che è il numero di bernoulliane e p la probabilità di successo\n",
    "#dell'esperimento bernoulliano"
   ]
  },
  {
   "cell_type": "markdown",
   "id": "663accca",
   "metadata": {},
   "source": [
    "**4.** La distribuzione di Y è approssimabile tramite una delle leggi che abbiamo visto a lezione? Motivato la risposta, specificando di quale legge si tratti e quali valori assumano i relativi parametri"
   ]
  },
  {
   "cell_type": "code",
   "execution_count": 68,
   "id": "f4eabbdb",
   "metadata": {},
   "outputs": [],
   "source": [
    "#Qualsiasi distribuzione è sempre approssimabile ad una normale per un opportuno n abbastanza grande.\n",
    "#Nel caso della distribuzione Binomiale avremo una approssimazione ad N(m*p, rad(m)*rad(p*(1-p))) dove p è il valore atteso\n",
    "#della bernoulliana e p(1-p) sotto radice è la sua deviazione standard. Ogni Vi ovviamente è indipendente\n",
    "\n",
    "#Poisson se n cresce e p decresce con n*p costante posso approssimare ad un poisson"
   ]
  },
  {
   "cell_type": "markdown",
   "id": "f2518dcf",
   "metadata": {},
   "source": [
    "**5.** Supponiamo in questo punto che $n=3$.\n",
    "$A=(Y1-Y2+2Y3)/2$ è uno stimatore pe ril valore atteso di $V$? In caso lo sia è distorto?\n",
    "$B=(Y1^2+Y2^2+Y3^2)/3$ è uno stimatore per la varianza di $V$? in caso lo sia è distorto?"
   ]
  },
  {
   "cell_type": "code",
   "execution_count": null,
   "id": "7bdd13a0",
   "metadata": {},
   "outputs": [],
   "source": [
    "Cannato?\n",
    "\n",
    "#Le Yi avranno stessa distribuzione di Y, avendo n=3 e quindi:\n",
    "#E(A)=1/2*(E(Y1)-E(Y2)+2*E(Y3))=1/2*(3p-3p+6p)=3p quindi è distorto dato che E(V)=p\n",
    "\n",
    "#E(B)=1/3*(E(Y1^2)+E(Y1^2)+E(Y1^2))=1/3*(E(Y^2)+E(Y^2)+E(Y^2))=1/3*(E(Y*Y)+E(Y*Y)+E(Y*Y))=1/3*(E(Y)*E(Y)+E(Y)*E(Y)+E(Y)*E(Y))=\n",
    "#     1/3*((p^2)+(p^2)+(p^2))=p^2 quindi è distorto dato che E(V)=p*(1-p)\n"
   ]
  },
  {
   "cell_type": "markdown",
   "id": "e192e71c",
   "metadata": {},
   "source": [
    "**6.** Proponete, in funzione di $Y1,..,Yn$ e di eventuali altre quantità, uno stimatore non distorto per la probabilità di vittoria giocando alla lotteria, giustificando la risposta"
   ]
  },
  {
   "cell_type": "code",
   "execution_count": 103,
   "id": "dfcae7bb",
   "metadata": {},
   "outputs": [],
   "source": [
    "#Essendo Y una bernoulliana di parametro B(n,p) il suo valore atteso è E(Y)=n*p dove p è la probabilità di successo della \n",
    "#bernoulliana e quindi stimando il valore atteso usando la media campionaria che è sempre non distorto per la stima del \n",
    "#valore atteso posso ottenere uno stimatore per p che è p=E(Y)/n dove stimo E(Y) con la media campionaria"
   ]
  },
  {
   "cell_type": "markdown",
   "id": "a97543ac",
   "metadata": {},
   "source": [
    "### Esercizio 3"
   ]
  },
  {
   "cell_type": "markdown",
   "id": "64b64e09",
   "metadata": {},
   "source": [
    "Abbiamo il file $lotteria.csv$ con i seguenti attributi:\n",
    "\n",
    "- Settimana: numero della settimana all'interno dell'anno\n",
    "- numero_biglietto: numero associato al biglietto venduto\n",
    "- valore_vincente: valore vincente per la settimana in cui è stato venduto il biglietto"
   ]
  },
  {
   "cell_type": "markdown",
   "id": "e32e44b8",
   "metadata": {},
   "source": [
    "**1.** Caricare il dataset e verificare che non contenga dati incoerenti, diversi da quelli che ci si aspetta"
   ]
  },
  {
   "cell_type": "code",
   "execution_count": 17,
   "id": "36ecb5be",
   "metadata": {},
   "outputs": [
    {
     "data": {
      "text/plain": [
       "count    52.000000\n",
       "mean      4.779660\n",
       "std       3.150709\n",
       "min       0.292851\n",
       "25%       1.912500\n",
       "50%       4.706500\n",
       "75%       7.294500\n",
       "max       9.724000\n",
       "Name: valore_vincente, dtype: float64"
      ]
     },
     "execution_count": 17,
     "metadata": {},
     "output_type": "execute_result"
    },
    {
     "data": {
      "image/png": "[encoded data removed]",
      "text/plain": [
       "<Figure size 640x480 with 1 Axes>"
      ]
     },
     "metadata": {},
     "output_type": "display_data"
    }
   ],
   "source": [
    "import pandas as pd\n",
    "import numpy as np\n",
    "import matplotlib.pyplot as plt\n",
    "\n",
    "#uso un boxplot per vedere se ci sono dati outlier, dopo di che posso anche semplicemente verificare il minimo e il massimo\n",
    "\n",
    "data=pd.read_csv('lotteria.csv',sep=';')\n",
    "data['valore_vincente'].plot.box()"
   ]
  },
  {
   "cell_type": "code",
   "execution_count": 62,
   "id": "70c978a7",
   "metadata": {},
   "outputs": [
    {
     "data": {
      "text/plain": [
       "<AxesSubplot:>"
      ]
     },
     "execution_count": 62,
     "metadata": {},
     "output_type": "execute_result"
    },
    {
     "data": {
      "image/png": "[encoded data removed]",
      "text/plain": [
       "<Figure size 640x480 with 1 Axes>"
      ]
     },
     "metadata": {},
     "output_type": "display_data"
    }
   ],
   "source": [
    "data['numero_biglietto'].plot.box()\n"
   ]
  },
  {
   "cell_type": "markdown",
   "id": "59170448",
   "metadata": {},
   "source": [
    "**2.** Utilizzare un opportuno metodo grafico per valutare l'ipotesi che i valori dell'attributo $valore_vincente$ seguano effettivamente la distribuzione uniforme continua e commentate i risultati"
   ]
  },
  {
   "cell_type": "code",
   "execution_count": 8,
   "id": "1ce76c72",
   "metadata": {},
   "outputs": [
    {
     "data": {
      "image/png": "[encoded data removed]",
      "text/plain": [
       "<Figure size 640x480 with 1 Axes>"
      ]
     },
     "metadata": {},
     "output_type": "display_data"
    }
   ],
   "source": [
    "#Per rispondere a questa domanda si può usare un QQplot per vedere se i dati confrontati stanno sulla bisettrice\n",
    "import statsmodels.api as sm\n",
    "import scipy.stats as st\n",
    "sm.qqplot(data['valore_vincente'],dist=st.uniform)\n",
    "plt.show()"
   ]
  },
  {
   "cell_type": "markdown",
   "id": "f83ec0a2",
   "metadata": {},
   "source": [
    "**3.** Valutate che i valori dell'attributo $numero_biglietto$ siano effettivamente estratti dalla distribuzione uniforme discreta, motivando la scelta e commentando i risultati"
   ]
  },
  {
   "cell_type": "code",
   "execution_count": 11,
   "id": "b6c863ba",
   "metadata": {},
   "outputs": [
    {
     "data": {
      "image/png": "[encoded data removed]",
      "text/plain": [
       "<Figure size 640x480 with 1 Axes>"
      ]
     },
     "metadata": {},
     "output_type": "display_data"
    }
   ],
   "source": [
    "cannato da rivedere\n",
    "\n",
    "#Puoi visualizzare la distribuzione dei dati tramite un grafico a barre, \n",
    "#che mostra le frequenze osservate di ogni valore del campione. \n",
    "#Se la distribuzione è uniforme, ogni barra dovrebbe essere della stessa altezza.\n",
    "\n",
    "#In alternativa dovremmo creare il QQplot a mano usando i quantoli teorici di una uniforme discreta e i quantili del mio campione\n",
    "#per una distribuzione uniforme discreta con K valori possibili, i quantili teorici sono 1/(K+1), 2/(K+1), ..., K/(K+1)\n",
    "#I quantili osservati del tuo campione: I quantili osservati sono i valori che dividono il tuo campione in parti uguali. \n",
    "#Ad esempio, per un campione di N osservazioni, i quantili osservati sono le osservazioni che corrispondono a 1/N, 2/N, ..., N/N\n",
    "\n",
    "\n",
    "Per definizione, una distribuzione uniforme discreta è\n",
    "caratterizzata dal fatto che ogni risultato possibile nella popolazione ha la stessa probabilità di verificarsi. \n",
    "In altre parole, ogni osservazione nel campione casuale proviene da una distribuzione\n",
    "uniforme discreta se ogni risultato possibile ha la stessa probabilità di essere selezionato.\n",
    "\n",
    "Perché una distribuzione sia considerata uniforme discreta,\n",
    "è sufficiente che sia discreta e che le probabilità siano uguali per ogni possibile valore. \n",
    "Questo significa che il campione casuale può essere formato da qualsiasi tipo di valori discreti, come numeri interi, \n",
    "parole o categorie, purché ogni valore abbia la stessa probabilità di essere selezionato\n",
    "\n",
    "anche se un determinato valore appare più volte nel campione casuale, \n",
    "questo non influisce sulla proprietà di essere uniforme discreta. \n",
    "Ciò che importa è che ogni possibile valore nella popolazione abbia la stessa probabilità di verificarsi, \n",
    "indipendentemente dal fatto che un valore specifico appaia più o meno spesso nel campione casuale.\n",
    "\n",
    "In altre parole, la proprietà di uniformità discreta si riferisce alla distribuzione di probabilità \n",
    "all'interno della popolazione, non al numero di volte che ogni valore appare nel campione casuale. Quindi, \n",
    "l'occorrenza di più valori uguali nel campione non influisce sulla proprietà di uniformità discreta della distribuzione.\n",
    "\n",
    "#qqplot\n",
    "K = len(data['valore_vincente'])\n",
    "theoretical_quantiles = [i/(K+1) for i in range(1, K+1)] #quantili teorici\n",
    "observed_quantiles = np.sort(data['valore_vincente'])\n",
    "plt.scatter(observed_quantiles, theoretical_quantiles)\n",
    "#sm.qqplot_2samples(observed_quantiles, theoretical_quantiles,line='45')\n",
    "plt.xlabel('Quantili osservati')\n",
    "plt.ylabel('Quantili teorici')\n",
    "plt.title('Q-Q plot per una distribuzione uniforme discreta')\n",
    "plt.show()"
   ]
  },
  {
   "cell_type": "code",
   "execution_count": 12,
   "id": "6a79e31a",
   "metadata": {},
   "outputs": [
    {
     "data": {
      "text/plain": [
       "<AxesSubplot:>"
      ]
     },
     "execution_count": 12,
     "metadata": {},
     "output_type": "execute_result"
    },
    {
     "data": {
      "image/png": "[encoded data removed]",
      "text/plain": [
       "<Figure size 640x480 with 1 Axes>"
      ]
     },
     "metadata": {},
     "output_type": "display_data"
    }
   ],
   "source": [
    "#grafico a barre\n",
    "data['numero_biglietto'].value_counts().plot.bar()\n"
   ]
  },
  {
   "cell_type": "markdown",
   "id": "2f8fef27",
   "metadata": {},
   "source": [
    "**4.** Valutate l'ipotesi di una relazione tra la settimana e il numero associato al biglietti. a qualci conclusioni siete giunti? cosa usate per verificarlo?"
   ]
  },
  {
   "cell_type": "code",
   "execution_count": 64,
   "id": "6fdae2b0",
   "metadata": {},
   "outputs": [
    {
     "data": {
      "text/plain": [
       "0.47058023240388336"
      ]
     },
     "execution_count": 64,
     "metadata": {},
     "output_type": "execute_result"
    },
    {
     "data": {
      "image/png": "[encoded data removed]",
      "text/plain": [
       "<Figure size 640x480 with 1 Axes>"
      ]
     },
     "metadata": {},
     "output_type": "display_data"
    }
   ],
   "source": [
    "#Qui possiamo usare uno scatterplot oppure calcolare l'indice di correlazione\n",
    "\n",
    "plt.scatter(data['Settimana'],data['valore_vincente'])\n",
    "data['numero_biglietto'].corr(data['valore_vincente'])\n",
    "\n",
    "#Dato che lo scatter è disperso e l'indice di correlazione lontano da 1 o -1 possiamo dire che non c'è relazione\n",
    "#il che è ragionevole"
   ]
  },
  {
   "cell_type": "markdown",
   "id": "950f3f44",
   "metadata": {},
   "source": [
    "### Esercizio 4"
   ]
  },
  {
   "cell_type": "markdown",
   "id": "dc4e03af",
   "metadata": {},
   "source": [
    "**1.** Aggiungete al dataset un attributo $vincita$ il cui valore è 1 se ha vinto e 0 altrimenti per ogni caso"
   ]
  },
  {
   "cell_type": "code",
   "execution_count": 14,
   "id": "5eac6218",
   "metadata": {},
   "outputs": [
    {
     "data": {
      "text/html": [
       "<div>\n",
       "<style scoped>\n",
       "    .dataframe tbody tr th:only-of-type {\n",
       "        vertical-align: middle;\n",
       "    }\n",
       "\n",
       "    .dataframe tbody tr th {\n",
       "        vertical-align: top;\n",
       "    }\n",
       "\n",
       "    .dataframe thead th {\n",
       "        text-align: right;\n",
       "    }\n",
       "</style>\n",
       "<table border=\"1\" class=\"dataframe\">\n",
       "  <thead>\n",
       "    <tr style=\"text-align: right;\">\n",
       "      <th></th>\n",
       "      <th>Settimana</th>\n",
       "      <th>numero_biglietto</th>\n",
       "      <th>valore_vincente</th>\n",
       "      <th>vincita</th>\n",
       "    </tr>\n",
       "  </thead>\n",
       "  <tbody>\n",
       "    <tr>\n",
       "      <th>0</th>\n",
       "      <td>13</td>\n",
       "      <td>9</td>\n",
       "      <td>7.350</td>\n",
       "      <td>0</td>\n",
       "    </tr>\n",
       "    <tr>\n",
       "      <th>1</th>\n",
       "      <td>10</td>\n",
       "      <td>7</td>\n",
       "      <td>1.956</td>\n",
       "      <td>0</td>\n",
       "    </tr>\n",
       "    <tr>\n",
       "      <th>2</th>\n",
       "      <td>7</td>\n",
       "      <td>8</td>\n",
       "      <td>3.117</td>\n",
       "      <td>0</td>\n",
       "    </tr>\n",
       "    <tr>\n",
       "      <th>3</th>\n",
       "      <td>7</td>\n",
       "      <td>2</td>\n",
       "      <td>7.232</td>\n",
       "      <td>1</td>\n",
       "    </tr>\n",
       "    <tr>\n",
       "      <th>4</th>\n",
       "      <td>1</td>\n",
       "      <td>0</td>\n",
       "      <td>1.059</td>\n",
       "      <td>1</td>\n",
       "    </tr>\n",
       "  </tbody>\n",
       "</table>\n",
       "</div>"
      ],
      "text/plain": [
       "   Settimana  numero_biglietto  valore_vincente  vincita\n",
       "0         13                 9            7.350        0\n",
       "1         10                 7            1.956        0\n",
       "2          7                 8            3.117        0\n",
       "3          7                 2            7.232        1\n",
       "4          1                 0            1.059        1"
      ]
     },
     "execution_count": 14,
     "metadata": {},
     "output_type": "execute_result"
    }
   ],
   "source": [
    "data_copy=data.copy()\n",
    "data_copy['vincita'] = data_copy.apply(lambda n: 1 if n['numero_biglietto']<n['valore_vincente'] else 0, axis=1)\n",
    "data_copy.head()"
   ]
  },
  {
   "cell_type": "markdown",
   "id": "289f14fc",
   "metadata": {},
   "source": [
    "**2.** Create una serie che associa ad ogni settimana il corrispondente numero di vincite e memorizzate in una variabile $vincite_settimanali$ usando groupby"
   ]
  },
  {
   "cell_type": "code",
   "execution_count": 15,
   "id": "cc30261f",
   "metadata": {},
   "outputs": [
    {
     "data": {
      "text/plain": [
       "Settimana\n",
       "1     5\n",
       "3     2\n",
       "7     5\n",
       "9     4\n",
       "10    3\n",
       "Name: vincita, dtype: int64"
      ]
     },
     "execution_count": 15,
     "metadata": {},
     "output_type": "execute_result"
    }
   ],
   "source": [
    "vincite_settimanali=data_copy.groupby('Settimana').sum()['vincita']\n",
    "vincite_settimanali.head()"
   ]
  },
  {
   "cell_type": "markdown",
   "id": "b0fcb61f",
   "metadata": {},
   "source": [
    "**3.** Quale distribuzione vi aspettate che seguano i valori contenuti in $vincite_settimanali$? Perchè? \n",
    "(sugg: può aiutare a rispondere il ragionamento che avete fatto per rispondere ad alcuni punto dell'esercizio 2)"
   ]
  },
  {
   "cell_type": "code",
   "execution_count": null,
   "id": "46e14bf0",
   "metadata": {},
   "outputs": [],
   "source": [
    "#Vincite_settimanali mi aspetto sia distribuita come una binomiale dato che è la somma delle singole vincite che possono\n",
    "#essere viste come delle bernoulliane in cui il valore è 0 o 1"
   ]
  },
  {
   "cell_type": "markdown",
   "id": "c7bfcc4b",
   "metadata": {},
   "source": [
    "**4.** Verificate se i valori ottenuti in $vincite_settimanali$ sono coerenti oppure no rispetto alla risposta che avete dato al punto precedente"
   ]
  },
  {
   "cell_type": "code",
   "execution_count": 17,
   "id": "de6de38a",
   "metadata": {},
   "outputs": [
    {
     "data": {
      "image/png": "[encoded data removed]",
      "text/plain": [
       "<Figure size 640x480 with 1 Axes>"
      ]
     },
     "metadata": {},
     "output_type": "display_data"
    }
   ],
   "source": [
    "n=len(data_copy) #somma di n eventi bernoulliani solo diviso per settimana\n",
    "p=vincite_settimanali.mean()/n #stimo p dalla media/n, valore atteso/n dato che E(X)=n*p\n",
    "\n",
    "sm.qqplot(vincite_settimanali,dist=st.binom(n,p))\n",
    "plt.show()"
   ]
  },
  {
   "cell_type": "markdown",
   "id": "c66a1e86",
   "metadata": {},
   "source": [
    "**5.** Per rispondere alla domanda precedente avete dovuto calcolare o approssimare i valori dei parametri di qualche distribuzione? Perchè?"
   ]
  },
  {
   "cell_type": "code",
   "execution_count": null,
   "id": "5bdeaddb",
   "metadata": {},
   "outputs": [],
   "source": [
    "# Si, il parametro p tramite il calcolo del valore atteso, la maedia campionaria è sempre uno stimatore non distorto\n",
    "# per il calcolo del valore atteso, da cui posso ricavare p stimato"
   ]
  },
  {
   "cell_type": "markdown",
   "id": "422a811a",
   "metadata": {},
   "source": [
    "**6.** Utilizzate il dataset a disposizione per stimare la probabilità di vincita alla lotteria. Che stimatore avete utilizzato? Di qualce proprietà gode questo stimatore?"
   ]
  },
  {
   "cell_type": "code",
   "execution_count": null,
   "id": "0f182bcb",
   "metadata": {},
   "outputs": [],
   "source": [
    "# Credo sia sufficiente calcolare il numero di biglietti vincenti sul totale dei biglietti.\n",
    "# Ma essendo Y una binomiale, la probabilità di vittoria è sempre data da p, quindi posso calcolare il valore atteso e ricavare p\n",
    "# E(X)=n*p --> p=E(X)/n con E(X)=media campionaria\n",
    "\n",
    "Sul singolo biglietto assumo che ci sia la stessa probabilità di vittoria della lotteria\n",
    "\n",
    "# la media campionaria è sempre uno stimatore non deviato e consistente per il valore atteso"
   ]
  },
  {
   "cell_type": "markdown",
   "id": "a2531a25",
   "metadata": {},
   "source": [
    "**7.** I dati a disposizione vi permettono di dire che con probabilità superiore a 0.9 l'errore fatto utilizzando la stima al punto precedente è più piccolo di 0.01? motivate il ragionamento"
   ]
  },
  {
   "cell_type": "code",
   "execution_count": null,
   "id": "2e42530a",
   "metadata": {},
   "outputs": [],
   "source": [
    "#P(|Xmedia-E(X)|<0.01)>0.9"
   ]
  },
  {
   "cell_type": "markdown",
   "id": "129c6cbe",
   "metadata": {},
   "source": [
    "Nei due punti successivi supporremo  che il numero settimanale di vittorie sia distribuito secondo una legge binomiale di parametri $m$ e $p$. Stimeremo quest'ultimo parametro come nel punto 6. e supporremo che in una settimana siano stati venduti solo $10$ biglietti.\n",
    "\n",
    "**8.** Sulla base di questa nuova ipotesi calcolate che in una settimana\n",
    "- Non vi sia alcun biglietto vincente\n",
    "- Vi sia esattamente un biglietto vincente\n",
    "- VI si almeno un biglietto vincente\n",
    "- Vi sia almeno la metà dei biglietti venduti vincenti\n",
    "\n",
    "(suggerimento: per rispondere a questo ultimo quesito è necessario calcolare un valore di sommatoria: potete farlo a mano, sfruttare le librerie o scrivere codice esplicito)"
   ]
  },
  {
   "cell_type": "code",
   "execution_count": 18,
   "id": "9a478ee5",
   "metadata": {},
   "outputs": [
    {
     "data": {
      "text/plain": [
       "(0.6755641688257991,\n",
       " 0.2702256675303194,\n",
       " 0.05421016364388165,\n",
       " 5.945764174342116e-07)"
      ]
     },
     "execution_count": 18,
     "metadata": {},
     "output_type": "execute_result"
    }
   ],
   "source": [
    "p=vincite_settimanali.mean()/n\n",
    "Q=st.binom(10,p)\n",
    "\n",
    "Q.pmf(0), Q.pmf(1), 1-Q.cdf(1), 1-Q.cdf(5)"
   ]
  },
  {
   "cell_type": "markdown",
   "id": "5f26c349",
   "metadata": {},
   "source": [
    "**9.** Ho acquistato un biglietto, e scopro di aver vinto guardando il risultato dell'estrazione. Qual è la probabilità che almeno la metà dei biglietti venduti siano vincenti?"
   ]
  },
  {
   "cell_type": "code",
   "execution_count": null,
   "id": "6648358b",
   "metadata": {},
   "outputs": [],
   "source": [
    "#Probabilità condizionata\n",
    "\n",
    "#P(almeno5vincite|miavincita)=P(EintersF)/P(F)"
   ]
  },
  {
   "cell_type": "markdown",
   "id": "4084fc8d",
   "metadata": {},
   "source": [
    "**10.** ipotizzando che il numero di biglietti venduti in una settimana salga a $m=1500$, rispondete nuovamente alla domanda posta al punto precedente. In questo caso è opportuno ridurre le approssimazioni in più rispetto a quanto precedentemente svolto? In caso affermativo indicate quali sono queste approssimazioni e motivatene l'utilizzo"
   ]
  },
  {
   "cell_type": "code",
   "execution_count": null,
   "id": "80f0325f",
   "metadata": {},
   "outputs": [],
   "source": [
    "#Poisson o normale? "
   ]
  }
 ],
 "metadata": {
  "kernelspec": {
   "display_name": "Python 3 (ipykernel)",
   "language": "python",
   "name": "python3"
  },
  "language_info": {
   "codemirror_mode": {
    "name": "ipython",
    "version": 3
   },
   "file_extension": ".py",
   "mimetype": "text/x-python",
   "name": "python",
   "nbconvert_exporter": "python",
   "pygments_lexer": "ipython3",
   "version": "3.9.13"
  },
  "vscode": {
   "interpreter": {
    "hash": "916dbcbb3f70747c44a77c7bcd40155683ae19c65e1c03b4aa3499c5328201f1"
   }
  }
 },
 "nbformat": 4,
 "nbformat_minor": 5
}
